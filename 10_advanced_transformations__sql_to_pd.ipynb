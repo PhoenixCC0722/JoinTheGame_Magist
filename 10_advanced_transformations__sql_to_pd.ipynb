{
  "cells": [
    {
      "cell_type": "markdown",
      "metadata": {
        "id": "view-in-github",
        "colab_type": "text"
      },
      "source": [
        "<a href=\"https://colab.research.google.com/github/PhoenixCC0722/Journey_to_become_DataScientist/blob/main/10_advanced_transformations__sql_to_pd.ipynb\" target=\"_parent\"><img src=\"https://colab.research.google.com/assets/colab-badge.svg\" alt=\"Open In Colab\"/></a>"
      ]
    },
    {
      "cell_type": "markdown",
      "metadata": {
        "id": "TFZGKtnef_nZ"
      },
      "source": [
        "# From SQL to pandas challenge 10"
      ]
    },
    {
      "cell_type": "code",
      "execution_count": 1,
      "metadata": {
        "id": "tNzwiUnXf_nd"
      },
      "outputs": [],
      "source": [
        "# import libraries\n",
        "import pandas as pd\n",
        "import numpy as np\n",
        "\n",
        "# load data\n",
        "# This code is made to load our data stored on Google Drive\n",
        "def gd_path(file_id):\n",
        "    \"\"\"Generate a shareable link from Google Drive file id.\"\"\"\n",
        "    return f\"https://drive.google.com/uc?export=download&id={file_id}\"\n",
        "\n",
        "# Google Drive file ids\n",
        "files_id = {\n",
        "    \"titles\": \"1PLdn50N9GRa53ZbuVWo0l47F_IXdvlEm\",\n",
        "    \"sales\": \"1fzFc9rwYmVIPaGOFmhLVxCi3kg19vNU2\",\n",
        "}\n",
        "\n",
        "# Read data from Google Drive\n",
        "sales = pd.read_csv(gd_path(files_id[\"sales\"]), sep=\";\")\n",
        "titles = pd.read_csv(gd_path(files_id[\"titles\"]), sep=\";\")"
      ]
    },
    {
      "cell_type": "markdown",
      "metadata": {
        "id": "lbo4yJO4f_nf"
      },
      "source": [
        "## 1. Select everything from the sales table and create a new column called \"sales_category\" to categorise qty:\n",
        "   \n",
        "\t\tqty >= 50 high sales\n",
        "\t\t20 <= qty < 50 medium sales\n",
        "\t\tqty < 20 low sales"
      ]
    },
    {
      "cell_type": "code",
      "execution_count": 2,
      "metadata": {
        "id": "XxTzhUBwf_nf",
        "colab": {
          "base_uri": "https://localhost:8080/",
          "height": 206
        },
        "outputId": "0fb87894-c01d-447c-bcb1-73f3aedc8c06"
      },
      "outputs": [
        {
          "output_type": "execute_result",
          "data": {
            "text/plain": [
              "   stor_id   ord_num             ord_date  qty    payterms title_id\n",
              "0     6380      6871  1994-09-14 00:00:00    5      Net 60   BU1032\n",
              "1     6380      722a  1994-09-13 00:00:00    3      Net 60   PS2091\n",
              "2     7066     A2976  1993-05-24 00:00:00   50      Net 30   PC8888\n",
              "3     7066  QA7442.3  1994-09-13 00:00:00   75  ON invoice   PS2091\n",
              "4     7067     D4482  1994-09-14 00:00:00   10      Net 60   PS2091"
            ],
            "text/html": [
              "\n",
              "  <div id=\"df-8116a9be-09f9-4644-85b8-5802e0e6eaf9\" class=\"colab-df-container\">\n",
              "    <div>\n",
              "<style scoped>\n",
              "    .dataframe tbody tr th:only-of-type {\n",
              "        vertical-align: middle;\n",
              "    }\n",
              "\n",
              "    .dataframe tbody tr th {\n",
              "        vertical-align: top;\n",
              "    }\n",
              "\n",
              "    .dataframe thead th {\n",
              "        text-align: right;\n",
              "    }\n",
              "</style>\n",
              "<table border=\"1\" class=\"dataframe\">\n",
              "  <thead>\n",
              "    <tr style=\"text-align: right;\">\n",
              "      <th></th>\n",
              "      <th>stor_id</th>\n",
              "      <th>ord_num</th>\n",
              "      <th>ord_date</th>\n",
              "      <th>qty</th>\n",
              "      <th>payterms</th>\n",
              "      <th>title_id</th>\n",
              "    </tr>\n",
              "  </thead>\n",
              "  <tbody>\n",
              "    <tr>\n",
              "      <th>0</th>\n",
              "      <td>6380</td>\n",
              "      <td>6871</td>\n",
              "      <td>1994-09-14 00:00:00</td>\n",
              "      <td>5</td>\n",
              "      <td>Net 60</td>\n",
              "      <td>BU1032</td>\n",
              "    </tr>\n",
              "    <tr>\n",
              "      <th>1</th>\n",
              "      <td>6380</td>\n",
              "      <td>722a</td>\n",
              "      <td>1994-09-13 00:00:00</td>\n",
              "      <td>3</td>\n",
              "      <td>Net 60</td>\n",
              "      <td>PS2091</td>\n",
              "    </tr>\n",
              "    <tr>\n",
              "      <th>2</th>\n",
              "      <td>7066</td>\n",
              "      <td>A2976</td>\n",
              "      <td>1993-05-24 00:00:00</td>\n",
              "      <td>50</td>\n",
              "      <td>Net 30</td>\n",
              "      <td>PC8888</td>\n",
              "    </tr>\n",
              "    <tr>\n",
              "      <th>3</th>\n",
              "      <td>7066</td>\n",
              "      <td>QA7442.3</td>\n",
              "      <td>1994-09-13 00:00:00</td>\n",
              "      <td>75</td>\n",
              "      <td>ON invoice</td>\n",
              "      <td>PS2091</td>\n",
              "    </tr>\n",
              "    <tr>\n",
              "      <th>4</th>\n",
              "      <td>7067</td>\n",
              "      <td>D4482</td>\n",
              "      <td>1994-09-14 00:00:00</td>\n",
              "      <td>10</td>\n",
              "      <td>Net 60</td>\n",
              "      <td>PS2091</td>\n",
              "    </tr>\n",
              "  </tbody>\n",
              "</table>\n",
              "</div>\n",
              "    <div class=\"colab-df-buttons\">\n",
              "\n",
              "  <div class=\"colab-df-container\">\n",
              "    <button class=\"colab-df-convert\" onclick=\"convertToInteractive('df-8116a9be-09f9-4644-85b8-5802e0e6eaf9')\"\n",
              "            title=\"Convert this dataframe to an interactive table.\"\n",
              "            style=\"display:none;\">\n",
              "\n",
              "  <svg xmlns=\"http://www.w3.org/2000/svg\" height=\"24px\" viewBox=\"0 -960 960 960\">\n",
              "    <path d=\"M120-120v-720h720v720H120Zm60-500h600v-160H180v160Zm220 220h160v-160H400v160Zm0 220h160v-160H400v160ZM180-400h160v-160H180v160Zm440 0h160v-160H620v160ZM180-180h160v-160H180v160Zm440 0h160v-160H620v160Z\"/>\n",
              "  </svg>\n",
              "    </button>\n",
              "\n",
              "  <style>\n",
              "    .colab-df-container {\n",
              "      display:flex;\n",
              "      gap: 12px;\n",
              "    }\n",
              "\n",
              "    .colab-df-convert {\n",
              "      background-color: #E8F0FE;\n",
              "      border: none;\n",
              "      border-radius: 50%;\n",
              "      cursor: pointer;\n",
              "      display: none;\n",
              "      fill: #1967D2;\n",
              "      height: 32px;\n",
              "      padding: 0 0 0 0;\n",
              "      width: 32px;\n",
              "    }\n",
              "\n",
              "    .colab-df-convert:hover {\n",
              "      background-color: #E2EBFA;\n",
              "      box-shadow: 0px 1px 2px rgba(60, 64, 67, 0.3), 0px 1px 3px 1px rgba(60, 64, 67, 0.15);\n",
              "      fill: #174EA6;\n",
              "    }\n",
              "\n",
              "    .colab-df-buttons div {\n",
              "      margin-bottom: 4px;\n",
              "    }\n",
              "\n",
              "    [theme=dark] .colab-df-convert {\n",
              "      background-color: #3B4455;\n",
              "      fill: #D2E3FC;\n",
              "    }\n",
              "\n",
              "    [theme=dark] .colab-df-convert:hover {\n",
              "      background-color: #434B5C;\n",
              "      box-shadow: 0px 1px 3px 1px rgba(0, 0, 0, 0.15);\n",
              "      filter: drop-shadow(0px 1px 2px rgba(0, 0, 0, 0.3));\n",
              "      fill: #FFFFFF;\n",
              "    }\n",
              "  </style>\n",
              "\n",
              "    <script>\n",
              "      const buttonEl =\n",
              "        document.querySelector('#df-8116a9be-09f9-4644-85b8-5802e0e6eaf9 button.colab-df-convert');\n",
              "      buttonEl.style.display =\n",
              "        google.colab.kernel.accessAllowed ? 'block' : 'none';\n",
              "\n",
              "      async function convertToInteractive(key) {\n",
              "        const element = document.querySelector('#df-8116a9be-09f9-4644-85b8-5802e0e6eaf9');\n",
              "        const dataTable =\n",
              "          await google.colab.kernel.invokeFunction('convertToInteractive',\n",
              "                                                    [key], {});\n",
              "        if (!dataTable) return;\n",
              "\n",
              "        const docLinkHtml = 'Like what you see? Visit the ' +\n",
              "          '<a target=\"_blank\" href=https://colab.research.google.com/notebooks/data_table.ipynb>data table notebook</a>'\n",
              "          + ' to learn more about interactive tables.';\n",
              "        element.innerHTML = '';\n",
              "        dataTable['output_type'] = 'display_data';\n",
              "        await google.colab.output.renderOutput(dataTable, element);\n",
              "        const docLink = document.createElement('div');\n",
              "        docLink.innerHTML = docLinkHtml;\n",
              "        element.appendChild(docLink);\n",
              "      }\n",
              "    </script>\n",
              "  </div>\n",
              "\n",
              "\n",
              "<div id=\"df-ae619eb4-9aa7-44cf-86fb-383f90d5013e\">\n",
              "  <button class=\"colab-df-quickchart\" onclick=\"quickchart('df-ae619eb4-9aa7-44cf-86fb-383f90d5013e')\"\n",
              "            title=\"Suggest charts\"\n",
              "            style=\"display:none;\">\n",
              "\n",
              "<svg xmlns=\"http://www.w3.org/2000/svg\" height=\"24px\"viewBox=\"0 0 24 24\"\n",
              "     width=\"24px\">\n",
              "    <g>\n",
              "        <path d=\"M19 3H5c-1.1 0-2 .9-2 2v14c0 1.1.9 2 2 2h14c1.1 0 2-.9 2-2V5c0-1.1-.9-2-2-2zM9 17H7v-7h2v7zm4 0h-2V7h2v10zm4 0h-2v-4h2v4z\"/>\n",
              "    </g>\n",
              "</svg>\n",
              "  </button>\n",
              "\n",
              "<style>\n",
              "  .colab-df-quickchart {\n",
              "      --bg-color: #E8F0FE;\n",
              "      --fill-color: #1967D2;\n",
              "      --hover-bg-color: #E2EBFA;\n",
              "      --hover-fill-color: #174EA6;\n",
              "      --disabled-fill-color: #AAA;\n",
              "      --disabled-bg-color: #DDD;\n",
              "  }\n",
              "\n",
              "  [theme=dark] .colab-df-quickchart {\n",
              "      --bg-color: #3B4455;\n",
              "      --fill-color: #D2E3FC;\n",
              "      --hover-bg-color: #434B5C;\n",
              "      --hover-fill-color: #FFFFFF;\n",
              "      --disabled-bg-color: #3B4455;\n",
              "      --disabled-fill-color: #666;\n",
              "  }\n",
              "\n",
              "  .colab-df-quickchart {\n",
              "    background-color: var(--bg-color);\n",
              "    border: none;\n",
              "    border-radius: 50%;\n",
              "    cursor: pointer;\n",
              "    display: none;\n",
              "    fill: var(--fill-color);\n",
              "    height: 32px;\n",
              "    padding: 0;\n",
              "    width: 32px;\n",
              "  }\n",
              "\n",
              "  .colab-df-quickchart:hover {\n",
              "    background-color: var(--hover-bg-color);\n",
              "    box-shadow: 0 1px 2px rgba(60, 64, 67, 0.3), 0 1px 3px 1px rgba(60, 64, 67, 0.15);\n",
              "    fill: var(--button-hover-fill-color);\n",
              "  }\n",
              "\n",
              "  .colab-df-quickchart-complete:disabled,\n",
              "  .colab-df-quickchart-complete:disabled:hover {\n",
              "    background-color: var(--disabled-bg-color);\n",
              "    fill: var(--disabled-fill-color);\n",
              "    box-shadow: none;\n",
              "  }\n",
              "\n",
              "  .colab-df-spinner {\n",
              "    border: 2px solid var(--fill-color);\n",
              "    border-color: transparent;\n",
              "    border-bottom-color: var(--fill-color);\n",
              "    animation:\n",
              "      spin 1s steps(1) infinite;\n",
              "  }\n",
              "\n",
              "  @keyframes spin {\n",
              "    0% {\n",
              "      border-color: transparent;\n",
              "      border-bottom-color: var(--fill-color);\n",
              "      border-left-color: var(--fill-color);\n",
              "    }\n",
              "    20% {\n",
              "      border-color: transparent;\n",
              "      border-left-color: var(--fill-color);\n",
              "      border-top-color: var(--fill-color);\n",
              "    }\n",
              "    30% {\n",
              "      border-color: transparent;\n",
              "      border-left-color: var(--fill-color);\n",
              "      border-top-color: var(--fill-color);\n",
              "      border-right-color: var(--fill-color);\n",
              "    }\n",
              "    40% {\n",
              "      border-color: transparent;\n",
              "      border-right-color: var(--fill-color);\n",
              "      border-top-color: var(--fill-color);\n",
              "    }\n",
              "    60% {\n",
              "      border-color: transparent;\n",
              "      border-right-color: var(--fill-color);\n",
              "    }\n",
              "    80% {\n",
              "      border-color: transparent;\n",
              "      border-right-color: var(--fill-color);\n",
              "      border-bottom-color: var(--fill-color);\n",
              "    }\n",
              "    90% {\n",
              "      border-color: transparent;\n",
              "      border-bottom-color: var(--fill-color);\n",
              "    }\n",
              "  }\n",
              "</style>\n",
              "\n",
              "  <script>\n",
              "    async function quickchart(key) {\n",
              "      const quickchartButtonEl =\n",
              "        document.querySelector('#' + key + ' button');\n",
              "      quickchartButtonEl.disabled = true;  // To prevent multiple clicks.\n",
              "      quickchartButtonEl.classList.add('colab-df-spinner');\n",
              "      try {\n",
              "        const charts = await google.colab.kernel.invokeFunction(\n",
              "            'suggestCharts', [key], {});\n",
              "      } catch (error) {\n",
              "        console.error('Error during call to suggestCharts:', error);\n",
              "      }\n",
              "      quickchartButtonEl.classList.remove('colab-df-spinner');\n",
              "      quickchartButtonEl.classList.add('colab-df-quickchart-complete');\n",
              "    }\n",
              "    (() => {\n",
              "      let quickchartButtonEl =\n",
              "        document.querySelector('#df-ae619eb4-9aa7-44cf-86fb-383f90d5013e button');\n",
              "      quickchartButtonEl.style.display =\n",
              "        google.colab.kernel.accessAllowed ? 'block' : 'none';\n",
              "    })();\n",
              "  </script>\n",
              "</div>\n",
              "    </div>\n",
              "  </div>\n"
            ],
            "application/vnd.google.colaboratory.intrinsic+json": {
              "type": "dataframe",
              "variable_name": "df",
              "repr_error": "'str' object has no attribute 'empty'"
            }
          },
          "metadata": {},
          "execution_count": 2
        }
      ],
      "source": [
        "df = pd.DataFrame(sales)\n",
        "df.head()"
      ]
    },
    {
      "cell_type": "code",
      "source": [
        "# define conditions for sales category\n",
        "conditions = [\n",
        "    (df['qty'] >= 50),\n",
        "    (df['qty'] >= 20) & (df['qty'] < 50),\n",
        "    (df['qty'] < 20)\n",
        "]\n",
        "# define the labels for different category\n",
        "labels = ['high sales','medium sales','low sales']\n",
        "# create a new column\n",
        "df['sales_category'] = np.select(conditions, labels, default='')\n",
        "print(df.head(10))\n"
      ],
      "metadata": {
        "colab": {
          "base_uri": "https://localhost:8080/"
        },
        "id": "z6vhQFhSkT2N",
        "outputId": "5313fcdb-03a7-4e04-9ffa-3312c66dfd77"
      },
      "execution_count": 10,
      "outputs": [
        {
          "output_type": "stream",
          "name": "stdout",
          "text": [
            "   stor_id   ord_num             ord_date  qty    payterms title_id  \\\n",
            "0     6380      6871  1994-09-14 00:00:00    5      Net 60   BU1032   \n",
            "1     6380      722a  1994-09-13 00:00:00    3      Net 60   PS2091   \n",
            "2     7066     A2976  1993-05-24 00:00:00   50      Net 30   PC8888   \n",
            "3     7066  QA7442.3  1994-09-13 00:00:00   75  ON invoice   PS2091   \n",
            "4     7067     D4482  1994-09-14 00:00:00   10      Net 60   PS2091   \n",
            "5     7067     P2121  1992-06-15 00:00:00   40      Net 30   TC3218   \n",
            "6     7067     P2121  1992-06-15 00:00:00   20      Net 30   TC4203   \n",
            "7     7067     P2121  1992-06-15 00:00:00   20      Net 30   TC7777   \n",
            "8     7131   N914008  1994-09-14 00:00:00   20      Net 30   PS2091   \n",
            "9     7131   N914014  1994-09-14 00:00:00   25      Net 30   MC3021   \n",
            "\n",
            "  sales_category  \n",
            "0      low sales  \n",
            "1      low sales  \n",
            "2     high sales  \n",
            "3     high sales  \n",
            "4      low sales  \n",
            "5   medium sales  \n",
            "6   medium sales  \n",
            "7   medium sales  \n",
            "8   medium sales  \n",
            "9   medium sales  \n"
          ]
        }
      ]
    },
    {
      "cell_type": "markdown",
      "metadata": {
        "id": "MFTOfKGbf_nf"
      },
      "source": [
        "### Hint:"
      ]
    },
    {
      "cell_type": "markdown",
      "metadata": {
        "id": "R9ikqE4If_ng"
      },
      "source": [
        "In SQL the syntax is:\n",
        "\n",
        "```sql\n",
        "SELECT *,\n",
        "CASE\n",
        "    WHEN qty >= 50 THEN \"high sales\"\n",
        "    WHEN qty >= 20 THEN \"medium sales\"\n",
        "    ELSE \"low sales\"\n",
        "END AS sales_category\n",
        "FROM sales;\n",
        "```"
      ]
    },
    {
      "cell_type": "markdown",
      "metadata": {
        "id": "FXDIkgiMf_ng"
      },
      "source": [
        "## 2. Adding to your answer from the previous question. Find out the total amount of books sold (qty) in each sales category\n",
        "    i.e. How many books had high sales, how many had medium sales, and how many had low sales"
      ]
    },
    {
      "cell_type": "code",
      "execution_count": 11,
      "metadata": {
        "id": "dkErYyHWf_ng",
        "colab": {
          "base_uri": "https://localhost:8080/"
        },
        "outputId": "911f10d3-d74e-4511-a3aa-4b85c3710c9c"
      },
      "outputs": [
        {
          "output_type": "stream",
          "name": "stdout",
          "text": [
            "sales_category\n",
            "high sales      125\n",
            "low sales        83\n",
            "medium sales    285\n",
            "Name: qty, dtype: int64\n"
          ]
        }
      ],
      "source": [
        "# define conditions for sales category\n",
        "conditions = [\n",
        "    (df['qty'] >= 50),\n",
        "    (df['qty'] >= 20) & (df['qty'] < 50),\n",
        "    (df['qty'] < 20)\n",
        "]\n",
        "# define the labels for different category\n",
        "labels = ['high sales','medium sales','low sales']\n",
        "# create a new column\n",
        "df['sales_category'] = np.select(conditions, labels, default='')\n",
        "filt_b = df.groupby('sales_category')['qty'].sum()\n",
        "print(filt_b)"
      ]
    },
    {
      "cell_type": "markdown",
      "metadata": {
        "id": "4hMSeFtnf_nh"
      },
      "source": [
        "### Hint:"
      ]
    },
    {
      "cell_type": "markdown",
      "metadata": {
        "id": "ZpAAAh7Xf_nh"
      },
      "source": [
        "In SQL the syntax is:\n",
        "\n",
        "```sql\n",
        "SELECT sum(qty),\n",
        "CASE\n",
        "\tWHEN qty>=50 THEN 'high sales'\n",
        "    WHEN (qty>=20 AND qty<50) THEN 'medium sales'\n",
        "    ELSE 'low sales'\n",
        "END AS sales_category\n",
        "FROM sales\n",
        "GROUP BY sales_category;\n",
        "```"
      ]
    },
    {
      "cell_type": "markdown",
      "metadata": {
        "id": "WSY63xK2f_ni"
      },
      "source": [
        "## 3. Adding to your answer from the previous questions: output only those sales categories that have a SUM(qty) greater than 100, and order them in descending order"
      ]
    },
    {
      "cell_type": "code",
      "execution_count": 13,
      "metadata": {
        "id": "WubcxLCnf_ni",
        "colab": {
          "base_uri": "https://localhost:8080/"
        },
        "outputId": "1a255f0e-2e15-4f36-82fe-f0889a07975c"
      },
      "outputs": [
        {
          "output_type": "stream",
          "name": "stdout",
          "text": [
            "  sales_category  sum_qty\n",
            "2   medium sales      285\n",
            "0     high sales      125\n"
          ]
        }
      ],
      "source": [
        "# define conditions for sales category\n",
        "conditions = [\n",
        "    (df['qty'] >= 50),\n",
        "    (df['qty'] >= 20) & (df['qty'] < 50),\n",
        "    (df['qty'] < 20)\n",
        "]\n",
        "# define the labels for different category\n",
        "labels = ['high sales','medium sales','low sales']\n",
        "# create a new column\n",
        "df['sales_category'] = np.select(conditions, labels, default='')\n",
        "filt_b = df.groupby('sales_category').agg(sum_qty=('qty','sum')).reset_index()\n",
        "filt_b = filt_b[filt_b['sum_qty'] > 100].sort_values(by='sum_qty',ascending=False)\n",
        "print(filt_b)"
      ]
    },
    {
      "cell_type": "markdown",
      "metadata": {
        "id": "vztWXWr1f_ni"
      },
      "source": [
        "### Hint:"
      ]
    },
    {
      "cell_type": "markdown",
      "metadata": {
        "id": "rEO8V6QCf_ni"
      },
      "source": [
        "In SQL the syntax is:\n",
        "\n",
        "```sql\n",
        "SELECT sum(qty),\n",
        "CASE\n",
        "    WHEN qty>=50 THEN 'high sales'\n",
        "    WHEN (qty>=20 AND qty<50) THEN 'medium sales'\n",
        "    ELSE 'low sales'\n",
        "END AS sales_category\n",
        "FROM sales\n",
        "GROUP BY sales_category\n",
        "HAVING sum(qty)>100\n",
        "ORDER BY sum(qty) DESC;\n",
        "```"
      ]
    },
    {
      "cell_type": "markdown",
      "metadata": {
        "id": "qtYd8hcIf_nj"
      },
      "source": [
        "## 4. Find out the average book price, per publisher, for the following book types and price categories:\n",
        "\t\tbook types: business, traditional cook and psychology\n",
        "\t\tprice categories: <= 5 super low, <= 10 low, <= 15 medium, > 15 high\n",
        "        \n",
        "        - When displaying the average prices, use ROUND() to hide decimals."
      ]
    },
    {
      "cell_type": "code",
      "execution_count": 27,
      "metadata": {
        "id": "k-jf1iQaf_nj",
        "colab": {
          "base_uri": "https://localhost:8080/"
        },
        "outputId": "ffee8bc4-1373-4704-e633-f5ec3b4d2491"
      },
      "outputs": [
        {
          "output_type": "stream",
          "name": "stdout",
          "text": [
            "   pub_id price_category  price\n",
            "0     736           high   20.0\n",
            "1     736            low    7.0\n",
            "2     736         medium   11.0\n",
            "3     736      super low    3.0\n",
            "4     877           high   22.0\n",
            "5    1389           high   20.0\n",
            "6    1389         medium   12.0\n"
          ]
        }
      ],
      "source": [
        "df = pd.DataFrame(titles)\n",
        "df.head()\n",
        "df.dtypes\n",
        "# define conditions for the price category\n",
        "conditions = [\n",
        "    (df['price'] <= 5),\n",
        "    (df['price'] <= 10) & (df['price'] > 5),\n",
        "    (df['price'] <= 15) & (df['price'] > 10),\n",
        "    (df['price'] > 15)\n",
        "]\n",
        "labels = ['super low','low','medium','high']\n",
        "df['price_category'] = np.select(conditions, labels, default='')\n",
        "filt_df = df[df['type'].isin(['business','traditional cook','psychology'])]\n",
        "avg_price = filt_df.groupby(['pub_id','price_category'])['price'].mean().round(0).reset_index()\n",
        "print(avg_price)"
      ]
    },
    {
      "cell_type": "markdown",
      "metadata": {
        "id": "ehBrvDr7f_nj"
      },
      "source": [
        "### Hint:"
      ]
    },
    {
      "cell_type": "markdown",
      "metadata": {
        "id": "cY45ALSBf_nj"
      },
      "source": [
        "In SQL the syntax is:\n",
        "\n",
        "```sql\n",
        "SELECT\n",
        "    ROUND(AVG(price)),\n",
        "    type,\n",
        "    pub_id,\n",
        "CASE\n",
        "    WHEN price <= 5 THEN 'super low'\n",
        "    WHEN (price > 5 AND price <= 10) THEN 'low'\n",
        "    WHEN (price > 10 AND price <= 15) THEN 'medium'\n",
        "    ELSE 'high'\n",
        "END AS price_category\n",
        "FROM titles\n",
        "GROUP BY\n",
        "    pub_id,\n",
        "    type,\n",
        "    price_category\n",
        "HAVING\n",
        "    type IN ('business', 'trad_cook', 'psychology');\n",
        "```"
      ]
    },
    {
      "cell_type": "code",
      "source": [],
      "metadata": {
        "id": "qAOk01m4ATjK"
      },
      "execution_count": null,
      "outputs": []
    }
  ],
  "metadata": {
    "kernelspec": {
      "display_name": "base",
      "language": "python",
      "name": "python3"
    },
    "language_info": {
      "codemirror_mode": {
        "name": "ipython",
        "version": 3
      },
      "file_extension": ".py",
      "mimetype": "text/x-python",
      "name": "python",
      "nbconvert_exporter": "python",
      "pygments_lexer": "ipython3",
      "version": "3.9.15 (main, Nov  4 2022, 16:35:55) [MSC v.1916 64 bit (AMD64)]"
    },
    "orig_nbformat": 4,
    "vscode": {
      "interpreter": {
        "hash": "ad2bdc8ecc057115af97d19610ffacc2b4e99fae6737bb82f5d7fb13d2f2c186"
      }
    },
    "colab": {
      "provenance": [],
      "toc_visible": true,
      "include_colab_link": true
    }
  },
  "nbformat": 4,
  "nbformat_minor": 0
}