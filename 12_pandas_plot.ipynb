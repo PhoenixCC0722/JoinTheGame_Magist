{
  "cells": [
    {
      "cell_type": "markdown",
      "metadata": {
        "id": "view-in-github",
        "colab_type": "text"
      },
      "source": [
        "<a href=\"https://colab.research.google.com/github/PhoenixCC0722/Journey_to_become_DataScientist/blob/main/12_pandas_plot.ipynb\" target=\"_parent\"><img src=\"https://colab.research.google.com/assets/colab-badge.svg\" alt=\"Open In Colab\"/></a>"
      ]
    },
    {
      "cell_type": "markdown",
      "metadata": {
        "id": "uVDBZWYZ87ea"
      },
      "source": [
        "# Data Visualization\n",
        "\n",
        "Data visualization is an important part of data science, it allows us to explore our data, as well as present our findings to others. There are many python libraries that allow you to create beautiful plots. Today we will only look a the `.plot()` function that's built in to pandas. This function is super useful as it's very easy to use, and allows us to make very quick, basic plots, from which we can explore our data.\n",
        "\n",
        "As always, let's start by loading some data. We will start with the small `people_csv`, so that it's easier to understand what's going on:"
      ]
    },
    {
      "cell_type": "code",
      "execution_count": null,
      "metadata": {
        "collapsed": true,
        "jupyter": {
          "outputs_hidden": true
        },
        "id": "bVdwp5ci87ed",
        "outputId": "7456ac0c-4323-4dfe-e039-7bc1c801a598",
        "colab": {
          "base_uri": "https://localhost:8080/",
          "height": 582
        }
      },
      "outputs": [
        {
          "output_type": "execute_result",
          "data": {
            "text/plain": [
              "                             name  age country  sibilings favourite_color  \\\n",
              "0                Erika Schumacher   22      DE          2             Red   \n",
              "1                      Javi López   50      ES          5          Yellow   \n",
              "2                    Maria Rovira   23      ES          4          Yellow   \n",
              "3                    Ana Garamond   29      ES          1            Blue   \n",
              "4                  Shekhar Biswas   44      IN          3             Red   \n",
              "5                    Muriel Adams   30      DE          2          Yellow   \n",
              "6                     Saira Polom   25      IN          1            Blue   \n",
              "7                      Alex Edwin   71      UK          7            Blue   \n",
              "8                       Kit Ching   35      UK          2             Red   \n",
              "9                        Dog Woof    2      XX          9            Gray   \n",
              "10                    Gerry Adams   27      UK          2          Orange   \n",
              "11                Paulette Chiraq   40      FR          3            Blue   \n",
              "12                   Justus Fromm   23      DE          1            Blue   \n",
              "13                Léandre Boucher   19      FR          0             Red   \n",
              "14                  Jonatan Maier   32      DE          2            Blue   \n",
              "15  Hildegarde Von Grimmelshausen   38      DE          4             Red   \n",
              "16                   Pankraz Sala   27      IN          3          Yellow   \n",
              "\n",
              "    credit  \n",
              "0      100  \n",
              "1       95  \n",
              "2       89  \n",
              "3       88  \n",
              "4       89  \n",
              "5      100  \n",
              "6       97  \n",
              "7       88  \n",
              "8       98  \n",
              "9       99  \n",
              "10      89  \n",
              "11      89  \n",
              "12     100  \n",
              "13      93  \n",
              "14      91  \n",
              "15      88  \n",
              "16      88  "
            ],
            "text/html": [
              "\n",
              "  <div id=\"df-0fed2589-e2a0-4ece-9fa7-3fc6ebc2aef8\" class=\"colab-df-container\">\n",
              "    <div>\n",
              "<style scoped>\n",
              "    .dataframe tbody tr th:only-of-type {\n",
              "        vertical-align: middle;\n",
              "    }\n",
              "\n",
              "    .dataframe tbody tr th {\n",
              "        vertical-align: top;\n",
              "    }\n",
              "\n",
              "    .dataframe thead th {\n",
              "        text-align: right;\n",
              "    }\n",
              "</style>\n",
              "<table border=\"1\" class=\"dataframe\">\n",
              "  <thead>\n",
              "    <tr style=\"text-align: right;\">\n",
              "      <th></th>\n",
              "      <th>name</th>\n",
              "      <th>age</th>\n",
              "      <th>country</th>\n",
              "      <th>sibilings</th>\n",
              "      <th>favourite_color</th>\n",
              "      <th>credit</th>\n",
              "    </tr>\n",
              "  </thead>\n",
              "  <tbody>\n",
              "    <tr>\n",
              "      <th>0</th>\n",
              "      <td>Erika Schumacher</td>\n",
              "      <td>22</td>\n",
              "      <td>DE</td>\n",
              "      <td>2</td>\n",
              "      <td>Red</td>\n",
              "      <td>100</td>\n",
              "    </tr>\n",
              "    <tr>\n",
              "      <th>1</th>\n",
              "      <td>Javi López</td>\n",
              "      <td>50</td>\n",
              "      <td>ES</td>\n",
              "      <td>5</td>\n",
              "      <td>Yellow</td>\n",
              "      <td>95</td>\n",
              "    </tr>\n",
              "    <tr>\n",
              "      <th>2</th>\n",
              "      <td>Maria Rovira</td>\n",
              "      <td>23</td>\n",
              "      <td>ES</td>\n",
              "      <td>4</td>\n",
              "      <td>Yellow</td>\n",
              "      <td>89</td>\n",
              "    </tr>\n",
              "    <tr>\n",
              "      <th>3</th>\n",
              "      <td>Ana Garamond</td>\n",
              "      <td>29</td>\n",
              "      <td>ES</td>\n",
              "      <td>1</td>\n",
              "      <td>Blue</td>\n",
              "      <td>88</td>\n",
              "    </tr>\n",
              "    <tr>\n",
              "      <th>4</th>\n",
              "      <td>Shekhar Biswas</td>\n",
              "      <td>44</td>\n",
              "      <td>IN</td>\n",
              "      <td>3</td>\n",
              "      <td>Red</td>\n",
              "      <td>89</td>\n",
              "    </tr>\n",
              "    <tr>\n",
              "      <th>5</th>\n",
              "      <td>Muriel Adams</td>\n",
              "      <td>30</td>\n",
              "      <td>DE</td>\n",
              "      <td>2</td>\n",
              "      <td>Yellow</td>\n",
              "      <td>100</td>\n",
              "    </tr>\n",
              "    <tr>\n",
              "      <th>6</th>\n",
              "      <td>Saira Polom</td>\n",
              "      <td>25</td>\n",
              "      <td>IN</td>\n",
              "      <td>1</td>\n",
              "      <td>Blue</td>\n",
              "      <td>97</td>\n",
              "    </tr>\n",
              "    <tr>\n",
              "      <th>7</th>\n",
              "      <td>Alex Edwin</td>\n",
              "      <td>71</td>\n",
              "      <td>UK</td>\n",
              "      <td>7</td>\n",
              "      <td>Blue</td>\n",
              "      <td>88</td>\n",
              "    </tr>\n",
              "    <tr>\n",
              "      <th>8</th>\n",
              "      <td>Kit Ching</td>\n",
              "      <td>35</td>\n",
              "      <td>UK</td>\n",
              "      <td>2</td>\n",
              "      <td>Red</td>\n",
              "      <td>98</td>\n",
              "    </tr>\n",
              "    <tr>\n",
              "      <th>9</th>\n",
              "      <td>Dog Woof</td>\n",
              "      <td>2</td>\n",
              "      <td>XX</td>\n",
              "      <td>9</td>\n",
              "      <td>Gray</td>\n",
              "      <td>99</td>\n",
              "    </tr>\n",
              "    <tr>\n",
              "      <th>10</th>\n",
              "      <td>Gerry Adams</td>\n",
              "      <td>27</td>\n",
              "      <td>UK</td>\n",
              "      <td>2</td>\n",
              "      <td>Orange</td>\n",
              "      <td>89</td>\n",
              "    </tr>\n",
              "    <tr>\n",
              "      <th>11</th>\n",
              "      <td>Paulette Chiraq</td>\n",
              "      <td>40</td>\n",
              "      <td>FR</td>\n",
              "      <td>3</td>\n",
              "      <td>Blue</td>\n",
              "      <td>89</td>\n",
              "    </tr>\n",
              "    <tr>\n",
              "      <th>12</th>\n",
              "      <td>Justus Fromm</td>\n",
              "      <td>23</td>\n",
              "      <td>DE</td>\n",
              "      <td>1</td>\n",
              "      <td>Blue</td>\n",
              "      <td>100</td>\n",
              "    </tr>\n",
              "    <tr>\n",
              "      <th>13</th>\n",
              "      <td>Léandre Boucher</td>\n",
              "      <td>19</td>\n",
              "      <td>FR</td>\n",
              "      <td>0</td>\n",
              "      <td>Red</td>\n",
              "      <td>93</td>\n",
              "    </tr>\n",
              "    <tr>\n",
              "      <th>14</th>\n",
              "      <td>Jonatan Maier</td>\n",
              "      <td>32</td>\n",
              "      <td>DE</td>\n",
              "      <td>2</td>\n",
              "      <td>Blue</td>\n",
              "      <td>91</td>\n",
              "    </tr>\n",
              "    <tr>\n",
              "      <th>15</th>\n",
              "      <td>Hildegarde Von Grimmelshausen</td>\n",
              "      <td>38</td>\n",
              "      <td>DE</td>\n",
              "      <td>4</td>\n",
              "      <td>Red</td>\n",
              "      <td>88</td>\n",
              "    </tr>\n",
              "    <tr>\n",
              "      <th>16</th>\n",
              "      <td>Pankraz Sala</td>\n",
              "      <td>27</td>\n",
              "      <td>IN</td>\n",
              "      <td>3</td>\n",
              "      <td>Yellow</td>\n",
              "      <td>88</td>\n",
              "    </tr>\n",
              "  </tbody>\n",
              "</table>\n",
              "</div>\n",
              "    <div class=\"colab-df-buttons\">\n",
              "\n",
              "  <div class=\"colab-df-container\">\n",
              "    <button class=\"colab-df-convert\" onclick=\"convertToInteractive('df-0fed2589-e2a0-4ece-9fa7-3fc6ebc2aef8')\"\n",
              "            title=\"Convert this dataframe to an interactive table.\"\n",
              "            style=\"display:none;\">\n",
              "\n",
              "  <svg xmlns=\"http://www.w3.org/2000/svg\" height=\"24px\" viewBox=\"0 -960 960 960\">\n",
              "    <path d=\"M120-120v-720h720v720H120Zm60-500h600v-160H180v160Zm220 220h160v-160H400v160Zm0 220h160v-160H400v160ZM180-400h160v-160H180v160Zm440 0h160v-160H620v160ZM180-180h160v-160H180v160Zm440 0h160v-160H620v160Z\"/>\n",
              "  </svg>\n",
              "    </button>\n",
              "\n",
              "  <style>\n",
              "    .colab-df-container {\n",
              "      display:flex;\n",
              "      gap: 12px;\n",
              "    }\n",
              "\n",
              "    .colab-df-convert {\n",
              "      background-color: #E8F0FE;\n",
              "      border: none;\n",
              "      border-radius: 50%;\n",
              "      cursor: pointer;\n",
              "      display: none;\n",
              "      fill: #1967D2;\n",
              "      height: 32px;\n",
              "      padding: 0 0 0 0;\n",
              "      width: 32px;\n",
              "    }\n",
              "\n",
              "    .colab-df-convert:hover {\n",
              "      background-color: #E2EBFA;\n",
              "      box-shadow: 0px 1px 2px rgba(60, 64, 67, 0.3), 0px 1px 3px 1px rgba(60, 64, 67, 0.15);\n",
              "      fill: #174EA6;\n",
              "    }\n",
              "\n",
              "    .colab-df-buttons div {\n",
              "      margin-bottom: 4px;\n",
              "    }\n",
              "\n",
              "    [theme=dark] .colab-df-convert {\n",
              "      background-color: #3B4455;\n",
              "      fill: #D2E3FC;\n",
              "    }\n",
              "\n",
              "    [theme=dark] .colab-df-convert:hover {\n",
              "      background-color: #434B5C;\n",
              "      box-shadow: 0px 1px 3px 1px rgba(0, 0, 0, 0.15);\n",
              "      filter: drop-shadow(0px 1px 2px rgba(0, 0, 0, 0.3));\n",
              "      fill: #FFFFFF;\n",
              "    }\n",
              "  </style>\n",
              "\n",
              "    <script>\n",
              "      const buttonEl =\n",
              "        document.querySelector('#df-0fed2589-e2a0-4ece-9fa7-3fc6ebc2aef8 button.colab-df-convert');\n",
              "      buttonEl.style.display =\n",
              "        google.colab.kernel.accessAllowed ? 'block' : 'none';\n",
              "\n",
              "      async function convertToInteractive(key) {\n",
              "        const element = document.querySelector('#df-0fed2589-e2a0-4ece-9fa7-3fc6ebc2aef8');\n",
              "        const dataTable =\n",
              "          await google.colab.kernel.invokeFunction('convertToInteractive',\n",
              "                                                    [key], {});\n",
              "        if (!dataTable) return;\n",
              "\n",
              "        const docLinkHtml = 'Like what you see? Visit the ' +\n",
              "          '<a target=\"_blank\" href=https://colab.research.google.com/notebooks/data_table.ipynb>data table notebook</a>'\n",
              "          + ' to learn more about interactive tables.';\n",
              "        element.innerHTML = '';\n",
              "        dataTable['output_type'] = 'display_data';\n",
              "        await google.colab.output.renderOutput(dataTable, element);\n",
              "        const docLink = document.createElement('div');\n",
              "        docLink.innerHTML = docLinkHtml;\n",
              "        element.appendChild(docLink);\n",
              "      }\n",
              "    </script>\n",
              "  </div>\n",
              "\n",
              "\n",
              "<div id=\"df-42be09dc-fbc4-4ae0-a8ec-61f7dd53fc98\">\n",
              "  <button class=\"colab-df-quickchart\" onclick=\"quickchart('df-42be09dc-fbc4-4ae0-a8ec-61f7dd53fc98')\"\n",
              "            title=\"Suggest charts\"\n",
              "            style=\"display:none;\">\n",
              "\n",
              "<svg xmlns=\"http://www.w3.org/2000/svg\" height=\"24px\"viewBox=\"0 0 24 24\"\n",
              "     width=\"24px\">\n",
              "    <g>\n",
              "        <path d=\"M19 3H5c-1.1 0-2 .9-2 2v14c0 1.1.9 2 2 2h14c1.1 0 2-.9 2-2V5c0-1.1-.9-2-2-2zM9 17H7v-7h2v7zm4 0h-2V7h2v10zm4 0h-2v-4h2v4z\"/>\n",
              "    </g>\n",
              "</svg>\n",
              "  </button>\n",
              "\n",
              "<style>\n",
              "  .colab-df-quickchart {\n",
              "      --bg-color: #E8F0FE;\n",
              "      --fill-color: #1967D2;\n",
              "      --hover-bg-color: #E2EBFA;\n",
              "      --hover-fill-color: #174EA6;\n",
              "      --disabled-fill-color: #AAA;\n",
              "      --disabled-bg-color: #DDD;\n",
              "  }\n",
              "\n",
              "  [theme=dark] .colab-df-quickchart {\n",
              "      --bg-color: #3B4455;\n",
              "      --fill-color: #D2E3FC;\n",
              "      --hover-bg-color: #434B5C;\n",
              "      --hover-fill-color: #FFFFFF;\n",
              "      --disabled-bg-color: #3B4455;\n",
              "      --disabled-fill-color: #666;\n",
              "  }\n",
              "\n",
              "  .colab-df-quickchart {\n",
              "    background-color: var(--bg-color);\n",
              "    border: none;\n",
              "    border-radius: 50%;\n",
              "    cursor: pointer;\n",
              "    display: none;\n",
              "    fill: var(--fill-color);\n",
              "    height: 32px;\n",
              "    padding: 0;\n",
              "    width: 32px;\n",
              "  }\n",
              "\n",
              "  .colab-df-quickchart:hover {\n",
              "    background-color: var(--hover-bg-color);\n",
              "    box-shadow: 0 1px 2px rgba(60, 64, 67, 0.3), 0 1px 3px 1px rgba(60, 64, 67, 0.15);\n",
              "    fill: var(--button-hover-fill-color);\n",
              "  }\n",
              "\n",
              "  .colab-df-quickchart-complete:disabled,\n",
              "  .colab-df-quickchart-complete:disabled:hover {\n",
              "    background-color: var(--disabled-bg-color);\n",
              "    fill: var(--disabled-fill-color);\n",
              "    box-shadow: none;\n",
              "  }\n",
              "\n",
              "  .colab-df-spinner {\n",
              "    border: 2px solid var(--fill-color);\n",
              "    border-color: transparent;\n",
              "    border-bottom-color: var(--fill-color);\n",
              "    animation:\n",
              "      spin 1s steps(1) infinite;\n",
              "  }\n",
              "\n",
              "  @keyframes spin {\n",
              "    0% {\n",
              "      border-color: transparent;\n",
              "      border-bottom-color: var(--fill-color);\n",
              "      border-left-color: var(--fill-color);\n",
              "    }\n",
              "    20% {\n",
              "      border-color: transparent;\n",
              "      border-left-color: var(--fill-color);\n",
              "      border-top-color: var(--fill-color);\n",
              "    }\n",
              "    30% {\n",
              "      border-color: transparent;\n",
              "      border-left-color: var(--fill-color);\n",
              "      border-top-color: var(--fill-color);\n",
              "      border-right-color: var(--fill-color);\n",
              "    }\n",
              "    40% {\n",
              "      border-color: transparent;\n",
              "      border-right-color: var(--fill-color);\n",
              "      border-top-color: var(--fill-color);\n",
              "    }\n",
              "    60% {\n",
              "      border-color: transparent;\n",
              "      border-right-color: var(--fill-color);\n",
              "    }\n",
              "    80% {\n",
              "      border-color: transparent;\n",
              "      border-right-color: var(--fill-color);\n",
              "      border-bottom-color: var(--fill-color);\n",
              "    }\n",
              "    90% {\n",
              "      border-color: transparent;\n",
              "      border-bottom-color: var(--fill-color);\n",
              "    }\n",
              "  }\n",
              "</style>\n",
              "\n",
              "  <script>\n",
              "    async function quickchart(key) {\n",
              "      const quickchartButtonEl =\n",
              "        document.querySelector('#' + key + ' button');\n",
              "      quickchartButtonEl.disabled = true;  // To prevent multiple clicks.\n",
              "      quickchartButtonEl.classList.add('colab-df-spinner');\n",
              "      try {\n",
              "        const charts = await google.colab.kernel.invokeFunction(\n",
              "            'suggestCharts', [key], {});\n",
              "      } catch (error) {\n",
              "        console.error('Error during call to suggestCharts:', error);\n",
              "      }\n",
              "      quickchartButtonEl.classList.remove('colab-df-spinner');\n",
              "      quickchartButtonEl.classList.add('colab-df-quickchart-complete');\n",
              "    }\n",
              "    (() => {\n",
              "      let quickchartButtonEl =\n",
              "        document.querySelector('#df-42be09dc-fbc4-4ae0-a8ec-61f7dd53fc98 button');\n",
              "      quickchartButtonEl.style.display =\n",
              "        google.colab.kernel.accessAllowed ? 'block' : 'none';\n",
              "    })();\n",
              "  </script>\n",
              "</div>\n",
              "    </div>\n",
              "  </div>\n"
            ]
          },
          "metadata": {},
          "execution_count": 1
        }
      ],
      "source": [
        "import pandas as pd\n",
        "\n",
        "url = 'https://drive.google.com/file/d/15s7M2QllSR1GyNWM8RgcgabK-4hlMgpk/view?usp=sharing' # people.csv\n",
        "path = 'https://drive.google.com/uc?export=download&id='+url.split('/')[-2]\n",
        "people = pd.read_csv(path)\n",
        "\n",
        "# show dataframe\n",
        "people"
      ]
    },
    {
      "cell_type": "code",
      "source": [
        "import pandas as pd\n",
        "full_path = 'https://drive.google.com/uc?export=download&id=' + '15s7M2QllSR1GyNWM8RgcgabK-4hlMgpk'\n",
        "people = pd.read_csv(full_path)\n",
        "print(full_path)\n",
        "people.head()"
      ],
      "metadata": {
        "colab": {
          "base_uri": "https://localhost:8080/",
          "height": 224
        },
        "id": "8WbbSVuT7M7I",
        "outputId": "64a46346-90ef-4fb5-8355-6588986f5003"
      },
      "execution_count": 2,
      "outputs": [
        {
          "output_type": "stream",
          "name": "stdout",
          "text": [
            "https://drive.google.com/uc?export=download&id=15s7M2QllSR1GyNWM8RgcgabK-4hlMgpk\n"
          ]
        },
        {
          "output_type": "execute_result",
          "data": {
            "text/plain": [
              "               name  age country  sibilings favourite_color  credit\n",
              "0  Erika Schumacher   22      DE          2             Red     100\n",
              "1        Javi López   50      ES          5          Yellow      95\n",
              "2      Maria Rovira   23      ES          4          Yellow      89\n",
              "3      Ana Garamond   29      ES          1            Blue      88\n",
              "4    Shekhar Biswas   44      IN          3             Red      89"
            ],
            "text/html": [
              "\n",
              "  <div id=\"df-3d511fe1-8d30-4cd1-b91d-0a320aac2c19\" class=\"colab-df-container\">\n",
              "    <div>\n",
              "<style scoped>\n",
              "    .dataframe tbody tr th:only-of-type {\n",
              "        vertical-align: middle;\n",
              "    }\n",
              "\n",
              "    .dataframe tbody tr th {\n",
              "        vertical-align: top;\n",
              "    }\n",
              "\n",
              "    .dataframe thead th {\n",
              "        text-align: right;\n",
              "    }\n",
              "</style>\n",
              "<table border=\"1\" class=\"dataframe\">\n",
              "  <thead>\n",
              "    <tr style=\"text-align: right;\">\n",
              "      <th></th>\n",
              "      <th>name</th>\n",
              "      <th>age</th>\n",
              "      <th>country</th>\n",
              "      <th>sibilings</th>\n",
              "      <th>favourite_color</th>\n",
              "      <th>credit</th>\n",
              "    </tr>\n",
              "  </thead>\n",
              "  <tbody>\n",
              "    <tr>\n",
              "      <th>0</th>\n",
              "      <td>Erika Schumacher</td>\n",
              "      <td>22</td>\n",
              "      <td>DE</td>\n",
              "      <td>2</td>\n",
              "      <td>Red</td>\n",
              "      <td>100</td>\n",
              "    </tr>\n",
              "    <tr>\n",
              "      <th>1</th>\n",
              "      <td>Javi López</td>\n",
              "      <td>50</td>\n",
              "      <td>ES</td>\n",
              "      <td>5</td>\n",
              "      <td>Yellow</td>\n",
              "      <td>95</td>\n",
              "    </tr>\n",
              "    <tr>\n",
              "      <th>2</th>\n",
              "      <td>Maria Rovira</td>\n",
              "      <td>23</td>\n",
              "      <td>ES</td>\n",
              "      <td>4</td>\n",
              "      <td>Yellow</td>\n",
              "      <td>89</td>\n",
              "    </tr>\n",
              "    <tr>\n",
              "      <th>3</th>\n",
              "      <td>Ana Garamond</td>\n",
              "      <td>29</td>\n",
              "      <td>ES</td>\n",
              "      <td>1</td>\n",
              "      <td>Blue</td>\n",
              "      <td>88</td>\n",
              "    </tr>\n",
              "    <tr>\n",
              "      <th>4</th>\n",
              "      <td>Shekhar Biswas</td>\n",
              "      <td>44</td>\n",
              "      <td>IN</td>\n",
              "      <td>3</td>\n",
              "      <td>Red</td>\n",
              "      <td>89</td>\n",
              "    </tr>\n",
              "  </tbody>\n",
              "</table>\n",
              "</div>\n",
              "    <div class=\"colab-df-buttons\">\n",
              "\n",
              "  <div class=\"colab-df-container\">\n",
              "    <button class=\"colab-df-convert\" onclick=\"convertToInteractive('df-3d511fe1-8d30-4cd1-b91d-0a320aac2c19')\"\n",
              "            title=\"Convert this dataframe to an interactive table.\"\n",
              "            style=\"display:none;\">\n",
              "\n",
              "  <svg xmlns=\"http://www.w3.org/2000/svg\" height=\"24px\" viewBox=\"0 -960 960 960\">\n",
              "    <path d=\"M120-120v-720h720v720H120Zm60-500h600v-160H180v160Zm220 220h160v-160H400v160Zm0 220h160v-160H400v160ZM180-400h160v-160H180v160Zm440 0h160v-160H620v160ZM180-180h160v-160H180v160Zm440 0h160v-160H620v160Z\"/>\n",
              "  </svg>\n",
              "    </button>\n",
              "\n",
              "  <style>\n",
              "    .colab-df-container {\n",
              "      display:flex;\n",
              "      gap: 12px;\n",
              "    }\n",
              "\n",
              "    .colab-df-convert {\n",
              "      background-color: #E8F0FE;\n",
              "      border: none;\n",
              "      border-radius: 50%;\n",
              "      cursor: pointer;\n",
              "      display: none;\n",
              "      fill: #1967D2;\n",
              "      height: 32px;\n",
              "      padding: 0 0 0 0;\n",
              "      width: 32px;\n",
              "    }\n",
              "\n",
              "    .colab-df-convert:hover {\n",
              "      background-color: #E2EBFA;\n",
              "      box-shadow: 0px 1px 2px rgba(60, 64, 67, 0.3), 0px 1px 3px 1px rgba(60, 64, 67, 0.15);\n",
              "      fill: #174EA6;\n",
              "    }\n",
              "\n",
              "    .colab-df-buttons div {\n",
              "      margin-bottom: 4px;\n",
              "    }\n",
              "\n",
              "    [theme=dark] .colab-df-convert {\n",
              "      background-color: #3B4455;\n",
              "      fill: #D2E3FC;\n",
              "    }\n",
              "\n",
              "    [theme=dark] .colab-df-convert:hover {\n",
              "      background-color: #434B5C;\n",
              "      box-shadow: 0px 1px 3px 1px rgba(0, 0, 0, 0.15);\n",
              "      filter: drop-shadow(0px 1px 2px rgba(0, 0, 0, 0.3));\n",
              "      fill: #FFFFFF;\n",
              "    }\n",
              "  </style>\n",
              "\n",
              "    <script>\n",
              "      const buttonEl =\n",
              "        document.querySelector('#df-3d511fe1-8d30-4cd1-b91d-0a320aac2c19 button.colab-df-convert');\n",
              "      buttonEl.style.display =\n",
              "        google.colab.kernel.accessAllowed ? 'block' : 'none';\n",
              "\n",
              "      async function convertToInteractive(key) {\n",
              "        const element = document.querySelector('#df-3d511fe1-8d30-4cd1-b91d-0a320aac2c19');\n",
              "        const dataTable =\n",
              "          await google.colab.kernel.invokeFunction('convertToInteractive',\n",
              "                                                    [key], {});\n",
              "        if (!dataTable) return;\n",
              "\n",
              "        const docLinkHtml = 'Like what you see? Visit the ' +\n",
              "          '<a target=\"_blank\" href=https://colab.research.google.com/notebooks/data_table.ipynb>data table notebook</a>'\n",
              "          + ' to learn more about interactive tables.';\n",
              "        element.innerHTML = '';\n",
              "        dataTable['output_type'] = 'display_data';\n",
              "        await google.colab.output.renderOutput(dataTable, element);\n",
              "        const docLink = document.createElement('div');\n",
              "        docLink.innerHTML = docLinkHtml;\n",
              "        element.appendChild(docLink);\n",
              "      }\n",
              "    </script>\n",
              "  </div>\n",
              "\n",
              "\n",
              "<div id=\"df-127db236-7be6-403f-8549-b32533543633\">\n",
              "  <button class=\"colab-df-quickchart\" onclick=\"quickchart('df-127db236-7be6-403f-8549-b32533543633')\"\n",
              "            title=\"Suggest charts\"\n",
              "            style=\"display:none;\">\n",
              "\n",
              "<svg xmlns=\"http://www.w3.org/2000/svg\" height=\"24px\"viewBox=\"0 0 24 24\"\n",
              "     width=\"24px\">\n",
              "    <g>\n",
              "        <path d=\"M19 3H5c-1.1 0-2 .9-2 2v14c0 1.1.9 2 2 2h14c1.1 0 2-.9 2-2V5c0-1.1-.9-2-2-2zM9 17H7v-7h2v7zm4 0h-2V7h2v10zm4 0h-2v-4h2v4z\"/>\n",
              "    </g>\n",
              "</svg>\n",
              "  </button>\n",
              "\n",
              "<style>\n",
              "  .colab-df-quickchart {\n",
              "      --bg-color: #E8F0FE;\n",
              "      --fill-color: #1967D2;\n",
              "      --hover-bg-color: #E2EBFA;\n",
              "      --hover-fill-color: #174EA6;\n",
              "      --disabled-fill-color: #AAA;\n",
              "      --disabled-bg-color: #DDD;\n",
              "  }\n",
              "\n",
              "  [theme=dark] .colab-df-quickchart {\n",
              "      --bg-color: #3B4455;\n",
              "      --fill-color: #D2E3FC;\n",
              "      --hover-bg-color: #434B5C;\n",
              "      --hover-fill-color: #FFFFFF;\n",
              "      --disabled-bg-color: #3B4455;\n",
              "      --disabled-fill-color: #666;\n",
              "  }\n",
              "\n",
              "  .colab-df-quickchart {\n",
              "    background-color: var(--bg-color);\n",
              "    border: none;\n",
              "    border-radius: 50%;\n",
              "    cursor: pointer;\n",
              "    display: none;\n",
              "    fill: var(--fill-color);\n",
              "    height: 32px;\n",
              "    padding: 0;\n",
              "    width: 32px;\n",
              "  }\n",
              "\n",
              "  .colab-df-quickchart:hover {\n",
              "    background-color: var(--hover-bg-color);\n",
              "    box-shadow: 0 1px 2px rgba(60, 64, 67, 0.3), 0 1px 3px 1px rgba(60, 64, 67, 0.15);\n",
              "    fill: var(--button-hover-fill-color);\n",
              "  }\n",
              "\n",
              "  .colab-df-quickchart-complete:disabled,\n",
              "  .colab-df-quickchart-complete:disabled:hover {\n",
              "    background-color: var(--disabled-bg-color);\n",
              "    fill: var(--disabled-fill-color);\n",
              "    box-shadow: none;\n",
              "  }\n",
              "\n",
              "  .colab-df-spinner {\n",
              "    border: 2px solid var(--fill-color);\n",
              "    border-color: transparent;\n",
              "    border-bottom-color: var(--fill-color);\n",
              "    animation:\n",
              "      spin 1s steps(1) infinite;\n",
              "  }\n",
              "\n",
              "  @keyframes spin {\n",
              "    0% {\n",
              "      border-color: transparent;\n",
              "      border-bottom-color: var(--fill-color);\n",
              "      border-left-color: var(--fill-color);\n",
              "    }\n",
              "    20% {\n",
              "      border-color: transparent;\n",
              "      border-left-color: var(--fill-color);\n",
              "      border-top-color: var(--fill-color);\n",
              "    }\n",
              "    30% {\n",
              "      border-color: transparent;\n",
              "      border-left-color: var(--fill-color);\n",
              "      border-top-color: var(--fill-color);\n",
              "      border-right-color: var(--fill-color);\n",
              "    }\n",
              "    40% {\n",
              "      border-color: transparent;\n",
              "      border-right-color: var(--fill-color);\n",
              "      border-top-color: var(--fill-color);\n",
              "    }\n",
              "    60% {\n",
              "      border-color: transparent;\n",
              "      border-right-color: var(--fill-color);\n",
              "    }\n",
              "    80% {\n",
              "      border-color: transparent;\n",
              "      border-right-color: var(--fill-color);\n",
              "      border-bottom-color: var(--fill-color);\n",
              "    }\n",
              "    90% {\n",
              "      border-color: transparent;\n",
              "      border-bottom-color: var(--fill-color);\n",
              "    }\n",
              "  }\n",
              "</style>\n",
              "\n",
              "  <script>\n",
              "    async function quickchart(key) {\n",
              "      const quickchartButtonEl =\n",
              "        document.querySelector('#' + key + ' button');\n",
              "      quickchartButtonEl.disabled = true;  // To prevent multiple clicks.\n",
              "      quickchartButtonEl.classList.add('colab-df-spinner');\n",
              "      try {\n",
              "        const charts = await google.colab.kernel.invokeFunction(\n",
              "            'suggestCharts', [key], {});\n",
              "      } catch (error) {\n",
              "        console.error('Error during call to suggestCharts:', error);\n",
              "      }\n",
              "      quickchartButtonEl.classList.remove('colab-df-spinner');\n",
              "      quickchartButtonEl.classList.add('colab-df-quickchart-complete');\n",
              "    }\n",
              "    (() => {\n",
              "      let quickchartButtonEl =\n",
              "        document.querySelector('#df-127db236-7be6-403f-8549-b32533543633 button');\n",
              "      quickchartButtonEl.style.display =\n",
              "        google.colab.kernel.accessAllowed ? 'block' : 'none';\n",
              "    })();\n",
              "  </script>\n",
              "</div>\n",
              "    </div>\n",
              "  </div>\n"
            ],
            "application/vnd.google.colaboratory.intrinsic+json": {
              "type": "dataframe",
              "variable_name": "people",
              "summary": "{\n  \"name\": \"people\",\n  \"rows\": 17,\n  \"fields\": [\n    {\n      \"column\": \"name\",\n      \"properties\": {\n        \"dtype\": \"string\",\n        \"num_unique_values\": 17,\n        \"samples\": [\n          \"Erika Schumacher\",\n          \"Javi L\\u00f3pez\",\n          \"Muriel Adams\"\n        ],\n        \"semantic_type\": \"\",\n        \"description\": \"\"\n      }\n    },\n    {\n      \"column\": \"age\",\n      \"properties\": {\n        \"dtype\": \"number\",\n        \"std\": 14,\n        \"min\": 2,\n        \"max\": 71,\n        \"num_unique_values\": 15,\n        \"samples\": [\n          2,\n          40,\n          22\n        ],\n        \"semantic_type\": \"\",\n        \"description\": \"\"\n      }\n    },\n    {\n      \"column\": \"country\",\n      \"properties\": {\n        \"dtype\": \"category\",\n        \"num_unique_values\": 6,\n        \"samples\": [\n          \"DE\",\n          \"ES\",\n          \"FR\"\n        ],\n        \"semantic_type\": \"\",\n        \"description\": \"\"\n      }\n    },\n    {\n      \"column\": \"sibilings\",\n      \"properties\": {\n        \"dtype\": \"number\",\n        \"std\": 2,\n        \"min\": 0,\n        \"max\": 9,\n        \"num_unique_values\": 8,\n        \"samples\": [\n          5,\n          7,\n          2\n        ],\n        \"semantic_type\": \"\",\n        \"description\": \"\"\n      }\n    },\n    {\n      \"column\": \"favourite_color\",\n      \"properties\": {\n        \"dtype\": \"category\",\n        \"num_unique_values\": 5,\n        \"samples\": [\n          \"Yellow\",\n          \"Orange\",\n          \"Blue\"\n        ],\n        \"semantic_type\": \"\",\n        \"description\": \"\"\n      }\n    },\n    {\n      \"column\": \"credit\",\n      \"properties\": {\n        \"dtype\": \"number\",\n        \"std\": 4,\n        \"min\": 88,\n        \"max\": 100,\n        \"num_unique_values\": 9,\n        \"samples\": [\n          93,\n          95,\n          98\n        ],\n        \"semantic_type\": \"\",\n        \"description\": \"\"\n      }\n    }\n  ]\n}"
            }
          },
          "metadata": {},
          "execution_count": 2
        }
      ]
    },
    {
      "cell_type": "code",
      "source": [
        "people.age.plot.hist(); # histogram--counts density\n"
      ],
      "metadata": {
        "colab": {
          "base_uri": "https://localhost:8080/",
          "height": 430
        },
        "id": "gWqDIIs-9NO7",
        "outputId": "a2fc648b-7d41-45c0-f78d-0a2056aafe50"
      },
      "execution_count": 3,
      "outputs": [
        {
          "output_type": "display_data",
          "data": {
            "text/plain": [
              "<Figure size 640x480 with 1 Axes>"
            ],
            "image/png": "[encoded data removed]"
          },
          "metadata": {}
        }
      ]
    },
    {
      "cell_type": "code",
      "source": [
        "people.age.plot.hist(bins=20);"
      ],
      "metadata": {
        "colab": {
          "base_uri": "https://localhost:8080/",
          "height": 430
        },
        "id": "TW9wh6429vQb",
        "outputId": "519fd7a6-c25d-43c8-9858-03f08f5326f7"
      },
      "execution_count": 5,
      "outputs": [
        {
          "output_type": "display_data",
          "data": {
            "text/plain": [
              "<Figure size 640x480 with 1 Axes>"
            ],
            "image/png": "[encoded data removed]"
          },
          "metadata": {}
        }
      ]
    },
    {
      "cell_type": "code",
      "source": [
        "people.age.plot.kde();"
      ],
      "metadata": {
        "colab": {
          "base_uri": "https://localhost:8080/",
          "height": 430
        },
        "id": "XdlnrZTu9pcG",
        "outputId": "af5b92a5-e693-48ce-c7d9-5069f120ad60"
      },
      "execution_count": 4,
      "outputs": [
        {
          "output_type": "display_data",
          "data": {
            "text/plain": [
              "<Figure size 640x480 with 1 Axes>"
            ],
            "image/png": "[encoded data removed]"
          },
          "metadata": {}
        }
      ]
    },
    {
      "cell_type": "markdown",
      "metadata": {
        "id": "8SM-5XgJ87eh"
      },
      "source": [
        "In this notebook we will show you a couple of quick ways to make plots without leaving the pandas module:\n",
        "1. plotting 1 variable (1 column of the DataFrame)\n",
        "2. plotting 2 or more variables (2 or more columns of the DataFrame)"
      ]
    },
    {
      "cell_type": "markdown",
      "source": [
        "## 1.&nbsp;  Plotting 1 variable"
      ],
      "metadata": {
        "id": "9oLC3-bRaFb8"
      }
    },
    {
      "cell_type": "markdown",
      "metadata": {
        "id": "uCmQe4iH87ei"
      },
      "source": [
        "Pandas `.hist()` and `.plot()` methods are incredibly convenient, and more than enough when you are visualizing data for yourself, as part of the exploration process.\n",
        "\n",
        "A histogram is a representation of the distribution of numerical data. Let's remind ourselves of how a histogram looks:"
      ]
    },
    {
      "cell_type": "code",
      "execution_count": null,
      "metadata": {
        "jupyter": {
          "outputs_hidden": true
        },
        "id": "Clv5EQ2m87ei",
        "outputId": "a24ee29b-2f48-4954-d154-6fa7931b8fa8",
        "colab": {
          "base_uri": "https://localhost:8080/",
          "height": 430
        }
      },
      "outputs": [
        {
          "output_type": "display_data",
          "data": {
            "text/plain": [
              "<Figure size 640x480 with 1 Axes>"
            ],
            "image/png": "[encoded data removed]"
          },
          "metadata": {}
        }
      ],
      "source": [
        "# histogram of the age column\n",
        "people.age.hist();"
      ]
    },
    {
      "cell_type": "markdown",
      "source": [
        "From the histogram above we can see that most of the people in our DataFrame are in their late 20s. We can also see that we have just one person under 10 years of age, and one person over 60."
      ],
      "metadata": {
        "id": "kRF2EEjuAFIC"
      }
    },
    {
      "cell_type": "markdown",
      "metadata": {
        "id": "oSwYLVWM87ej"
      },
      "source": [
        "Pandas plotting is limited in terms of tweaking/customizing the plot, but you can still change some basic stuff, like the number of bins in a histogram or the figure size:"
      ]
    },
    {
      "cell_type": "code",
      "execution_count": null,
      "metadata": {
        "jupyter": {
          "outputs_hidden": true
        },
        "id": "4LgnmzNh87ej",
        "outputId": "b682d295-bff8-47dc-ccdc-996a511e0f7e",
        "colab": {
          "base_uri": "https://localhost:8080/",
          "height": 522
        }
      },
      "outputs": [
        {
          "output_type": "display_data",
          "data": {
            "text/plain": [
              "<Figure size 1200x600 with 1 Axes>"
            ],
            "image/png": "[encoded data removed]"
          },
          "metadata": {}
        }
      ],
      "source": [
        "# bins are the amount of coulmns the histogram is divided into. The more bins, the finer the detail that can be seen\n",
        "# try changing the number of bins and running this cell again, how has the histogram changed?\n",
        "\n",
        "# why not try also changing the figsize numbers one at a time and running the cell again, what changed?\n",
        "\n",
        "people.age.hist(bins=10, figsize=(12,6));"
      ]
    },
    {
      "cell_type": "markdown",
      "metadata": {
        "id": "Y9WSrvbN87ej"
      },
      "source": [
        "For simple frequency plots, which show us how many values are in each category:\n",
        "\n",
        "1. You should first group the categories and generate the frequencies with `value_counts()`\n",
        "\n",
        "2. You should use a **bar plot** not a histogram as we're now using categorical data, not numerical\n",
        "  - Numerical data - histogram\n",
        "  - Categorical data - bar plot\n",
        "\n",
        "Let's see this in action:"
      ]
    },
    {
      "cell_type": "code",
      "execution_count": null,
      "metadata": {
        "id": "CPo0Ed7g87ek",
        "outputId": "accdbac4-ed2f-4a68-d254-fed0af0618e0",
        "colab": {
          "base_uri": "https://localhost:8080/"
        }
      },
      "outputs": [
        {
          "output_type": "execute_result",
          "data": {
            "text/plain": [
              "Blue      6\n",
              "Red       5\n",
              "Yellow    4\n",
              "Gray      1\n",
              "Orange    1\n",
              "Name: favourite_color, dtype: int64"
            ]
          },
          "metadata": {},
          "execution_count": 4
        }
      ],
      "source": [
        "# 1. group the categories and generate the frequencies with value_counts()\n",
        "color_freq = people.favourite_color.value_counts()\n",
        "color_freq"
      ]
    },
    {
      "cell_type": "code",
      "execution_count": null,
      "metadata": {
        "jupyter": {
          "outputs_hidden": true
        },
        "id": "rGWVyQze87ek",
        "outputId": "a898c97d-ade9-441d-e7dd-501471655715",
        "colab": {
          "base_uri": "https://localhost:8080/",
          "height": 467
        }
      },
      "outputs": [
        {
          "output_type": "display_data",
          "data": {
            "text/plain": [
              "<Figure size 640x480 with 1 Axes>"
            ],
            "image/png": "[encoded data removed]"
          },
          "metadata": {}
        }
      ],
      "source": [
        "# 2. plot our value_counts from above as a bar plot\n",
        "color_freq.plot.bar();"
      ]
    },
    {
      "cell_type": "markdown",
      "metadata": {
        "id": "U5zKKGjf87el"
      },
      "source": [
        "Similar to the `.hist()`, there are some parameters available in `.plot()` that you can use to improve your plots, such as color or size. The documentation is always the ultimate source of truth when it comes to understanding which parameters you can tweak and how to do it:\n",
        "\n",
        "- [These are the docs specifically for `DataFrame.plot.bar()`](https://pandas.pydata.org/docs/reference/api/pandas.DataFrame.plot.bar.html)\n",
        "- [Here are the docs for `DataFrame.plot()`](https://pandas.pydata.org/docs/reference/api/pandas.DataFrame.plot.html#pandas.DataFrame.plot), with arguments that apply to all types of plots, not just bar plots."
      ]
    },
    {
      "cell_type": "code",
      "execution_count": null,
      "metadata": {
        "jupyter": {
          "outputs_hidden": true
        },
        "id": "wR0Y2ge187el",
        "outputId": "b07800ed-cfea-436d-93fa-656562936a4d",
        "colab": {
          "base_uri": "https://localhost:8080/",
          "height": 467
        }
      },
      "outputs": [
        {
          "output_type": "display_data",
          "data": {
            "text/plain": [
              "<Figure size 640x480 with 1 Axes>"
            ],
            "image/png": "[encoded data removed]"
          },
          "metadata": {}
        }
      ],
      "source": [
        "# changing the colors of the bars\n",
        "color_freq.plot.bar(color=[\"blue\", \"red\", \"yellow\", \"gray\", \"orange\"]);"
      ]
    },
    {
      "cell_type": "markdown",
      "metadata": {
        "id": "qWCy4beT87el"
      },
      "source": [
        "###### **Exercise 1:**\n",
        "Make a bar plot for the countries where people are from. Highlight India (IN) in a brighter color.\n",
        "> Tip: if you want to use prettier colors, you'll find some [here](https://matplotlib.org/stable/gallery/color/named_colors.html)\n",
        "\n"
      ]
    },
    {
      "cell_type": "code",
      "execution_count": null,
      "metadata": {
        "id": "3dtsqMrC87em"
      },
      "outputs": [],
      "source": [
        "# your code here"
      ]
    },
    {
      "cell_type": "markdown",
      "metadata": {
        "id": "ZTHlkMWc87em"
      },
      "source": [
        "## 2.&nbsp; Plotting 2 or more variables\n",
        "\n",
        "Whenever you want to see if there is a relationship between two numerical variables, you could compute something complicated like a linear correlation coefficient or perform more sophisticated statistical tests, but nothing beats a good scatter plot:"
      ]
    },
    {
      "cell_type": "code",
      "execution_count": null,
      "metadata": {
        "id": "MSz0Tq_E87em",
        "outputId": "f24e8006-b1b3-4263-b921-76e678d498bc",
        "colab": {
          "base_uri": "https://localhost:8080/",
          "height": 449
        }
      },
      "outputs": [
        {
          "output_type": "display_data",
          "data": {
            "text/plain": [
              "<Figure size 640x480 with 1 Axes>"
            ],
            "image/png": "[encoded data removed]"
          },
          "metadata": {}
        }
      ],
      "source": [
        "people.plot.scatter(x=\"age\", y=\"sibilings\");"
      ]
    },
    {
      "cell_type": "code",
      "source": [
        "people.plot.scatter(x=\"age\", y=\"credit\");"
      ],
      "metadata": {
        "colab": {
          "base_uri": "https://localhost:8080/",
          "height": 449
        },
        "id": "f_WevLkH_AVx",
        "outputId": "a37ae7cc-5419-441d-8031-98fc99cd7582"
      },
      "execution_count": 6,
      "outputs": [
        {
          "output_type": "display_data",
          "data": {
            "text/plain": [
              "<Figure size 640x480 with 1 Axes>"
            ],
            "image/png": "[encoded data removed]"
          },
          "metadata": {}
        }
      ]
    },
    {
      "cell_type": "code",
      "source": [
        "import matplotlib.pyplot as plt"
      ],
      "metadata": {
        "id": "oxfo--V3_Rm-"
      },
      "execution_count": 7,
      "outputs": []
    },
    {
      "cell_type": "code",
      "source": [
        "people.plot.scatter(x=\"age\", y=\"sibilings\");\n",
        "plt.savefig('rel_between_age_sib.png');"
      ],
      "metadata": {
        "colab": {
          "base_uri": "https://localhost:8080/",
          "height": 449
        },
        "id": "ak-qHrDS_Y-y",
        "outputId": "c4187048-7262-4656-fedb-d1ad68b5a024"
      },
      "execution_count": 8,
      "outputs": [
        {
          "output_type": "display_data",
          "data": {
            "text/plain": [
              "<Figure size 640x480 with 1 Axes>"
            ],
            "image/png": "[encoded data removed]"
          },
          "metadata": {}
        }
      ]
    },
    {
      "cell_type": "markdown",
      "source": [
        "Scatter plots allow us to quickly see a strong/weak correlation at a glance. You can see a slight trend in the above scatter plot, showing that, on the whole, older people tend to have more siblings than younger one's."
      ],
      "metadata": {
        "id": "4FWAtun4NxL0"
      }
    },
    {
      "cell_type": "markdown",
      "metadata": {
        "id": "rNTIiZ0I87en"
      },
      "source": [
        "Let's tweak some of the scatter plots parameters:\n",
        "\n",
        "- The `c` argument allows **colors** to depend on the values of another (numerical) column.\n",
        "- The `cmap` argument allows the usage of \"**color maps**\" to fill the dots. See all available cmaps [here](https://matplotlib.org/stable/tutorials/colors/colormaps.html)\n",
        "- The `s` argument modifies the **size of the dots**.\n",
        "- The `figsize` argument defines the **size of the whole plot**."
      ]
    },
    {
      "cell_type": "markdown",
      "metadata": {
        "id": "t1qAxnQd87en"
      },
      "source": [
        "\n",
        "\n",
        "  > **Note:** Some of these options might only be available if you have one of the latest Pandas versions, as `pandas.plot()` is one of the areas where pandas is growing. You can check your pandas version with `pd.__version__` in the notebook. If your version is substantially older than the one shown in [here](https://pandas.pydata.org/docs/index.html), consider updating pandas by typing on your Terminal `pip install --upgrade pandas`.\n",
        "\n"
      ]
    },
    {
      "cell_type": "code",
      "execution_count": null,
      "metadata": {
        "id": "S0XYerdB87en",
        "outputId": "2a384bcc-d4b7-429f-ba00-2764140cb63c",
        "colab": {
          "base_uri": "https://localhost:8080/",
          "height": 701
        }
      },
      "outputs": [
        {
          "output_type": "display_data",
          "data": {
            "text/plain": [
              "<Figure size 1200x800 with 2 Axes>"
            ],
            "image/png": "[encoded data removed]"
          },
          "metadata": {}
        }
      ],
      "source": [
        "# This is the same scatter plot as above, just bigger, more colorful, and now with an added third variable 'credit'.\n",
        "people.plot.scatter(x=\"age\",\n",
        "                    y=\"sibilings\",\n",
        "                    c=\"credit\",\n",
        "                    s=500,\n",
        "                    cmap=\"viridis\",\n",
        "                    figsize=(12,8)\n",
        "                   );"
      ]
    },
    {
      "cell_type": "markdown",
      "metadata": {
        "id": "c6d-PKSm87eo"
      },
      "source": [
        "## 3.&nbsp; Challenges:\n",
        "Use the `vehicles.csv` dataset to create the plots in the following exercises."
      ]
    },
    {
      "cell_type": "code",
      "execution_count": null,
      "metadata": {
        "id": "nsjZHCiy87eo"
      },
      "outputs": [],
      "source": [
        "url = 'https://drive.google.com/file/d/18zYGrzRhn_mz1HJLXxSO_MwR0_nWBS3K/view?usp=sharing' # vehicles.csv\n",
        "path = 'https://drive.google.com/uc?export=download&id='+url.split('/')[-2]\n",
        "cars = pd.read_csv(path)\n",
        "\n",
        "#Add a column that states if a car's transmission is automatic or manual:\n",
        "cars[\"Auto\"] = cars[\"Transmission\"].str.contains(\"Automatic\")"
      ]
    },
    {
      "cell_type": "code",
      "source": [
        "full_path = 'https://drive.google.com/uc?export=download&id=' + '18zYGrzRhn_mz1HJLXxSO_MwR0_nWBS3K'\n",
        "cars = pd.read_csv(full_path)\n",
        "cars.head()\n",
        "cars.info() # 35952 rows 15 columns"
      ],
      "metadata": {
        "colab": {
          "base_uri": "https://localhost:8080/"
        },
        "id": "riK4jQLwAw79",
        "outputId": "83937953-c7a8-45c7-995c-838af8089c90"
      },
      "execution_count": 15,
      "outputs": [
        {
          "output_type": "stream",
          "name": "stdout",
          "text": [
            "<class 'pandas.core.frame.DataFrame'>\n",
            "RangeIndex: 35952 entries, 0 to 35951\n",
            "Data columns (total 15 columns):\n",
            " #   Column                   Non-Null Count  Dtype  \n",
            "---  ------                   --------------  -----  \n",
            " 0   Make                     35952 non-null  object \n",
            " 1   Model                    35952 non-null  object \n",
            " 2   Year                     35952 non-null  int64  \n",
            " 3   Engine Displacement      35952 non-null  float64\n",
            " 4   Cylinders                35952 non-null  float64\n",
            " 5   Transmission             35952 non-null  object \n",
            " 6   Drivetrain               35952 non-null  object \n",
            " 7   Vehicle Class            35952 non-null  object \n",
            " 8   Fuel Type                35952 non-null  object \n",
            " 9   Fuel Barrels/Year        35952 non-null  float64\n",
            " 10  City MPG                 35952 non-null  int64  \n",
            " 11  Highway MPG              35952 non-null  int64  \n",
            " 12  Combined MPG             35952 non-null  int64  \n",
            " 13  CO2 Emission Grams/Mile  35952 non-null  float64\n",
            " 14  Fuel Cost/Year           35952 non-null  int64  \n",
            "dtypes: float64(4), int64(5), object(6)\n",
            "memory usage: 4.1+ MB\n"
          ]
        }
      ]
    },
    {
      "cell_type": "code",
      "source": [
        "#Add a column that states if a car's transmission is automatic or manual:\n",
        "cars[\"Auto\"] = cars[\"Transmission\"].str.contains(\"Automatic\") # boolean\n",
        "cars.loc[cars[\"Auto\"],:] # filtered df, 23408 rows, 16 columns"
      ],
      "metadata": {
        "colab": {
          "base_uri": "https://localhost:8080/",
          "height": 615
        },
        "id": "4IZDTXSPCywX",
        "outputId": "aa0f6ecb-96f9-48af-eb85-6b24dd622fa6"
      },
      "execution_count": 16,
      "outputs": [
        {
          "output_type": "execute_result",
          "data": {
            "text/plain": [
              "                        Make                Model  Year  Engine Displacement  \\\n",
              "0                 AM General    DJ Po Vehicle 2WD  1984                  2.5   \n",
              "1                 AM General     FJ8c Post Office  1984                  4.2   \n",
              "2                 AM General  Post Office DJ5 2WD  1985                  2.5   \n",
              "3                 AM General  Post Office DJ8 2WD  1985                  4.2   \n",
              "4           ASC Incorporated                  GNX  1987                  3.8   \n",
              "...                      ...                  ...   ...                  ...   \n",
              "35920  Wallace Environmental            Wetl 850I  1992                  5.0   \n",
              "35940                  smart   fortwo convertible  2008                  1.0   \n",
              "35941                  smart   fortwo convertible  2009                  1.0   \n",
              "35942                  smart         fortwo coupe  2008                  1.0   \n",
              "35943                  smart         fortwo coupe  2009                  1.0   \n",
              "\n",
              "       Cylinders     Transmission        Drivetrain  \\\n",
              "0            4.0  Automatic 3-spd     2-Wheel Drive   \n",
              "1            6.0  Automatic 3-spd     2-Wheel Drive   \n",
              "2            4.0  Automatic 3-spd  Rear-Wheel Drive   \n",
              "3            6.0  Automatic 3-spd  Rear-Wheel Drive   \n",
              "4            6.0  Automatic 4-spd  Rear-Wheel Drive   \n",
              "...          ...              ...               ...   \n",
              "35920       12.0  Automatic 4-spd  Rear-Wheel Drive   \n",
              "35940        3.0   Automatic (S5)  Rear-Wheel Drive   \n",
              "35941        3.0  Automatic (AM5)  Rear-Wheel Drive   \n",
              "35942        3.0   Automatic (S5)  Rear-Wheel Drive   \n",
              "35943        3.0  Automatic (AM5)  Rear-Wheel Drive   \n",
              "\n",
              "                     Vehicle Class Fuel Type  Fuel Barrels/Year  City MPG  \\\n",
              "0      Special Purpose Vehicle 2WD   Regular          19.388824        18   \n",
              "1      Special Purpose Vehicle 2WD   Regular          25.354615        13   \n",
              "2      Special Purpose Vehicle 2WD   Regular          20.600625        16   \n",
              "3      Special Purpose Vehicle 2WD   Regular          25.354615        13   \n",
              "4                     Midsize Cars   Premium          20.600625        14   \n",
              "...                            ...       ...                ...       ...   \n",
              "35920              Subcompact Cars   Premium          25.354615        11   \n",
              "35940                  Two Seaters   Premium           9.155833        33   \n",
              "35941                  Two Seaters   Premium           9.155833        33   \n",
              "35942                  Two Seaters   Premium           9.155833        33   \n",
              "35943                  Two Seaters   Premium           9.155833        33   \n",
              "\n",
              "       Highway MPG  Combined MPG  CO2 Emission Grams/Mile  Fuel Cost/Year  \\\n",
              "0               17            17               522.764706            1950   \n",
              "1               13            13               683.615385            2550   \n",
              "2               17            16               555.437500            2100   \n",
              "3               13            13               683.615385            2550   \n",
              "4               21            16               555.437500            2550   \n",
              "...            ...           ...                      ...             ...   \n",
              "35920           17            13               683.615385            3100   \n",
              "35940           41            36               246.861111            1100   \n",
              "35941           41            36               246.861111            1100   \n",
              "35942           41            36               246.861111            1100   \n",
              "35943           41            36               246.861111            1100   \n",
              "\n",
              "       Auto  \n",
              "0      True  \n",
              "1      True  \n",
              "2      True  \n",
              "3      True  \n",
              "4      True  \n",
              "...     ...  \n",
              "35920  True  \n",
              "35940  True  \n",
              "35941  True  \n",
              "35942  True  \n",
              "35943  True  \n",
              "\n",
              "[23408 rows x 16 columns]"
            ],
            "text/html": [
              "\n",
              "  <div id=\"df-4df3fa40-222c-4788-8fb3-9a1de5d76e0b\" class=\"colab-df-container\">\n",
              "    <div>\n",
              "<style scoped>\n",
              "    .dataframe tbody tr th:only-of-type {\n",
              "        vertical-align: middle;\n",
              "    }\n",
              "\n",
              "    .dataframe tbody tr th {\n",
              "        vertical-align: top;\n",
              "    }\n",
              "\n",
              "    .dataframe thead th {\n",
              "        text-align: right;\n",
              "    }\n",
              "</style>\n",
              "<table border=\"1\" class=\"dataframe\">\n",
              "  <thead>\n",
              "    <tr style=\"text-align: right;\">\n",
              "      <th></th>\n",
              "      <th>Make</th>\n",
              "      <th>Model</th>\n",
              "      <th>Year</th>\n",
              "      <th>Engine Displacement</th>\n",
              "      <th>Cylinders</th>\n",
              "      <th>Transmission</th>\n",
              "      <th>Drivetrain</th>\n",
              "      <th>Vehicle Class</th>\n",
              "      <th>Fuel Type</th>\n",
              "      <th>Fuel Barrels/Year</th>\n",
              "      <th>City MPG</th>\n",
              "      <th>Highway MPG</th>\n",
              "      <th>Combined MPG</th>\n",
              "      <th>CO2 Emission Grams/Mile</th>\n",
              "      <th>Fuel Cost/Year</th>\n",
              "      <th>Auto</th>\n",
              "    </tr>\n",
              "  </thead>\n",
              "  <tbody>\n",
              "    <tr>\n",
              "      <th>0</th>\n",
              "      <td>AM General</td>\n",
              "      <td>DJ Po Vehicle 2WD</td>\n",
              "      <td>1984</td>\n",
              "      <td>2.5</td>\n",
              "      <td>4.0</td>\n",
              "      <td>Automatic 3-spd</td>\n",
              "      <td>2-Wheel Drive</td>\n",
              "      <td>Special Purpose Vehicle 2WD</td>\n",
              "      <td>Regular</td>\n",
              "      <td>19.388824</td>\n",
              "      <td>18</td>\n",
              "      <td>17</td>\n",
              "      <td>17</td>\n",
              "      <td>522.764706</td>\n",
              "      <td>1950</td>\n",
              "      <td>True</td>\n",
              "    </tr>\n",
              "    <tr>\n",
              "      <th>1</th>\n",
              "      <td>AM General</td>\n",
              "      <td>FJ8c Post Office</td>\n",
              "      <td>1984</td>\n",
              "      <td>4.2</td>\n",
              "      <td>6.0</td>\n",
              "      <td>Automatic 3-spd</td>\n",
              "      <td>2-Wheel Drive</td>\n",
              "      <td>Special Purpose Vehicle 2WD</td>\n",
              "      <td>Regular</td>\n",
              "      <td>25.354615</td>\n",
              "      <td>13</td>\n",
              "      <td>13</td>\n",
              "      <td>13</td>\n",
              "      <td>683.615385</td>\n",
              "      <td>2550</td>\n",
              "      <td>True</td>\n",
              "    </tr>\n",
              "    <tr>\n",
              "      <th>2</th>\n",
              "      <td>AM General</td>\n",
              "      <td>Post Office DJ5 2WD</td>\n",
              "      <td>1985</td>\n",
              "      <td>2.5</td>\n",
              "      <td>4.0</td>\n",
              "      <td>Automatic 3-spd</td>\n",
              "      <td>Rear-Wheel Drive</td>\n",
              "      <td>Special Purpose Vehicle 2WD</td>\n",
              "      <td>Regular</td>\n",
              "      <td>20.600625</td>\n",
              "      <td>16</td>\n",
              "      <td>17</td>\n",
              "      <td>16</td>\n",
              "      <td>555.437500</td>\n",
              "      <td>2100</td>\n",
              "      <td>True</td>\n",
              "    </tr>\n",
              "    <tr>\n",
              "      <th>3</th>\n",
              "      <td>AM General</td>\n",
              "      <td>Post Office DJ8 2WD</td>\n",
              "      <td>1985</td>\n",
              "      <td>4.2</td>\n",
              "      <td>6.0</td>\n",
              "      <td>Automatic 3-spd</td>\n",
              "      <td>Rear-Wheel Drive</td>\n",
              "      <td>Special Purpose Vehicle 2WD</td>\n",
              "      <td>Regular</td>\n",
              "      <td>25.354615</td>\n",
              "      <td>13</td>\n",
              "      <td>13</td>\n",
              "      <td>13</td>\n",
              "      <td>683.615385</td>\n",
              "      <td>2550</td>\n",
              "      <td>True</td>\n",
              "    </tr>\n",
              "    <tr>\n",
              "      <th>4</th>\n",
              "      <td>ASC Incorporated</td>\n",
              "      <td>GNX</td>\n",
              "      <td>1987</td>\n",
              "      <td>3.8</td>\n",
              "      <td>6.0</td>\n",
              "      <td>Automatic 4-spd</td>\n",
              "      <td>Rear-Wheel Drive</td>\n",
              "      <td>Midsize Cars</td>\n",
              "      <td>Premium</td>\n",
              "      <td>20.600625</td>\n",
              "      <td>14</td>\n",
              "      <td>21</td>\n",
              "      <td>16</td>\n",
              "      <td>555.437500</td>\n",
              "      <td>2550</td>\n",
              "      <td>True</td>\n",
              "    </tr>\n",
              "    <tr>\n",
              "      <th>...</th>\n",
              "      <td>...</td>\n",
              "      <td>...</td>\n",
              "      <td>...</td>\n",
              "      <td>...</td>\n",
              "      <td>...</td>\n",
              "      <td>...</td>\n",
              "      <td>...</td>\n",
              "      <td>...</td>\n",
              "      <td>...</td>\n",
              "      <td>...</td>\n",
              "      <td>...</td>\n",
              "      <td>...</td>\n",
              "      <td>...</td>\n",
              "      <td>...</td>\n",
              "      <td>...</td>\n",
              "      <td>...</td>\n",
              "    </tr>\n",
              "    <tr>\n",
              "      <th>35920</th>\n",
              "      <td>Wallace Environmental</td>\n",
              "      <td>Wetl 850I</td>\n",
              "      <td>1992</td>\n",
              "      <td>5.0</td>\n",
              "      <td>12.0</td>\n",
              "      <td>Automatic 4-spd</td>\n",
              "      <td>Rear-Wheel Drive</td>\n",
              "      <td>Subcompact Cars</td>\n",
              "      <td>Premium</td>\n",
              "      <td>25.354615</td>\n",
              "      <td>11</td>\n",
              "      <td>17</td>\n",
              "      <td>13</td>\n",
              "      <td>683.615385</td>\n",
              "      <td>3100</td>\n",
              "      <td>True</td>\n",
              "    </tr>\n",
              "    <tr>\n",
              "      <th>35940</th>\n",
              "      <td>smart</td>\n",
              "      <td>fortwo convertible</td>\n",
              "      <td>2008</td>\n",
              "      <td>1.0</td>\n",
              "      <td>3.0</td>\n",
              "      <td>Automatic (S5)</td>\n",
              "      <td>Rear-Wheel Drive</td>\n",
              "      <td>Two Seaters</td>\n",
              "      <td>Premium</td>\n",
              "      <td>9.155833</td>\n",
              "      <td>33</td>\n",
              "      <td>41</td>\n",
              "      <td>36</td>\n",
              "      <td>246.861111</td>\n",
              "      <td>1100</td>\n",
              "      <td>True</td>\n",
              "    </tr>\n",
              "    <tr>\n",
              "      <th>35941</th>\n",
              "      <td>smart</td>\n",
              "      <td>fortwo convertible</td>\n",
              "      <td>2009</td>\n",
              "      <td>1.0</td>\n",
              "      <td>3.0</td>\n",
              "      <td>Automatic (AM5)</td>\n",
              "      <td>Rear-Wheel Drive</td>\n",
              "      <td>Two Seaters</td>\n",
              "      <td>Premium</td>\n",
              "      <td>9.155833</td>\n",
              "      <td>33</td>\n",
              "      <td>41</td>\n",
              "      <td>36</td>\n",
              "      <td>246.861111</td>\n",
              "      <td>1100</td>\n",
              "      <td>True</td>\n",
              "    </tr>\n",
              "    <tr>\n",
              "      <th>35942</th>\n",
              "      <td>smart</td>\n",
              "      <td>fortwo coupe</td>\n",
              "      <td>2008</td>\n",
              "      <td>1.0</td>\n",
              "      <td>3.0</td>\n",
              "      <td>Automatic (S5)</td>\n",
              "      <td>Rear-Wheel Drive</td>\n",
              "      <td>Two Seaters</td>\n",
              "      <td>Premium</td>\n",
              "      <td>9.155833</td>\n",
              "      <td>33</td>\n",
              "      <td>41</td>\n",
              "      <td>36</td>\n",
              "      <td>246.861111</td>\n",
              "      <td>1100</td>\n",
              "      <td>True</td>\n",
              "    </tr>\n",
              "    <tr>\n",
              "      <th>35943</th>\n",
              "      <td>smart</td>\n",
              "      <td>fortwo coupe</td>\n",
              "      <td>2009</td>\n",
              "      <td>1.0</td>\n",
              "      <td>3.0</td>\n",
              "      <td>Automatic (AM5)</td>\n",
              "      <td>Rear-Wheel Drive</td>\n",
              "      <td>Two Seaters</td>\n",
              "      <td>Premium</td>\n",
              "      <td>9.155833</td>\n",
              "      <td>33</td>\n",
              "      <td>41</td>\n",
              "      <td>36</td>\n",
              "      <td>246.861111</td>\n",
              "      <td>1100</td>\n",
              "      <td>True</td>\n",
              "    </tr>\n",
              "  </tbody>\n",
              "</table>\n",
              "<p>23408 rows × 16 columns</p>\n",
              "</div>\n",
              "    <div class=\"colab-df-buttons\">\n",
              "\n",
              "  <div class=\"colab-df-container\">\n",
              "    <button class=\"colab-df-convert\" onclick=\"convertToInteractive('df-4df3fa40-222c-4788-8fb3-9a1de5d76e0b')\"\n",
              "            title=\"Convert this dataframe to an interactive table.\"\n",
              "            style=\"display:none;\">\n",
              "\n",
              "  <svg xmlns=\"http://www.w3.org/2000/svg\" height=\"24px\" viewBox=\"0 -960 960 960\">\n",
              "    <path d=\"M120-120v-720h720v720H120Zm60-500h600v-160H180v160Zm220 220h160v-160H400v160Zm0 220h160v-160H400v160ZM180-400h160v-160H180v160Zm440 0h160v-160H620v160ZM180-180h160v-160H180v160Zm440 0h160v-160H620v160Z\"/>\n",
              "  </svg>\n",
              "    </button>\n",
              "\n",
              "  <style>\n",
              "    .colab-df-container {\n",
              "      display:flex;\n",
              "      gap: 12px;\n",
              "    }\n",
              "\n",
              "    .colab-df-convert {\n",
              "      background-color: #E8F0FE;\n",
              "      border: none;\n",
              "      border-radius: 50%;\n",
              "      cursor: pointer;\n",
              "      display: none;\n",
              "      fill: #1967D2;\n",
              "      height: 32px;\n",
              "      padding: 0 0 0 0;\n",
              "      width: 32px;\n",
              "    }\n",
              "\n",
              "    .colab-df-convert:hover {\n",
              "      background-color: #E2EBFA;\n",
              "      box-shadow: 0px 1px 2px rgba(60, 64, 67, 0.3), 0px 1px 3px 1px rgba(60, 64, 67, 0.15);\n",
              "      fill: #174EA6;\n",
              "    }\n",
              "\n",
              "    .colab-df-buttons div {\n",
              "      margin-bottom: 4px;\n",
              "    }\n",
              "\n",
              "    [theme=dark] .colab-df-convert {\n",
              "      background-color: #3B4455;\n",
              "      fill: #D2E3FC;\n",
              "    }\n",
              "\n",
              "    [theme=dark] .colab-df-convert:hover {\n",
              "      background-color: #434B5C;\n",
              "      box-shadow: 0px 1px 3px 1px rgba(0, 0, 0, 0.15);\n",
              "      filter: drop-shadow(0px 1px 2px rgba(0, 0, 0, 0.3));\n",
              "      fill: #FFFFFF;\n",
              "    }\n",
              "  </style>\n",
              "\n",
              "    <script>\n",
              "      const buttonEl =\n",
              "        document.querySelector('#df-4df3fa40-222c-4788-8fb3-9a1de5d76e0b button.colab-df-convert');\n",
              "      buttonEl.style.display =\n",
              "        google.colab.kernel.accessAllowed ? 'block' : 'none';\n",
              "\n",
              "      async function convertToInteractive(key) {\n",
              "        const element = document.querySelector('#df-4df3fa40-222c-4788-8fb3-9a1de5d76e0b');\n",
              "        const dataTable =\n",
              "          await google.colab.kernel.invokeFunction('convertToInteractive',\n",
              "                                                    [key], {});\n",
              "        if (!dataTable) return;\n",
              "\n",
              "        const docLinkHtml = 'Like what you see? Visit the ' +\n",
              "          '<a target=\"_blank\" href=https://colab.research.google.com/notebooks/data_table.ipynb>data table notebook</a>'\n",
              "          + ' to learn more about interactive tables.';\n",
              "        element.innerHTML = '';\n",
              "        dataTable['output_type'] = 'display_data';\n",
              "        await google.colab.output.renderOutput(dataTable, element);\n",
              "        const docLink = document.createElement('div');\n",
              "        docLink.innerHTML = docLinkHtml;\n",
              "        element.appendChild(docLink);\n",
              "      }\n",
              "    </script>\n",
              "  </div>\n",
              "\n",
              "\n",
              "<div id=\"df-1024fb52-5964-40f2-8724-ba1b86fe7b24\">\n",
              "  <button class=\"colab-df-quickchart\" onclick=\"quickchart('df-1024fb52-5964-40f2-8724-ba1b86fe7b24')\"\n",
              "            title=\"Suggest charts\"\n",
              "            style=\"display:none;\">\n",
              "\n",
              "<svg xmlns=\"http://www.w3.org/2000/svg\" height=\"24px\"viewBox=\"0 0 24 24\"\n",
              "     width=\"24px\">\n",
              "    <g>\n",
              "        <path d=\"M19 3H5c-1.1 0-2 .9-2 2v14c0 1.1.9 2 2 2h14c1.1 0 2-.9 2-2V5c0-1.1-.9-2-2-2zM9 17H7v-7h2v7zm4 0h-2V7h2v10zm4 0h-2v-4h2v4z\"/>\n",
              "    </g>\n",
              "</svg>\n",
              "  </button>\n",
              "\n",
              "<style>\n",
              "  .colab-df-quickchart {\n",
              "      --bg-color: #E8F0FE;\n",
              "      --fill-color: #1967D2;\n",
              "      --hover-bg-color: #E2EBFA;\n",
              "      --hover-fill-color: #174EA6;\n",
              "      --disabled-fill-color: #AAA;\n",
              "      --disabled-bg-color: #DDD;\n",
              "  }\n",
              "\n",
              "  [theme=dark] .colab-df-quickchart {\n",
              "      --bg-color: #3B4455;\n",
              "      --fill-color: #D2E3FC;\n",
              "      --hover-bg-color: #434B5C;\n",
              "      --hover-fill-color: #FFFFFF;\n",
              "      --disabled-bg-color: #3B4455;\n",
              "      --disabled-fill-color: #666;\n",
              "  }\n",
              "\n",
              "  .colab-df-quickchart {\n",
              "    background-color: var(--bg-color);\n",
              "    border: none;\n",
              "    border-radius: 50%;\n",
              "    cursor: pointer;\n",
              "    display: none;\n",
              "    fill: var(--fill-color);\n",
              "    height: 32px;\n",
              "    padding: 0;\n",
              "    width: 32px;\n",
              "  }\n",
              "\n",
              "  .colab-df-quickchart:hover {\n",
              "    background-color: var(--hover-bg-color);\n",
              "    box-shadow: 0 1px 2px rgba(60, 64, 67, 0.3), 0 1px 3px 1px rgba(60, 64, 67, 0.15);\n",
              "    fill: var(--button-hover-fill-color);\n",
              "  }\n",
              "\n",
              "  .colab-df-quickchart-complete:disabled,\n",
              "  .colab-df-quickchart-complete:disabled:hover {\n",
              "    background-color: var(--disabled-bg-color);\n",
              "    fill: var(--disabled-fill-color);\n",
              "    box-shadow: none;\n",
              "  }\n",
              "\n",
              "  .colab-df-spinner {\n",
              "    border: 2px solid var(--fill-color);\n",
              "    border-color: transparent;\n",
              "    border-bottom-color: var(--fill-color);\n",
              "    animation:\n",
              "      spin 1s steps(1) infinite;\n",
              "  }\n",
              "\n",
              "  @keyframes spin {\n",
              "    0% {\n",
              "      border-color: transparent;\n",
              "      border-bottom-color: var(--fill-color);\n",
              "      border-left-color: var(--fill-color);\n",
              "    }\n",
              "    20% {\n",
              "      border-color: transparent;\n",
              "      border-left-color: var(--fill-color);\n",
              "      border-top-color: var(--fill-color);\n",
              "    }\n",
              "    30% {\n",
              "      border-color: transparent;\n",
              "      border-left-color: var(--fill-color);\n",
              "      border-top-color: var(--fill-color);\n",
              "      border-right-color: var(--fill-color);\n",
              "    }\n",
              "    40% {\n",
              "      border-color: transparent;\n",
              "      border-right-color: var(--fill-color);\n",
              "      border-top-color: var(--fill-color);\n",
              "    }\n",
              "    60% {\n",
              "      border-color: transparent;\n",
              "      border-right-color: var(--fill-color);\n",
              "    }\n",
              "    80% {\n",
              "      border-color: transparent;\n",
              "      border-right-color: var(--fill-color);\n",
              "      border-bottom-color: var(--fill-color);\n",
              "    }\n",
              "    90% {\n",
              "      border-color: transparent;\n",
              "      border-bottom-color: var(--fill-color);\n",
              "    }\n",
              "  }\n",
              "</style>\n",
              "\n",
              "  <script>\n",
              "    async function quickchart(key) {\n",
              "      const quickchartButtonEl =\n",
              "        document.querySelector('#' + key + ' button');\n",
              "      quickchartButtonEl.disabled = true;  // To prevent multiple clicks.\n",
              "      quickchartButtonEl.classList.add('colab-df-spinner');\n",
              "      try {\n",
              "        const charts = await google.colab.kernel.invokeFunction(\n",
              "            'suggestCharts', [key], {});\n",
              "      } catch (error) {\n",
              "        console.error('Error during call to suggestCharts:', error);\n",
              "      }\n",
              "      quickchartButtonEl.classList.remove('colab-df-spinner');\n",
              "      quickchartButtonEl.classList.add('colab-df-quickchart-complete');\n",
              "    }\n",
              "    (() => {\n",
              "      let quickchartButtonEl =\n",
              "        document.querySelector('#df-1024fb52-5964-40f2-8724-ba1b86fe7b24 button');\n",
              "      quickchartButtonEl.style.display =\n",
              "        google.colab.kernel.accessAllowed ? 'block' : 'none';\n",
              "    })();\n",
              "  </script>\n",
              "</div>\n",
              "    </div>\n",
              "  </div>\n"
            ],
            "application/vnd.google.colaboratory.intrinsic+json": {
              "type": "dataframe",
              "summary": "{\n  \"name\": \"cars\",\n  \"rows\": 23408,\n  \"fields\": [\n    {\n      \"column\": \"Make\",\n      \"properties\": {\n        \"dtype\": \"category\",\n        \"num_unique_values\": 105,\n        \"samples\": [\n          \"Fisker\",\n          \"Mercedes-Benz\",\n          \"Mcevoy Motors\"\n        ],\n        \"semantic_type\": \"\",\n        \"description\": \"\"\n      }\n    },\n    {\n      \"column\": \"Model\",\n      \"properties\": {\n        \"dtype\": \"category\",\n        \"num_unique_values\": 3250,\n        \"samples\": [\n          \"Mariner FWD FFV\",\n          \"Optima Hybrid\",\n          \"B2000/B2200 Pickup 2WD\"\n        ],\n        \"semantic_type\": \"\",\n        \"description\": \"\"\n      }\n    },\n    {\n      \"column\": \"Year\",\n      \"properties\": {\n        \"dtype\": \"number\",\n        \"std\": 9,\n        \"min\": 1984,\n        \"max\": 2017,\n        \"num_unique_values\": 34,\n        \"samples\": [\n          2015,\n          1990,\n          2007\n        ],\n        \"semantic_type\": \"\",\n        \"description\": \"\"\n      }\n    },\n    {\n      \"column\": \"Engine Displacement\",\n      \"properties\": {\n        \"dtype\": \"number\",\n        \"std\": 1.3486764276298233,\n        \"min\": 0.6,\n        \"max\": 8.3,\n        \"num_unique_values\": 62,\n        \"samples\": [\n          1.2,\n          5.5,\n          2.5\n        ],\n        \"semantic_type\": \"\",\n        \"description\": \"\"\n      }\n    },\n    {\n      \"column\": \"Cylinders\",\n      \"properties\": {\n        \"dtype\": \"number\",\n        \"std\": 1.7285176423655846,\n        \"min\": 2.0,\n        \"max\": 16.0,\n        \"num_unique_values\": 9,\n        \"samples\": [\n          3.0,\n          6.0,\n          10.0\n        ],\n        \"semantic_type\": \"\",\n        \"description\": \"\"\n      }\n    },\n    {\n      \"column\": \"Transmission\",\n      \"properties\": {\n        \"dtype\": \"category\",\n        \"num_unique_values\": 21,\n        \"samples\": [\n          \"Automatic 3-spd\",\n          \"Automatic 6spd\",\n          \"Automatic (A6)\"\n        ],\n        \"semantic_type\": \"\",\n        \"description\": \"\"\n      }\n    },\n    {\n      \"column\": \"Drivetrain\",\n      \"properties\": {\n        \"dtype\": \"category\",\n        \"num_unique_values\": 8,\n        \"samples\": [\n          \"Rear-Wheel Drive\",\n          \"4-Wheel Drive\",\n          \"2-Wheel Drive\"\n        ],\n        \"semantic_type\": \"\",\n        \"description\": \"\"\n      }\n    },\n    {\n      \"column\": \"Vehicle Class\",\n      \"properties\": {\n        \"dtype\": \"category\",\n        \"num_unique_values\": 34,\n        \"samples\": [\n          \"Large Cars\",\n          \"Minivan - 2WD\",\n          \"Standard Pickup Trucks 4WD\"\n        ],\n        \"semantic_type\": \"\",\n        \"description\": \"\"\n      }\n    },\n    {\n      \"column\": \"Fuel Type\",\n      \"properties\": {\n        \"dtype\": \"category\",\n        \"num_unique_values\": 13,\n        \"samples\": [\n          \"Regular Gas and Electricity\",\n          \"Regular Gas or Electricity\",\n          \"Regular\"\n        ],\n        \"semantic_type\": \"\",\n        \"description\": \"\"\n      }\n    },\n    {\n      \"column\": \"Fuel Barrels/Year\",\n      \"properties\": {\n        \"dtype\": \"number\",\n        \"std\": 4.385497415877982,\n        \"min\": 0.06,\n        \"max\": 41.20125,\n        \"num_unique_values\": 106,\n        \"samples\": [\n          5.885892857142856,\n          14.330869565217393,\n          16.4805\n        ],\n        \"semantic_type\": \"\",\n        \"description\": \"\"\n      }\n    },\n    {\n      \"column\": \"City MPG\",\n      \"properties\": {\n        \"dtype\": \"number\",\n        \"std\": 4,\n        \"min\": 7,\n        \"max\": 58,\n        \"num_unique_values\": 47,\n        \"samples\": [\n          47,\n          38,\n          29\n        ],\n        \"semantic_type\": \"\",\n        \"description\": \"\"\n      }\n    },\n    {\n      \"column\": \"Highway MPG\",\n      \"properties\": {\n        \"dtype\": \"number\",\n        \"std\": 5,\n        \"min\": 9,\n        \"max\": 53,\n        \"num_unique_values\": 43,\n        \"samples\": [\n          47,\n          33,\n          38\n        ],\n        \"semantic_type\": \"\",\n        \"description\": \"\"\n      }\n    },\n    {\n      \"column\": \"Combined MPG\",\n      \"properties\": {\n        \"dtype\": \"number\",\n        \"std\": 4,\n        \"min\": 8,\n        \"max\": 56,\n        \"num_unique_values\": 43,\n        \"samples\": [\n          41,\n          35,\n          31\n        ],\n        \"semantic_type\": \"\",\n        \"description\": \"\"\n      }\n    },\n    {\n      \"column\": \"CO2 Emission Grams/Mile\",\n      \"properties\": {\n        \"dtype\": \"number\",\n        \"std\": 115.93571274726611,\n        \"min\": 37.0,\n        \"max\": 1110.875,\n        \"num_unique_values\": 526,\n        \"samples\": [\n          491.0,\n          567.0,\n          423.19047619047615\n        ],\n        \"semantic_type\": \"\",\n        \"description\": \"\"\n      }\n    },\n    {\n      \"column\": \"Fuel Cost/Year\",\n      \"properties\": {\n        \"dtype\": \"number\",\n        \"std\": 491,\n        \"min\": 600,\n        \"max\": 5050,\n        \"num_unique_values\": 54,\n        \"samples\": [\n          3400,\n          850,\n          5050\n        ],\n        \"semantic_type\": \"\",\n        \"description\": \"\"\n      }\n    },\n    {\n      \"column\": \"Auto\",\n      \"properties\": {\n        \"dtype\": \"boolean\",\n        \"num_unique_values\": 1,\n        \"samples\": [\n          true\n        ],\n        \"semantic_type\": \"\",\n        \"description\": \"\"\n      }\n    }\n  ]\n}"
            }
          },
          "metadata": {},
          "execution_count": 16
        }
      ]
    },
    {
      "cell_type": "markdown",
      "metadata": {
        "id": "-ivgaVA687er"
      },
      "source": [
        "###### **Exercise 2:**\n",
        "how many cars have Automatic or Manual transmission?\n",
        "\n",
        "As we are only plotting 1 variable, please feel free to check out the section above `Plotting 1 variable`\n",
        "\n"
      ]
    },
    {
      "cell_type": "code",
      "execution_count": 19,
      "metadata": {
        "id": "apRAEKi487er",
        "colab": {
          "base_uri": "https://localhost:8080/"
        },
        "outputId": "ebbe7415-1f05-403e-93c0-c6d43f0f2d9a"
      },
      "outputs": [
        {
          "output_type": "execute_result",
          "data": {
            "text/plain": [
              "Automatic 4-spd                     10585\n",
              "Manual 5-spd                         7787\n",
              "Automatic (S6)                       2631\n",
              "Automatic 3-spd                      2597\n",
              "Manual 6-spd                         2423\n",
              "Automatic 5-spd                      2171\n",
              "Automatic 6-spd                      1432\n",
              "Manual 4-spd                         1306\n",
              "Automatic (S8)                        960\n",
              "Automatic (S5)                        822\n",
              "Automatic (variable gear ratios)      675\n",
              "Automatic 7-spd                       662\n",
              "Automatic (S7)                        261\n",
              "Auto(AM-S7)                           256\n",
              "Automatic 8-spd                       243\n",
              "Automatic (S4)                        229\n",
              "Auto(AM7)                             157\n",
              "Auto(AV-S6)                           145\n",
              "Auto(AM6)                             110\n",
              "Auto(AM-S6)                            92\n",
              "Automatic 9-spd                        90\n",
              "Manual 3-spd                           74\n",
              "Manual 7-spd                           68\n",
              "Auto(AV-S7)                            63\n",
              "Auto(AV-S8)                            26\n",
              "Automatic (S9)                         26\n",
              "Auto(AM5)                              12\n",
              "Automatic (AV-S6)                       9\n",
              "Auto(AM-S8)                             6\n",
              "Auto(AM8)                               5\n",
              "Automatic (AV)                          4\n",
              "Automatic (A6)                          4\n",
              "Automatic (A1)                          3\n",
              "Manual(M7)                              3\n",
              "Auto (AV)                               2\n",
              "Auto(L4)                                2\n",
              "Auto(L3)                                2\n",
              "Automatic (AM5)                         2\n",
              "Auto(AM-S9)                             1\n",
              "Automatic 6spd                          1\n",
              "Auto (AV-S6)                            1\n",
              "Auto (AV-S8)                            1\n",
              "Auto(A1)                                1\n",
              "Automatic (AM6)                         1\n",
              "Manual 5 spd                            1\n",
              "Name: Transmission, dtype: int64"
            ]
          },
          "metadata": {},
          "execution_count": 19
        }
      ],
      "source": [
        "# 1. group the categories and generate the frequencies with value_counts()\n",
        "Auto_freq = cars.Transmission.value_counts()\n",
        "Auto_freq"
      ]
    },
    {
      "cell_type": "code",
      "source": [
        "# find the frequency of the new column 'Auto', it's boolean\n",
        "Auto_freq = cars.Auto.value_counts()\n",
        "Auto_freq\n",
        "Auto_freq.plot.bar();"
      ],
      "metadata": {
        "id": "3CKr64c4FZCj",
        "outputId": "e2d8feb9-fac3-4026-bb36-ea6eb4b45773",
        "colab": {
          "base_uri": "https://localhost:8080/",
          "height": 451
        }
      },
      "execution_count": 24,
      "outputs": [
        {
          "output_type": "display_data",
          "data": {
            "text/plain": [
              "<Figure size 640x480 with 1 Axes>"
            ],
            "image/png": "[encoded data removed]"
          },
          "metadata": {}
        }
      ]
    },
    {
      "cell_type": "markdown",
      "metadata": {
        "id": "v1ahmJTK87er"
      },
      "source": [
        "###### **Exercise 3:**\n",
        "how many cars have each type of Drivetrain? Highlight \"All-Wheel Drive\" in a different color to everything else"
      ]
    },
    {
      "cell_type": "code",
      "execution_count": null,
      "metadata": {
        "id": "MYB8s1cZ87er"
      },
      "outputs": [],
      "source": [
        "# your code here"
      ]
    },
    {
      "cell_type": "markdown",
      "metadata": {
        "id": "G7EtPuhG87es"
      },
      "source": [
        "###### **Exercise 4:**\n",
        "represent the relationship between fuel consumption (`Combined MPG`) and the number of `Cylinders` a car has, using a scatterplot:\n",
        "\n",
        "  > **Tip**: we went through scatter plots in the section above `Plotting 2 or more variables`\n"
      ]
    },
    {
      "cell_type": "code",
      "execution_count": null,
      "metadata": {
        "id": "pwtEC-E887es"
      },
      "outputs": [],
      "source": [
        "# your code here"
      ]
    },
    {
      "cell_type": "markdown",
      "metadata": {
        "id": "LYyDPqIV87es"
      },
      "source": [
        "###### **Exercise 5:**\n",
        "explore the same relationship as in exercise 4, but this time use a [boxplot](https://pandas.pydata.org/docs/reference/api/pandas.DataFrame.boxplot.html):"
      ]
    },
    {
      "cell_type": "code",
      "execution_count": null,
      "metadata": {
        "id": "OUvE2XFb87es"
      },
      "outputs": [],
      "source": [
        "# your code here"
      ]
    },
    {
      "cell_type": "markdown",
      "metadata": {
        "id": "ApRTBIMo87es"
      },
      "source": [
        "###### **Exercise 6:**\n",
        "create a plot that displays the evolution of the average CO2 emissions by cars over the years.\n",
        "  > **Tip**: first you'll need to find the average CO2 per year, and then plot this\n",
        "\n"
      ]
    },
    {
      "cell_type": "code",
      "execution_count": null,
      "metadata": {
        "id": "nBG2vdaK87et"
      },
      "outputs": [],
      "source": [
        "# your code here"
      ]
    }
  ],
  "metadata": {
    "kernelspec": {
      "display_name": "Python 3",
      "language": "python",
      "name": "python3"
    },
    "language_info": {
      "codemirror_mode": {
        "name": "ipython",
        "version": 3
      },
      "file_extension": ".py",
      "mimetype": "text/x-python",
      "name": "python",
      "nbconvert_exporter": "python",
      "pygments_lexer": "ipython3",
      "version": "3.8.5"
    },
    "colab": {
      "provenance": [],
      "include_colab_link": true
    }
  },
  "nbformat": 4,
  "nbformat_minor": 0
}