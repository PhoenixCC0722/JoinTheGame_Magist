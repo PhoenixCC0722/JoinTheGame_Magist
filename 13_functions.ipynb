{
  "cells": [
    {
      "cell_type": "markdown",
      "metadata": {
        "id": "view-in-github",
        "colab_type": "text"
      },
      "source": [
        "<a href=\"https://colab.research.google.com/github/PhoenixCC0722/Journey_to_become_DataScientist/blob/main/13_functions.ipynb\" target=\"_parent\"><img src=\"https://colab.research.google.com/assets/colab-badge.svg\" alt=\"Open In Colab\"/></a>"
      ]
    },
    {
      "cell_type": "markdown",
      "metadata": {
        "id": "m1F11KQNKhZk"
      },
      "source": [
        "# Functions"
      ]
    },
    {
      "cell_type": "markdown",
      "metadata": {
        "id": "9uPHy4qZKhZo"
      },
      "source": [
        "## 1.&nbsp; Defining a function:\n",
        "\n",
        "Creating a function is super easy. Just follow these steps:\n",
        "\n",
        "- Start with the `def` statment.\n",
        "- Give your function a name and open parentheses.\n",
        "- Optional: write the names of your function's arguments between the parentheses.\n",
        "- Write the code that performs whatever you want to do between parentheses.\n",
        "\n",
        "Below, we define a function to divide two numbers:"
      ]
    },
    {
      "cell_type": "code",
      "execution_count": null,
      "metadata": {
        "id": "wrZ5ejWoKhZo"
      },
      "outputs": [],
      "source": [
        "def division_func(numerator, denominator):\n",
        "    res = numerator / denominator\n",
        "    return res"
      ]
    },
    {
      "cell_type": "markdown",
      "metadata": {
        "id": "2Fcpl592KhZp"
      },
      "source": [
        "## 2.&nbsp; Calling the function\n",
        "\n",
        "Unless specified otherwise, arguments are passed in order"
      ]
    },
    {
      "cell_type": "code",
      "execution_count": null,
      "metadata": {
        "id": "qhAhmko3KhZq",
        "colab": {
          "base_uri": "https://localhost:8080/"
        },
        "outputId": "7cb15cf3-f3e2-48b7-94ef-3b9e44bb4776"
      },
      "outputs": [
        {
          "output_type": "execute_result",
          "data": {
            "text/plain": [
              "0.5"
            ]
          },
          "metadata": {},
          "execution_count": 2
        }
      ],
      "source": [
        "division_func(2, 4)"
      ]
    },
    {
      "cell_type": "markdown",
      "metadata": {
        "id": "iIpAkjWjKhZr"
      },
      "source": [
        "You can switch the order of the arguments by being explicit with them:"
      ]
    },
    {
      "cell_type": "code",
      "execution_count": null,
      "metadata": {
        "id": "5ad_YFZqKhZr",
        "colab": {
          "base_uri": "https://localhost:8080/"
        },
        "outputId": "a74df620-3101-4c58-ad2d-d44ff18f470d"
      },
      "outputs": [
        {
          "output_type": "execute_result",
          "data": {
            "text/plain": [
              "2.0"
            ]
          },
          "metadata": {},
          "execution_count": 3
        }
      ],
      "source": [
        "division_func(numerator=4,\n",
        "              denominator=2)"
      ]
    },
    {
      "cell_type": "code",
      "execution_count": null,
      "metadata": {
        "id": "u_PVtIyTKhZs",
        "colab": {
          "base_uri": "https://localhost:8080/"
        },
        "outputId": "22e4d0de-283e-4c20-ab07-68b2edb99b47"
      },
      "outputs": [
        {
          "output_type": "execute_result",
          "data": {
            "text/plain": [
              "0.5"
            ]
          },
          "metadata": {},
          "execution_count": 4
        }
      ],
      "source": [
        "division_func(denominator=4,\n",
        "              numerator=2)"
      ]
    },
    {
      "cell_type": "markdown",
      "metadata": {
        "id": "3OiLXfStKhZs"
      },
      "source": [
        "It might be ugly, but you can be explicit only with some of the arguments..."
      ]
    },
    {
      "cell_type": "code",
      "execution_count": null,
      "metadata": {
        "id": "3qa3Dw99KhZt",
        "colab": {
          "base_uri": "https://localhost:8080/"
        },
        "outputId": "0b457540-34ec-468c-9797-ba6d4ed8f231"
      },
      "outputs": [
        {
          "output_type": "execute_result",
          "data": {
            "text/plain": [
              "2.0"
            ]
          },
          "metadata": {},
          "execution_count": 5
        }
      ],
      "source": [
        "division_func(4, denominator=2)"
      ]
    },
    {
      "cell_type": "markdown",
      "metadata": {
        "id": "EXliPEymKhZt"
      },
      "source": [
        "Seting a default value for an argument is possible:"
      ]
    },
    {
      "cell_type": "code",
      "execution_count": null,
      "metadata": {
        "id": "L_X5QkjTKhZt"
      },
      "outputs": [],
      "source": [
        "def division_func(numerator=4, denominator=2):\n",
        "    res = numerator / denominator\n",
        "    return res"
      ]
    },
    {
      "cell_type": "markdown",
      "metadata": {
        "id": "RtQqAP44KhZt"
      },
      "source": [
        "Whenever **all** arguments of a function have default values, you can call it without specifying them:"
      ]
    },
    {
      "cell_type": "code",
      "execution_count": null,
      "metadata": {
        "id": "6rvCcv1KKhZt",
        "colab": {
          "base_uri": "https://localhost:8080/"
        },
        "outputId": "373794d8-666b-43ce-9a98-5d477746d67c"
      },
      "outputs": [
        {
          "output_type": "execute_result",
          "data": {
            "text/plain": [
              "2.0"
            ]
          },
          "metadata": {},
          "execution_count": 7
        }
      ],
      "source": [
        "division_func()"
      ]
    },
    {
      "cell_type": "markdown",
      "metadata": {
        "id": "EEXCDtiCKhZu"
      },
      "source": [
        "Arguments are not restricted to an object type (we never declare the types of variables, arguments or return values)"
      ]
    },
    {
      "cell_type": "code",
      "execution_count": null,
      "metadata": {
        "id": "6haAmr_QKhZu"
      },
      "outputs": [],
      "source": [
        "def addition_func(element1=4, element2=2):\n",
        "    res = element1 + element2\n",
        "    return res"
      ]
    },
    {
      "cell_type": "code",
      "execution_count": null,
      "metadata": {
        "id": "NXQ_-qkvKhZu",
        "colab": {
          "base_uri": "https://localhost:8080/"
        },
        "outputId": "cfefa059-38b8-4c84-f528-b0e693a974e7"
      },
      "outputs": [
        {
          "output_type": "execute_result",
          "data": {
            "text/plain": [
              "6"
            ]
          },
          "metadata": {},
          "execution_count": 9
        }
      ],
      "source": [
        "addition_func(2, 4)"
      ]
    },
    {
      "cell_type": "code",
      "execution_count": null,
      "metadata": {
        "id": "_p1kNUH8KhZu",
        "colab": {
          "base_uri": "https://localhost:8080/",
          "height": 35
        },
        "outputId": "d6727d7d-e41c-4354-be7a-da82ca9707b1"
      },
      "outputs": [
        {
          "output_type": "execute_result",
          "data": {
            "text/plain": [
              "'hellothere'"
            ],
            "application/vnd.google.colaboratory.intrinsic+json": {
              "type": "string"
            }
          },
          "metadata": {},
          "execution_count": 10
        }
      ],
      "source": [
        "addition_func(\"hello\", \"there\")"
      ]
    },
    {
      "cell_type": "markdown",
      "metadata": {
        "id": "7Xemr03MKhZu"
      },
      "source": [
        "What if we really want to constrain this `addition_func` to only admit integers?"
      ]
    },
    {
      "cell_type": "markdown",
      "metadata": {
        "id": "Gbc_le89KhZv"
      },
      "source": [
        "Option 1: try to coerce inputs to integers:"
      ]
    },
    {
      "cell_type": "code",
      "execution_count": null,
      "metadata": {
        "id": "nU0zcPrlKhZv"
      },
      "outputs": [],
      "source": [
        "def addition_func(element1=4, element2=2):\n",
        "    return int(element1)+int(element2)"
      ]
    },
    {
      "cell_type": "markdown",
      "metadata": {
        "id": "bPSv7X9VKhZv"
      },
      "source": [
        "Option 2: check for the `type` of the inputs:"
      ]
    },
    {
      "cell_type": "code",
      "execution_count": null,
      "metadata": {
        "id": "LSc8IBLrKhZv",
        "colab": {
          "base_uri": "https://localhost:8080/"
        },
        "outputId": "fe9759f8-a25e-464f-9954-60c43252d6e0"
      },
      "outputs": [
        {
          "output_type": "stream",
          "name": "stdout",
          "text": [
            "16\n",
            "Are you out of your mind? Only integers allowed!\n"
          ]
        }
      ],
      "source": [
        "def product_integers(x, y):\n",
        "    if type(x) == int and type(y) == int:\n",
        "        return(x*y)\n",
        "    else:\n",
        "        return \"Are you out of your mind? Only integers allowed!\"\n",
        "\n",
        "print(product_integers(8, 2))\n",
        "print(product_integers(4, \"a\"))"
      ]
    },
    {
      "cell_type": "markdown",
      "metadata": {
        "id": "JxC_91r8KhZv"
      },
      "source": [
        "Testing for types is not a common practice. Embrace python's flexibility!"
      ]
    },
    {
      "cell_type": "markdown",
      "metadata": {
        "id": "LhCesmQtKhZv"
      },
      "source": [
        "The `return` statement allows us to store the output of the function in a variable:"
      ]
    },
    {
      "cell_type": "code",
      "execution_count": null,
      "metadata": {
        "id": "YoMMy1k-KhZv"
      },
      "outputs": [],
      "source": [
        "def addition_func(element1=4, element2=2):\n",
        "    res = element1 + element2\n",
        "    return res"
      ]
    },
    {
      "cell_type": "code",
      "execution_count": null,
      "metadata": {
        "id": "xmUa0ed_KhZw"
      },
      "outputs": [],
      "source": [
        "a = addition_func(2,3)"
      ]
    },
    {
      "cell_type": "code",
      "execution_count": null,
      "metadata": {
        "id": "joI6jYQNKhZw",
        "colab": {
          "base_uri": "https://localhost:8080/"
        },
        "outputId": "f962f2cf-bfb0-40a3-c2fb-4fd00c35db86"
      },
      "outputs": [
        {
          "output_type": "execute_result",
          "data": {
            "text/plain": [
              "5"
            ]
          },
          "metadata": {},
          "execution_count": 15
        }
      ],
      "source": [
        "a"
      ]
    },
    {
      "cell_type": "markdown",
      "metadata": {
        "id": "EUFzqfEFKhZw"
      },
      "source": [
        "What if we use print instead of return?"
      ]
    },
    {
      "cell_type": "code",
      "execution_count": null,
      "metadata": {
        "id": "Vr095lw4KhZw"
      },
      "outputs": [],
      "source": [
        "def addition_func(element1=4, element2=2):\n",
        "    res = element1 + element2\n",
        "    print(res)"
      ]
    },
    {
      "cell_type": "markdown",
      "metadata": {
        "id": "DQXcRO_-KhZw"
      },
      "source": [
        "It may look like the behaviour is the same... But the output gets printed when we are just trying to assign it to a variable:"
      ]
    },
    {
      "cell_type": "code",
      "execution_count": null,
      "metadata": {
        "id": "KJvkF3iVKhZw",
        "colab": {
          "base_uri": "https://localhost:8080/"
        },
        "outputId": "9a0807de-154f-4082-e9d3-4e8989557f6d"
      },
      "outputs": [
        {
          "output_type": "stream",
          "name": "stdout",
          "text": [
            "9\n"
          ]
        }
      ],
      "source": [
        "b = addition_func(1,8)"
      ]
    },
    {
      "cell_type": "markdown",
      "metadata": {
        "id": "9V_3oOWwKhZw"
      },
      "source": [
        "And the variable has not actually stored the output:"
      ]
    },
    {
      "cell_type": "code",
      "execution_count": null,
      "metadata": {
        "id": "yKvoNcd_KhZx"
      },
      "outputs": [],
      "source": [
        "b"
      ]
    },
    {
      "cell_type": "markdown",
      "metadata": {
        "id": "6j1pAfspKhZx"
      },
      "source": [
        "So, in general, use `return` in functions instead of `print()`!"
      ]
    },
    {
      "cell_type": "markdown",
      "metadata": {
        "id": "kQ-KBaxhKhZx"
      },
      "source": [
        "## 3.&nbsp; Exercises:"
      ]
    },
    {
      "cell_type": "markdown",
      "metadata": {
        "id": "Y6OVhUabKhZx"
      },
      "source": [
        "### Exercise 1:\n",
        "\n",
        "Build a function to filp coins. It should take as an argument how many coins to flip, and ouptut how many times the coin landed on heads.\n",
        "\n",
        "Hint: use the module `random` inside of your function!"
      ]
    },
    {
      "cell_type": "code",
      "execution_count": 2,
      "metadata": {
        "id": "yOjFFzchKhZx"
      },
      "outputs": [],
      "source": [
        "import random\n",
        "def flip_coins(num_flips):\n",
        "    lst = random.choices(['Heads','Tails'], k=num_flips)\n",
        "    return lst.count('Heads')"
      ]
    },
    {
      "cell_type": "code",
      "source": [
        "flip_coins(10)"
      ],
      "metadata": {
        "id": "YV5BaOtWlNgr",
        "outputId": "4031bf14-7146-4533-8b22-9b34d6766489",
        "colab": {
          "base_uri": "https://localhost:8080/"
        }
      },
      "execution_count": 5,
      "outputs": [
        {
          "output_type": "execute_result",
          "data": {
            "text/plain": [
              "4"
            ]
          },
          "metadata": {},
          "execution_count": 5
        }
      ]
    },
    {
      "cell_type": "markdown",
      "metadata": {
        "id": "JHbhGAAgKhZx"
      },
      "source": [
        "### Exercise 2:\n",
        "\n",
        "Build a function that takes as input a string and returns it reversed\n",
        "\n",
        "Extra challenge: try not to use any built in Python string method!"
      ]
    },
    {
      "cell_type": "code",
      "execution_count": 12,
      "metadata": {
        "id": "CyVfhIvuKhZx",
        "outputId": "7c53a4ea-9f7f-4511-da94-82d5203a1f20",
        "colab": {
          "base_uri": "https://localhost:8080/"
        }
      },
      "outputs": [
        {
          "output_type": "stream",
          "name": "stdout",
          "text": [
            "this is a string\n",
            "gnirts a si siht\n"
          ]
        }
      ],
      "source": [
        "# here the basic logic behind it\n",
        "text = 'this is a string'\n",
        "reversedstring = text[::-1]\n",
        "#print(f'{text}, {reversedstring}')\n",
        "print(text, reversedstring, sep='\\n')"
      ]
    },
    {
      "cell_type": "code",
      "source": [
        "str=\"Python\" # initial string\n",
        "stringlength=len(str) # calculate length of the list\n",
        "slicedString=str[stringlength::-1] # slicing\n",
        "print (slicedString) # print the reversed string\n"
      ],
      "metadata": {
        "id": "-MwmWywqoTK0",
        "outputId": "e9429bc3-5c0a-497b-86ba-7f1d4033ad26",
        "colab": {
          "base_uri": "https://localhost:8080/"
        }
      },
      "execution_count": 13,
      "outputs": [
        {
          "output_type": "stream",
          "name": "stdout",
          "text": [
            "nohtyP\n"
          ]
        }
      ]
    },
    {
      "cell_type": "code",
      "source": [
        "def string_reverse(input):\n",
        "    output=\"\"\n",
        "    str_len=len(input)\n",
        "    output=input[str_len::-1]\n",
        "    return output"
      ],
      "metadata": {
        "id": "4gB-FTdkpyOD"
      },
      "execution_count": 15,
      "outputs": []
    },
    {
      "cell_type": "markdown",
      "metadata": {
        "id": "YBu20Uc5KhZx"
      },
      "source": [
        "Test your function:"
      ]
    },
    {
      "cell_type": "code",
      "execution_count": 16,
      "metadata": {
        "id": "aCvx-pxxKhZx",
        "colab": {
          "base_uri": "https://localhost:8080/",
          "height": 35
        },
        "outputId": "46302bca-4045-4a89-eb77-cb82ff543897"
      },
      "outputs": [
        {
          "output_type": "execute_result",
          "data": {
            "text/plain": [
              "'arbadacarbA'"
            ],
            "application/vnd.google.colaboratory.intrinsic+json": {
              "type": "string"
            }
          },
          "metadata": {},
          "execution_count": 16
        }
      ],
      "source": [
        "string_reverse(\"Abracadabra\")\n",
        "\n",
        "# expected output: 'arbadacarbA'"
      ]
    },
    {
      "cell_type": "markdown",
      "metadata": {
        "id": "58sWtafMKhZy"
      },
      "source": [
        "### Exercise 3:\n",
        "\n",
        "Build a function to return the intersection of two sets\n",
        "\n",
        "Find out more about Python sets here: https://www.w3schools.com/python/python_sets.asp"
      ]
    },
    {
      "cell_type": "code",
      "execution_count": null,
      "metadata": {
        "id": "nkopgxA4KhZy"
      },
      "outputs": [],
      "source": [
        "# Build a function to return the intersection of two sets\n",
        "# Code here:\n"
      ]
    },
    {
      "cell_type": "code",
      "execution_count": null,
      "metadata": {
        "id": "5nEi6xnNKhZy"
      },
      "outputs": [],
      "source": [
        "# test your function\n",
        "small_primes = (1, 2, 3, 5, 7, 11, 13)\n",
        "fibonacci = [0, 1, 1, 2, 3, 5, 8, 13]\n",
        "\n",
        "intersect(small_primes, fibonacci)\n",
        "\n",
        "# expected output: {1, 2, 3, 5, 13}"
      ]
    },
    {
      "cell_type": "code",
      "execution_count": null,
      "metadata": {
        "id": "6Ffq6J8uKhZy"
      },
      "outputs": [],
      "source": [
        "# Should work with strings as well\n",
        "plane = \"plane\"\n",
        "planet = \"planet\"\n",
        "\n",
        "intersect(plane, planet)\n",
        "# expected output: {\"a\", \"e\", \"l\", \"n\", \"p\"}"
      ]
    },
    {
      "cell_type": "markdown",
      "metadata": {
        "id": "liOTrexHKhZy"
      },
      "source": [
        "## 4.&nbsp; [BONUS] Modules\n",
        "\n",
        "You can save a notebook as Python script (a file with the `.py` extension). Then, it automatically becomes a Python \"module\". These modules can be imported the same way you import `pandas`, and then you can access any functions within them.\n",
        "\n",
        "This allows you to keep your functions in a clean and isolated place, where they will be less prone to getting \"corrupted\". Your notebook will also be cleaner without all the function definitions.\n",
        "\n",
        "Using modules is easier when working locally (with Jupyter Lab, for example). If your `.py` file and your notebook are in the same folder, you can simply call `import my-module-name` from the notebook. With Google Colab, there's an extra step involved. Follow the instructions in [this video](https://www.youtube.com/watch?v=YP6APKLRf58).\n",
        "\n",
        "**Exercise:** Convert the function from the previous exercise into a module and import it from another notebook."
      ]
    },
    {
      "cell_type": "code",
      "execution_count": null,
      "metadata": {
        "id": "vLtY5Q0dKhZy"
      },
      "outputs": [],
      "source": [
        "# code here"
      ]
    },
    {
      "cell_type": "markdown",
      "metadata": {
        "id": "AfD9in0JKhZy"
      },
      "source": [
        "## 5.&nbsp; [BONUS] Scopes\n",
        "\n",
        "Let's look again at the `addition function`:"
      ]
    },
    {
      "cell_type": "code",
      "execution_count": null,
      "metadata": {
        "id": "zEpiyQxKKhZy"
      },
      "outputs": [],
      "source": [
        "def addition_func(element1=4, element2=2):\n",
        "    res = element1 + element2\n",
        "    return res"
      ]
    },
    {
      "cell_type": "markdown",
      "metadata": {
        "id": "SUAowLTbKhZz"
      },
      "source": [
        "#### where's the variable `res`?\n",
        "\n",
        "It is a local variable: a name that is visible only to code inside the function def and that exists only while the function runs.\n",
        "\n",
        "When you use a name in a program, Python creates, changes, or looks up the name in what is known as a namespace —a place where names live. When we talk about the search for a name’s value in relation to code, the term scope refers to a namespace: that is, the location of a name’s assignment in your source code determines the scope of the name’s visibility to your code.\n",
        "\n",
        "The place where you assign a name in your source code determines the namespace it will live in, and hence its scope of visibility.\n",
        "\n",
        "- Names assigned inside a def can only be seen by the code within that def. You cannot even refer to such names from outside the function.\n",
        "\n",
        "- Names assigned inside a def do not clash with variables outside the def, even if the same names are used elsewhere. A name X assigned outside a given def (i.e., in a different def or at the top level of a module file) is a completely different variable from a name X assigned inside that def."
      ]
    },
    {
      "cell_type": "code",
      "execution_count": null,
      "metadata": {
        "id": "Uofb9BxuKhZz"
      },
      "outputs": [],
      "source": [
        "x = 1990\n",
        "\n",
        "def func():\n",
        "    x = 2020\n",
        "    print(x)"
      ]
    },
    {
      "cell_type": "code",
      "execution_count": null,
      "metadata": {
        "id": "8MWEcjOFKhZz"
      },
      "outputs": [],
      "source": [
        "func()"
      ]
    },
    {
      "cell_type": "code",
      "execution_count": null,
      "metadata": {
        "id": "oIGgQH4zKhZz"
      },
      "outputs": [],
      "source": [
        "x"
      ]
    },
    {
      "cell_type": "markdown",
      "metadata": {
        "id": "941hAmYzKhZ0"
      },
      "source": [
        "- If you need to assign a name that lives at the top level of the module enclosing the function, you can do so by declaring it in a global statement inside the function.\n",
        "\n",
        "- If you need to assign a name that lives in an enclosing def, as of Python 3.X you can do so by declaring it in a nonlocal statement."
      ]
    },
    {
      "cell_type": "markdown",
      "metadata": {
        "id": "D3x5_79tKhZ0"
      },
      "source": [
        "Type of assignment within a function classifies a name as local. This includes = statements, module names in import, function names in def, function argument names, and so on. If you assign a name in any way within a def, it will become a local to that function by default.\n",
        "\n",
        "In-place changes to objects do not classify names as locals; only actual name assignments do.\n",
        "\n",
        "For instance, if the name L is assigned to a list at the top level of a module, a statement L = X within a function will classify L as a local, but L.append(X) will not. In the latter case, we are changing the list object that L references, not L itself—L is found in the global scope as usual, and Python happily modifies it without requiring a global (or nonlocal) declaration. As usual, it helps to keep the distinction between names and objects clear: changing an object is not an assignment to a name."
      ]
    },
    {
      "cell_type": "code",
      "execution_count": null,
      "metadata": {
        "id": "tEjCdIPJKhZ0"
      },
      "outputs": [],
      "source": [
        "L = [1, 2, 3]\n",
        "\n",
        "def append4():\n",
        "    L.append(4)\n",
        "    return L\n",
        "\n",
        "append4()"
      ]
    },
    {
      "cell_type": "code",
      "execution_count": null,
      "metadata": {
        "id": "38i3oE9JKhZ1"
      },
      "outputs": [],
      "source": [
        "L"
      ]
    },
    {
      "cell_type": "code",
      "execution_count": null,
      "metadata": {
        "id": "V0STK6hgKhZ1"
      },
      "outputs": [],
      "source": [
        "L = [1, 2, 3]\n",
        "\n",
        "def transform_L_into_X():\n",
        "    X = \"This is X\"\n",
        "    L = X\n",
        "    return L\n",
        "\n",
        "transform_L_into_X()"
      ]
    },
    {
      "cell_type": "code",
      "execution_count": null,
      "metadata": {
        "id": "QpNyLq1sKhZ1"
      },
      "outputs": [],
      "source": [
        "L"
      ]
    },
    {
      "cell_type": "markdown",
      "metadata": {
        "id": "F2EgGqYwKhZ1"
      },
      "source": [
        "#### The global statement"
      ]
    },
    {
      "cell_type": "code",
      "execution_count": null,
      "metadata": {
        "id": "b0V8mYwbKhZ1"
      },
      "outputs": [],
      "source": [
        "X = 88                         # Global X\n",
        "\n",
        "def func():\n",
        "    global X\n",
        "    X = 99                     # Global X: outside def\n",
        "    print(X)\n",
        "\n",
        "func()"
      ]
    },
    {
      "cell_type": "code",
      "execution_count": null,
      "metadata": {
        "id": "uWB7RXzNKhZ1"
      },
      "outputs": [],
      "source": [
        "X"
      ]
    },
    {
      "cell_type": "markdown",
      "metadata": {
        "id": "dk4boxILKhZ2"
      },
      "source": [
        "Minimize globals! What is the value of x here? It depends on where you ask during running time, and that's confusing and prone to errors."
      ]
    },
    {
      "cell_type": "markdown",
      "metadata": {
        "id": "uC-rBzxKKhZ2"
      },
      "source": [
        "Some more tips for using functions:\n",
        "\n",
        "- each function should have a single, unified purpose.\n",
        "\n",
        "- each function should be relatively small"
      ]
    }
  ],
  "metadata": {
    "kernelspec": {
      "display_name": "Python 3",
      "language": "python",
      "name": "python3"
    },
    "language_info": {
      "codemirror_mode": {
        "name": "ipython",
        "version": 3
      },
      "file_extension": ".py",
      "mimetype": "text/x-python",
      "name": "python",
      "nbconvert_exporter": "python",
      "pygments_lexer": "ipython3",
      "version": "3.8.5"
    },
    "toc": {
      "base_numbering": 1,
      "nav_menu": {},
      "number_sections": true,
      "sideBar": true,
      "skip_h1_title": false,
      "title_cell": "Table of Contents",
      "title_sidebar": "Contents",
      "toc_cell": false,
      "toc_position": {},
      "toc_section_display": true,
      "toc_window_display": false
    },
    "varInspector": {
      "cols": {
        "lenName": 16,
        "lenType": 16,
        "lenVar": 40
      },
      "kernels_config": {
        "python": {
          "delete_cmd_postfix": "",
          "delete_cmd_prefix": "del ",
          "library": "var_list.py",
          "varRefreshCmd": "print(var_dic_list())"
        },
        "r": {
          "delete_cmd_postfix": ") ",
          "delete_cmd_prefix": "rm(",
          "library": "var_list.r",
          "varRefreshCmd": "cat(var_dic_list()) "
        }
      },
      "types_to_exclude": [
        "module",
        "function",
        "builtin_function_or_method",
        "instance",
        "_Feature"
      ],
      "window_display": false
    },
    "colab": {
      "provenance": [],
      "toc_visible": true,
      "include_colab_link": true
    }
  },
  "nbformat": 4,
  "nbformat_minor": 0
}