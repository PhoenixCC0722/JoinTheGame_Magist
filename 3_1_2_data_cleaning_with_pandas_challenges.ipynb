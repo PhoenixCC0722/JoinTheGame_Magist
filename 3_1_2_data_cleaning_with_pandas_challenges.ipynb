{
  "cells": [
    {
      "cell_type": "markdown",
      "metadata": {
        "id": "view-in-github",
        "colab_type": "text"
      },
      "source": [
        "<a href=\"https://colab.research.google.com/github/PhoenixCC0722/Journey_to_become_DataScientist/blob/main/3_1_2_data_cleaning_with_pandas_challenges.ipynb\" target=\"_parent\"><img src=\"https://colab.research.google.com/assets/colab-badge.svg\" alt=\"Open In Colab\"/></a>"
      ]
    },
    {
      "cell_type": "markdown",
      "metadata": {
        "id": "kYo4UvcCvkUs"
      },
      "source": [
        "# Data Cleaning with Pandas\n",
        "\n",
        "In this notebook we'll go through a few basic data cleaning steps that should be performed on all new datasets where necessary.\n",
        "\n",
        "We'll go through the process with both the `orders` and `orderlines` datasets. You can then practice these skills by cleaning the `products` dataset yourself"
      ]
    },
    {
      "cell_type": "code",
      "execution_count": 1,
      "metadata": {
        "id": "FgRIdUs1vcZ8"
      },
      "outputs": [],
      "source": [
        "import pandas as pd"
      ]
    },
    {
      "cell_type": "code",
      "execution_count": 2,
      "metadata": {
        "id": "_87JoNgVviOG"
      },
      "outputs": [],
      "source": [
        "# orders.csv\n",
        "url = \"https://drive.google.com/file/d/1Vu0q91qZw6lqhIqbjoXYvYAQTmVHh6uZ/view?usp=sharing\"\n",
        "path = \"https://drive.google.com/uc?export=download&id=\"+url.split(\"/\")[-2]\n",
        "orders = pd.read_csv(path)\n",
        "\n",
        "# orderlines.csv\n",
        "url = \"https://drive.google.com/file/d/1FYhN_2AzTBFuWcfHaRuKcuCE6CWXsWtG/view?usp=sharing\"\n",
        "path = \"https://drive.google.com/uc?export=download&id=\"+url.split(\"/\")[-2]\n",
        "orderlines = pd.read_csv(path)"
      ]
    },
    {
      "cell_type": "markdown",
      "metadata": {
        "id": "40yQcix3GR9W"
      },
      "source": [
        "Before we begin, let's create a copy of the `orders` and `orderlines` DataFrames. This way we are sure any of our changes won't affect the original DataFrames"
      ]
    },
    {
      "cell_type": "code",
      "execution_count": 3,
      "metadata": {
        "id": "Rvz6vTfhGR9X"
      },
      "outputs": [],
      "source": [
        "orders_df = orders.copy()\n",
        "\n",
        "orderlines_df = orderlines.copy()"
      ]
    },
    {
      "cell_type": "markdown",
      "metadata": {
        "id": "fVLitYX1yhc6"
      },
      "source": [
        "One of the best ways to begin data cleaning is by exploring using `.info()`. This will tell us:\n",
        "* The shape of the DataFrame\n",
        "* The names of the columns\n",
        "* If there are any missing values\n",
        "* The datatypes of the columns\n",
        "\n",
        "By exploring the missing values and correcting any incorrect datatypes, we often come across inconsistencies in our data.\n",
        "\n",
        "Beyond this, we should also have a **check for any duplicate rows**.\n",
        "\n",
        "Let's first deal with the duplicates, as it's nice and easy, then we'll explore what `.info()` has to tell us."
      ]
    },
    {
      "cell_type": "markdown",
      "metadata": {
        "id": "036ciQ6rwBJm"
      },
      "source": [
        "## 1.&nbsp; Duplicates\n",
        "We can check for duplicates using the pandas [.duplicated()](https://pandas.pydata.org/docs/reference/api/pandas.DataFrame.duplicated.html) method.\n",
        "\n",
        "We can then delete these rows, if we wish, using [.drop_duplicates()](https://pandas.pydata.org/docs/reference/api/pandas.DataFrame.drop_duplicates.html)"
      ]
    },
    {
      "cell_type": "code",
      "execution_count": 4,
      "metadata": {
        "colab": {
          "base_uri": "https://localhost:8080/"
        },
        "id": "6dVkoUu7wC-b",
        "outputId": "95799997-f1d3-4040-aedf-7c5bf7769b43"
      },
      "outputs": [
        {
          "output_type": "execute_result",
          "data": {
            "text/plain": [
              "0"
            ]
          },
          "metadata": {},
          "execution_count": 4
        }
      ],
      "source": [
        "# orders_df\n",
        "orders_df.duplicated().sum()"
      ]
    },
    {
      "cell_type": "code",
      "execution_count": 5,
      "metadata": {
        "colab": {
          "base_uri": "https://localhost:8080/"
        },
        "id": "iaeAQB_3whli",
        "outputId": "a4b62d33-e04c-4ede-8cab-17654a1f8831"
      },
      "outputs": [
        {
          "output_type": "execute_result",
          "data": {
            "text/plain": [
              "0"
            ]
          },
          "metadata": {},
          "execution_count": 5
        }
      ],
      "source": [
        "# orderlines_df\n",
        "orderlines_df.duplicated().sum()"
      ]
    },
    {
      "cell_type": "markdown",
      "metadata": {
        "id": "3LbnJquF0vRe"
      },
      "source": [
        "We have no duplicate rows in either DataFrame. Easy, there is no problem to solve. Normally though, if there were some duplicates, we'd drop the extra rows."
      ]
    },
    {
      "cell_type": "markdown",
      "metadata": {
        "id": "9lX7YbHlzoEO"
      },
      "source": [
        "# 2.&nbsp; `.info()`"
      ]
    },
    {
      "cell_type": "code",
      "execution_count": 6,
      "metadata": {
        "id": "_AAsMOTS2L9r",
        "outputId": "279a83f9-f96c-4a6f-97c1-6f9c6f1eec78",
        "colab": {
          "base_uri": "https://localhost:8080/"
        }
      },
      "outputs": [
        {
          "output_type": "stream",
          "name": "stdout",
          "text": [
            "<class 'pandas.core.frame.DataFrame'>\n",
            "RangeIndex: 226909 entries, 0 to 226908\n",
            "Data columns (total 4 columns):\n",
            " #   Column        Non-Null Count   Dtype  \n",
            "---  ------        --------------   -----  \n",
            " 0   order_id      226909 non-null  int64  \n",
            " 1   created_date  226909 non-null  object \n",
            " 2   total_paid    226904 non-null  float64\n",
            " 3   state         226909 non-null  object \n",
            "dtypes: float64(1), int64(1), object(2)\n",
            "memory usage: 6.9+ MB\n"
          ]
        }
      ],
      "source": [
        "orders_df.info()"
      ]
    },
    {
      "cell_type": "markdown",
      "metadata": {
        "id": "Txm3Bv952UCb"
      },
      "source": [
        "* `total_paid` has 5 missing values\n",
        "* `created_date` should become datetime datatype"
      ]
    },
    {
      "cell_type": "code",
      "execution_count": 8,
      "metadata": {
        "id": "kvDA-z032Rm2",
        "outputId": "1cb1dd04-4e69-421b-d04b-bf4b299347db",
        "colab": {
          "base_uri": "https://localhost:8080/"
        }
      },
      "outputs": [
        {
          "output_type": "stream",
          "name": "stdout",
          "text": [
            "<class 'pandas.core.frame.DataFrame'>\n",
            "RangeIndex: 293983 entries, 0 to 293982\n",
            "Data columns (total 7 columns):\n",
            " #   Column            Non-Null Count   Dtype \n",
            "---  ------            --------------   ----- \n",
            " 0   id                293983 non-null  int64 \n",
            " 1   id_order          293983 non-null  int64 \n",
            " 2   product_id        293983 non-null  int64 \n",
            " 3   product_quantity  293983 non-null  int64 \n",
            " 4   sku               293983 non-null  object\n",
            " 5   unit_price        293983 non-null  object\n",
            " 6   date              293983 non-null  object\n",
            "dtypes: int64(4), object(3)\n",
            "memory usage: 15.7+ MB\n"
          ]
        }
      ],
      "source": [
        "orderlines_df.info()"
      ]
    },
    {
      "cell_type": "markdown",
      "metadata": {
        "id": "iLSpYm1G2sPD"
      },
      "source": [
        "* `date` should be a datetime datatype\n",
        "* `unit_price` should be a float datatype"
      ]
    },
    {
      "cell_type": "markdown",
      "metadata": {
        "id": "MlwJt5c-wiQh"
      },
      "source": [
        "## 3.&nbsp; Missing values"
      ]
    },
    {
      "cell_type": "markdown",
      "metadata": {
        "id": "63eKHGzJwkuT"
      },
      "source": [
        "### 3.1.&nbsp; Orders\n",
        "* `total_paid` has 5 missing values"
      ]
    },
    {
      "cell_type": "code",
      "execution_count": 9,
      "metadata": {
        "id": "Yh81k3ppwl37",
        "outputId": "3c276124-92c7-4865-f21f-fbbea93d810b",
        "colab": {
          "base_uri": "https://localhost:8080/"
        }
      },
      "outputs": [
        {
          "output_type": "stream",
          "name": "stdout",
          "text": [
            "5 missing values represents 0.0022% of the rows in our DataFrame\n"
          ]
        }
      ],
      "source": [
        "print(f\"5 missing values represents {((orders_df.total_paid.isna().sum() / orders_df.shape[0])*100).round(5)}% of the rows in our DataFrame\")"
      ]
    },
    {
      "cell_type": "markdown",
      "metadata": {
        "id": "8B7GYG3ZZWC1"
      },
      "source": [
        "A quick way to find out a percentage here, if you don't need to print out a sentence for yourself/students/colleagues is `.value_count(normalize=True)`"
      ]
    },
    {
      "cell_type": "code",
      "execution_count": 10,
      "metadata": {
        "colab": {
          "base_uri": "https://localhost:8080/"
        },
        "id": "zjkDrufyZZQi",
        "outputId": "0d10281d-e45d-4407-cdff-4b344f7ac697"
      },
      "outputs": [
        {
          "output_type": "execute_result",
          "data": {
            "text/plain": [
              "False    0.999978\n",
              "True     0.000022\n",
              "Name: total_paid, dtype: float64"
            ]
          },
          "metadata": {},
          "execution_count": 10
        }
      ],
      "source": [
        "orders_df.total_paid.isna().value_counts(normalize=True)"
      ]
    },
    {
      "cell_type": "markdown",
      "metadata": {
        "id": "eMW6J-4v_iVM"
      },
      "source": [
        "As there is such a tiny amount of missing values, we will simply delete these rows, as we have enough data without them."
      ]
    },
    {
      "cell_type": "code",
      "execution_count": 11,
      "metadata": {
        "id": "ohcl2Pb2B_Ch"
      },
      "outputs": [],
      "source": [
        "orders_df = orders_df.loc[~orders.total_paid.isna(), :]"
      ]
    },
    {
      "cell_type": "markdown",
      "metadata": {
        "id": "AIWAR4xI_3jv"
      },
      "source": [
        "Should you have a significant number of missing values in the future, you have a choice:\n",
        "+ you can impute the values\n",
        "+ you can take the values from other DataFrames, if they are present there\n",
        "+ you can delete the values\n",
        "+ or any number of other creative solutions\n",
        "\n",
        "Please, always consider how much time you have on your project, and what impact your method of choice will have on your final assesment."
      ]
    },
    {
      "cell_type": "markdown",
      "metadata": {
        "id": "nziIE3hbwmNa"
      },
      "source": [
        "### 3.2.&nbsp; Orderlines\n",
        "There are no missing values in `orderlines_df`"
      ]
    },
    {
      "cell_type": "markdown",
      "metadata": {
        "id": "_feog1aCwosJ"
      },
      "source": [
        "## 4.&nbsp; Datatypes"
      ]
    },
    {
      "cell_type": "markdown",
      "metadata": {
        "id": "wCJyQYkOwrBE"
      },
      "source": [
        "### 4.1.&nbsp; Orders\n",
        "* `created_date` should become datetime datatype"
      ]
    },
    {
      "cell_type": "code",
      "execution_count": 12,
      "metadata": {
        "id": "cF9roGlewr8j"
      },
      "outputs": [],
      "source": [
        "orders_df[\"created_date\"] = pd.to_datetime(orders_df[\"created_date\"])"
      ]
    },
    {
      "cell_type": "markdown",
      "metadata": {
        "id": "osvynBTNwsin"
      },
      "source": [
        "### 4.1.&nbsp; Orderlines\n",
        "* `date` should be a datetime datatype\n",
        "* `unit_price` should be a float datatype"
      ]
    },
    {
      "cell_type": "markdown",
      "metadata": {
        "id": "PJcuKn8K06Yd"
      },
      "source": [
        "#### 4.1.1.&nbsp; `date`"
      ]
    },
    {
      "cell_type": "code",
      "execution_count": 13,
      "metadata": {
        "id": "FnXgRKERwtvS"
      },
      "outputs": [],
      "source": [
        "orderlines_df[\"date\"] = pd.to_datetime(orderlines_df[\"date\"])"
      ]
    },
    {
      "cell_type": "markdown",
      "metadata": {
        "id": "F7i78NDY0-oF"
      },
      "source": [
        "#### 4.1.2.&nbsp;`unit_price`"
      ]
    },
    {
      "cell_type": "code",
      "execution_count": 14,
      "metadata": {
        "id": "iOFBNmuRDuGU",
        "outputId": "88339e38-6a35-4cee-96c3-070605ecc210",
        "colab": {
          "base_uri": "https://localhost:8080/",
          "height": 304
        }
      },
      "outputs": [
        {
          "output_type": "error",
          "ename": "ValueError",
          "evalue": "Unable to parse string \"1.137.99\" at position 6",
          "traceback": [
            "\u001b[0;31m---------------------------------------------------------------------------\u001b[0m",
            "\u001b[0;31mValueError\u001b[0m                                Traceback (most recent call last)",
            "\u001b[0;32m/usr/local/lib/python3.10/dist-packages/pandas/_libs/lib.pyx\u001b[0m in \u001b[0;36mpandas._libs.lib.maybe_convert_numeric\u001b[0;34m()\u001b[0m\n",
            "\u001b[0;31mValueError\u001b[0m: Unable to parse string \"1.137.99\"",
            "\nDuring handling of the above exception, another exception occurred:\n",
            "\u001b[0;31mValueError\u001b[0m                                Traceback (most recent call last)",
            "\u001b[0;32m<ipython-input-14-d6bd38092a9f>\u001b[0m in \u001b[0;36m<cell line: 1>\u001b[0;34m()\u001b[0m\n\u001b[0;32m----> 1\u001b[0;31m \u001b[0morderlines_df\u001b[0m\u001b[0;34m[\u001b[0m\u001b[0;34m\"unit_price\"\u001b[0m\u001b[0;34m]\u001b[0m \u001b[0;34m=\u001b[0m \u001b[0mpd\u001b[0m\u001b[0;34m.\u001b[0m\u001b[0mto_numeric\u001b[0m\u001b[0;34m(\u001b[0m\u001b[0morderlines_df\u001b[0m\u001b[0;34m[\u001b[0m\u001b[0;34m\"unit_price\"\u001b[0m\u001b[0;34m]\u001b[0m\u001b[0;34m)\u001b[0m\u001b[0;34m\u001b[0m\u001b[0;34m\u001b[0m\u001b[0m\n\u001b[0m",
            "\u001b[0;32m/usr/local/lib/python3.10/dist-packages/pandas/core/tools/numeric.py\u001b[0m in \u001b[0;36mto_numeric\u001b[0;34m(arg, errors, downcast)\u001b[0m\n\u001b[1;32m    183\u001b[0m         \u001b[0mcoerce_numeric\u001b[0m \u001b[0;34m=\u001b[0m \u001b[0merrors\u001b[0m \u001b[0;32mnot\u001b[0m \u001b[0;32min\u001b[0m \u001b[0;34m(\u001b[0m\u001b[0;34m\"ignore\"\u001b[0m\u001b[0;34m,\u001b[0m \u001b[0;34m\"raise\"\u001b[0m\u001b[0;34m)\u001b[0m\u001b[0;34m\u001b[0m\u001b[0;34m\u001b[0m\u001b[0m\n\u001b[1;32m    184\u001b[0m         \u001b[0;32mtry\u001b[0m\u001b[0;34m:\u001b[0m\u001b[0;34m\u001b[0m\u001b[0;34m\u001b[0m\u001b[0m\n\u001b[0;32m--> 185\u001b[0;31m             values, _ = lib.maybe_convert_numeric(\n\u001b[0m\u001b[1;32m    186\u001b[0m                 \u001b[0mvalues\u001b[0m\u001b[0;34m,\u001b[0m \u001b[0mset\u001b[0m\u001b[0;34m(\u001b[0m\u001b[0;34m)\u001b[0m\u001b[0;34m,\u001b[0m \u001b[0mcoerce_numeric\u001b[0m\u001b[0;34m=\u001b[0m\u001b[0mcoerce_numeric\u001b[0m\u001b[0;34m\u001b[0m\u001b[0;34m\u001b[0m\u001b[0m\n\u001b[1;32m    187\u001b[0m             )\n",
            "\u001b[0;32m/usr/local/lib/python3.10/dist-packages/pandas/_libs/lib.pyx\u001b[0m in \u001b[0;36mpandas._libs.lib.maybe_convert_numeric\u001b[0;34m()\u001b[0m\n",
            "\u001b[0;31mValueError\u001b[0m: Unable to parse string \"1.137.99\" at position 6"
          ]
        }
      ],
      "source": [
        "orderlines_df[\"unit_price\"] = pd.to_numeric(orderlines_df[\"unit_price\"])"
      ]
    },
    {
      "cell_type": "markdown",
      "metadata": {
        "id": "xEqhP5RFSmRi"
      },
      "source": [
        "As you can see when we try to convert `unit_price` to a numerical datatype, we receive a `ValueError` telling us that pandas doesn't understand the number `1.137.99`. This is probably because numbers cannot have 2 decimal points. Let's see if there are any other numbers like this."
      ]
    },
    {
      "cell_type": "code",
      "execution_count": 15,
      "metadata": {
        "id": "ONy-oCt0SkrR",
        "outputId": "8506834b-b617-469b-cd41-97c00d7b12f5",
        "colab": {
          "base_uri": "https://localhost:8080/"
        }
      },
      "outputs": [
        {
          "output_type": "execute_result",
          "data": {
            "text/plain": [
              "False    257814\n",
              "True      36169\n",
              "Name: unit_price, dtype: int64"
            ]
          },
          "metadata": {},
          "execution_count": 15
        }
      ],
      "source": [
        "orderlines_df.unit_price.str.contains(\"\\d+\\.\\d+\\.\\d+\").value_counts()"
      ]
    },
    {
      "cell_type": "markdown",
      "metadata": {
        "id": "HSUPvFJU6Jv-"
      },
      "source": [
        "Looks like over 36000 rows in `orderlines` are affected by this problem. Let's work out how much that is as a percentage of our total data."
      ]
    },
    {
      "cell_type": "code",
      "execution_count": 16,
      "metadata": {
        "id": "r75Rm1EgVjpi",
        "outputId": "b7a3f5e9-b5e5-4bac-b508-d712936347f2",
        "colab": {
          "base_uri": "https://localhost:8080/"
        }
      },
      "outputs": [
        {
          "output_type": "stream",
          "name": "stdout",
          "text": [
            "The 2 dot problem represents 12.3% of the rows in our DataFrame\n"
          ]
        }
      ],
      "source": [
        "two_dot_percentage = ((orderlines_df.unit_price.str.contains(\"\\d+\\.\\d+\\.\\d+\").value_counts()[1] / orderlines_df.shape[0])*100).round(2)\n",
        "print(f\"The 2 dot problem represents {two_dot_percentage}% of the rows in our DataFrame\")"
      ]
    },
    {
      "cell_type": "markdown",
      "metadata": {
        "id": "5Kp9_4pqeu5J"
      },
      "source": [
        "This is a bit of a tricky decision as 12.3% is a significant amount of our data... and we might even end up losing a larger portion of our data than this too. For the moment we will delete the rows as we only have 2 weeks for this project and I'd like some quick, accurate results to show. If we have time at the end, we can come back and investigate this problem further, maybe there's a solution?\n",
        "\n",
        "Each row of `orderlines` represents a product in an order. For example, if order number 175 contained 3 seperate products, then order 175 would have 3 rows in `orderlines`, one row for each of the products. If 2 of those products have 'normal' prices (14.99, 15.85) and 1 has a price with 2 decimal points (1.137.99), we need to remove the whole order and not just the affected row. If we only remove the row with 2 decimal places then any later analysis about products and prices could be misleading.\n",
        "\n",
        "We therefore need to find the order numbers associated with the rows that have 2 decimal points, and then remove all the associated rows."
      ]
    },
    {
      "cell_type": "code",
      "execution_count": 17,
      "metadata": {
        "id": "wQnSe-n1WCqv"
      },
      "outputs": [],
      "source": [
        "two_dot_order_ids_list = orderlines_df.loc[orderlines_df.unit_price.str.contains(\"\\d+\\.\\d+\\.\\d+\"), \"id_order\"]\n",
        "orderlines_df = orderlines_df.loc[~orderlines_df.id_order.isin(two_dot_order_ids_list)]"
      ]
    },
    {
      "cell_type": "code",
      "execution_count": 18,
      "metadata": {
        "id": "k-GLzXuV0Ioj",
        "outputId": "9ced36d9-7e90-4d0f-956b-11e4fad706b6",
        "colab": {
          "base_uri": "https://localhost:8080/"
        }
      },
      "outputs": [
        {
          "output_type": "execute_result",
          "data": {
            "text/plain": [
              "216250"
            ]
          },
          "metadata": {},
          "execution_count": 18
        }
      ],
      "source": [
        "orderlines_df.shape[0]"
      ]
    },
    {
      "cell_type": "markdown",
      "metadata": {
        "id": "2pd5t4110iz3"
      },
      "source": [
        "We still have 216250 rows in orderlines to work with. This should be more than enough for our evaluation.\n",
        "\n",
        "Now that all of the 2 decimal point prices have been removed, let's try again to convert the column `unit_price` to the correct datatype."
      ]
    },
    {
      "cell_type": "code",
      "execution_count": 19,
      "metadata": {
        "id": "Q4eDTAPs1HMZ"
      },
      "outputs": [],
      "source": [
        "orderlines_df[\"unit_price\"] = pd.to_numeric(orderlines_df[\"unit_price\"])"
      ]
    },
    {
      "cell_type": "markdown",
      "metadata": {
        "id": "sBudIQLm6oJQ"
      },
      "source": [
        "It worked perfectly"
      ]
    },
    {
      "cell_type": "markdown",
      "metadata": {
        "id": "1zGAzgIX8_-D"
      },
      "source": [
        "# Challenge: Clean the `products` DataFrame\n",
        "Now it's your turn. Use the lessons you learnt above and clean the products DataFrame. You don't have to copy exactly what we did. Think about the consequences of your actions, sometimes it is ok to delete rows, other times you may wish to come up with more creative solutions."
      ]
    },
    {
      "cell_type": "code",
      "execution_count": 20,
      "metadata": {
        "id": "LtYqdFsa9KTS"
      },
      "outputs": [],
      "source": [
        "# products.csv\n",
        "url = \"https://drive.google.com/file/d/1afxwDXfl-7cQ_qLwyDitfcCx3u7WMvkU/view?usp=sharing\"\n",
        "path = \"https://drive.google.com/uc?export=download&id=\"+url.split(\"/\")[-2]\n",
        "products = pd.read_csv(path)"
      ]
    },
    {
      "cell_type": "code",
      "execution_count": 21,
      "metadata": {
        "id": "UW3zYoni9Vcy",
        "outputId": "f69f3e8e-6a17-44e0-aa89-6d698ee3f561",
        "colab": {
          "base_uri": "https://localhost:8080/"
        }
      },
      "outputs": [
        {
          "output_type": "stream",
          "name": "stdout",
          "text": [
            "<class 'pandas.core.frame.DataFrame'>\n",
            "RangeIndex: 19326 entries, 0 to 19325\n",
            "Data columns (total 7 columns):\n",
            " #   Column       Non-Null Count  Dtype \n",
            "---  ------       --------------  ----- \n",
            " 0   sku          19326 non-null  object\n",
            " 1   name         19326 non-null  object\n",
            " 2   desc         19319 non-null  object\n",
            " 3   price        19280 non-null  object\n",
            " 4   promo_price  19326 non-null  object\n",
            " 5   in_stock     19326 non-null  int64 \n",
            " 6   type         19276 non-null  object\n",
            "dtypes: int64(1), object(6)\n",
            "memory usage: 1.0+ MB\n"
          ]
        }
      ],
      "source": [
        "# create a copy of the dataframe products,\n",
        "#  this way we are sure any of our changes won't affect the orginal DataFrames\n",
        "products_df = products.copy()\n",
        "# to check the basic info of the dataframe\n",
        "products_df.info()"
      ]
    },
    {
      "cell_type": "markdown",
      "metadata": {
        "id": "DyTfC-WY-IWe"
      },
      "source": [
        "### Look for Duplicates"
      ]
    },
    {
      "cell_type": "code",
      "execution_count": 22,
      "metadata": {
        "id": "MXZXRvUa_GTW",
        "outputId": "856eb62f-7b36-4812-98ce-a48348e1a177",
        "colab": {
          "base_uri": "https://localhost:8080/"
        }
      },
      "outputs": [
        {
          "output_type": "execute_result",
          "data": {
            "text/plain": [
              "8746"
            ]
          },
          "metadata": {},
          "execution_count": 22
        }
      ],
      "source": [
        "# check for the duplicates\n",
        "products_df.duplicated().sum() #8746 duplicates"
      ]
    },
    {
      "cell_type": "markdown",
      "metadata": {
        "id": "XTGqkqtm--ln"
      },
      "source": [
        "### Look for Missing values\n"
      ]
    },
    {
      "cell_type": "code",
      "execution_count": 27,
      "metadata": {
        "id": "_LrT0QGlkKi-",
        "outputId": "7484f9aa-4c2e-448d-d22e-189559b3388c",
        "colab": {
          "base_uri": "https://localhost:8080/"
        }
      },
      "outputs": [
        {
          "output_type": "stream",
          "name": "stdout",
          "text": [
            "<class 'pandas.core.frame.DataFrame'>\n",
            "RangeIndex: 19326 entries, 0 to 19325\n",
            "Data columns (total 7 columns):\n",
            " #   Column       Non-Null Count  Dtype \n",
            "---  ------       --------------  ----- \n",
            " 0   sku          19326 non-null  object\n",
            " 1   name         19326 non-null  object\n",
            " 2   desc         19319 non-null  object\n",
            " 3   price        19280 non-null  object\n",
            " 4   promo_price  19326 non-null  object\n",
            " 5   in_stock     19326 non-null  int64 \n",
            " 6   type         19276 non-null  object\n",
            "dtypes: int64(1), object(6)\n",
            "memory usage: 1.0+ MB\n"
          ]
        }
      ],
      "source": [
        "# check for the general info of this dataframe\n",
        "products_df.info()"
      ]
    },
    {
      "cell_type": "code",
      "source": [
        "# desc, price, type have missing values\n",
        "desc_missing = products_df.desc.isna().sum()\n",
        "price_missing = products_df.price.isna().sum()\n",
        "type_missing = products_df.type.isna().sum()\n",
        "# the total rows of this frame\n",
        "rows_sum =  products_df.shape[0]\n",
        "print(f\"{desc_missing} missing values in the column 'desc'\", f\"{price_missing} missing values in the column 'price'\", f\"{type_missing} missing values in the column 'type'\", sep=\"\\n\")"
      ],
      "metadata": {
        "id": "9YwzzkojIM8V",
        "outputId": "606608e2-502a-470b-82c4-3e4b9bd4ca71",
        "colab": {
          "base_uri": "https://localhost:8080/"
        }
      },
      "execution_count": 32,
      "outputs": [
        {
          "output_type": "stream",
          "name": "stdout",
          "text": [
            "7 missing values in the column 'desc'\n",
            "46 missing values in the column 'price'\n",
            "50 missing values in the column 'type'\n"
          ]
        }
      ]
    },
    {
      "cell_type": "code",
      "source": [
        "# percentitle of th missing values in each column\n",
        "pct_desc_missing = products_df.desc.isna().value_counts(normalize=True)\n",
        "pct_price_missing = products_df.price.isna().value_counts(normalize=True)\n",
        "pct_type_missing = products_df.type.isna().value_counts(normalize=True)\n",
        "#print(f\"{pct_desc_missing}\", f\"{pct_price_missing}\", f\"{pct_type_missing}\", sep=\"\\n\")\n",
        "print(f\"{desc_missing} missing values represents {((desc_missing / rows_sum)*100).round(5)}% of the rows in the column 'desc'\",f\"{price_missing} missing values represents  {((price_missing / rows_sum)*100).round(5)}% of the rows in the column 'price'\",f\"{type_missing} missing values represents  {((type_missing / rows_sum)*100).round(5)}%  of the rows in the column 'type'\",sep=\"\\n\")"
      ],
      "metadata": {
        "id": "DyMDga9bKHOJ",
        "outputId": "5590c185-71b9-4fb3-843a-73cf4009d544",
        "colab": {
          "base_uri": "https://localhost:8080/"
        }
      },
      "execution_count": 41,
      "outputs": [
        {
          "output_type": "stream",
          "name": "stdout",
          "text": [
            "7 missing values represents 0.03622% of the rows in the column 'desc'\n",
            "46 missing values represents  0.23802% of the rows in the column 'price'\n",
            "50 missing values represents  0.25872%  of the rows in the column 'type'\n"
          ]
        }
      ]
    },
    {
      "cell_type": "code",
      "source": [
        "# the missing values are just tiny amount, we can delete them\n",
        "products_df = products_df.loc[~products.desc.isna(), :]\n",
        "products_df = products_df.loc[~products_df.price.isna(), :]\n",
        "products_df = products_df.loc[~products_df.type.isna(), :]\n",
        "products_df.info()\n",
        "products_df.head()"
      ],
      "metadata": {
        "id": "taFQS62gNAoy",
        "outputId": "9db517be-65ee-43f5-df25-72925a7781b9",
        "colab": {
          "base_uri": "https://localhost:8080/",
          "height": 640
        }
      },
      "execution_count": 44,
      "outputs": [
        {
          "output_type": "stream",
          "name": "stdout",
          "text": [
            "<class 'pandas.core.frame.DataFrame'>\n",
            "Int64Index: 19223 entries, 0 to 19325\n",
            "Data columns (total 7 columns):\n",
            " #   Column       Non-Null Count  Dtype \n",
            "---  ------       --------------  ----- \n",
            " 0   sku          19223 non-null  object\n",
            " 1   name         19223 non-null  object\n",
            " 2   desc         19223 non-null  object\n",
            " 3   price        19223 non-null  object\n",
            " 4   promo_price  19223 non-null  object\n",
            " 5   in_stock     19223 non-null  int64 \n",
            " 6   type         19223 non-null  object\n",
            "dtypes: int64(1), object(6)\n",
            "memory usage: 1.2+ MB\n"
          ]
        },
        {
          "output_type": "execute_result",
          "data": {
            "text/plain": [
              "       sku                                           name  \\\n",
              "0  RAI0007              Silver Rain Design mStand Support   \n",
              "1  APP0023              Apple Mac Keyboard Keypad Spanish   \n",
              "2  APP0025               Mighty Mouse Apple Mouse for Mac   \n",
              "3  APP0072  Apple Dock to USB Cable iPhone and iPod white   \n",
              "4  KIN0007    Mac Memory Kingston 2GB 667MHz DDR2 SO-DIMM   \n",
              "\n",
              "                                                desc  price promo_price  \\\n",
              "0       Aluminum support compatible with all MacBook  59.99     499.899   \n",
              "1          USB ultrathin keyboard Apple Mac Spanish.     59     589.996   \n",
              "2                             mouse Apple USB cable.     59     569.898   \n",
              "3              IPhone dock and USB Cable Apple iPod.     25     229.997   \n",
              "4  2GB RAM Mac mini and iMac (2006/07) MacBook Pr...  34.99       31.99   \n",
              "\n",
              "   in_stock      type  \n",
              "0         1      8696  \n",
              "1         0  13855401  \n",
              "2         0      1387  \n",
              "3         0      1230  \n",
              "4         1      1364  "
            ],
            "text/html": [
              "\n",
              "  <div id=\"df-95ae8c9a-5e45-4b69-bbac-01c895e6cdeb\" class=\"colab-df-container\">\n",
              "    <div>\n",
              "<style scoped>\n",
              "    .dataframe tbody tr th:only-of-type {\n",
              "        vertical-align: middle;\n",
              "    }\n",
              "\n",
              "    .dataframe tbody tr th {\n",
              "        vertical-align: top;\n",
              "    }\n",
              "\n",
              "    .dataframe thead th {\n",
              "        text-align: right;\n",
              "    }\n",
              "</style>\n",
              "<table border=\"1\" class=\"dataframe\">\n",
              "  <thead>\n",
              "    <tr style=\"text-align: right;\">\n",
              "      <th></th>\n",
              "      <th>sku</th>\n",
              "      <th>name</th>\n",
              "      <th>desc</th>\n",
              "      <th>price</th>\n",
              "      <th>promo_price</th>\n",
              "      <th>in_stock</th>\n",
              "      <th>type</th>\n",
              "    </tr>\n",
              "  </thead>\n",
              "  <tbody>\n",
              "    <tr>\n",
              "      <th>0</th>\n",
              "      <td>RAI0007</td>\n",
              "      <td>Silver Rain Design mStand Support</td>\n",
              "      <td>Aluminum support compatible with all MacBook</td>\n",
              "      <td>59.99</td>\n",
              "      <td>499.899</td>\n",
              "      <td>1</td>\n",
              "      <td>8696</td>\n",
              "    </tr>\n",
              "    <tr>\n",
              "      <th>1</th>\n",
              "      <td>APP0023</td>\n",
              "      <td>Apple Mac Keyboard Keypad Spanish</td>\n",
              "      <td>USB ultrathin keyboard Apple Mac Spanish.</td>\n",
              "      <td>59</td>\n",
              "      <td>589.996</td>\n",
              "      <td>0</td>\n",
              "      <td>13855401</td>\n",
              "    </tr>\n",
              "    <tr>\n",
              "      <th>2</th>\n",
              "      <td>APP0025</td>\n",
              "      <td>Mighty Mouse Apple Mouse for Mac</td>\n",
              "      <td>mouse Apple USB cable.</td>\n",
              "      <td>59</td>\n",
              "      <td>569.898</td>\n",
              "      <td>0</td>\n",
              "      <td>1387</td>\n",
              "    </tr>\n",
              "    <tr>\n",
              "      <th>3</th>\n",
              "      <td>APP0072</td>\n",
              "      <td>Apple Dock to USB Cable iPhone and iPod white</td>\n",
              "      <td>IPhone dock and USB Cable Apple iPod.</td>\n",
              "      <td>25</td>\n",
              "      <td>229.997</td>\n",
              "      <td>0</td>\n",
              "      <td>1230</td>\n",
              "    </tr>\n",
              "    <tr>\n",
              "      <th>4</th>\n",
              "      <td>KIN0007</td>\n",
              "      <td>Mac Memory Kingston 2GB 667MHz DDR2 SO-DIMM</td>\n",
              "      <td>2GB RAM Mac mini and iMac (2006/07) MacBook Pr...</td>\n",
              "      <td>34.99</td>\n",
              "      <td>31.99</td>\n",
              "      <td>1</td>\n",
              "      <td>1364</td>\n",
              "    </tr>\n",
              "  </tbody>\n",
              "</table>\n",
              "</div>\n",
              "    <div class=\"colab-df-buttons\">\n",
              "\n",
              "  <div class=\"colab-df-container\">\n",
              "    <button class=\"colab-df-convert\" onclick=\"convertToInteractive('df-95ae8c9a-5e45-4b69-bbac-01c895e6cdeb')\"\n",
              "            title=\"Convert this dataframe to an interactive table.\"\n",
              "            style=\"display:none;\">\n",
              "\n",
              "  <svg xmlns=\"http://www.w3.org/2000/svg\" height=\"24px\" viewBox=\"0 -960 960 960\">\n",
              "    <path d=\"M120-120v-720h720v720H120Zm60-500h600v-160H180v160Zm220 220h160v-160H400v160Zm0 220h160v-160H400v160ZM180-400h160v-160H180v160Zm440 0h160v-160H620v160ZM180-180h160v-160H180v160Zm440 0h160v-160H620v160Z\"/>\n",
              "  </svg>\n",
              "    </button>\n",
              "\n",
              "  <style>\n",
              "    .colab-df-container {\n",
              "      display:flex;\n",
              "      gap: 12px;\n",
              "    }\n",
              "\n",
              "    .colab-df-convert {\n",
              "      background-color: #E8F0FE;\n",
              "      border: none;\n",
              "      border-radius: 50%;\n",
              "      cursor: pointer;\n",
              "      display: none;\n",
              "      fill: #1967D2;\n",
              "      height: 32px;\n",
              "      padding: 0 0 0 0;\n",
              "      width: 32px;\n",
              "    }\n",
              "\n",
              "    .colab-df-convert:hover {\n",
              "      background-color: #E2EBFA;\n",
              "      box-shadow: 0px 1px 2px rgba(60, 64, 67, 0.3), 0px 1px 3px 1px rgba(60, 64, 67, 0.15);\n",
              "      fill: #174EA6;\n",
              "    }\n",
              "\n",
              "    .colab-df-buttons div {\n",
              "      margin-bottom: 4px;\n",
              "    }\n",
              "\n",
              "    [theme=dark] .colab-df-convert {\n",
              "      background-color: #3B4455;\n",
              "      fill: #D2E3FC;\n",
              "    }\n",
              "\n",
              "    [theme=dark] .colab-df-convert:hover {\n",
              "      background-color: #434B5C;\n",
              "      box-shadow: 0px 1px 3px 1px rgba(0, 0, 0, 0.15);\n",
              "      filter: drop-shadow(0px 1px 2px rgba(0, 0, 0, 0.3));\n",
              "      fill: #FFFFFF;\n",
              "    }\n",
              "  </style>\n",
              "\n",
              "    <script>\n",
              "      const buttonEl =\n",
              "        document.querySelector('#df-95ae8c9a-5e45-4b69-bbac-01c895e6cdeb button.colab-df-convert');\n",
              "      buttonEl.style.display =\n",
              "        google.colab.kernel.accessAllowed ? 'block' : 'none';\n",
              "\n",
              "      async function convertToInteractive(key) {\n",
              "        const element = document.querySelector('#df-95ae8c9a-5e45-4b69-bbac-01c895e6cdeb');\n",
              "        const dataTable =\n",
              "          await google.colab.kernel.invokeFunction('convertToInteractive',\n",
              "                                                    [key], {});\n",
              "        if (!dataTable) return;\n",
              "\n",
              "        const docLinkHtml = 'Like what you see? Visit the ' +\n",
              "          '<a target=\"_blank\" href=https://colab.research.google.com/notebooks/data_table.ipynb>data table notebook</a>'\n",
              "          + ' to learn more about interactive tables.';\n",
              "        element.innerHTML = '';\n",
              "        dataTable['output_type'] = 'display_data';\n",
              "        await google.colab.output.renderOutput(dataTable, element);\n",
              "        const docLink = document.createElement('div');\n",
              "        docLink.innerHTML = docLinkHtml;\n",
              "        element.appendChild(docLink);\n",
              "      }\n",
              "    </script>\n",
              "  </div>\n",
              "\n",
              "\n",
              "<div id=\"df-43d396d8-ac22-431a-a2d8-6e8b44165dc3\">\n",
              "  <button class=\"colab-df-quickchart\" onclick=\"quickchart('df-43d396d8-ac22-431a-a2d8-6e8b44165dc3')\"\n",
              "            title=\"Suggest charts\"\n",
              "            style=\"display:none;\">\n",
              "\n",
              "<svg xmlns=\"http://www.w3.org/2000/svg\" height=\"24px\"viewBox=\"0 0 24 24\"\n",
              "     width=\"24px\">\n",
              "    <g>\n",
              "        <path d=\"M19 3H5c-1.1 0-2 .9-2 2v14c0 1.1.9 2 2 2h14c1.1 0 2-.9 2-2V5c0-1.1-.9-2-2-2zM9 17H7v-7h2v7zm4 0h-2V7h2v10zm4 0h-2v-4h2v4z\"/>\n",
              "    </g>\n",
              "</svg>\n",
              "  </button>\n",
              "\n",
              "<style>\n",
              "  .colab-df-quickchart {\n",
              "      --bg-color: #E8F0FE;\n",
              "      --fill-color: #1967D2;\n",
              "      --hover-bg-color: #E2EBFA;\n",
              "      --hover-fill-color: #174EA6;\n",
              "      --disabled-fill-color: #AAA;\n",
              "      --disabled-bg-color: #DDD;\n",
              "  }\n",
              "\n",
              "  [theme=dark] .colab-df-quickchart {\n",
              "      --bg-color: #3B4455;\n",
              "      --fill-color: #D2E3FC;\n",
              "      --hover-bg-color: #434B5C;\n",
              "      --hover-fill-color: #FFFFFF;\n",
              "      --disabled-bg-color: #3B4455;\n",
              "      --disabled-fill-color: #666;\n",
              "  }\n",
              "\n",
              "  .colab-df-quickchart {\n",
              "    background-color: var(--bg-color);\n",
              "    border: none;\n",
              "    border-radius: 50%;\n",
              "    cursor: pointer;\n",
              "    display: none;\n",
              "    fill: var(--fill-color);\n",
              "    height: 32px;\n",
              "    padding: 0;\n",
              "    width: 32px;\n",
              "  }\n",
              "\n",
              "  .colab-df-quickchart:hover {\n",
              "    background-color: var(--hover-bg-color);\n",
              "    box-shadow: 0 1px 2px rgba(60, 64, 67, 0.3), 0 1px 3px 1px rgba(60, 64, 67, 0.15);\n",
              "    fill: var(--button-hover-fill-color);\n",
              "  }\n",
              "\n",
              "  .colab-df-quickchart-complete:disabled,\n",
              "  .colab-df-quickchart-complete:disabled:hover {\n",
              "    background-color: var(--disabled-bg-color);\n",
              "    fill: var(--disabled-fill-color);\n",
              "    box-shadow: none;\n",
              "  }\n",
              "\n",
              "  .colab-df-spinner {\n",
              "    border: 2px solid var(--fill-color);\n",
              "    border-color: transparent;\n",
              "    border-bottom-color: var(--fill-color);\n",
              "    animation:\n",
              "      spin 1s steps(1) infinite;\n",
              "  }\n",
              "\n",
              "  @keyframes spin {\n",
              "    0% {\n",
              "      border-color: transparent;\n",
              "      border-bottom-color: var(--fill-color);\n",
              "      border-left-color: var(--fill-color);\n",
              "    }\n",
              "    20% {\n",
              "      border-color: transparent;\n",
              "      border-left-color: var(--fill-color);\n",
              "      border-top-color: var(--fill-color);\n",
              "    }\n",
              "    30% {\n",
              "      border-color: transparent;\n",
              "      border-left-color: var(--fill-color);\n",
              "      border-top-color: var(--fill-color);\n",
              "      border-right-color: var(--fill-color);\n",
              "    }\n",
              "    40% {\n",
              "      border-color: transparent;\n",
              "      border-right-color: var(--fill-color);\n",
              "      border-top-color: var(--fill-color);\n",
              "    }\n",
              "    60% {\n",
              "      border-color: transparent;\n",
              "      border-right-color: var(--fill-color);\n",
              "    }\n",
              "    80% {\n",
              "      border-color: transparent;\n",
              "      border-right-color: var(--fill-color);\n",
              "      border-bottom-color: var(--fill-color);\n",
              "    }\n",
              "    90% {\n",
              "      border-color: transparent;\n",
              "      border-bottom-color: var(--fill-color);\n",
              "    }\n",
              "  }\n",
              "</style>\n",
              "\n",
              "  <script>\n",
              "    async function quickchart(key) {\n",
              "      const quickchartButtonEl =\n",
              "        document.querySelector('#' + key + ' button');\n",
              "      quickchartButtonEl.disabled = true;  // To prevent multiple clicks.\n",
              "      quickchartButtonEl.classList.add('colab-df-spinner');\n",
              "      try {\n",
              "        const charts = await google.colab.kernel.invokeFunction(\n",
              "            'suggestCharts', [key], {});\n",
              "      } catch (error) {\n",
              "        console.error('Error during call to suggestCharts:', error);\n",
              "      }\n",
              "      quickchartButtonEl.classList.remove('colab-df-spinner');\n",
              "      quickchartButtonEl.classList.add('colab-df-quickchart-complete');\n",
              "    }\n",
              "    (() => {\n",
              "      let quickchartButtonEl =\n",
              "        document.querySelector('#df-43d396d8-ac22-431a-a2d8-6e8b44165dc3 button');\n",
              "      quickchartButtonEl.style.display =\n",
              "        google.colab.kernel.accessAllowed ? 'block' : 'none';\n",
              "    })();\n",
              "  </script>\n",
              "</div>\n",
              "    </div>\n",
              "  </div>\n"
            ],
            "application/vnd.google.colaboratory.intrinsic+json": {
              "type": "dataframe",
              "variable_name": "products_df",
              "summary": "{\n  \"name\": \"products_df\",\n  \"rows\": 19223,\n  \"fields\": [\n    {\n      \"column\": \"sku\",\n      \"properties\": {\n        \"dtype\": \"string\",\n        \"num_unique_values\": 10477,\n        \"samples\": [\n          \"WAC0163\",\n          \"PAC2392\",\n          \"PAC2205\"\n        ],\n        \"semantic_type\": \"\",\n        \"description\": \"\"\n      }\n    },\n    {\n      \"column\": \"name\",\n      \"properties\": {\n        \"dtype\": \"string\",\n        \"num_unique_values\": 10273,\n        \"samples\": [\n          \"Synology DS418 NAS Server | 2GB RAM | 32TB (4x8TB) Seagate Iron Wolf\",\n          \"Apple iMac 21.5 \\\"Core i7 4K Retina 36Ghz | 8GB | 512GB SSD\",\n          \"(Open) OWC Mercury Aura Pro SSD 240GB MacBook Air 2008/2009\"\n        ],\n        \"semantic_type\": \"\",\n        \"description\": \"\"\n      }\n    },\n    {\n      \"column\": \"desc\",\n      \"properties\": {\n        \"dtype\": \"category\",\n        \"num_unique_values\": 7051,\n        \"samples\": [\n          \"Disc pointer with precision and without connecting to iPhone and iPad\",\n          \"Kit + switch motion sensor for devices via App\",\n          \"Apple iMac desktop Core i5 21.5-inch Retina display 31 GHz 8GB RAM 4K Fusion Drive 2TB (MK452Y / A).\"\n        ],\n        \"semantic_type\": \"\",\n        \"description\": \"\"\n      }\n    },\n    {\n      \"column\": \"price\",\n      \"properties\": {\n        \"dtype\": \"category\",\n        \"num_unique_values\": 2681,\n        \"samples\": [\n          \"6.95\",\n          \"1166.44\",\n          \"3.739.696\"\n        ],\n        \"semantic_type\": \"\",\n        \"description\": \"\"\n      }\n    },\n    {\n      \"column\": \"promo_price\",\n      \"properties\": {\n        \"dtype\": \"category\",\n        \"num_unique_values\": 4594,\n        \"samples\": [\n          \"14.119.623\",\n          \"412.368\",\n          \"24.403.679\"\n        ],\n        \"semantic_type\": \"\",\n        \"description\": \"\"\n      }\n    },\n    {\n      \"column\": \"in_stock\",\n      \"properties\": {\n        \"dtype\": \"number\",\n        \"std\": 0,\n        \"min\": 0,\n        \"max\": 1,\n        \"num_unique_values\": 2,\n        \"samples\": [\n          0,\n          1\n        ],\n        \"semantic_type\": \"\",\n        \"description\": \"\"\n      }\n    },\n    {\n      \"column\": \"type\",\n      \"properties\": {\n        \"dtype\": \"category\",\n        \"num_unique_values\": 126,\n        \"samples\": [\n          \"2434\",\n          \"12755395\"\n        ],\n        \"semantic_type\": \"\",\n        \"description\": \"\"\n      }\n    }\n  ]\n}"
            }
          },
          "metadata": {},
          "execution_count": 44
        }
      ]
    },
    {
      "cell_type": "markdown",
      "metadata": {
        "id": "4x6xeGDu_B0N"
      },
      "source": [
        "### Check / Change Data types"
      ]
    },
    {
      "cell_type": "code",
      "execution_count": 49,
      "metadata": {
        "id": "3evkDaafvFUq",
        "outputId": "a601a9f6-9e52-4334-ad37-a181efe98bbc",
        "colab": {
          "base_uri": "https://localhost:8080/"
        }
      },
      "outputs": [
        {
          "output_type": "stream",
          "name": "stdout",
          "text": [
            "<class 'pandas.core.frame.DataFrame'>\n",
            "Int64Index: 19223 entries, 0 to 19325\n",
            "Data columns (total 7 columns):\n",
            " #   Column       Non-Null Count  Dtype \n",
            "---  ------       --------------  ----- \n",
            " 0   sku          19223 non-null  object\n",
            " 1   name         19223 non-null  object\n",
            " 2   desc         19223 non-null  object\n",
            " 3   price        19223 non-null  object\n",
            " 4   promo_price  19223 non-null  object\n",
            " 5   in_stock     19223 non-null  int64 \n",
            " 6   type         19223 non-null  object\n",
            "dtypes: int64(1), object(6)\n",
            "memory usage: 1.2+ MB\n"
          ]
        }
      ],
      "source": [
        "# check the info of the dataframe\n",
        "products_df.info()"
      ]
    },
    {
      "cell_type": "code",
      "source": [
        "# price, promo_price and the type should have the int64 Datatype\n",
        "# check the 2 decimal points in the price column\n",
        "products_df.price.str.contains(\"\\d+\\.\\d+\\.\\d+\").value_counts()"
      ],
      "metadata": {
        "id": "vrgWKb1-OWMz",
        "outputId": "3b7b4195-e22a-4eda-f4bb-4bd17422caa3",
        "colab": {
          "base_uri": "https://localhost:8080/"
        }
      },
      "execution_count": 50,
      "outputs": [
        {
          "output_type": "execute_result",
          "data": {
            "text/plain": [
              "False    18796\n",
              "True       427\n",
              "Name: price, dtype: int64"
            ]
          },
          "metadata": {},
          "execution_count": 50
        }
      ]
    },
    {
      "cell_type": "code",
      "source": [
        "# 427 rows have the 2 decimal points\n",
        "two_dot_percentage = ((products_df.price.str.contains(\"\\d+\\.\\d+\\.\\d+\").value_counts()[1] / products_df.shape[0])*100).round(2)\n",
        "print(f\"The 2 dot problem represents {two_dot_percentage}% of the rows in our DataFrame\") #price column"
      ],
      "metadata": {
        "id": "3UZOdQYHO5GU",
        "outputId": "bad3f121-36e2-42b1-ec60-63fc243cc2f5",
        "colab": {
          "base_uri": "https://localhost:8080/"
        }
      },
      "execution_count": 51,
      "outputs": [
        {
          "output_type": "stream",
          "name": "stdout",
          "text": [
            "The 2 dot problem represents 2.22% of the rows in our DataFrame\n"
          ]
        }
      ]
    },
    {
      "cell_type": "code",
      "source": [
        "# check the 2 decimal points in the promo_price column\n",
        "products_df.promo_price.str.contains(\"\\d+\\.\\d+\\.\\d+\").value_counts()"
      ],
      "metadata": {
        "id": "CR76XoEpPd34",
        "outputId": "6865a3ad-c9c3-40f8-c187-25df49f1061e",
        "colab": {
          "base_uri": "https://localhost:8080/"
        }
      },
      "execution_count": 52,
      "outputs": [
        {
          "output_type": "execute_result",
          "data": {
            "text/plain": [
              "True     12861\n",
              "False     6362\n",
              "Name: promo_price, dtype: int64"
            ]
          },
          "metadata": {},
          "execution_count": 52
        }
      ]
    },
    {
      "cell_type": "code",
      "source": [
        "# 6362 rows have the 2 decimal points\n",
        "two_dot_percentage = ((products_df.promo_price.str.contains(\"\\d+\\.\\d+\\.\\d+\").value_counts()[1] / products_df.shape[0])*100).round(2)\n",
        "print(f\"The 2 dot problem represents {two_dot_percentage}% of the rows in our DataFrame\") #price column"
      ],
      "metadata": {
        "id": "NqkRMrxYPp8Y",
        "outputId": "563332b7-f22d-4bc8-ef77-8c668a74a16a",
        "colab": {
          "base_uri": "https://localhost:8080/"
        }
      },
      "execution_count": 53,
      "outputs": [
        {
          "output_type": "stream",
          "name": "stdout",
          "text": [
            "The 2 dot problem represents 33.1% of the rows in our DataFrame\n"
          ]
        }
      ]
    },
    {
      "cell_type": "code",
      "source": [
        "# price only have 2.2% 2 decimal points, therefore we can delete the rows\n"
      ],
      "metadata": {
        "id": "I4jnQfM7P2c1"
      },
      "execution_count": null,
      "outputs": []
    }
  ],
  "metadata": {
    "colab": {
      "provenance": [],
      "include_colab_link": true
    },
    "kernelspec": {
      "display_name": "Python 3",
      "name": "python3"
    },
    "language_info": {
      "name": "python",
      "version": "3.11.5"
    }
  },
  "nbformat": 4,
  "nbformat_minor": 0
}