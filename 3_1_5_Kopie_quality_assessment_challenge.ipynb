{
  "nbformat": 4,
  "nbformat_minor": 0,
  "metadata": {
    "colab": {
      "provenance": [],
      "collapsed_sections": [
        "GjQD8WPe6h0i",
        "M0NhTKzF6jV4",
        "F-rtzwAn7WyS",
        "_d1lwist8F6X",
        "UpynvRcO8QBr",
        "NINPK4rB8TSY",
        "xPos2ipK8VST",
        "FWROzNEd8b8d"
      ],
      "toc_visible": true,
      "include_colab_link": true
    },
    "kernelspec": {
      "name": "python3",
      "display_name": "Python 3"
    },
    "language_info": {
      "name": "python"
    }
  },
  "cells": [
    {
      "cell_type": "markdown",
      "metadata": {
        "id": "view-in-github",
        "colab_type": "text"
      },
      "source": [
        "<a href=\"https://colab.research.google.com/github/PhoenixCC0722/Journey_to_become_DataScientist/blob/main/3_1_5_Kopie_quality_assessment_challenge.ipynb\" target=\"_parent\"><img src=\"https://colab.research.google.com/assets/colab-badge.svg\" alt=\"Open In Colab\"/></a>"
      ]
    },
    {
      "cell_type": "markdown",
      "source": [
        "# Quality Assessment\n",
        "Now it's your turn. Follow [the steps on the platform](https://learn.wbscodingschool.com/courses/data-science/lessons/%f0%9f%93%9d-5-data-quality/) and use what you've learnt to see how reliable the data is."
      ],
      "metadata": {
        "id": "aSm5aaRLtFLx"
      }
    },
    {
      "cell_type": "code",
      "source": [
        "import pandas as pd"
      ],
      "metadata": {
        "id": "Lq7zsZka4q2m"
      },
      "execution_count": 13,
      "outputs": []
    },
    {
      "cell_type": "markdown",
      "source": [
        "Load our cleaned DataFrames"
      ],
      "metadata": {
        "id": "hzwXSr-xfh97"
      }
    },
    {
      "cell_type": "code",
      "source": [
        "# orders_cl.csv\n",
        "url = \"https://drive.google.com/file/d/1Tla62vfu__kCqvgypZyVt2S9VuC016yH/view?usp=sharing\"\n",
        "path = \"https://drive.google.com/uc?export=download&id=\"+url.split(\"/\")[-2]\n",
        "orders_cl = pd.read_csv(path)\n",
        "\n",
        "# orderlines_cl.csv\n",
        "url = \"https://drive.google.com/file/d/1OhtkQS2fwOYdzfd-qPh7im35iLc-L9TA/view?usp=sharing\"\n",
        "path = \"https://drive.google.com/uc?export=download&id=\"+url.split(\"/\")[-2]\n",
        "orderlines_cl = pd.read_csv(path)\n",
        "\n",
        "# products_cl.csv\n",
        "url = \"https://drive.google.com/file/d/1s7Lai4NSlsYjGEPg1QSOUJobNYVsZBOJ/view?usp=sharing\"\n",
        "path = \"https://drive.google.com/uc?export=download&id=\"+url.split(\"/\")[-2]\n",
        "products_cl = pd.read_csv(path)"
      ],
      "metadata": {
        "id": "30IJsE7t49Eu"
      },
      "execution_count": 14,
      "outputs": []
    },
    {
      "cell_type": "markdown",
      "source": [
        "## 1.&nbsp; Define Pandas display format"
      ],
      "metadata": {
        "id": "GjQD8WPe6h0i"
      }
    },
    {
      "cell_type": "code",
      "execution_count": 15,
      "metadata": {
        "id": "SLikKmNx4WNo"
      },
      "outputs": [],
      "source": [
        "pd.set_option('display.float_format', lambda x: '%.2f' % x) # format floating-point numbers to two decimal places\n",
        "pd.set_option('display.max_rows',1000)"
      ]
    },
    {
      "cell_type": "markdown",
      "source": [
        "## 2.&nbsp; Exclude unwanted orders"
      ],
      "metadata": {
        "id": "M0NhTKzF6jV4"
      }
    },
    {
      "cell_type": "code",
      "source": [
        "\"\"\"\n",
        "# 2nd, make sure that orders in the dataset are in both orders and orderlines\n",
        "# orders –> Keep only orders with the states that you want to work with.\n",
        "or_df = orders_cl.copy()\n",
        "#print(or_df.state.unique()) # ['Cancelled' 'Completed' 'Pending' 'Shopping Basket' 'Place Order']\n",
        "or_df.state.value_counts()\n",
        "filt_or_df = or_df.loc[or_df.state == 'Completed',:]\n",
        "#print(filt_or_df.state.unique())\n",
        "# orderlines –> Keep only orders present in orders.\n",
        "# orders –> Keep only orders present in orderlines.\n",
        "ol_df = orderlines_cl.copy()\n",
        "print(ol_df.columns, filt_or_df.columns, sep='\\n')\n",
        "ol_df = ol_df.rename(columns={'id_order':'order_id'})\n",
        "merge_df = pd.merge(ol_df, filt_or_df, on='order_id', how='inner')\n",
        "merge_df.head(20)\n",
        "\"\"\""
      ],
      "metadata": {
        "id": "ja0XpsDDkZrT"
      },
      "execution_count": null,
      "outputs": []
    },
    {
      "cell_type": "markdown",
      "source": [
        "Step 1. choose only the order with the state are completed, first we have to Let's create a copy of the orders_cl DataFrame, to make sure any of our changes won't affect the original DataFrame."
      ],
      "metadata": {
        "id": "jdRQvqc7Wrqw"
      }
    },
    {
      "cell_type": "code",
      "source": [
        "or_df = orders_cl.copy()\n",
        "#print(or_df.state.unique()) # ['Cancelled' 'Completed' 'Pending' 'Shopping Basket' 'Place Order']\n",
        "or_df.state.value_counts()"
      ],
      "metadata": {
        "colab": {
          "base_uri": "https://localhost:8080/"
        },
        "id": "IwRj2xS9WxSB",
        "outputId": "c77bcbaf-7be3-4c51-99ce-1d233e70451a"
      },
      "execution_count": 17,
      "outputs": [
        {
          "output_type": "execute_result",
          "data": {
            "text/plain": [
              "Shopping Basket    117809\n",
              "Completed           46605\n",
              "Place Order         40883\n",
              "Pending             14374\n",
              "Cancelled            7233\n",
              "Name: state, dtype: int64"
            ]
          },
          "metadata": {},
          "execution_count": 17
        }
      ]
    },
    {
      "cell_type": "markdown",
      "source": [
        "Step 2. Seems like a hugh amount of the orders are not completed, we are only interested in the completed orders"
      ],
      "metadata": {
        "id": "iBIucwlwW_o3"
      }
    },
    {
      "cell_type": "code",
      "source": [
        "completed_or_df = or_df.loc[or_df.state == 'Completed',:]\n",
        "completed_or_df.info()"
      ],
      "metadata": {
        "colab": {
          "base_uri": "https://localhost:8080/"
        },
        "id": "6wZj1QNrXNML",
        "outputId": "72b84690-3176-430a-fdba-5c89c5f46371"
      },
      "execution_count": 18,
      "outputs": [
        {
          "output_type": "stream",
          "name": "stdout",
          "text": [
            "<class 'pandas.core.frame.DataFrame'>\n",
            "Int64Index: 46605 entries, 1 to 226614\n",
            "Data columns (total 4 columns):\n",
            " #   Column        Non-Null Count  Dtype  \n",
            "---  ------        --------------  -----  \n",
            " 0   order_id      46605 non-null  int64  \n",
            " 1   created_date  46605 non-null  object \n",
            " 2   total_paid    46605 non-null  float64\n",
            " 3   state         46605 non-null  object \n",
            "dtypes: float64(1), int64(1), object(2)\n",
            "memory usage: 1.8+ MB\n"
          ]
        }
      ]
    },
    {
      "cell_type": "markdown",
      "source": [
        "Step 2. Alternative filtering method"
      ],
      "metadata": {
        "id": "h-pfxq1wYjLF"
      }
    },
    {
      "cell_type": "code",
      "source": [
        "# rows_to_drop = ['Cancelled','Pending','Shopping Basket','Place Order']\n",
        "# completed_or_df = or_df.loc[~or_df['state'].isin(rows_to_drop)]\n",
        "\n",
        "# mask = or_df['state'].isin(['Cancelled','Pending','Shopping Basket','Place Order'])\n",
        "# completed_or_df = or_df.loc[or_df[mask].index[:]]"
      ],
      "metadata": {
        "id": "PQ-JMo4wYpNJ"
      },
      "execution_count": null,
      "outputs": []
    },
    {
      "cell_type": "markdown",
      "source": [
        "Step 2-1. is there any duplicates proudcts in the order dataframe"
      ],
      "metadata": {
        "id": "4DQdvb1zWmFT"
      }
    },
    {
      "cell_type": "code",
      "source": [
        "len(list(completed_or_df.order_id.unique())) #46605, no duplicates"
      ],
      "metadata": {
        "id": "AuQeaxlctSPx",
        "outputId": "7f2cc61c-a5a6-470b-b0e0-85a47ae9578c",
        "colab": {
          "base_uri": "https://localhost:8080/"
        }
      },
      "execution_count": 19,
      "outputs": [
        {
          "output_type": "execute_result",
          "data": {
            "text/plain": [
              "46605"
            ]
          },
          "metadata": {},
          "execution_count": 19
        }
      ]
    },
    {
      "cell_type": "markdown",
      "source": [
        "Step 3. merge the completed_or_df with the ol_df together with innerjoin, then the unwanted order will not included"
      ],
      "metadata": {
        "id": "o1w2Gmnr9Vwl"
      }
    },
    {
      "cell_type": "code",
      "source": [
        "ol_df = orderlines_cl.copy()\n",
        "merge_completed_or_ol_df = pd.merge(completed_or_df, ol_df, how='inner', left_on='order_id', right_on='id_order')\n",
        "len(list(merge_completed_or_ol_df.order_id.unique()))"
      ],
      "metadata": {
        "id": "-wE3PNjf9nzn",
        "outputId": "9d956081-44e7-40d4-99ee-831f4f8b4c31",
        "colab": {
          "base_uri": "https://localhost:8080/"
        }
      },
      "execution_count": 21,
      "outputs": [
        {
          "output_type": "execute_result",
          "data": {
            "text/plain": [
              "43064"
            ]
          },
          "metadata": {},
          "execution_count": 21
        }
      ]
    },
    {
      "cell_type": "markdown",
      "source": [
        "## 3.&nbsp; Exclude orders with unknown products\n"
      ],
      "metadata": {
        "id": "F-rtzwAn7WyS"
      }
    },
    {
      "cell_type": "markdown",
      "source": [
        "3.1 first have to check out how many sku categories are there and if there are any duplicated values"
      ],
      "metadata": {
        "id": "DT0rM3zZAt4n"
      }
    },
    {
      "cell_type": "code",
      "source": [
        "pd_df = products_cl.copy()\n",
        "pd_df.sku.nunique() #9992\n",
        "pd_df.sku.duplicated().sum() # no duplicated values"
      ],
      "metadata": {
        "id": "EkNqtrfdJGAW",
        "colab": {
          "base_uri": "https://localhost:8080/"
        },
        "outputId": "c248ccf5-7db1-4432-ad3e-7c3acb31eb72"
      },
      "execution_count": 32,
      "outputs": [
        {
          "output_type": "execute_result",
          "data": {
            "text/plain": [
              "0"
            ]
          },
          "metadata": {},
          "execution_count": 32
        }
      ]
    },
    {
      "cell_type": "markdown",
      "source": [
        "3.2 wenn die sku not in the products Dataframe, then we delete the whole row in both the orders and orderline tables"
      ],
      "metadata": {
        "id": "Oj5xSsWbAqIk"
      }
    },
    {
      "cell_type": "code",
      "source": [
        "print(merge_completed_or_ol_df.shape[0])"
      ],
      "metadata": {
        "id": "tfOxd0pMBKJb",
        "outputId": "c000b3b1-92be-4d91-e85c-3d2d41f0c3b8",
        "colab": {
          "base_uri": "https://localhost:8080/"
        }
      },
      "execution_count": 38,
      "outputs": [
        {
          "output_type": "stream",
          "name": "stdout",
          "text": [
            "56714\n"
          ]
        }
      ]
    },
    {
      "cell_type": "code",
      "source": [
        "merge_df_exclude = merge_completed_or_ol_df.loc[merge_completed_or_ol_df.sku.isin(pd_df['sku']),:]\n",
        "#len(list(merge_df_exclude.sku.unique()))\n",
        "#merge_df_exclude.head()\n",
        "len(list(merge_df_exclude.order_id.unique()))\n",
        "#print(merge_df_exclude.shape[0])"
      ],
      "metadata": {
        "id": "JZAiYrjH_fIV",
        "outputId": "1b12465b-0318-40e6-982f-e5fed264b8dc",
        "colab": {
          "base_uri": "https://localhost:8080/"
        }
      },
      "execution_count": 40,
      "outputs": [
        {
          "output_type": "execute_result",
          "data": {
            "text/plain": [
              "42259"
            ]
          },
          "metadata": {},
          "execution_count": 40
        }
      ]
    },
    {
      "cell_type": "markdown",
      "source": [
        "# 4.  Explore the revenue from different tables"
      ],
      "metadata": {
        "id": "3U-7oYtXgkRs"
      }
    },
    {
      "cell_type": "markdown",
      "source": [
        "#### Step 1:\n",
        "Create the `unit_price_total` as `orderlines.unit_price` * `orderlines.product_quantity`"
      ],
      "metadata": {
        "id": "CrmrCXypbflw"
      }
    },
    {
      "cell_type": "code",
      "source": [
        "merge_df_exclude.head()"
      ],
      "metadata": {
        "id": "1cBOC3UpGJ7f",
        "outputId": "7815c850-b000-4506-fafe-d0f36929ebb0",
        "colab": {
          "base_uri": "https://localhost:8080/",
          "height": 206
        }
      },
      "execution_count": 42,
      "outputs": [
        {
          "output_type": "execute_result",
          "data": {
            "text/plain": [
              "   order_id         created_date  total_paid      state       id  id_order  \\\n",
              "0    241423  2017-11-06 13:10:02      136.15  Completed  1398738    241423   \n",
              "1    242832  2017-12-31 17:40:03       15.76  Completed  1529178    242832   \n",
              "2    243330  2017-02-16 10:59:38       84.98  Completed  1181923    243330   \n",
              "3    245275  2017-06-28 11:35:37      149.00  Completed  1276706    245275   \n",
              "4    245595  2017-01-21 12:52:47      112.97  Completed  1154394    245595   \n",
              "\n",
              "   product_id  product_quantity      sku  unit_price                 date  \n",
              "0           0                 1  LAC0212      129.16  2017-11-06 12:47:20  \n",
              "1           0                 1  PAR0074       10.77  2017-12-31 17:26:40  \n",
              "2           0                 1  OWC0074       77.99  2017-02-15 17:07:44  \n",
              "3           0                 1  TAD0007      149.00  2017-06-28 11:12:30  \n",
              "4           0                 2  PAC1561       52.99  2017-01-21 12:49:00  "
            ],
            "text/html": [
              "\n",
              "  <div id=\"df-adcb5347-a031-468b-9417-7afec3dc9d39\" class=\"colab-df-container\">\n",
              "    <div>\n",
              "<style scoped>\n",
              "    .dataframe tbody tr th:only-of-type {\n",
              "        vertical-align: middle;\n",
              "    }\n",
              "\n",
              "    .dataframe tbody tr th {\n",
              "        vertical-align: top;\n",
              "    }\n",
              "\n",
              "    .dataframe thead th {\n",
              "        text-align: right;\n",
              "    }\n",
              "</style>\n",
              "<table border=\"1\" class=\"dataframe\">\n",
              "  <thead>\n",
              "    <tr style=\"text-align: right;\">\n",
              "      <th></th>\n",
              "      <th>order_id</th>\n",
              "      <th>created_date</th>\n",
              "      <th>total_paid</th>\n",
              "      <th>state</th>\n",
              "      <th>id</th>\n",
              "      <th>id_order</th>\n",
              "      <th>product_id</th>\n",
              "      <th>product_quantity</th>\n",
              "      <th>sku</th>\n",
              "      <th>unit_price</th>\n",
              "      <th>date</th>\n",
              "    </tr>\n",
              "  </thead>\n",
              "  <tbody>\n",
              "    <tr>\n",
              "      <th>0</th>\n",
              "      <td>241423</td>\n",
              "      <td>2017-11-06 13:10:02</td>\n",
              "      <td>136.15</td>\n",
              "      <td>Completed</td>\n",
              "      <td>1398738</td>\n",
              "      <td>241423</td>\n",
              "      <td>0</td>\n",
              "      <td>1</td>\n",
              "      <td>LAC0212</td>\n",
              "      <td>129.16</td>\n",
              "      <td>2017-11-06 12:47:20</td>\n",
              "    </tr>\n",
              "    <tr>\n",
              "      <th>1</th>\n",
              "      <td>242832</td>\n",
              "      <td>2017-12-31 17:40:03</td>\n",
              "      <td>15.76</td>\n",
              "      <td>Completed</td>\n",
              "      <td>1529178</td>\n",
              "      <td>242832</td>\n",
              "      <td>0</td>\n",
              "      <td>1</td>\n",
              "      <td>PAR0074</td>\n",
              "      <td>10.77</td>\n",
              "      <td>2017-12-31 17:26:40</td>\n",
              "    </tr>\n",
              "    <tr>\n",
              "      <th>2</th>\n",
              "      <td>243330</td>\n",
              "      <td>2017-02-16 10:59:38</td>\n",
              "      <td>84.98</td>\n",
              "      <td>Completed</td>\n",
              "      <td>1181923</td>\n",
              "      <td>243330</td>\n",
              "      <td>0</td>\n",
              "      <td>1</td>\n",
              "      <td>OWC0074</td>\n",
              "      <td>77.99</td>\n",
              "      <td>2017-02-15 17:07:44</td>\n",
              "    </tr>\n",
              "    <tr>\n",
              "      <th>3</th>\n",
              "      <td>245275</td>\n",
              "      <td>2017-06-28 11:35:37</td>\n",
              "      <td>149.00</td>\n",
              "      <td>Completed</td>\n",
              "      <td>1276706</td>\n",
              "      <td>245275</td>\n",
              "      <td>0</td>\n",
              "      <td>1</td>\n",
              "      <td>TAD0007</td>\n",
              "      <td>149.00</td>\n",
              "      <td>2017-06-28 11:12:30</td>\n",
              "    </tr>\n",
              "    <tr>\n",
              "      <th>4</th>\n",
              "      <td>245595</td>\n",
              "      <td>2017-01-21 12:52:47</td>\n",
              "      <td>112.97</td>\n",
              "      <td>Completed</td>\n",
              "      <td>1154394</td>\n",
              "      <td>245595</td>\n",
              "      <td>0</td>\n",
              "      <td>2</td>\n",
              "      <td>PAC1561</td>\n",
              "      <td>52.99</td>\n",
              "      <td>2017-01-21 12:49:00</td>\n",
              "    </tr>\n",
              "  </tbody>\n",
              "</table>\n",
              "</div>\n",
              "    <div class=\"colab-df-buttons\">\n",
              "\n",
              "  <div class=\"colab-df-container\">\n",
              "    <button class=\"colab-df-convert\" onclick=\"convertToInteractive('df-adcb5347-a031-468b-9417-7afec3dc9d39')\"\n",
              "            title=\"Convert this dataframe to an interactive table.\"\n",
              "            style=\"display:none;\">\n",
              "\n",
              "  <svg xmlns=\"http://www.w3.org/2000/svg\" height=\"24px\" viewBox=\"0 -960 960 960\">\n",
              "    <path d=\"M120-120v-720h720v720H120Zm60-500h600v-160H180v160Zm220 220h160v-160H400v160Zm0 220h160v-160H400v160ZM180-400h160v-160H180v160Zm440 0h160v-160H620v160ZM180-180h160v-160H180v160Zm440 0h160v-160H620v160Z\"/>\n",
              "  </svg>\n",
              "    </button>\n",
              "\n",
              "  <style>\n",
              "    .colab-df-container {\n",
              "      display:flex;\n",
              "      gap: 12px;\n",
              "    }\n",
              "\n",
              "    .colab-df-convert {\n",
              "      background-color: #E8F0FE;\n",
              "      border: none;\n",
              "      border-radius: 50%;\n",
              "      cursor: pointer;\n",
              "      display: none;\n",
              "      fill: #1967D2;\n",
              "      height: 32px;\n",
              "      padding: 0 0 0 0;\n",
              "      width: 32px;\n",
              "    }\n",
              "\n",
              "    .colab-df-convert:hover {\n",
              "      background-color: #E2EBFA;\n",
              "      box-shadow: 0px 1px 2px rgba(60, 64, 67, 0.3), 0px 1px 3px 1px rgba(60, 64, 67, 0.15);\n",
              "      fill: #174EA6;\n",
              "    }\n",
              "\n",
              "    .colab-df-buttons div {\n",
              "      margin-bottom: 4px;\n",
              "    }\n",
              "\n",
              "    [theme=dark] .colab-df-convert {\n",
              "      background-color: #3B4455;\n",
              "      fill: #D2E3FC;\n",
              "    }\n",
              "\n",
              "    [theme=dark] .colab-df-convert:hover {\n",
              "      background-color: #434B5C;\n",
              "      box-shadow: 0px 1px 3px 1px rgba(0, 0, 0, 0.15);\n",
              "      filter: drop-shadow(0px 1px 2px rgba(0, 0, 0, 0.3));\n",
              "      fill: #FFFFFF;\n",
              "    }\n",
              "  </style>\n",
              "\n",
              "    <script>\n",
              "      const buttonEl =\n",
              "        document.querySelector('#df-adcb5347-a031-468b-9417-7afec3dc9d39 button.colab-df-convert');\n",
              "      buttonEl.style.display =\n",
              "        google.colab.kernel.accessAllowed ? 'block' : 'none';\n",
              "\n",
              "      async function convertToInteractive(key) {\n",
              "        const element = document.querySelector('#df-adcb5347-a031-468b-9417-7afec3dc9d39');\n",
              "        const dataTable =\n",
              "          await google.colab.kernel.invokeFunction('convertToInteractive',\n",
              "                                                    [key], {});\n",
              "        if (!dataTable) return;\n",
              "\n",
              "        const docLinkHtml = 'Like what you see? Visit the ' +\n",
              "          '<a target=\"_blank\" href=https://colab.research.google.com/notebooks/data_table.ipynb>data table notebook</a>'\n",
              "          + ' to learn more about interactive tables.';\n",
              "        element.innerHTML = '';\n",
              "        dataTable['output_type'] = 'display_data';\n",
              "        await google.colab.output.renderOutput(dataTable, element);\n",
              "        const docLink = document.createElement('div');\n",
              "        docLink.innerHTML = docLinkHtml;\n",
              "        element.appendChild(docLink);\n",
              "      }\n",
              "    </script>\n",
              "  </div>\n",
              "\n",
              "\n",
              "<div id=\"df-2b0c5836-cbf4-41ec-bbe1-22b72e1b5de8\">\n",
              "  <button class=\"colab-df-quickchart\" onclick=\"quickchart('df-2b0c5836-cbf4-41ec-bbe1-22b72e1b5de8')\"\n",
              "            title=\"Suggest charts\"\n",
              "            style=\"display:none;\">\n",
              "\n",
              "<svg xmlns=\"http://www.w3.org/2000/svg\" height=\"24px\"viewBox=\"0 0 24 24\"\n",
              "     width=\"24px\">\n",
              "    <g>\n",
              "        <path d=\"M19 3H5c-1.1 0-2 .9-2 2v14c0 1.1.9 2 2 2h14c1.1 0 2-.9 2-2V5c0-1.1-.9-2-2-2zM9 17H7v-7h2v7zm4 0h-2V7h2v10zm4 0h-2v-4h2v4z\"/>\n",
              "    </g>\n",
              "</svg>\n",
              "  </button>\n",
              "\n",
              "<style>\n",
              "  .colab-df-quickchart {\n",
              "      --bg-color: #E8F0FE;\n",
              "      --fill-color: #1967D2;\n",
              "      --hover-bg-color: #E2EBFA;\n",
              "      --hover-fill-color: #174EA6;\n",
              "      --disabled-fill-color: #AAA;\n",
              "      --disabled-bg-color: #DDD;\n",
              "  }\n",
              "\n",
              "  [theme=dark] .colab-df-quickchart {\n",
              "      --bg-color: #3B4455;\n",
              "      --fill-color: #D2E3FC;\n",
              "      --hover-bg-color: #434B5C;\n",
              "      --hover-fill-color: #FFFFFF;\n",
              "      --disabled-bg-color: #3B4455;\n",
              "      --disabled-fill-color: #666;\n",
              "  }\n",
              "\n",
              "  .colab-df-quickchart {\n",
              "    background-color: var(--bg-color);\n",
              "    border: none;\n",
              "    border-radius: 50%;\n",
              "    cursor: pointer;\n",
              "    display: none;\n",
              "    fill: var(--fill-color);\n",
              "    height: 32px;\n",
              "    padding: 0;\n",
              "    width: 32px;\n",
              "  }\n",
              "\n",
              "  .colab-df-quickchart:hover {\n",
              "    background-color: var(--hover-bg-color);\n",
              "    box-shadow: 0 1px 2px rgba(60, 64, 67, 0.3), 0 1px 3px 1px rgba(60, 64, 67, 0.15);\n",
              "    fill: var(--button-hover-fill-color);\n",
              "  }\n",
              "\n",
              "  .colab-df-quickchart-complete:disabled,\n",
              "  .colab-df-quickchart-complete:disabled:hover {\n",
              "    background-color: var(--disabled-bg-color);\n",
              "    fill: var(--disabled-fill-color);\n",
              "    box-shadow: none;\n",
              "  }\n",
              "\n",
              "  .colab-df-spinner {\n",
              "    border: 2px solid var(--fill-color);\n",
              "    border-color: transparent;\n",
              "    border-bottom-color: var(--fill-color);\n",
              "    animation:\n",
              "      spin 1s steps(1) infinite;\n",
              "  }\n",
              "\n",
              "  @keyframes spin {\n",
              "    0% {\n",
              "      border-color: transparent;\n",
              "      border-bottom-color: var(--fill-color);\n",
              "      border-left-color: var(--fill-color);\n",
              "    }\n",
              "    20% {\n",
              "      border-color: transparent;\n",
              "      border-left-color: var(--fill-color);\n",
              "      border-top-color: var(--fill-color);\n",
              "    }\n",
              "    30% {\n",
              "      border-color: transparent;\n",
              "      border-left-color: var(--fill-color);\n",
              "      border-top-color: var(--fill-color);\n",
              "      border-right-color: var(--fill-color);\n",
              "    }\n",
              "    40% {\n",
              "      border-color: transparent;\n",
              "      border-right-color: var(--fill-color);\n",
              "      border-top-color: var(--fill-color);\n",
              "    }\n",
              "    60% {\n",
              "      border-color: transparent;\n",
              "      border-right-color: var(--fill-color);\n",
              "    }\n",
              "    80% {\n",
              "      border-color: transparent;\n",
              "      border-right-color: var(--fill-color);\n",
              "      border-bottom-color: var(--fill-color);\n",
              "    }\n",
              "    90% {\n",
              "      border-color: transparent;\n",
              "      border-bottom-color: var(--fill-color);\n",
              "    }\n",
              "  }\n",
              "</style>\n",
              "\n",
              "  <script>\n",
              "    async function quickchart(key) {\n",
              "      const quickchartButtonEl =\n",
              "        document.querySelector('#' + key + ' button');\n",
              "      quickchartButtonEl.disabled = true;  // To prevent multiple clicks.\n",
              "      quickchartButtonEl.classList.add('colab-df-spinner');\n",
              "      try {\n",
              "        const charts = await google.colab.kernel.invokeFunction(\n",
              "            'suggestCharts', [key], {});\n",
              "      } catch (error) {\n",
              "        console.error('Error during call to suggestCharts:', error);\n",
              "      }\n",
              "      quickchartButtonEl.classList.remove('colab-df-spinner');\n",
              "      quickchartButtonEl.classList.add('colab-df-quickchart-complete');\n",
              "    }\n",
              "    (() => {\n",
              "      let quickchartButtonEl =\n",
              "        document.querySelector('#df-2b0c5836-cbf4-41ec-bbe1-22b72e1b5de8 button');\n",
              "      quickchartButtonEl.style.display =\n",
              "        google.colab.kernel.accessAllowed ? 'block' : 'none';\n",
              "    })();\n",
              "  </script>\n",
              "</div>\n",
              "    </div>\n",
              "  </div>\n"
            ],
            "application/vnd.google.colaboratory.intrinsic+json": {
              "type": "dataframe",
              "variable_name": "merge_df_exclude",
              "summary": "{\n  \"name\": \"merge_df_exclude\",\n  \"rows\": 55320,\n  \"fields\": [\n    {\n      \"column\": \"order_id\",\n      \"properties\": {\n        \"dtype\": \"number\",\n        \"std\": 65592,\n        \"min\": 241423,\n        \"max\": 527112,\n        \"num_unique_values\": 42259,\n        \"samples\": [\n          415163,\n          526083,\n          466136\n        ],\n        \"semantic_type\": \"\",\n        \"description\": \"\"\n      }\n    },\n    {\n      \"column\": \"created_date\",\n      \"properties\": {\n        \"dtype\": \"object\",\n        \"num_unique_values\": 42180,\n        \"samples\": [\n          \"2017-11-24 12:26:27\",\n          \"2017-12-13 19:13:08\",\n          \"2018-01-03 02:15:37\"\n        ],\n        \"semantic_type\": \"\",\n        \"description\": \"\"\n      }\n    },\n    {\n      \"column\": \"total_paid\",\n      \"properties\": {\n        \"dtype\": \"number\",\n        \"std\": 285.4643489667421,\n        \"min\": 0.0,\n        \"max\": 6876.94,\n        \"num_unique_values\": 10579,\n        \"samples\": [\n          361.17,\n          379.35,\n          117.83\n        ],\n        \"semantic_type\": \"\",\n        \"description\": \"\"\n      }\n    },\n    {\n      \"column\": \"state\",\n      \"properties\": {\n        \"dtype\": \"category\",\n        \"num_unique_values\": 1,\n        \"samples\": [\n          \"Completed\"\n        ],\n        \"semantic_type\": \"\",\n        \"description\": \"\"\n      }\n    },\n    {\n      \"column\": \"id\",\n      \"properties\": {\n        \"dtype\": \"number\",\n        \"std\": 150957,\n        \"min\": 1119116,\n        \"max\": 1649593,\n        \"num_unique_values\": 55320,\n        \"samples\": [\n          1468358\n        ],\n        \"semantic_type\": \"\",\n        \"description\": \"\"\n      }\n    },\n    {\n      \"column\": \"id_order\",\n      \"properties\": {\n        \"dtype\": \"number\",\n        \"std\": 65592,\n        \"min\": 241423,\n        \"max\": 527112,\n        \"num_unique_values\": 42259,\n        \"samples\": [\n          415163\n        ],\n        \"semantic_type\": \"\",\n        \"description\": \"\"\n      }\n    },\n    {\n      \"column\": \"product_id\",\n      \"properties\": {\n        \"dtype\": \"number\",\n        \"std\": 0,\n        \"min\": 0,\n        \"max\": 0,\n        \"num_unique_values\": 1,\n        \"samples\": [\n          0\n        ],\n        \"semantic_type\": \"\",\n        \"description\": \"\"\n      }\n    },\n    {\n      \"column\": \"product_quantity\",\n      \"properties\": {\n        \"dtype\": \"number\",\n        \"std\": 0,\n        \"min\": 1,\n        \"max\": 72,\n        \"num_unique_values\": 27,\n        \"samples\": [\n          32\n        ],\n        \"semantic_type\": \"\",\n        \"description\": \"\"\n      }\n    },\n    {\n      \"column\": \"sku\",\n      \"properties\": {\n        \"dtype\": \"category\",\n        \"num_unique_values\": 5168,\n        \"samples\": [\n          \"WDT0331-A\"\n        ],\n        \"semantic_type\": \"\",\n        \"description\": \"\"\n      }\n    },\n    {\n      \"column\": \"unit_price\",\n      \"properties\": {\n        \"dtype\": \"number\",\n        \"std\": 180.53470629741497,\n        \"min\": 1.0,\n        \"max\": 999.99,\n        \"num_unique_values\": 4787,\n        \"samples\": [\n          464.99\n        ],\n        \"semantic_type\": \"\",\n        \"description\": \"\"\n      }\n    },\n    {\n      \"column\": \"date\",\n      \"properties\": {\n        \"dtype\": \"object\",\n        \"num_unique_values\": 54909,\n        \"samples\": [\n          \"2018-01-11 00:36:54\"\n        ],\n        \"semantic_type\": \"\",\n        \"description\": \"\"\n      }\n    }\n  ]\n}"
            }
          },
          "metadata": {},
          "execution_count": 42
        }
      ]
    },
    {
      "cell_type": "code",
      "source": [
        "# your code here\n",
        "merge_df_exclude['unit_price_total'] = merge_df_exclude['unit_price'] * merge_df_exclude['product_quantity']\n",
        "merge_df_exclude.head()"
      ],
      "metadata": {
        "id": "c8MApY6jatlO",
        "colab": {
          "base_uri": "https://localhost:8080/",
          "height": 316
        },
        "outputId": "81e25ec4-2aa4-493e-8fe0-55411020a120"
      },
      "execution_count": 44,
      "outputs": [
        {
          "output_type": "stream",
          "name": "stderr",
          "text": [
            "<ipython-input-44-231261340d82>:2: SettingWithCopyWarning: \n",
            "A value is trying to be set on a copy of a slice from a DataFrame.\n",
            "Try using .loc[row_indexer,col_indexer] = value instead\n",
            "\n",
            "See the caveats in the documentation: https://pandas.pydata.org/pandas-docs/stable/user_guide/indexing.html#returning-a-view-versus-a-copy\n",
            "  merge_df_exclude['unit_price_total'] = merge_df_exclude['unit_price'] * merge_df_exclude['product_quantity']\n"
          ]
        },
        {
          "output_type": "execute_result",
          "data": {
            "text/plain": [
              "   order_id         created_date  total_paid      state       id  id_order  \\\n",
              "0    241423  2017-11-06 13:10:02      136.15  Completed  1398738    241423   \n",
              "1    242832  2017-12-31 17:40:03       15.76  Completed  1529178    242832   \n",
              "2    243330  2017-02-16 10:59:38       84.98  Completed  1181923    243330   \n",
              "3    245275  2017-06-28 11:35:37      149.00  Completed  1276706    245275   \n",
              "4    245595  2017-01-21 12:52:47      112.97  Completed  1154394    245595   \n",
              "\n",
              "   product_id  product_quantity      sku  unit_price                 date  \\\n",
              "0           0                 1  LAC0212      129.16  2017-11-06 12:47:20   \n",
              "1           0                 1  PAR0074       10.77  2017-12-31 17:26:40   \n",
              "2           0                 1  OWC0074       77.99  2017-02-15 17:07:44   \n",
              "3           0                 1  TAD0007      149.00  2017-06-28 11:12:30   \n",
              "4           0                 2  PAC1561       52.99  2017-01-21 12:49:00   \n",
              "\n",
              "   unit_price_total  \n",
              "0            129.16  \n",
              "1             10.77  \n",
              "2             77.99  \n",
              "3            149.00  \n",
              "4            105.98  "
            ],
            "text/html": [
              "\n",
              "  <div id=\"df-bb28eed2-9c4e-4089-935b-03f06038c1f8\" class=\"colab-df-container\">\n",
              "    <div>\n",
              "<style scoped>\n",
              "    .dataframe tbody tr th:only-of-type {\n",
              "        vertical-align: middle;\n",
              "    }\n",
              "\n",
              "    .dataframe tbody tr th {\n",
              "        vertical-align: top;\n",
              "    }\n",
              "\n",
              "    .dataframe thead th {\n",
              "        text-align: right;\n",
              "    }\n",
              "</style>\n",
              "<table border=\"1\" class=\"dataframe\">\n",
              "  <thead>\n",
              "    <tr style=\"text-align: right;\">\n",
              "      <th></th>\n",
              "      <th>order_id</th>\n",
              "      <th>created_date</th>\n",
              "      <th>total_paid</th>\n",
              "      <th>state</th>\n",
              "      <th>id</th>\n",
              "      <th>id_order</th>\n",
              "      <th>product_id</th>\n",
              "      <th>product_quantity</th>\n",
              "      <th>sku</th>\n",
              "      <th>unit_price</th>\n",
              "      <th>date</th>\n",
              "      <th>unit_price_total</th>\n",
              "    </tr>\n",
              "  </thead>\n",
              "  <tbody>\n",
              "    <tr>\n",
              "      <th>0</th>\n",
              "      <td>241423</td>\n",
              "      <td>2017-11-06 13:10:02</td>\n",
              "      <td>136.15</td>\n",
              "      <td>Completed</td>\n",
              "      <td>1398738</td>\n",
              "      <td>241423</td>\n",
              "      <td>0</td>\n",
              "      <td>1</td>\n",
              "      <td>LAC0212</td>\n",
              "      <td>129.16</td>\n",
              "      <td>2017-11-06 12:47:20</td>\n",
              "      <td>129.16</td>\n",
              "    </tr>\n",
              "    <tr>\n",
              "      <th>1</th>\n",
              "      <td>242832</td>\n",
              "      <td>2017-12-31 17:40:03</td>\n",
              "      <td>15.76</td>\n",
              "      <td>Completed</td>\n",
              "      <td>1529178</td>\n",
              "      <td>242832</td>\n",
              "      <td>0</td>\n",
              "      <td>1</td>\n",
              "      <td>PAR0074</td>\n",
              "      <td>10.77</td>\n",
              "      <td>2017-12-31 17:26:40</td>\n",
              "      <td>10.77</td>\n",
              "    </tr>\n",
              "    <tr>\n",
              "      <th>2</th>\n",
              "      <td>243330</td>\n",
              "      <td>2017-02-16 10:59:38</td>\n",
              "      <td>84.98</td>\n",
              "      <td>Completed</td>\n",
              "      <td>1181923</td>\n",
              "      <td>243330</td>\n",
              "      <td>0</td>\n",
              "      <td>1</td>\n",
              "      <td>OWC0074</td>\n",
              "      <td>77.99</td>\n",
              "      <td>2017-02-15 17:07:44</td>\n",
              "      <td>77.99</td>\n",
              "    </tr>\n",
              "    <tr>\n",
              "      <th>3</th>\n",
              "      <td>245275</td>\n",
              "      <td>2017-06-28 11:35:37</td>\n",
              "      <td>149.00</td>\n",
              "      <td>Completed</td>\n",
              "      <td>1276706</td>\n",
              "      <td>245275</td>\n",
              "      <td>0</td>\n",
              "      <td>1</td>\n",
              "      <td>TAD0007</td>\n",
              "      <td>149.00</td>\n",
              "      <td>2017-06-28 11:12:30</td>\n",
              "      <td>149.00</td>\n",
              "    </tr>\n",
              "    <tr>\n",
              "      <th>4</th>\n",
              "      <td>245595</td>\n",
              "      <td>2017-01-21 12:52:47</td>\n",
              "      <td>112.97</td>\n",
              "      <td>Completed</td>\n",
              "      <td>1154394</td>\n",
              "      <td>245595</td>\n",
              "      <td>0</td>\n",
              "      <td>2</td>\n",
              "      <td>PAC1561</td>\n",
              "      <td>52.99</td>\n",
              "      <td>2017-01-21 12:49:00</td>\n",
              "      <td>105.98</td>\n",
              "    </tr>\n",
              "  </tbody>\n",
              "</table>\n",
              "</div>\n",
              "    <div class=\"colab-df-buttons\">\n",
              "\n",
              "  <div class=\"colab-df-container\">\n",
              "    <button class=\"colab-df-convert\" onclick=\"convertToInteractive('df-bb28eed2-9c4e-4089-935b-03f06038c1f8')\"\n",
              "            title=\"Convert this dataframe to an interactive table.\"\n",
              "            style=\"display:none;\">\n",
              "\n",
              "  <svg xmlns=\"http://www.w3.org/2000/svg\" height=\"24px\" viewBox=\"0 -960 960 960\">\n",
              "    <path d=\"M120-120v-720h720v720H120Zm60-500h600v-160H180v160Zm220 220h160v-160H400v160Zm0 220h160v-160H400v160ZM180-400h160v-160H180v160Zm440 0h160v-160H620v160ZM180-180h160v-160H180v160Zm440 0h160v-160H620v160Z\"/>\n",
              "  </svg>\n",
              "    </button>\n",
              "\n",
              "  <style>\n",
              "    .colab-df-container {\n",
              "      display:flex;\n",
              "      gap: 12px;\n",
              "    }\n",
              "\n",
              "    .colab-df-convert {\n",
              "      background-color: #E8F0FE;\n",
              "      border: none;\n",
              "      border-radius: 50%;\n",
              "      cursor: pointer;\n",
              "      display: none;\n",
              "      fill: #1967D2;\n",
              "      height: 32px;\n",
              "      padding: 0 0 0 0;\n",
              "      width: 32px;\n",
              "    }\n",
              "\n",
              "    .colab-df-convert:hover {\n",
              "      background-color: #E2EBFA;\n",
              "      box-shadow: 0px 1px 2px rgba(60, 64, 67, 0.3), 0px 1px 3px 1px rgba(60, 64, 67, 0.15);\n",
              "      fill: #174EA6;\n",
              "    }\n",
              "\n",
              "    .colab-df-buttons div {\n",
              "      margin-bottom: 4px;\n",
              "    }\n",
              "\n",
              "    [theme=dark] .colab-df-convert {\n",
              "      background-color: #3B4455;\n",
              "      fill: #D2E3FC;\n",
              "    }\n",
              "\n",
              "    [theme=dark] .colab-df-convert:hover {\n",
              "      background-color: #434B5C;\n",
              "      box-shadow: 0px 1px 3px 1px rgba(0, 0, 0, 0.15);\n",
              "      filter: drop-shadow(0px 1px 2px rgba(0, 0, 0, 0.3));\n",
              "      fill: #FFFFFF;\n",
              "    }\n",
              "  </style>\n",
              "\n",
              "    <script>\n",
              "      const buttonEl =\n",
              "        document.querySelector('#df-bb28eed2-9c4e-4089-935b-03f06038c1f8 button.colab-df-convert');\n",
              "      buttonEl.style.display =\n",
              "        google.colab.kernel.accessAllowed ? 'block' : 'none';\n",
              "\n",
              "      async function convertToInteractive(key) {\n",
              "        const element = document.querySelector('#df-bb28eed2-9c4e-4089-935b-03f06038c1f8');\n",
              "        const dataTable =\n",
              "          await google.colab.kernel.invokeFunction('convertToInteractive',\n",
              "                                                    [key], {});\n",
              "        if (!dataTable) return;\n",
              "\n",
              "        const docLinkHtml = 'Like what you see? Visit the ' +\n",
              "          '<a target=\"_blank\" href=https://colab.research.google.com/notebooks/data_table.ipynb>data table notebook</a>'\n",
              "          + ' to learn more about interactive tables.';\n",
              "        element.innerHTML = '';\n",
              "        dataTable['output_type'] = 'display_data';\n",
              "        await google.colab.output.renderOutput(dataTable, element);\n",
              "        const docLink = document.createElement('div');\n",
              "        docLink.innerHTML = docLinkHtml;\n",
              "        element.appendChild(docLink);\n",
              "      }\n",
              "    </script>\n",
              "  </div>\n",
              "\n",
              "\n",
              "<div id=\"df-88f61f88-427e-4bde-806c-3365bbf2e880\">\n",
              "  <button class=\"colab-df-quickchart\" onclick=\"quickchart('df-88f61f88-427e-4bde-806c-3365bbf2e880')\"\n",
              "            title=\"Suggest charts\"\n",
              "            style=\"display:none;\">\n",
              "\n",
              "<svg xmlns=\"http://www.w3.org/2000/svg\" height=\"24px\"viewBox=\"0 0 24 24\"\n",
              "     width=\"24px\">\n",
              "    <g>\n",
              "        <path d=\"M19 3H5c-1.1 0-2 .9-2 2v14c0 1.1.9 2 2 2h14c1.1 0 2-.9 2-2V5c0-1.1-.9-2-2-2zM9 17H7v-7h2v7zm4 0h-2V7h2v10zm4 0h-2v-4h2v4z\"/>\n",
              "    </g>\n",
              "</svg>\n",
              "  </button>\n",
              "\n",
              "<style>\n",
              "  .colab-df-quickchart {\n",
              "      --bg-color: #E8F0FE;\n",
              "      --fill-color: #1967D2;\n",
              "      --hover-bg-color: #E2EBFA;\n",
              "      --hover-fill-color: #174EA6;\n",
              "      --disabled-fill-color: #AAA;\n",
              "      --disabled-bg-color: #DDD;\n",
              "  }\n",
              "\n",
              "  [theme=dark] .colab-df-quickchart {\n",
              "      --bg-color: #3B4455;\n",
              "      --fill-color: #D2E3FC;\n",
              "      --hover-bg-color: #434B5C;\n",
              "      --hover-fill-color: #FFFFFF;\n",
              "      --disabled-bg-color: #3B4455;\n",
              "      --disabled-fill-color: #666;\n",
              "  }\n",
              "\n",
              "  .colab-df-quickchart {\n",
              "    background-color: var(--bg-color);\n",
              "    border: none;\n",
              "    border-radius: 50%;\n",
              "    cursor: pointer;\n",
              "    display: none;\n",
              "    fill: var(--fill-color);\n",
              "    height: 32px;\n",
              "    padding: 0;\n",
              "    width: 32px;\n",
              "  }\n",
              "\n",
              "  .colab-df-quickchart:hover {\n",
              "    background-color: var(--hover-bg-color);\n",
              "    box-shadow: 0 1px 2px rgba(60, 64, 67, 0.3), 0 1px 3px 1px rgba(60, 64, 67, 0.15);\n",
              "    fill: var(--button-hover-fill-color);\n",
              "  }\n",
              "\n",
              "  .colab-df-quickchart-complete:disabled,\n",
              "  .colab-df-quickchart-complete:disabled:hover {\n",
              "    background-color: var(--disabled-bg-color);\n",
              "    fill: var(--disabled-fill-color);\n",
              "    box-shadow: none;\n",
              "  }\n",
              "\n",
              "  .colab-df-spinner {\n",
              "    border: 2px solid var(--fill-color);\n",
              "    border-color: transparent;\n",
              "    border-bottom-color: var(--fill-color);\n",
              "    animation:\n",
              "      spin 1s steps(1) infinite;\n",
              "  }\n",
              "\n",
              "  @keyframes spin {\n",
              "    0% {\n",
              "      border-color: transparent;\n",
              "      border-bottom-color: var(--fill-color);\n",
              "      border-left-color: var(--fill-color);\n",
              "    }\n",
              "    20% {\n",
              "      border-color: transparent;\n",
              "      border-left-color: var(--fill-color);\n",
              "      border-top-color: var(--fill-color);\n",
              "    }\n",
              "    30% {\n",
              "      border-color: transparent;\n",
              "      border-left-color: var(--fill-color);\n",
              "      border-top-color: var(--fill-color);\n",
              "      border-right-color: var(--fill-color);\n",
              "    }\n",
              "    40% {\n",
              "      border-color: transparent;\n",
              "      border-right-color: var(--fill-color);\n",
              "      border-top-color: var(--fill-color);\n",
              "    }\n",
              "    60% {\n",
              "      border-color: transparent;\n",
              "      border-right-color: var(--fill-color);\n",
              "    }\n",
              "    80% {\n",
              "      border-color: transparent;\n",
              "      border-right-color: var(--fill-color);\n",
              "      border-bottom-color: var(--fill-color);\n",
              "    }\n",
              "    90% {\n",
              "      border-color: transparent;\n",
              "      border-bottom-color: var(--fill-color);\n",
              "    }\n",
              "  }\n",
              "</style>\n",
              "\n",
              "  <script>\n",
              "    async function quickchart(key) {\n",
              "      const quickchartButtonEl =\n",
              "        document.querySelector('#' + key + ' button');\n",
              "      quickchartButtonEl.disabled = true;  // To prevent multiple clicks.\n",
              "      quickchartButtonEl.classList.add('colab-df-spinner');\n",
              "      try {\n",
              "        const charts = await google.colab.kernel.invokeFunction(\n",
              "            'suggestCharts', [key], {});\n",
              "      } catch (error) {\n",
              "        console.error('Error during call to suggestCharts:', error);\n",
              "      }\n",
              "      quickchartButtonEl.classList.remove('colab-df-spinner');\n",
              "      quickchartButtonEl.classList.add('colab-df-quickchart-complete');\n",
              "    }\n",
              "    (() => {\n",
              "      let quickchartButtonEl =\n",
              "        document.querySelector('#df-88f61f88-427e-4bde-806c-3365bbf2e880 button');\n",
              "      quickchartButtonEl.style.display =\n",
              "        google.colab.kernel.accessAllowed ? 'block' : 'none';\n",
              "    })();\n",
              "  </script>\n",
              "</div>\n",
              "    </div>\n",
              "  </div>\n"
            ],
            "application/vnd.google.colaboratory.intrinsic+json": {
              "type": "dataframe",
              "variable_name": "merge_df_exclude",
              "summary": "{\n  \"name\": \"merge_df_exclude\",\n  \"rows\": 55320,\n  \"fields\": [\n    {\n      \"column\": \"order_id\",\n      \"properties\": {\n        \"dtype\": \"number\",\n        \"std\": 65592,\n        \"min\": 241423,\n        \"max\": 527112,\n        \"num_unique_values\": 42259,\n        \"samples\": [\n          415163,\n          526083,\n          466136\n        ],\n        \"semantic_type\": \"\",\n        \"description\": \"\"\n      }\n    },\n    {\n      \"column\": \"created_date\",\n      \"properties\": {\n        \"dtype\": \"object\",\n        \"num_unique_values\": 42180,\n        \"samples\": [\n          \"2017-11-24 12:26:27\",\n          \"2017-12-13 19:13:08\",\n          \"2018-01-03 02:15:37\"\n        ],\n        \"semantic_type\": \"\",\n        \"description\": \"\"\n      }\n    },\n    {\n      \"column\": \"total_paid\",\n      \"properties\": {\n        \"dtype\": \"number\",\n        \"std\": 285.4643489667421,\n        \"min\": 0.0,\n        \"max\": 6876.94,\n        \"num_unique_values\": 10579,\n        \"samples\": [\n          361.17,\n          379.35,\n          117.83\n        ],\n        \"semantic_type\": \"\",\n        \"description\": \"\"\n      }\n    },\n    {\n      \"column\": \"state\",\n      \"properties\": {\n        \"dtype\": \"category\",\n        \"num_unique_values\": 1,\n        \"samples\": [\n          \"Completed\"\n        ],\n        \"semantic_type\": \"\",\n        \"description\": \"\"\n      }\n    },\n    {\n      \"column\": \"id\",\n      \"properties\": {\n        \"dtype\": \"number\",\n        \"std\": 150957,\n        \"min\": 1119116,\n        \"max\": 1649593,\n        \"num_unique_values\": 55320,\n        \"samples\": [\n          1468358\n        ],\n        \"semantic_type\": \"\",\n        \"description\": \"\"\n      }\n    },\n    {\n      \"column\": \"id_order\",\n      \"properties\": {\n        \"dtype\": \"number\",\n        \"std\": 65592,\n        \"min\": 241423,\n        \"max\": 527112,\n        \"num_unique_values\": 42259,\n        \"samples\": [\n          415163\n        ],\n        \"semantic_type\": \"\",\n        \"description\": \"\"\n      }\n    },\n    {\n      \"column\": \"product_id\",\n      \"properties\": {\n        \"dtype\": \"number\",\n        \"std\": 0,\n        \"min\": 0,\n        \"max\": 0,\n        \"num_unique_values\": 1,\n        \"samples\": [\n          0\n        ],\n        \"semantic_type\": \"\",\n        \"description\": \"\"\n      }\n    },\n    {\n      \"column\": \"product_quantity\",\n      \"properties\": {\n        \"dtype\": \"number\",\n        \"std\": 0,\n        \"min\": 1,\n        \"max\": 72,\n        \"num_unique_values\": 27,\n        \"samples\": [\n          32\n        ],\n        \"semantic_type\": \"\",\n        \"description\": \"\"\n      }\n    },\n    {\n      \"column\": \"sku\",\n      \"properties\": {\n        \"dtype\": \"category\",\n        \"num_unique_values\": 5168,\n        \"samples\": [\n          \"WDT0331-A\"\n        ],\n        \"semantic_type\": \"\",\n        \"description\": \"\"\n      }\n    },\n    {\n      \"column\": \"unit_price\",\n      \"properties\": {\n        \"dtype\": \"number\",\n        \"std\": 180.53470629741497,\n        \"min\": 1.0,\n        \"max\": 999.99,\n        \"num_unique_values\": 4787,\n        \"samples\": [\n          464.99\n        ],\n        \"semantic_type\": \"\",\n        \"description\": \"\"\n      }\n    },\n    {\n      \"column\": \"date\",\n      \"properties\": {\n        \"dtype\": \"object\",\n        \"num_unique_values\": 54909,\n        \"samples\": [\n          \"2018-01-11 00:36:54\"\n        ],\n        \"semantic_type\": \"\",\n        \"description\": \"\"\n      }\n    },\n    {\n      \"column\": \"unit_price_total\",\n      \"properties\": {\n        \"dtype\": \"number\",\n        \"std\": 208.35838282129194,\n        \"min\": 1.99,\n        \"max\": 6876.8,\n        \"num_unique_values\": 5948,\n        \"samples\": [\n          549.39\n        ],\n        \"semantic_type\": \"\",\n        \"description\": \"\"\n      }\n    }\n  ]\n}"
            }
          },
          "metadata": {},
          "execution_count": 44
        }
      ]
    },
    {
      "cell_type": "markdown",
      "source": [
        "#### Step 2:\n",
        "Group by `id_order`, summarising by the sum of `unit_price_total`"
      ],
      "metadata": {
        "id": "gkvMUjymbvSC"
      }
    },
    {
      "cell_type": "code",
      "source": [
        "# id_order already renamed as order_id\n",
        "gp_ol_df = merge_df_exclude.groupby('order_id')['unit_price_total'].sum().reset_index()\n",
        "gp_ol_df.head()\n",
        "gp_ol_df.isna().sum()"
      ],
      "metadata": {
        "id": "4hasZA5BaH1k",
        "colab": {
          "base_uri": "https://localhost:8080/"
        },
        "outputId": "1b2a032d-d125-4853-bb77-727696efb611"
      },
      "execution_count": 56,
      "outputs": [
        {
          "output_type": "execute_result",
          "data": {
            "text/plain": [
              "order_id            0\n",
              "unit_price_total    0\n",
              "dtype: int64"
            ]
          },
          "metadata": {},
          "execution_count": 56
        }
      ]
    },
    {
      "cell_type": "markdown",
      "source": [
        "### What is the average difference between `total_paid` and `unit_price_total`?"
      ],
      "metadata": {
        "id": "_d1lwist8F6X"
      }
    },
    {
      "cell_type": "code",
      "source": [
        "#gp_ol_df = gp_ol_df.to_frame(name='unit_price_total')\n",
        "mg_or_gp_ol = pd.merge(completed_or_df, gp_ol_df, how='left', on='order_id')\n",
        "#mg_or_gp_ol.head()\n",
        "mg_or_gp_ol['difference'] = mg_or_gp_ol.total_paid - mg_or_gp_ol.unit_price_total\n",
        "print(mg_or_gp_ol['difference'].mean()) # 5.934\n",
        "#mg_or_gp_ol.head(25)"
      ],
      "metadata": {
        "id": "5N02JPCMgyBU",
        "outputId": "406e6b46-d089-46a0-817f-858edb391f72",
        "colab": {
          "base_uri": "https://localhost:8080/"
        }
      },
      "execution_count": 57,
      "outputs": [
        {
          "output_type": "stream",
          "name": "stdout",
          "text": [
            "5.934310797699899\n"
          ]
        }
      ]
    },
    {
      "cell_type": "markdown",
      "source": [
        "### What is the distribution of these differences?"
      ],
      "metadata": {
        "id": "UpynvRcO8QBr"
      }
    },
    {
      "cell_type": "code",
      "source": [
        "# distribution\n",
        "print(mg_or_gp_ol['difference'].value_counts().head(10), mg_or_gp_ol['difference'].value_counts(normalize=True).head(10), sep='\\n')\n",
        "#mg_or_gp_ol['difference'].nunique()"
      ],
      "metadata": {
        "id": "O4RDNgttJSPD",
        "colab": {
          "base_uri": "https://localhost:8080/"
        },
        "outputId": "342e027c-2553-4e32-aa7b-02739fa756f1"
      },
      "execution_count": 54,
      "outputs": [
        {
          "output_type": "stream",
          "name": "stdout",
          "text": [
            "0.00    10484\n",
            "6.99     4559\n",
            "4.99     3419\n",
            "4.99     2523\n",
            "4.99     2352\n",
            "6.99     1890\n",
            "3.99     1882\n",
            "3.99     1620\n",
            "3.99     1463\n",
            "6.99     1305\n",
            "Name: difference, dtype: int64\n",
            "0.00   0.25\n",
            "6.99   0.11\n",
            "4.99   0.08\n",
            "4.99   0.06\n",
            "4.99   0.06\n",
            "6.99   0.04\n",
            "3.99   0.04\n",
            "3.99   0.04\n",
            "3.99   0.03\n",
            "6.99   0.03\n",
            "Name: difference, dtype: float64\n"
          ]
        }
      ]
    },
    {
      "cell_type": "markdown",
      "source": [
        "### Can all the differences be explained by shipping costs? If not, what are other plausible explanations?"
      ],
      "metadata": {
        "id": "NINPK4rB8TSY"
      }
    },
    {
      "cell_type": "code",
      "source": [
        "# your explanation here\n",
        "mg_or_gp_ol.loc[(mg_or_gp_ol['difference'] >= 7.0),:] #2861 rows × 6 columns"
      ],
      "metadata": {
        "id": "_6GvQ28EJUIf",
        "colab": {
          "base_uri": "https://localhost:8080/",
          "height": 423
        },
        "outputId": "0bf08a67-bb6d-491e-c3a0-c9aebefbf4e2"
      },
      "execution_count": null,
      "outputs": [
        {
          "output_type": "execute_result",
          "data": {
            "text/plain": [
              "        order_id         created_date  total_paid        state  \\\n",
              "8         246405  2017-11-24 10:01:27      407.96    Completed   \n",
              "13        251688  2017-11-24 23:57:07      505.76    Completed   \n",
              "14        251969  2017-11-21 21:04:12      610.07    Completed   \n",
              "17        253306  2017-10-04 14:14:45      497.68    Completed   \n",
              "22        254537  2017-05-23 19:58:30      102.97      Pending   \n",
              "...          ...                  ...         ...          ...   \n",
              "101652    527020  2018-03-14 12:55:02      506.98      Pending   \n",
              "101712    527125  2018-03-14 12:00:55       73.70  Place Order   \n",
              "101738    527167  2018-03-14 12:18:54      361.56      Pending   \n",
              "101810    527294  2018-03-14 13:08:14      182.96      Pending   \n",
              "101812    527296  2018-03-14 13:07:19      928.26      Pending   \n",
              "\n",
              "        unit_price_total  difference  \n",
              "8                 275.75      132.21  \n",
              "13                485.77       19.99  \n",
              "14                590.08       19.99  \n",
              "17                477.68       20.00  \n",
              "22                 32.99       69.98  \n",
              "...                  ...         ...  \n",
              "101652            499.98        7.00  \n",
              "101712             53.71       19.99  \n",
              "101738            354.56        7.00  \n",
              "101810            175.96        7.00  \n",
              "101812            908.27       19.99  \n",
              "\n",
              "[2861 rows x 6 columns]"
            ],
            "text/html": [
              "\n",
              "  <div id=\"df-66219c26-5404-416d-9f4a-b9e72fac12c0\" class=\"colab-df-container\">\n",
              "    <div>\n",
              "<style scoped>\n",
              "    .dataframe tbody tr th:only-of-type {\n",
              "        vertical-align: middle;\n",
              "    }\n",
              "\n",
              "    .dataframe tbody tr th {\n",
              "        vertical-align: top;\n",
              "    }\n",
              "\n",
              "    .dataframe thead th {\n",
              "        text-align: right;\n",
              "    }\n",
              "</style>\n",
              "<table border=\"1\" class=\"dataframe\">\n",
              "  <thead>\n",
              "    <tr style=\"text-align: right;\">\n",
              "      <th></th>\n",
              "      <th>order_id</th>\n",
              "      <th>created_date</th>\n",
              "      <th>total_paid</th>\n",
              "      <th>state</th>\n",
              "      <th>unit_price_total</th>\n",
              "      <th>difference</th>\n",
              "    </tr>\n",
              "  </thead>\n",
              "  <tbody>\n",
              "    <tr>\n",
              "      <th>8</th>\n",
              "      <td>246405</td>\n",
              "      <td>2017-11-24 10:01:27</td>\n",
              "      <td>407.96</td>\n",
              "      <td>Completed</td>\n",
              "      <td>275.75</td>\n",
              "      <td>132.21</td>\n",
              "    </tr>\n",
              "    <tr>\n",
              "      <th>13</th>\n",
              "      <td>251688</td>\n",
              "      <td>2017-11-24 23:57:07</td>\n",
              "      <td>505.76</td>\n",
              "      <td>Completed</td>\n",
              "      <td>485.77</td>\n",
              "      <td>19.99</td>\n",
              "    </tr>\n",
              "    <tr>\n",
              "      <th>14</th>\n",
              "      <td>251969</td>\n",
              "      <td>2017-11-21 21:04:12</td>\n",
              "      <td>610.07</td>\n",
              "      <td>Completed</td>\n",
              "      <td>590.08</td>\n",
              "      <td>19.99</td>\n",
              "    </tr>\n",
              "    <tr>\n",
              "      <th>17</th>\n",
              "      <td>253306</td>\n",
              "      <td>2017-10-04 14:14:45</td>\n",
              "      <td>497.68</td>\n",
              "      <td>Completed</td>\n",
              "      <td>477.68</td>\n",
              "      <td>20.00</td>\n",
              "    </tr>\n",
              "    <tr>\n",
              "      <th>22</th>\n",
              "      <td>254537</td>\n",
              "      <td>2017-05-23 19:58:30</td>\n",
              "      <td>102.97</td>\n",
              "      <td>Pending</td>\n",
              "      <td>32.99</td>\n",
              "      <td>69.98</td>\n",
              "    </tr>\n",
              "    <tr>\n",
              "      <th>...</th>\n",
              "      <td>...</td>\n",
              "      <td>...</td>\n",
              "      <td>...</td>\n",
              "      <td>...</td>\n",
              "      <td>...</td>\n",
              "      <td>...</td>\n",
              "    </tr>\n",
              "    <tr>\n",
              "      <th>101652</th>\n",
              "      <td>527020</td>\n",
              "      <td>2018-03-14 12:55:02</td>\n",
              "      <td>506.98</td>\n",
              "      <td>Pending</td>\n",
              "      <td>499.98</td>\n",
              "      <td>7.00</td>\n",
              "    </tr>\n",
              "    <tr>\n",
              "      <th>101712</th>\n",
              "      <td>527125</td>\n",
              "      <td>2018-03-14 12:00:55</td>\n",
              "      <td>73.70</td>\n",
              "      <td>Place Order</td>\n",
              "      <td>53.71</td>\n",
              "      <td>19.99</td>\n",
              "    </tr>\n",
              "    <tr>\n",
              "      <th>101738</th>\n",
              "      <td>527167</td>\n",
              "      <td>2018-03-14 12:18:54</td>\n",
              "      <td>361.56</td>\n",
              "      <td>Pending</td>\n",
              "      <td>354.56</td>\n",
              "      <td>7.00</td>\n",
              "    </tr>\n",
              "    <tr>\n",
              "      <th>101810</th>\n",
              "      <td>527294</td>\n",
              "      <td>2018-03-14 13:08:14</td>\n",
              "      <td>182.96</td>\n",
              "      <td>Pending</td>\n",
              "      <td>175.96</td>\n",
              "      <td>7.00</td>\n",
              "    </tr>\n",
              "    <tr>\n",
              "      <th>101812</th>\n",
              "      <td>527296</td>\n",
              "      <td>2018-03-14 13:07:19</td>\n",
              "      <td>928.26</td>\n",
              "      <td>Pending</td>\n",
              "      <td>908.27</td>\n",
              "      <td>19.99</td>\n",
              "    </tr>\n",
              "  </tbody>\n",
              "</table>\n",
              "<p>2861 rows × 6 columns</p>\n",
              "</div>\n",
              "    <div class=\"colab-df-buttons\">\n",
              "\n",
              "  <div class=\"colab-df-container\">\n",
              "    <button class=\"colab-df-convert\" onclick=\"convertToInteractive('df-66219c26-5404-416d-9f4a-b9e72fac12c0')\"\n",
              "            title=\"Convert this dataframe to an interactive table.\"\n",
              "            style=\"display:none;\">\n",
              "\n",
              "  <svg xmlns=\"http://www.w3.org/2000/svg\" height=\"24px\" viewBox=\"0 -960 960 960\">\n",
              "    <path d=\"M120-120v-720h720v720H120Zm60-500h600v-160H180v160Zm220 220h160v-160H400v160Zm0 220h160v-160H400v160ZM180-400h160v-160H180v160Zm440 0h160v-160H620v160ZM180-180h160v-160H180v160Zm440 0h160v-160H620v160Z\"/>\n",
              "  </svg>\n",
              "    </button>\n",
              "\n",
              "  <style>\n",
              "    .colab-df-container {\n",
              "      display:flex;\n",
              "      gap: 12px;\n",
              "    }\n",
              "\n",
              "    .colab-df-convert {\n",
              "      background-color: #E8F0FE;\n",
              "      border: none;\n",
              "      border-radius: 50%;\n",
              "      cursor: pointer;\n",
              "      display: none;\n",
              "      fill: #1967D2;\n",
              "      height: 32px;\n",
              "      padding: 0 0 0 0;\n",
              "      width: 32px;\n",
              "    }\n",
              "\n",
              "    .colab-df-convert:hover {\n",
              "      background-color: #E2EBFA;\n",
              "      box-shadow: 0px 1px 2px rgba(60, 64, 67, 0.3), 0px 1px 3px 1px rgba(60, 64, 67, 0.15);\n",
              "      fill: #174EA6;\n",
              "    }\n",
              "\n",
              "    .colab-df-buttons div {\n",
              "      margin-bottom: 4px;\n",
              "    }\n",
              "\n",
              "    [theme=dark] .colab-df-convert {\n",
              "      background-color: #3B4455;\n",
              "      fill: #D2E3FC;\n",
              "    }\n",
              "\n",
              "    [theme=dark] .colab-df-convert:hover {\n",
              "      background-color: #434B5C;\n",
              "      box-shadow: 0px 1px 3px 1px rgba(0, 0, 0, 0.15);\n",
              "      filter: drop-shadow(0px 1px 2px rgba(0, 0, 0, 0.3));\n",
              "      fill: #FFFFFF;\n",
              "    }\n",
              "  </style>\n",
              "\n",
              "    <script>\n",
              "      const buttonEl =\n",
              "        document.querySelector('#df-66219c26-5404-416d-9f4a-b9e72fac12c0 button.colab-df-convert');\n",
              "      buttonEl.style.display =\n",
              "        google.colab.kernel.accessAllowed ? 'block' : 'none';\n",
              "\n",
              "      async function convertToInteractive(key) {\n",
              "        const element = document.querySelector('#df-66219c26-5404-416d-9f4a-b9e72fac12c0');\n",
              "        const dataTable =\n",
              "          await google.colab.kernel.invokeFunction('convertToInteractive',\n",
              "                                                    [key], {});\n",
              "        if (!dataTable) return;\n",
              "\n",
              "        const docLinkHtml = 'Like what you see? Visit the ' +\n",
              "          '<a target=\"_blank\" href=https://colab.research.google.com/notebooks/data_table.ipynb>data table notebook</a>'\n",
              "          + ' to learn more about interactive tables.';\n",
              "        element.innerHTML = '';\n",
              "        dataTable['output_type'] = 'display_data';\n",
              "        await google.colab.output.renderOutput(dataTable, element);\n",
              "        const docLink = document.createElement('div');\n",
              "        docLink.innerHTML = docLinkHtml;\n",
              "        element.appendChild(docLink);\n",
              "      }\n",
              "    </script>\n",
              "  </div>\n",
              "\n",
              "\n",
              "<div id=\"df-b663c5dc-e595-4991-b3d9-e50dd832582a\">\n",
              "  <button class=\"colab-df-quickchart\" onclick=\"quickchart('df-b663c5dc-e595-4991-b3d9-e50dd832582a')\"\n",
              "            title=\"Suggest charts\"\n",
              "            style=\"display:none;\">\n",
              "\n",
              "<svg xmlns=\"http://www.w3.org/2000/svg\" height=\"24px\"viewBox=\"0 0 24 24\"\n",
              "     width=\"24px\">\n",
              "    <g>\n",
              "        <path d=\"M19 3H5c-1.1 0-2 .9-2 2v14c0 1.1.9 2 2 2h14c1.1 0 2-.9 2-2V5c0-1.1-.9-2-2-2zM9 17H7v-7h2v7zm4 0h-2V7h2v10zm4 0h-2v-4h2v4z\"/>\n",
              "    </g>\n",
              "</svg>\n",
              "  </button>\n",
              "\n",
              "<style>\n",
              "  .colab-df-quickchart {\n",
              "      --bg-color: #E8F0FE;\n",
              "      --fill-color: #1967D2;\n",
              "      --hover-bg-color: #E2EBFA;\n",
              "      --hover-fill-color: #174EA6;\n",
              "      --disabled-fill-color: #AAA;\n",
              "      --disabled-bg-color: #DDD;\n",
              "  }\n",
              "\n",
              "  [theme=dark] .colab-df-quickchart {\n",
              "      --bg-color: #3B4455;\n",
              "      --fill-color: #D2E3FC;\n",
              "      --hover-bg-color: #434B5C;\n",
              "      --hover-fill-color: #FFFFFF;\n",
              "      --disabled-bg-color: #3B4455;\n",
              "      --disabled-fill-color: #666;\n",
              "  }\n",
              "\n",
              "  .colab-df-quickchart {\n",
              "    background-color: var(--bg-color);\n",
              "    border: none;\n",
              "    border-radius: 50%;\n",
              "    cursor: pointer;\n",
              "    display: none;\n",
              "    fill: var(--fill-color);\n",
              "    height: 32px;\n",
              "    padding: 0;\n",
              "    width: 32px;\n",
              "  }\n",
              "\n",
              "  .colab-df-quickchart:hover {\n",
              "    background-color: var(--hover-bg-color);\n",
              "    box-shadow: 0 1px 2px rgba(60, 64, 67, 0.3), 0 1px 3px 1px rgba(60, 64, 67, 0.15);\n",
              "    fill: var(--button-hover-fill-color);\n",
              "  }\n",
              "\n",
              "  .colab-df-quickchart-complete:disabled,\n",
              "  .colab-df-quickchart-complete:disabled:hover {\n",
              "    background-color: var(--disabled-bg-color);\n",
              "    fill: var(--disabled-fill-color);\n",
              "    box-shadow: none;\n",
              "  }\n",
              "\n",
              "  .colab-df-spinner {\n",
              "    border: 2px solid var(--fill-color);\n",
              "    border-color: transparent;\n",
              "    border-bottom-color: var(--fill-color);\n",
              "    animation:\n",
              "      spin 1s steps(1) infinite;\n",
              "  }\n",
              "\n",
              "  @keyframes spin {\n",
              "    0% {\n",
              "      border-color: transparent;\n",
              "      border-bottom-color: var(--fill-color);\n",
              "      border-left-color: var(--fill-color);\n",
              "    }\n",
              "    20% {\n",
              "      border-color: transparent;\n",
              "      border-left-color: var(--fill-color);\n",
              "      border-top-color: var(--fill-color);\n",
              "    }\n",
              "    30% {\n",
              "      border-color: transparent;\n",
              "      border-left-color: var(--fill-color);\n",
              "      border-top-color: var(--fill-color);\n",
              "      border-right-color: var(--fill-color);\n",
              "    }\n",
              "    40% {\n",
              "      border-color: transparent;\n",
              "      border-right-color: var(--fill-color);\n",
              "      border-top-color: var(--fill-color);\n",
              "    }\n",
              "    60% {\n",
              "      border-color: transparent;\n",
              "      border-right-color: var(--fill-color);\n",
              "    }\n",
              "    80% {\n",
              "      border-color: transparent;\n",
              "      border-right-color: var(--fill-color);\n",
              "      border-bottom-color: var(--fill-color);\n",
              "    }\n",
              "    90% {\n",
              "      border-color: transparent;\n",
              "      border-bottom-color: var(--fill-color);\n",
              "    }\n",
              "  }\n",
              "</style>\n",
              "\n",
              "  <script>\n",
              "    async function quickchart(key) {\n",
              "      const quickchartButtonEl =\n",
              "        document.querySelector('#' + key + ' button');\n",
              "      quickchartButtonEl.disabled = true;  // To prevent multiple clicks.\n",
              "      quickchartButtonEl.classList.add('colab-df-spinner');\n",
              "      try {\n",
              "        const charts = await google.colab.kernel.invokeFunction(\n",
              "            'suggestCharts', [key], {});\n",
              "      } catch (error) {\n",
              "        console.error('Error during call to suggestCharts:', error);\n",
              "      }\n",
              "      quickchartButtonEl.classList.remove('colab-df-spinner');\n",
              "      quickchartButtonEl.classList.add('colab-df-quickchart-complete');\n",
              "    }\n",
              "    (() => {\n",
              "      let quickchartButtonEl =\n",
              "        document.querySelector('#df-b663c5dc-e595-4991-b3d9-e50dd832582a button');\n",
              "      quickchartButtonEl.style.display =\n",
              "        google.colab.kernel.accessAllowed ? 'block' : 'none';\n",
              "    })();\n",
              "  </script>\n",
              "</div>\n",
              "    </div>\n",
              "  </div>\n"
            ],
            "application/vnd.google.colaboratory.intrinsic+json": {
              "type": "dataframe",
              "repr_error": "0"
            }
          },
          "metadata": {},
          "execution_count": 11
        }
      ]
    },
    {
      "cell_type": "markdown",
      "source": [
        "### If there are differences that you can’t explain: what should you do with these orders?"
      ],
      "metadata": {
        "id": "xPos2ipK8VST"
      }
    },
    {
      "cell_type": "code",
      "source": [
        "# your code here"
      ],
      "metadata": {
        "id": "xqeCAJBt8V3T"
      },
      "execution_count": null,
      "outputs": []
    },
    {
      "cell_type": "markdown",
      "source": [
        "## 5.&nbsp; Become confident about your dataset"
      ],
      "metadata": {
        "id": "FWROzNEd8b8d"
      }
    },
    {
      "cell_type": "markdown",
      "source": [
        "Let's hear your thoughts about what you discovered."
      ],
      "metadata": {
        "id": "qkiySvbwldvU"
      }
    },
    {
      "cell_type": "code",
      "source": [
        "# your thoughts & code here"
      ],
      "metadata": {
        "id": "AR14cjMpfXV0"
      },
      "execution_count": null,
      "outputs": []
    },
    {
      "cell_type": "markdown",
      "source": [
        "Do not forget to download your quality controlled DataFrames"
      ],
      "metadata": {
        "id": "dvyhnpLcfXdd"
      }
    },
    {
      "cell_type": "code",
      "source": [
        "from google.colab import files\n",
        "\n",
        "#orders_quality_controlled.to_csv(\"orders_qu.csv\", index=False)\n",
        "#files.download(\"orders_qu.csv\")\n",
        "\n",
        "#orderlines_quality_controlled.to_csv(\"orderlines_qu.csv\", index=False)\n",
        "#files.download(\"orderlines_qu.csv\")"
      ],
      "metadata": {
        "id": "gUcJc1E6sVOl"
      },
      "execution_count": null,
      "outputs": []
    }
  ]
}