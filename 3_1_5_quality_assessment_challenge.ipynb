{
  "nbformat": 4,
  "nbformat_minor": 0,
  "metadata": {
    "colab": {
      "provenance": [],
      "collapsed_sections": [
        "GjQD8WPe6h0i",
        "M0NhTKzF6jV4",
        "F-rtzwAn7WyS",
        "_d1lwist8F6X",
        "UpynvRcO8QBr",
        "NINPK4rB8TSY",
        "xPos2ipK8VST",
        "FWROzNEd8b8d"
      ],
      "include_colab_link": true
    },
    "kernelspec": {
      "name": "python3",
      "display_name": "Python 3"
    },
    "language_info": {
      "name": "python"
    }
  },
  "cells": [
    {
      "cell_type": "markdown",
      "metadata": {
        "id": "view-in-github",
        "colab_type": "text"
      },
      "source": [
        "<a href=\"https://colab.research.google.com/github/PhoenixCC0722/Journey_to_become_DataScientist/blob/main/3_1_5_quality_assessment_challenge.ipynb\" target=\"_parent\"><img src=\"https://colab.research.google.com/assets/colab-badge.svg\" alt=\"Open In Colab\"/></a>"
      ]
    },
    {
      "cell_type": "markdown",
      "source": [
        "# Quality Assessment\n",
        "Now it's your turn. Follow [the steps on the platform](https://learn.wbscodingschool.com/courses/data-science/lessons/%f0%9f%93%9d-5-data-quality/) and use what you've learnt to see how reliable the data is."
      ],
      "metadata": {
        "id": "aSm5aaRLtFLx"
      }
    },
    {
      "cell_type": "code",
      "source": [
        "import pandas as pd"
      ],
      "metadata": {
        "id": "Lq7zsZka4q2m"
      },
      "execution_count": 1,
      "outputs": []
    },
    {
      "cell_type": "markdown",
      "source": [
        "Load our cleaned DataFrames"
      ],
      "metadata": {
        "id": "hzwXSr-xfh97"
      }
    },
    {
      "cell_type": "code",
      "source": [
        "# orders_cl.csv\n",
        "url = \"https://drive.google.com/file/d/1Tla62vfu__kCqvgypZyVt2S9VuC016yH/view?usp=sharing\"\n",
        "path = \"https://drive.google.com/uc?export=download&id=\"+url.split(\"/\")[-2]\n",
        "orders_cl = pd.read_csv(path)\n",
        "\n",
        "# orderlines_cl.csv\n",
        "url = \"https://drive.google.com/file/d/1OhtkQS2fwOYdzfd-qPh7im35iLc-L9TA/view?usp=sharing\"\n",
        "path = \"https://drive.google.com/uc?export=download&id=\"+url.split(\"/\")[-2]\n",
        "orderlines_cl = pd.read_csv(path)\n",
        "\n",
        "# products_cl.csv\n",
        "url = \"https://drive.google.com/file/d/1s7Lai4NSlsYjGEPg1QSOUJobNYVsZBOJ/view?usp=sharing\"\n",
        "path = \"https://drive.google.com/uc?export=download&id=\"+url.split(\"/\")[-2]\n",
        "products_cl = pd.read_csv(path)"
      ],
      "metadata": {
        "id": "30IJsE7t49Eu"
      },
      "execution_count": 4,
      "outputs": []
    },
    {
      "cell_type": "markdown",
      "source": [
        "## 1.&nbsp; Define Pandas display format"
      ],
      "metadata": {
        "id": "GjQD8WPe6h0i"
      }
    },
    {
      "cell_type": "code",
      "execution_count": 6,
      "metadata": {
        "id": "SLikKmNx4WNo"
      },
      "outputs": [],
      "source": [
        "pd.set_option('display.float_format', lambda x: '%.2f' % x) # format floating-point numbers to two decimal places\n",
        "pd.set_option('display.max_rows',1000)"
      ]
    },
    {
      "cell_type": "markdown",
      "source": [
        "## 2.&nbsp; Exclude unwanted orders"
      ],
      "metadata": {
        "id": "M0NhTKzF6jV4"
      }
    },
    {
      "cell_type": "code",
      "source": [
        "# 1st, exclude the orders that were left in teh shopping cart or cancelled.\n",
        "# 2nd, make sure that orders in the dataset are in both orders and orderlines\n",
        "# orders –> Keep only orders with the states that you want to work with.\n",
        "or_df = orders_cl.copy()\n",
        "#print(or_df.state.unique()) # ['Cancelled' 'Completed' 'Pending' 'Shopping Basket' 'Place Order']\n",
        "filt_or_df = or_df.loc[or_df.state.isin(['Completed','Pending','Place Order']),:]\n",
        "#print(filt_or_df.state.unique())\n",
        "# orderlines –> Keep only orders present in orders.\n",
        "# orders –> Keep only orders present in orderlines.\n",
        "ol_df = orderlines_cl.copy()\n",
        "print(ol_df.columns, filt_or_df.columns, sep='\\n')\n",
        "ol_df = ol_df.rename(columns={'id_order':'order_id'})\n",
        "merge_df = pd.merge(ol_df, filt_or_df, on='order_id', how='inner')\n",
        "merge_df.head(20)"
      ],
      "metadata": {
        "id": "ja0XpsDDkZrT"
      },
      "execution_count": null,
      "outputs": []
    },
    {
      "cell_type": "markdown",
      "source": [
        "## 3.&nbsp; Exclude orders with unknown products\n"
      ],
      "metadata": {
        "id": "F-rtzwAn7WyS"
      }
    },
    {
      "cell_type": "code",
      "source": [
        "# wenn die sku not in the products Dataframe, then we delete the whole row in both the orders and orderline tables\n",
        "pd_df = products_cl.copy()\n",
        "merge_df_ec = merge_df.loc[merge_df.sku.isin(pd_df['sku']),:]\n",
        "merge_df_ec.head()"
      ],
      "metadata": {
        "id": "EkNqtrfdJGAW",
        "outputId": "f33f0226-3154-4cb2-8350-250572687217",
        "colab": {
          "base_uri": "https://localhost:8080/",
          "height": 206
        }
      },
      "execution_count": 29,
      "outputs": [
        {
          "output_type": "execute_result",
          "data": {
            "text/plain": [
              "        id  order_id  product_id  product_quantity        sku  unit_price  \\\n",
              "0  1119116    299545           0                 1    OWC0100       47.49   \n",
              "1  1119119    299546           0                 1    IOT0014       18.99   \n",
              "2  1119120    295347           0                 1    APP0700       72.19   \n",
              "3  1119133    299555           0                 1    BEA0065      256.49   \n",
              "4  1119134    299556           0                 1  CRU0039-A       60.90   \n",
              "\n",
              "                  date         created_date  total_paid        state  \n",
              "0  2017-01-01 01:46:16  2017-01-01 01:51:47       51.48    Completed  \n",
              "1  2017-01-01 01:50:34  2017-01-01 01:57:34       18.99    Completed  \n",
              "2  2017-01-01 01:54:11  2017-01-01 02:02:38       72.19    Completed  \n",
              "3  2017-01-01 02:18:45  2017-01-01 02:18:45      263.48  Place Order  \n",
              "4  2017-01-01 02:20:14  2017-01-01 02:30:08       65.89    Completed  "
            ],
            "text/html": [
              "\n",
              "  <div id=\"df-369f3a17-61ed-4c53-9a1c-6a63cf7daa7d\" class=\"colab-df-container\">\n",
              "    <div>\n",
              "<style scoped>\n",
              "    .dataframe tbody tr th:only-of-type {\n",
              "        vertical-align: middle;\n",
              "    }\n",
              "\n",
              "    .dataframe tbody tr th {\n",
              "        vertical-align: top;\n",
              "    }\n",
              "\n",
              "    .dataframe thead th {\n",
              "        text-align: right;\n",
              "    }\n",
              "</style>\n",
              "<table border=\"1\" class=\"dataframe\">\n",
              "  <thead>\n",
              "    <tr style=\"text-align: right;\">\n",
              "      <th></th>\n",
              "      <th>id</th>\n",
              "      <th>order_id</th>\n",
              "      <th>product_id</th>\n",
              "      <th>product_quantity</th>\n",
              "      <th>sku</th>\n",
              "      <th>unit_price</th>\n",
              "      <th>date</th>\n",
              "      <th>created_date</th>\n",
              "      <th>total_paid</th>\n",
              "      <th>state</th>\n",
              "    </tr>\n",
              "  </thead>\n",
              "  <tbody>\n",
              "    <tr>\n",
              "      <th>0</th>\n",
              "      <td>1119116</td>\n",
              "      <td>299545</td>\n",
              "      <td>0</td>\n",
              "      <td>1</td>\n",
              "      <td>OWC0100</td>\n",
              "      <td>47.49</td>\n",
              "      <td>2017-01-01 01:46:16</td>\n",
              "      <td>2017-01-01 01:51:47</td>\n",
              "      <td>51.48</td>\n",
              "      <td>Completed</td>\n",
              "    </tr>\n",
              "    <tr>\n",
              "      <th>1</th>\n",
              "      <td>1119119</td>\n",
              "      <td>299546</td>\n",
              "      <td>0</td>\n",
              "      <td>1</td>\n",
              "      <td>IOT0014</td>\n",
              "      <td>18.99</td>\n",
              "      <td>2017-01-01 01:50:34</td>\n",
              "      <td>2017-01-01 01:57:34</td>\n",
              "      <td>18.99</td>\n",
              "      <td>Completed</td>\n",
              "    </tr>\n",
              "    <tr>\n",
              "      <th>2</th>\n",
              "      <td>1119120</td>\n",
              "      <td>295347</td>\n",
              "      <td>0</td>\n",
              "      <td>1</td>\n",
              "      <td>APP0700</td>\n",
              "      <td>72.19</td>\n",
              "      <td>2017-01-01 01:54:11</td>\n",
              "      <td>2017-01-01 02:02:38</td>\n",
              "      <td>72.19</td>\n",
              "      <td>Completed</td>\n",
              "    </tr>\n",
              "    <tr>\n",
              "      <th>3</th>\n",
              "      <td>1119133</td>\n",
              "      <td>299555</td>\n",
              "      <td>0</td>\n",
              "      <td>1</td>\n",
              "      <td>BEA0065</td>\n",
              "      <td>256.49</td>\n",
              "      <td>2017-01-01 02:18:45</td>\n",
              "      <td>2017-01-01 02:18:45</td>\n",
              "      <td>263.48</td>\n",
              "      <td>Place Order</td>\n",
              "    </tr>\n",
              "    <tr>\n",
              "      <th>4</th>\n",
              "      <td>1119134</td>\n",
              "      <td>299556</td>\n",
              "      <td>0</td>\n",
              "      <td>1</td>\n",
              "      <td>CRU0039-A</td>\n",
              "      <td>60.90</td>\n",
              "      <td>2017-01-01 02:20:14</td>\n",
              "      <td>2017-01-01 02:30:08</td>\n",
              "      <td>65.89</td>\n",
              "      <td>Completed</td>\n",
              "    </tr>\n",
              "  </tbody>\n",
              "</table>\n",
              "</div>\n",
              "    <div class=\"colab-df-buttons\">\n",
              "\n",
              "  <div class=\"colab-df-container\">\n",
              "    <button class=\"colab-df-convert\" onclick=\"convertToInteractive('df-369f3a17-61ed-4c53-9a1c-6a63cf7daa7d')\"\n",
              "            title=\"Convert this dataframe to an interactive table.\"\n",
              "            style=\"display:none;\">\n",
              "\n",
              "  <svg xmlns=\"http://www.w3.org/2000/svg\" height=\"24px\" viewBox=\"0 -960 960 960\">\n",
              "    <path d=\"M120-120v-720h720v720H120Zm60-500h600v-160H180v160Zm220 220h160v-160H400v160Zm0 220h160v-160H400v160ZM180-400h160v-160H180v160Zm440 0h160v-160H620v160ZM180-180h160v-160H180v160Zm440 0h160v-160H620v160Z\"/>\n",
              "  </svg>\n",
              "    </button>\n",
              "\n",
              "  <style>\n",
              "    .colab-df-container {\n",
              "      display:flex;\n",
              "      gap: 12px;\n",
              "    }\n",
              "\n",
              "    .colab-df-convert {\n",
              "      background-color: #E8F0FE;\n",
              "      border: none;\n",
              "      border-radius: 50%;\n",
              "      cursor: pointer;\n",
              "      display: none;\n",
              "      fill: #1967D2;\n",
              "      height: 32px;\n",
              "      padding: 0 0 0 0;\n",
              "      width: 32px;\n",
              "    }\n",
              "\n",
              "    .colab-df-convert:hover {\n",
              "      background-color: #E2EBFA;\n",
              "      box-shadow: 0px 1px 2px rgba(60, 64, 67, 0.3), 0px 1px 3px 1px rgba(60, 64, 67, 0.15);\n",
              "      fill: #174EA6;\n",
              "    }\n",
              "\n",
              "    .colab-df-buttons div {\n",
              "      margin-bottom: 4px;\n",
              "    }\n",
              "\n",
              "    [theme=dark] .colab-df-convert {\n",
              "      background-color: #3B4455;\n",
              "      fill: #D2E3FC;\n",
              "    }\n",
              "\n",
              "    [theme=dark] .colab-df-convert:hover {\n",
              "      background-color: #434B5C;\n",
              "      box-shadow: 0px 1px 3px 1px rgba(0, 0, 0, 0.15);\n",
              "      filter: drop-shadow(0px 1px 2px rgba(0, 0, 0, 0.3));\n",
              "      fill: #FFFFFF;\n",
              "    }\n",
              "  </style>\n",
              "\n",
              "    <script>\n",
              "      const buttonEl =\n",
              "        document.querySelector('#df-369f3a17-61ed-4c53-9a1c-6a63cf7daa7d button.colab-df-convert');\n",
              "      buttonEl.style.display =\n",
              "        google.colab.kernel.accessAllowed ? 'block' : 'none';\n",
              "\n",
              "      async function convertToInteractive(key) {\n",
              "        const element = document.querySelector('#df-369f3a17-61ed-4c53-9a1c-6a63cf7daa7d');\n",
              "        const dataTable =\n",
              "          await google.colab.kernel.invokeFunction('convertToInteractive',\n",
              "                                                    [key], {});\n",
              "        if (!dataTable) return;\n",
              "\n",
              "        const docLinkHtml = 'Like what you see? Visit the ' +\n",
              "          '<a target=\"_blank\" href=https://colab.research.google.com/notebooks/data_table.ipynb>data table notebook</a>'\n",
              "          + ' to learn more about interactive tables.';\n",
              "        element.innerHTML = '';\n",
              "        dataTable['output_type'] = 'display_data';\n",
              "        await google.colab.output.renderOutput(dataTable, element);\n",
              "        const docLink = document.createElement('div');\n",
              "        docLink.innerHTML = docLinkHtml;\n",
              "        element.appendChild(docLink);\n",
              "      }\n",
              "    </script>\n",
              "  </div>\n",
              "\n",
              "\n",
              "<div id=\"df-00b71b20-33c8-4791-8d0a-b2eb36df1e06\">\n",
              "  <button class=\"colab-df-quickchart\" onclick=\"quickchart('df-00b71b20-33c8-4791-8d0a-b2eb36df1e06')\"\n",
              "            title=\"Suggest charts\"\n",
              "            style=\"display:none;\">\n",
              "\n",
              "<svg xmlns=\"http://www.w3.org/2000/svg\" height=\"24px\"viewBox=\"0 0 24 24\"\n",
              "     width=\"24px\">\n",
              "    <g>\n",
              "        <path d=\"M19 3H5c-1.1 0-2 .9-2 2v14c0 1.1.9 2 2 2h14c1.1 0 2-.9 2-2V5c0-1.1-.9-2-2-2zM9 17H7v-7h2v7zm4 0h-2V7h2v10zm4 0h-2v-4h2v4z\"/>\n",
              "    </g>\n",
              "</svg>\n",
              "  </button>\n",
              "\n",
              "<style>\n",
              "  .colab-df-quickchart {\n",
              "      --bg-color: #E8F0FE;\n",
              "      --fill-color: #1967D2;\n",
              "      --hover-bg-color: #E2EBFA;\n",
              "      --hover-fill-color: #174EA6;\n",
              "      --disabled-fill-color: #AAA;\n",
              "      --disabled-bg-color: #DDD;\n",
              "  }\n",
              "\n",
              "  [theme=dark] .colab-df-quickchart {\n",
              "      --bg-color: #3B4455;\n",
              "      --fill-color: #D2E3FC;\n",
              "      --hover-bg-color: #434B5C;\n",
              "      --hover-fill-color: #FFFFFF;\n",
              "      --disabled-bg-color: #3B4455;\n",
              "      --disabled-fill-color: #666;\n",
              "  }\n",
              "\n",
              "  .colab-df-quickchart {\n",
              "    background-color: var(--bg-color);\n",
              "    border: none;\n",
              "    border-radius: 50%;\n",
              "    cursor: pointer;\n",
              "    display: none;\n",
              "    fill: var(--fill-color);\n",
              "    height: 32px;\n",
              "    padding: 0;\n",
              "    width: 32px;\n",
              "  }\n",
              "\n",
              "  .colab-df-quickchart:hover {\n",
              "    background-color: var(--hover-bg-color);\n",
              "    box-shadow: 0 1px 2px rgba(60, 64, 67, 0.3), 0 1px 3px 1px rgba(60, 64, 67, 0.15);\n",
              "    fill: var(--button-hover-fill-color);\n",
              "  }\n",
              "\n",
              "  .colab-df-quickchart-complete:disabled,\n",
              "  .colab-df-quickchart-complete:disabled:hover {\n",
              "    background-color: var(--disabled-bg-color);\n",
              "    fill: var(--disabled-fill-color);\n",
              "    box-shadow: none;\n",
              "  }\n",
              "\n",
              "  .colab-df-spinner {\n",
              "    border: 2px solid var(--fill-color);\n",
              "    border-color: transparent;\n",
              "    border-bottom-color: var(--fill-color);\n",
              "    animation:\n",
              "      spin 1s steps(1) infinite;\n",
              "  }\n",
              "\n",
              "  @keyframes spin {\n",
              "    0% {\n",
              "      border-color: transparent;\n",
              "      border-bottom-color: var(--fill-color);\n",
              "      border-left-color: var(--fill-color);\n",
              "    }\n",
              "    20% {\n",
              "      border-color: transparent;\n",
              "      border-left-color: var(--fill-color);\n",
              "      border-top-color: var(--fill-color);\n",
              "    }\n",
              "    30% {\n",
              "      border-color: transparent;\n",
              "      border-left-color: var(--fill-color);\n",
              "      border-top-color: var(--fill-color);\n",
              "      border-right-color: var(--fill-color);\n",
              "    }\n",
              "    40% {\n",
              "      border-color: transparent;\n",
              "      border-right-color: var(--fill-color);\n",
              "      border-top-color: var(--fill-color);\n",
              "    }\n",
              "    60% {\n",
              "      border-color: transparent;\n",
              "      border-right-color: var(--fill-color);\n",
              "    }\n",
              "    80% {\n",
              "      border-color: transparent;\n",
              "      border-right-color: var(--fill-color);\n",
              "      border-bottom-color: var(--fill-color);\n",
              "    }\n",
              "    90% {\n",
              "      border-color: transparent;\n",
              "      border-bottom-color: var(--fill-color);\n",
              "    }\n",
              "  }\n",
              "</style>\n",
              "\n",
              "  <script>\n",
              "    async function quickchart(key) {\n",
              "      const quickchartButtonEl =\n",
              "        document.querySelector('#' + key + ' button');\n",
              "      quickchartButtonEl.disabled = true;  // To prevent multiple clicks.\n",
              "      quickchartButtonEl.classList.add('colab-df-spinner');\n",
              "      try {\n",
              "        const charts = await google.colab.kernel.invokeFunction(\n",
              "            'suggestCharts', [key], {});\n",
              "      } catch (error) {\n",
              "        console.error('Error during call to suggestCharts:', error);\n",
              "      }\n",
              "      quickchartButtonEl.classList.remove('colab-df-spinner');\n",
              "      quickchartButtonEl.classList.add('colab-df-quickchart-complete');\n",
              "    }\n",
              "    (() => {\n",
              "      let quickchartButtonEl =\n",
              "        document.querySelector('#df-00b71b20-33c8-4791-8d0a-b2eb36df1e06 button');\n",
              "      quickchartButtonEl.style.display =\n",
              "        google.colab.kernel.accessAllowed ? 'block' : 'none';\n",
              "    })();\n",
              "  </script>\n",
              "</div>\n",
              "    </div>\n",
              "  </div>\n"
            ],
            "application/vnd.google.colaboratory.intrinsic+json": {
              "type": "dataframe",
              "variable_name": "merge_df_ec",
              "summary": "{\n  \"name\": \"merge_df_ec\",\n  \"rows\": 98664,\n  \"fields\": [\n    {\n      \"column\": \"id\",\n      \"properties\": {\n        \"dtype\": \"number\",\n        \"std\": 150541,\n        \"min\": 1119116,\n        \"max\": 1650203,\n        \"num_unique_values\": 98664,\n        \"samples\": [\n          1213699,\n          1310923,\n          1282387\n        ],\n        \"semantic_type\": \"\",\n        \"description\": \"\"\n      }\n    },\n    {\n      \"column\": \"order_id\",\n      \"properties\": {\n        \"dtype\": \"number\",\n        \"std\": 65445,\n        \"min\": 241423,\n        \"max\": 527401,\n        \"num_unique_values\": 78190,\n        \"samples\": [\n          353329,\n          471943,\n          389812\n        ],\n        \"semantic_type\": \"\",\n        \"description\": \"\"\n      }\n    },\n    {\n      \"column\": \"product_id\",\n      \"properties\": {\n        \"dtype\": \"number\",\n        \"std\": 0,\n        \"min\": 0,\n        \"max\": 0,\n        \"num_unique_values\": 1,\n        \"samples\": [\n          0\n        ],\n        \"semantic_type\": \"\",\n        \"description\": \"\"\n      }\n    },\n    {\n      \"column\": \"product_quantity\",\n      \"properties\": {\n        \"dtype\": \"number\",\n        \"std\": 2,\n        \"min\": 1,\n        \"max\": 800,\n        \"num_unique_values\": 33,\n        \"samples\": [\n          37\n        ],\n        \"semantic_type\": \"\",\n        \"description\": \"\"\n      }\n    },\n    {\n      \"column\": \"sku\",\n      \"properties\": {\n        \"dtype\": \"category\",\n        \"num_unique_values\": 5845,\n        \"samples\": [\n          \"TIL0009\"\n        ],\n        \"semantic_type\": \"\",\n        \"description\": \"\"\n      }\n    },\n    {\n      \"column\": \"unit_price\",\n      \"properties\": {\n        \"dtype\": \"number\",\n        \"std\": 207.50976275990922,\n        \"min\": 1.0,\n        \"max\": 999.99,\n        \"num_unique_values\": 6049,\n        \"samples\": [\n          112.06\n        ],\n        \"semantic_type\": \"\",\n        \"description\": \"\"\n      }\n    },\n    {\n      \"column\": \"date\",\n      \"properties\": {\n        \"dtype\": \"object\",\n        \"num_unique_values\": 97713,\n        \"samples\": [\n          \"2017-06-27 12:56:11\"\n        ],\n        \"semantic_type\": \"\",\n        \"description\": \"\"\n      }\n    },\n    {\n      \"column\": \"created_date\",\n      \"properties\": {\n        \"dtype\": \"object\",\n        \"num_unique_values\": 77980,\n        \"samples\": [\n          \"2017-12-28 11:49:35\"\n        ],\n        \"semantic_type\": \"\",\n        \"description\": \"\"\n      }\n    },\n    {\n      \"column\": \"total_paid\",\n      \"properties\": {\n        \"dtype\": \"number\",\n        \"std\": 325.0944761347082,\n        \"min\": 0.0,\n        \"max\": 11169.0,\n        \"num_unique_values\": 14797,\n        \"samples\": [\n          264.09\n        ],\n        \"semantic_type\": \"\",\n        \"description\": \"\"\n      }\n    },\n    {\n      \"column\": \"state\",\n      \"properties\": {\n        \"dtype\": \"category\",\n        \"num_unique_values\": 3,\n        \"samples\": [\n          \"Completed\"\n        ],\n        \"semantic_type\": \"\",\n        \"description\": \"\"\n      }\n    }\n  ]\n}"
            }
          },
          "metadata": {},
          "execution_count": 29
        }
      ]
    },
    {
      "cell_type": "markdown",
      "source": [
        "#### Step 1:\n",
        "Create the `unit_price_total` as `orderlines.unit_price` * `orderlines.product_quantity`"
      ],
      "metadata": {
        "id": "CrmrCXypbflw"
      }
    },
    {
      "cell_type": "code",
      "source": [
        "# your code here"
      ],
      "metadata": {
        "id": "c8MApY6jatlO"
      },
      "execution_count": null,
      "outputs": []
    },
    {
      "cell_type": "markdown",
      "source": [
        "#### Step 2:\n",
        "Group by `id_order`, summarising by the sum of `unit_price_total`"
      ],
      "metadata": {
        "id": "gkvMUjymbvSC"
      }
    },
    {
      "cell_type": "code",
      "source": [
        "# your code here"
      ],
      "metadata": {
        "id": "4hasZA5BaH1k"
      },
      "execution_count": null,
      "outputs": []
    },
    {
      "cell_type": "markdown",
      "source": [
        "### What is the average difference between `total_paid` and `unit_price_total`?"
      ],
      "metadata": {
        "id": "_d1lwist8F6X"
      }
    },
    {
      "cell_type": "code",
      "source": [
        "# your code here"
      ],
      "metadata": {
        "id": "5N02JPCMgyBU"
      },
      "execution_count": null,
      "outputs": []
    },
    {
      "cell_type": "markdown",
      "source": [
        "### What is the distribution of these differences?"
      ],
      "metadata": {
        "id": "UpynvRcO8QBr"
      }
    },
    {
      "cell_type": "code",
      "source": [
        "# your code here"
      ],
      "metadata": {
        "id": "O4RDNgttJSPD"
      },
      "execution_count": null,
      "outputs": []
    },
    {
      "cell_type": "markdown",
      "source": [
        "### Can all the differences be explained by shipping costs? If not, what are other plausible explanations?"
      ],
      "metadata": {
        "id": "NINPK4rB8TSY"
      }
    },
    {
      "cell_type": "code",
      "source": [
        "# your explanation here"
      ],
      "metadata": {
        "id": "_6GvQ28EJUIf"
      },
      "execution_count": null,
      "outputs": []
    },
    {
      "cell_type": "markdown",
      "source": [
        "### If there are differences that you can’t explain: what should you do with these orders?"
      ],
      "metadata": {
        "id": "xPos2ipK8VST"
      }
    },
    {
      "cell_type": "code",
      "source": [
        "# your code here"
      ],
      "metadata": {
        "id": "xqeCAJBt8V3T"
      },
      "execution_count": null,
      "outputs": []
    },
    {
      "cell_type": "markdown",
      "source": [
        "## 5.&nbsp; Become confident about your dataset"
      ],
      "metadata": {
        "id": "FWROzNEd8b8d"
      }
    },
    {
      "cell_type": "markdown",
      "source": [
        "Let's hear your thoughts about what you discovered."
      ],
      "metadata": {
        "id": "qkiySvbwldvU"
      }
    },
    {
      "cell_type": "code",
      "source": [
        "# your thoughts & code here"
      ],
      "metadata": {
        "id": "AR14cjMpfXV0"
      },
      "execution_count": null,
      "outputs": []
    },
    {
      "cell_type": "markdown",
      "source": [
        "Do not forget to download your quality controlled DataFrames"
      ],
      "metadata": {
        "id": "dvyhnpLcfXdd"
      }
    },
    {
      "cell_type": "code",
      "source": [
        "from google.colab import files\n",
        "\n",
        "#orders_quality_controlled.to_csv(\"orders_qu.csv\", index=False)\n",
        "#files.download(\"orders_qu.csv\")\n",
        "\n",
        "#orderlines_quality_controlled.to_csv(\"orderlines_qu.csv\", index=False)\n",
        "#files.download(\"orderlines_qu.csv\")"
      ],
      "metadata": {
        "id": "gUcJc1E6sVOl"
      },
      "execution_count": null,
      "outputs": []
    }
  ]
}