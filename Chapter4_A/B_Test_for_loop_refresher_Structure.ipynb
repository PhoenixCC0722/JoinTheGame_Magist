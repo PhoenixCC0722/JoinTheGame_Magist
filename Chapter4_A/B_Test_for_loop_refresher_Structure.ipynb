{
  "nbformat": 4,
  "nbformat_minor": 0,
  "metadata": {
    "colab": {
      "provenance": [],
      "include_colab_link": true
    },
    "kernelspec": {
      "name": "python3",
      "display_name": "Python 3"
    },
    "language_info": {
      "name": "python"
    }
  },
  "cells": [
    {
      "cell_type": "markdown",
      "metadata": {
        "id": "view-in-github",
        "colab_type": "text"
      },
      "source": [
        "<a href=\"https://colab.research.google.com/github/PhoenixCC0722/Journey_to_become_DataScientist/blob/main/Chapter4_A/B_Test_for_loop_refresher_Structure.ipynb\" target=\"_parent\"><img src=\"https://colab.research.google.com/assets/colab-badge.svg\" alt=\"Open In Colab\"/></a>"
      ]
    },
    {
      "cell_type": "markdown",
      "source": [
        "### For loops\n",
        "\n",
        "Whenever you want to apply any transformation to all elements in a list, you iterate through them with a `for` loop."
      ],
      "metadata": {
        "id": "qcCLIqCWl5BG"
      }
    },
    {
      "cell_type": "code",
      "execution_count": 1,
      "metadata": {
        "id": "4_qdFrsplydj",
        "colab": {
          "base_uri": "https://localhost:8080/"
        },
        "outputId": "6c0cfde1-62eb-44ee-9b9e-d973ab4aacd3"
      },
      "outputs": [
        {
          "output_type": "stream",
          "name": "stdout",
          "text": [
            "2\n",
            "4\n",
            "6\n",
            "8\n",
            "10\n"
          ]
        }
      ],
      "source": [
        "numbers = [1, 2, 3, 4, 5]\n",
        "\n",
        "for num in numbers:\n",
        "    print(num * 2)\n"
      ]
    },
    {
      "cell_type": "markdown",
      "source": [
        "In the example above, we have a list of numbers from 1 to 5. We loop through the list using a `for` loop and define the variable `num` as the variable that will represent each item in the list as we loop through it.\n",
        "\n",
        "Inside the loop, we simply print out the value of `num` multiplied by 2. As the loop runs, the variable `num` will take on each value in the `numbers` list in turn, and the corresponding value multiplied by 2 will be printed."
      ],
      "metadata": {
        "id": "E34xKn6_rJOW"
      }
    },
    {
      "cell_type": "markdown",
      "source": [
        "If we wanted to store the resulting transformations of our loop into a new list, we would define an empty list first, and then append() all the elements as we iterate through the loop:"
      ],
      "metadata": {
        "id": "THsKX2Hjsp4g"
      }
    },
    {
      "cell_type": "code",
      "source": [
        "multiplied_by_two_numbers = []\n",
        "\n",
        "for num in numbers:\n",
        "    multiplied_by_two_numbers.append(num * 2)\n",
        "\n",
        "\n",
        "multiplied_by_two_numbers"
      ],
      "metadata": {
        "id": "BP1lI6PrrEbs",
        "colab": {
          "base_uri": "https://localhost:8080/"
        },
        "outputId": "6f28175b-4834-4592-973b-0da455e0e638"
      },
      "execution_count": 2,
      "outputs": [
        {
          "output_type": "execute_result",
          "data": {
            "text/plain": [
              "[2, 4, 6, 8, 10]"
            ]
          },
          "metadata": {},
          "execution_count": 2
        }
      ]
    },
    {
      "cell_type": "markdown",
      "source": [
        "**Exercise 1** Create a new list `divided_by_two_numbers` by iterating through the `numbers` list with a `for` loop and dividing each element by 2."
      ],
      "metadata": {
        "id": "BCS5Ayypu2Wt"
      }
    },
    {
      "cell_type": "code",
      "source": [
        "divided_by_two_numbers = []\n",
        "\n",
        "for num in numbers:\n",
        "    divided_by_two_numbers.append(num/2)\n",
        "divided_by_two_numbers"
      ],
      "metadata": {
        "id": "rSthgUPPtYt6",
        "colab": {
          "base_uri": "https://localhost:8080/"
        },
        "outputId": "11211feb-0d0d-4fed-8096-54fc669fc368"
      },
      "execution_count": 3,
      "outputs": [
        {
          "output_type": "execute_result",
          "data": {
            "text/plain": [
              "[0.5, 1.0, 1.5, 2.0, 2.5]"
            ]
          },
          "metadata": {},
          "execution_count": 3
        }
      ]
    },
    {
      "cell_type": "markdown",
      "source": [
        "### Conditions with `if`\n",
        "\n",
        "Whenever you want to do something only if a condition is met, you will need an `if` statement. Let's say we want multiply by 2 only the even numbers and multiply by 3 only the odd ones from our `numbers` list."
      ],
      "metadata": {
        "id": "sLTvXW-PwL_t"
      }
    },
    {
      "cell_type": "markdown",
      "source": [
        "We can check one by one whether all numbers from our `numbers` list are even using the modulo operator `%`. The `%` operator returns the remainder of a division operation, so if a number is even, dividing it by 2 will result in a remainder of 0."
      ],
      "metadata": {
        "id": "jb7zNagGyIxA"
      }
    },
    {
      "cell_type": "code",
      "source": [
        "# numbers = [1, 2, 3, 4, 5]. The first element is 1\n",
        "print((numbers[0] % 2) == 0)\n",
        "\n",
        "# numbers = [1, 2, 3, 4, 5]. The second element is 2\n",
        "print((numbers[1] % 2) == 0)"
      ],
      "metadata": {
        "id": "6lLgaP1vwhDM",
        "colab": {
          "base_uri": "https://localhost:8080/"
        },
        "outputId": "07c67226-7c42-498d-a484-5111928c001c"
      },
      "execution_count": 4,
      "outputs": [
        {
          "output_type": "stream",
          "name": "stdout",
          "text": [
            "False\n",
            "True\n"
          ]
        }
      ]
    },
    {
      "cell_type": "markdown",
      "source": [
        "These booleans, `True` or `False`, are exactly what `if` statements need. Whenever a condition is true, the code below the `if` statement runs; if the condition is false, the code is skipped and nothing happens:"
      ],
      "metadata": {
        "id": "MPf8ejor1qX0"
      }
    },
    {
      "cell_type": "code",
      "source": [
        "condition = True\n",
        "\n",
        "if condition:\n",
        "    print(\"yay\")"
      ],
      "metadata": {
        "id": "GmoQl1LNz6M4",
        "colab": {
          "base_uri": "https://localhost:8080/"
        },
        "outputId": "3bc0935d-29ef-4fdd-bfeb-742d6a64c4e0"
      },
      "execution_count": 5,
      "outputs": [
        {
          "output_type": "stream",
          "name": "stdout",
          "text": [
            "yay\n"
          ]
        }
      ]
    },
    {
      "cell_type": "code",
      "source": [
        "condition = False\n",
        "\n",
        "if condition:\n",
        "    print(\"yay\")"
      ],
      "metadata": {
        "id": "opZrA9ZZ2bqe"
      },
      "execution_count": 6,
      "outputs": []
    },
    {
      "cell_type": "markdown",
      "source": [
        "Let's run a `for` loop to check which elements from the `numbers` list are even numbers:"
      ],
      "metadata": {
        "id": "khTZ22BS2wTd"
      }
    },
    {
      "cell_type": "code",
      "source": [
        "# numbers = [1, 2, 3, 4, 5]\n",
        "\n",
        "for num in numbers:\n",
        "  if num % 2 == 0:\n",
        "    print(num, \"is even\")"
      ],
      "metadata": {
        "id": "cWwn4ZhE2gFy",
        "colab": {
          "base_uri": "https://localhost:8080/"
        },
        "outputId": "ea4a7a69-5300-4972-f154-3259891a1605"
      },
      "execution_count": 7,
      "outputs": [
        {
          "output_type": "stream",
          "name": "stdout",
          "text": [
            "2 is even\n",
            "4 is even\n"
          ]
        }
      ]
    },
    {
      "cell_type": "markdown",
      "source": [
        "An `else` statement can be added if you want to do something with the elements that did not meet the condition."
      ],
      "metadata": {
        "id": "to3LxOoo3yOM"
      }
    },
    {
      "cell_type": "code",
      "source": [
        "# numbers = [1, 2, 3, 4, 5]\n",
        "\n",
        "for num in numbers:\n",
        "    if num % 2 == 0:\n",
        "        print(num, \"is even\")\n",
        "    else:\n",
        "        print(num, \"is odd\")\n"
      ],
      "metadata": {
        "id": "6c3ODE863YyJ",
        "colab": {
          "base_uri": "https://localhost:8080/"
        },
        "outputId": "2ce8eb6f-4679-4f86-f56e-2925eb26771f"
      },
      "execution_count": 8,
      "outputs": [
        {
          "output_type": "stream",
          "name": "stdout",
          "text": [
            "1 is odd\n",
            "2 is even\n",
            "3 is odd\n",
            "4 is even\n",
            "5 is odd\n"
          ]
        }
      ]
    },
    {
      "cell_type": "markdown",
      "source": [
        "So we can now tie everything together:\n",
        "\n",
        "- A for loop that iterates through the numbers in the `numbers` list.\n",
        "\n",
        "- An `if` statment that checks whether a number is even or odd.\n",
        "\n",
        "- Multiply the even numbers by 2 and the odd ones by 3."
      ],
      "metadata": {
        "id": "rOWVxNbF7rmg"
      }
    },
    {
      "cell_type": "code",
      "source": [
        "# numbers = [1, 2, 3, 4, 5]\n",
        "\n",
        "for num in numbers:\n",
        "    if num % 2 == 0:\n",
        "        print(num, \"is even,\", num, \"* 2 =\", num * 2)\n",
        "    else:\n",
        "        print(num, \"is odd,\", num, \"* 3 =\", num * 3)"
      ],
      "metadata": {
        "id": "8reQLQLB39EV",
        "colab": {
          "base_uri": "https://localhost:8080/"
        },
        "outputId": "d00c2205-14cf-4daa-f36b-513e9a33d5dc"
      },
      "execution_count": 9,
      "outputs": [
        {
          "output_type": "stream",
          "name": "stdout",
          "text": [
            "1 is odd, 1 * 3 = 3\n",
            "2 is even, 2 * 2 = 4\n",
            "3 is odd, 3 * 3 = 9\n",
            "4 is even, 4 * 2 = 8\n",
            "5 is odd, 5 * 3 = 15\n"
          ]
        }
      ]
    },
    {
      "cell_type": "markdown",
      "source": [
        "#### **Exercise 2:**\n",
        "Using a for loop, write a program that counts the number of vowels (a, e, i, o, u) in the following text: \"Hello world! I am practicing 'for' loops.\"  Print the total count of vowels at the end."
      ],
      "metadata": {
        "id": "1rS4QT_wCrzR"
      }
    },
    {
      "cell_type": "code",
      "source": [
        "string_input = \"Hello world! I am practicing 'for' loops\"\n",
        "vowels = \"aeiou\"\n",
        "vowels_counts = 0\n",
        "string = string_input.lower()\n",
        "for chars in string:\n",
        "    if chars in vowels:\n",
        "       vowels_counts += 1\n",
        "print(\"The number of vowels in this string is:\", vowels_counts)"
      ],
      "metadata": {
        "id": "-jHRpqpk-HvH",
        "colab": {
          "base_uri": "https://localhost:8080/"
        },
        "outputId": "5bce5c2d-9214-4e6e-adb1-407e9edfba3f"
      },
      "execution_count": 16,
      "outputs": [
        {
          "output_type": "stream",
          "name": "stdout",
          "text": [
            "The number of vowels in this string is: 11\n"
          ]
        }
      ]
    },
    {
      "cell_type": "markdown",
      "source": [
        "#### **Bonus! Exercise 3:**\n",
        "Create a program that finds out your age in a maximum of 8 tries! The program can ask you only one type of question: guessing your age! (e.g. “Are you 47 years old?”) And you can answer only one of these three options:\n",
        "\n",
        "*   younger\n",
        "*   older\n",
        "*   yes\n",
        "\n",
        "Based on your answer the computer can come up with another guess until it finds out your exact age.\n",
        "\n",
        "**Tip:** to solve this task, you will have to use the input() function! More info: [here](https://docs.python.org/3/library/functions.html#input). It is totally normal if you don't know how to approach this exercise right away. Google is your friend! If you are stuck for a long time (above 30 min), and have already tried many things, it's time to ask for help to your instructor."
      ],
      "metadata": {
        "id": "I7s1w6nEgsHb"
      }
    },
    {
      "cell_type": "code",
      "source": [
        "import random\n",
        "import math\n",
        "# taking input\n",
        "actual_age = int(input(\"Enter your age:- \"))\n",
        "\n",
        "# Initializing the number of guesses.\n",
        "count = 0\n",
        "\n",
        "# maximum tries of guesses\n",
        "max_tries = 8\n",
        "\n",
        "# for calculation of guesses\n",
        "while count < max_tries:\n",
        "      count += 1\n",
        "      #generate a random number\n",
        "      x = random.randint(1,100)\n",
        "      # set the question\n",
        "      question = input(\"Are you\" +str(x)+ \"years old?\")\n",
        "# Condition testing\n",
        "      if x == actual_age:\n",
        "        print(\"yes\",\"Congratulations you did it in \",count, \" try\")\n",
        "        # Once guessed, loop will break\n",
        "        break\n",
        "      elif x > actual_age:\n",
        "        print(\"younger\")\n",
        "      elif x < actual_age:\n",
        "        print(\"older\")\n",
        "# If Guessing is more than required guesses,\n",
        "# shows this output.\n",
        "if count >= max_tries:\n",
        "    print(\"\\nMy actual age is %d\" % actual_age)\n",
        "    print(\"\\tBetter Luck Next time!\")"
      ],
      "metadata": {
        "id": "mzqd-DtyELFS",
        "colab": {
          "base_uri": "https://localhost:8080/"
        },
        "outputId": "aa721192-c261-4c48-d095-9a2425ed8fe8"
      },
      "execution_count": 29,
      "outputs": [
        {
          "output_type": "stream",
          "name": "stdout",
          "text": [
            "Enter your age:- 38\n",
            "Are you37years old?older\n",
            "older\n",
            "Are you57years old?younger\n",
            "younger\n",
            "Are you16years old?older\n",
            "older\n",
            "Are you77years old?younger\n",
            "younger\n",
            "Are you65years old?younger\n",
            "younger\n",
            "Are you33years old?older\n",
            "older\n",
            "Are you63years old?younger\n",
            "younger\n",
            "Are you1years old?older\n",
            "older\n",
            "\n",
            "My actual age is 38\n",
            "\tBetter Luck Next time!\n"
          ]
        }
      ]
    }
  ]
}