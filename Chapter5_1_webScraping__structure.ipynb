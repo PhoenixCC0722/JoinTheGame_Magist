{
  "nbformat": 4,
  "nbformat_minor": 0,
  "metadata": {
    "colab": {
      "provenance": [],
      "toc_visible": true,
      "include_colab_link": true
    },
    "kernelspec": {
      "name": "python3",
      "display_name": "Python 3"
    },
    "language_info": {
      "name": "python"
    }
  },
  "cells": [
    {
      "cell_type": "markdown",
      "metadata": {
        "id": "view-in-github",
        "colab_type": "text"
      },
      "source": [
        "<a href=\"https://colab.research.google.com/github/PhoenixCC0722/Journey_to_become_DataScientist/blob/main/Chapter5_1_webScraping__structure.ipynb\" target=\"_parent\"><img src=\"https://colab.research.google.com/assets/colab-badge.svg\" alt=\"Open In Colab\"/></a>"
      ]
    },
    {
      "cell_type": "markdown",
      "source": [
        "# Web scraping\n",
        "\n",
        "Web scraping is a technique used to extract data from websites. It involves sending HTTP requests to websites, parsing the returned HTML code, and extracting the desired data. Web scraping is a powerful tool for data scientists as it allows them to collect large amounts of data from the web. This data can then be used to train machine learning models, analyse trends, and make informed business decisions."
      ],
      "metadata": {
        "id": "WSQ5Fev3rZ2M"
      }
    },
    {
      "cell_type": "markdown",
      "source": [
        "---\n",
        "## 1.&nbsp; Import libraries 💾"
      ],
      "metadata": {
        "id": "ktDmVq208N_-"
      }
    },
    {
      "cell_type": "code",
      "execution_count": 90,
      "metadata": {
        "id": "wL77EPUT7tc6"
      },
      "outputs": [],
      "source": [
        "import pandas as pd\n",
        "import requests\n",
        "from bs4 import BeautifulSoup"
      ]
    },
    {
      "cell_type": "markdown",
      "source": [
        "---\n",
        "## 2.&nbsp; Beautiful Soup 🍲\n",
        "\n",
        "[Beautiful Soup](https://www.crummy.com/software/BeautifulSoup/bs4/doc/) is a Python library that simplifies the process of web scraping. It provides a user-friendly interface for parsing HTML documents, enabling users to extract specific information from websites. Through Beautiful Soup, you can navigate the HTML tree structure, locate elements based on their tags, attributes, and content, and extract the desired data into a structured format."
      ],
      "metadata": {
        "id": "xg2dCwV69i6u"
      }
    },
    {
      "cell_type": "markdown",
      "source": [
        "To illustrate how to use Beautiful Soup, we'll use the simplified mock website below. This stripped-down version serves as a practical learning tool, as real websites often possess much larger and more complex HTML structures. By starting with this simplified model, you can gradually build your skills and expertise, ensuring a solid understanding of the core concepts before tackling more intricate web scraping tasks."
      ],
      "metadata": {
        "id": "VWYO44DoBamu"
      }
    },
    {
      "cell_type": "code",
      "source": [
        "html_doc = \"\"\"\n",
        "<html><head><title>The Dormouse's story</title></head>\n",
        "<body>\n",
        "<p class=\"title\"><b>The Dormouse's story</b></p>\n",
        "\n",
        "<p class=\"story\">Once upon a time there were three little sisters; and their names were\n",
        "<a href=\"http://example.com/elsie\" class=\"sister\" id=\"link1\" meta=\"Eldest sister\">Elsie</a>,\n",
        "<a href=\"http://example.com/lacie\" class=\"sister\" id=\"link2\" meta=\"Middle sister\">Lacie</a> and\n",
        "<a href=\"http://example.com/tillie\" class=\"sister\" id=\"link3\" meta=\"Youngest sister\">Tillie</a>;\n",
        "and they lived at the bottom of a well.</p>\n",
        "\n",
        "<p class=\"story\">...</p>\n",
        "\"\"\""
      ],
      "metadata": {
        "id": "jl6v_XhL1t0-"
      },
      "execution_count": 91,
      "outputs": []
    },
    {
      "cell_type": "markdown",
      "source": [
        "\n",
        "Beautiful Soup's HTML parser takes the raw, unruly HTML code and transforms it into a neatly organised tree structure, making the information easily accessible and manageable."
      ],
      "metadata": {
        "id": "tfSTZsHAClN-"
      }
    },
    {
      "cell_type": "code",
      "source": [
        "soup = BeautifulSoup(html_doc, 'html.parser')"
      ],
      "metadata": {
        "id": "uXuMlTd014SF"
      },
      "execution_count": 92,
      "outputs": []
    },
    {
      "cell_type": "markdown",
      "source": [
        "We can see the tree structure using Beautiful Soup's `.prettify` attribute."
      ],
      "metadata": {
        "id": "KoPKtzURCmMu"
      }
    },
    {
      "cell_type": "code",
      "source": [
        "print(soup.prettify())"
      ],
      "metadata": {
        "colab": {
          "base_uri": "https://localhost:8080/"
        },
        "id": "yxpOiIou-KwF",
        "outputId": "44a49053-f243-4abe-b9ea-2a99984e5eeb"
      },
      "execution_count": 93,
      "outputs": [
        {
          "output_type": "stream",
          "name": "stdout",
          "text": [
            "<html>\n",
            " <head>\n",
            "  <title>\n",
            "   The Dormouse's story\n",
            "  </title>\n",
            " </head>\n",
            " <body>\n",
            "  <p class=\"title\">\n",
            "   <b>\n",
            "    The Dormouse's story\n",
            "   </b>\n",
            "  </p>\n",
            "  <p class=\"story\">\n",
            "   Once upon a time there were three little sisters; and their names were\n",
            "   <a class=\"sister\" href=\"http://example.com/elsie\" id=\"link1\" meta=\"Eldest sister\">\n",
            "    Elsie\n",
            "   </a>\n",
            "   ,\n",
            "   <a class=\"sister\" href=\"http://example.com/lacie\" id=\"link2\" meta=\"Middle sister\">\n",
            "    Lacie\n",
            "   </a>\n",
            "   and\n",
            "   <a class=\"sister\" href=\"http://example.com/tillie\" id=\"link3\" meta=\"Youngest sister\">\n",
            "    Tillie\n",
            "   </a>\n",
            "   ;\n",
            "and they lived at the bottom of a well.\n",
            "  </p>\n",
            "  <p class=\"story\">\n",
            "   ...\n",
            "  </p>\n",
            " </body>\n",
            "</html>\n",
            "\n"
          ]
        }
      ]
    },
    {
      "cell_type": "markdown",
      "source": [
        "---\n",
        "## 3.&nbsp; Navigating html for beginners 🧭\n",
        "There are many methods in Beautiful Soup to explore the html data. By far the most popular and useful of these is `.find_all().` So, naturally, this is where we'll start our journey."
      ],
      "metadata": {
        "id": "hXAo3MBl8oy9"
      }
    },
    {
      "cell_type": "markdown",
      "source": [
        "### 3.1.&nbsp; `.find_all()`\n",
        "The `.find_all()` method in Beautiful Soup returns a list of all the elements that match the specified criteria, such as tag name, class name, or attribute values."
      ],
      "metadata": {
        "id": "aLDnNzZ08scc"
      }
    },
    {
      "cell_type": "markdown",
      "source": [
        "#### 3.1.1.&nbsp; Searching by tag\n",
        "\n",
        "The tags are the letter/word at the beginning of the angle brackets. For example, below, these brackets have an `a` tag.\n",
        "\n",
        "`<a class=\"sister\" href=\"http://example.com/elsie\" id=\"link1\" meta=\"Eldest sister\">Elsie</a>`\n",
        "\n",
        "The `.find_all()` method takes a string argument and returns a list of all matching HTML tags within the current document. If no matching tags exist, an empty list is returned."
      ],
      "metadata": {
        "id": "l4eVS1rUAp9D"
      }
    },
    {
      "cell_type": "code",
      "source": [
        "soup.find_all(\"title\")"
      ],
      "metadata": {
        "colab": {
          "base_uri": "https://localhost:8080/"
        },
        "id": "TJFWDbHmf6ur",
        "outputId": "49e83bbc-b83c-46cb-e4a6-690d6606f0eb"
      },
      "execution_count": 94,
      "outputs": [
        {
          "output_type": "execute_result",
          "data": {
            "text/plain": [
              "[<title>The Dormouse's story</title>]"
            ]
          },
          "metadata": {},
          "execution_count": 94
        }
      ]
    },
    {
      "cell_type": "code",
      "source": [
        "soup.find_all(\"p\")"
      ],
      "metadata": {
        "colab": {
          "base_uri": "https://localhost:8080/"
        },
        "id": "qqrujkXd8qK5",
        "outputId": "75d11dcc-23d7-4af1-8c3c-e985aea5ee6b"
      },
      "execution_count": 95,
      "outputs": [
        {
          "output_type": "execute_result",
          "data": {
            "text/plain": [
              "[<p class=\"title\"><b>The Dormouse's story</b></p>,\n",
              " <p class=\"story\">Once upon a time there were three little sisters; and their names were\n",
              " <a class=\"sister\" href=\"http://example.com/elsie\" id=\"link1\" meta=\"Eldest sister\">Elsie</a>,\n",
              " <a class=\"sister\" href=\"http://example.com/lacie\" id=\"link2\" meta=\"Middle sister\">Lacie</a> and\n",
              " <a class=\"sister\" href=\"http://example.com/tillie\" id=\"link3\" meta=\"Youngest sister\">Tillie</a>;\n",
              " and they lived at the bottom of a well.</p>,\n",
              " <p class=\"story\">...</p>]"
            ]
          },
          "metadata": {},
          "execution_count": 95
        }
      ]
    },
    {
      "cell_type": "markdown",
      "source": [
        "#### 3.1.2.&nbsp; Searching by attribute\n",
        "\n",
        "Attributes are the other information in the angle brackets. For example, below, these brackets have a `class`, `href`, `id`, and `meta` attribute.\n",
        "\n",
        "`<a class=\"sister\" href=\"http://example.com/elsie\" id=\"link1\" meta=\"Eldest sister\">Elsie</a>`\n",
        "\n",
        "Attributes provide additional context and functionality to the elements. They can serve various purposes, including CSS selectors for styling, URLs for linking to external resources, metadata for storing relevant data, and a multitude of other information-bearing components. By leveraging these attributes, we can effectively target specific sections of the website."
      ],
      "metadata": {
        "id": "O7elwgBfA5GW"
      }
    },
    {
      "cell_type": "markdown",
      "source": [
        "##### 3.1.2.1.&nbsp; CSS selectors\n",
        "CSS selectors are used to to style certain sections of websites. This makes them very helpful for webscraping as we can then target certain regions of the website."
      ],
      "metadata": {
        "id": "j4SZY8Z8hAA0"
      }
    },
    {
      "cell_type": "markdown",
      "source": [
        "###### 3.1.2.1.1.&nbsp; Class\n",
        "Class selectors are used to style **multiple** HTML elements that share a common characteristic or function.\n",
        "> **Note:** here class has an underscore at the end of the word, this is because class is a reserved keyword in python."
      ],
      "metadata": {
        "id": "8yoarw3ghEe0"
      }
    },
    {
      "cell_type": "code",
      "source": [
        "soup.find_all(class_=\"sister\")"
      ],
      "metadata": {
        "colab": {
          "base_uri": "https://localhost:8080/"
        },
        "id": "r_amindGhC13",
        "outputId": "e1ca1f85-6b7e-451a-a679-b1de6edc6935"
      },
      "execution_count": 96,
      "outputs": [
        {
          "output_type": "execute_result",
          "data": {
            "text/plain": [
              "[<a class=\"sister\" href=\"http://example.com/elsie\" id=\"link1\" meta=\"Eldest sister\">Elsie</a>,\n",
              " <a class=\"sister\" href=\"http://example.com/lacie\" id=\"link2\" meta=\"Middle sister\">Lacie</a>,\n",
              " <a class=\"sister\" href=\"http://example.com/tillie\" id=\"link3\" meta=\"Youngest sister\">Tillie</a>]"
            ]
          },
          "metadata": {},
          "execution_count": 96
        }
      ]
    },
    {
      "cell_type": "markdown",
      "source": [
        "###### 3.1.2.1.2.&nbsp; ID\n",
        "ID selectors are used to style **single** HTML elements."
      ],
      "metadata": {
        "id": "qfFFv08whDET"
      }
    },
    {
      "cell_type": "code",
      "source": [
        "soup.find_all(id=\"link1\")"
      ],
      "metadata": {
        "colab": {
          "base_uri": "https://localhost:8080/"
        },
        "id": "tZRqX1fhhC4h",
        "outputId": "1a84efcf-909b-42c4-b8c1-2500d8ec9c57"
      },
      "execution_count": 97,
      "outputs": [
        {
          "output_type": "execute_result",
          "data": {
            "text/plain": [
              "[<a class=\"sister\" href=\"http://example.com/elsie\" id=\"link1\" meta=\"Eldest sister\">Elsie</a>]"
            ]
          },
          "metadata": {},
          "execution_count": 97
        }
      ]
    },
    {
      "cell_type": "code",
      "source": [
        "soup.find_all(id=\"link2\")"
      ],
      "metadata": {
        "colab": {
          "base_uri": "https://localhost:8080/"
        },
        "id": "mUmznwLq2Wbi",
        "outputId": "83e47b3e-46ad-4b44-bdc7-525b5c7dae2f"
      },
      "execution_count": 98,
      "outputs": [
        {
          "output_type": "execute_result",
          "data": {
            "text/plain": [
              "[<a class=\"sister\" href=\"http://example.com/lacie\" id=\"link2\" meta=\"Middle sister\">Lacie</a>]"
            ]
          },
          "metadata": {},
          "execution_count": 98
        }
      ]
    },
    {
      "cell_type": "markdown",
      "source": [
        "##### 3.1.2.2.&nbsp; Other attributes\n",
        "HTML elements can also include other attributes, which can be equally useful for identifying and targeting specific data points. To locate these attributes, search for them using the same method as you do for CSS selectors."
      ],
      "metadata": {
        "id": "Lrh1aU9f-7z4"
      }
    },
    {
      "cell_type": "code",
      "source": [
        "soup.find_all(meta=\"Youngest sister\")"
      ],
      "metadata": {
        "colab": {
          "base_uri": "https://localhost:8080/"
        },
        "id": "A3leok25jS5t",
        "outputId": "4ea9d7e7-9bf8-43df-93bc-431bc5df3699"
      },
      "execution_count": 99,
      "outputs": [
        {
          "output_type": "execute_result",
          "data": {
            "text/plain": [
              "[<a class=\"sister\" href=\"http://example.com/tillie\" id=\"link3\" meta=\"Youngest sister\">Tillie</a>]"
            ]
          },
          "metadata": {},
          "execution_count": 99
        }
      ]
    },
    {
      "cell_type": "markdown",
      "source": [
        "#### 3.1.3.&nbsp; Searching by string\n",
        "The text (string) is the part between the opening and closing angle brackets, this is what's displayed on the webpage. For example, below, these brackets have `Elsie` as the text.\n",
        "\n",
        "`<a class=\"sister\" href=\"http://example.com/elsie\" id=\"link1\" meta=\"Eldest sister\">Elsie</a>`\n",
        "\n",
        "Instead of searching for specific tags or attributes, you can also search for this text. To do this, you can use a string or a regular expression to specify the text you're looking for."
      ],
      "metadata": {
        "id": "qBKjBGRHBHds"
      }
    },
    {
      "cell_type": "code",
      "source": [
        "soup.find_all(string=\"Dormouse\")"
      ],
      "metadata": {
        "colab": {
          "base_uri": "https://localhost:8080/"
        },
        "id": "J6JWfJ65A_tl",
        "outputId": "15bfc803-4b2a-438f-acab-85dcfba264d2"
      },
      "execution_count": 100,
      "outputs": [
        {
          "output_type": "execute_result",
          "data": {
            "text/plain": [
              "[]"
            ]
          },
          "metadata": {},
          "execution_count": 100
        }
      ]
    },
    {
      "cell_type": "markdown",
      "source": [
        "The string \"Dormouse\" didn't return any results because BeautifulSoup searches for entire strings that exactly match the string you entered. In other words, the string must be the exact same as what you're searching for for it to be considered a match."
      ],
      "metadata": {
        "id": "tilKV8RJX6Sl"
      }
    },
    {
      "cell_type": "code",
      "source": [
        "soup.find_all(string=\"The Dormouse's story\")"
      ],
      "metadata": {
        "colab": {
          "base_uri": "https://localhost:8080/"
        },
        "id": "JgD4tC63CMcM",
        "outputId": "8e5bb600-1966-4371-a440-7223a365eac4"
      },
      "execution_count": 101,
      "outputs": [
        {
          "output_type": "execute_result",
          "data": {
            "text/plain": [
              "[\"The Dormouse's story\", \"The Dormouse's story\"]"
            ]
          },
          "metadata": {},
          "execution_count": 101
        }
      ]
    },
    {
      "cell_type": "markdown",
      "source": [
        "To search for a substring, the easiest way is to use the regular expressions method `.compile()`."
      ],
      "metadata": {
        "id": "ji8otCeHYT0-"
      }
    },
    {
      "cell_type": "code",
      "source": [
        "import re\n",
        "soup.find_all(string=re.compile(\"dormouse\", re.IGNORECASE))"
      ],
      "metadata": {
        "colab": {
          "base_uri": "https://localhost:8080/"
        },
        "id": "3a-9m5zNmxok",
        "outputId": "4961f004-e316-485d-a1d1-a0f07a3eb78d"
      },
      "execution_count": 102,
      "outputs": [
        {
          "output_type": "execute_result",
          "data": {
            "text/plain": [
              "[\"The Dormouse's story\", \"The Dormouse's story\"]"
            ]
          },
          "metadata": {},
          "execution_count": 102
        }
      ]
    },
    {
      "cell_type": "markdown",
      "source": [
        "> **Note:** by default, the .compile() method is case-sensitive, meaning it will only match strings that are exactly equal to the pattern you specify, including case. To perform case-insensitive matching, you must explicitly pass the re.IGNORECASE flag to the .compile() method."
      ],
      "metadata": {
        "id": "YEZWgddkZJkx"
      }
    },
    {
      "cell_type": "markdown",
      "source": [
        "### 3.2.&nbsp; Extracting text\n",
        "There are a few ways to extract text in Beautiful Soup, here we'll focus on 2 of them."
      ],
      "metadata": {
        "id": "7ROMgD-y9mZU"
      }
    },
    {
      "cell_type": "markdown",
      "source": [
        "#### 3.2.1.&nbsp; `.get_text()`\n",
        "The `.get_text()` method extracts all the human-readable text from a Beautiful Soup object, returning it as a string."
      ],
      "metadata": {
        "id": "Cs9mUvTI9oZN"
      }
    },
    {
      "cell_type": "code",
      "source": [
        "soup.find_all(\"title\")"
      ],
      "metadata": {
        "colab": {
          "base_uri": "https://localhost:8080/"
        },
        "id": "_x-R0WQm9n-L",
        "outputId": "a49d4ca9-04c8-41e5-f310-449d9ea01f58"
      },
      "execution_count": 103,
      "outputs": [
        {
          "output_type": "execute_result",
          "data": {
            "text/plain": [
              "[<title>The Dormouse's story</title>]"
            ]
          },
          "metadata": {},
          "execution_count": 103
        }
      ]
    },
    {
      "cell_type": "code",
      "source": [
        "soup.find_all(\"title\").get_text()"
      ],
      "metadata": {
        "colab": {
          "base_uri": "https://localhost:8080/",
          "height": 311
        },
        "id": "T4aPfFuT4CUi",
        "outputId": "76e4007b-b775-47c4-e582-eb8e76aa435a"
      },
      "execution_count": 104,
      "outputs": [
        {
          "output_type": "error",
          "ename": "AttributeError",
          "evalue": "ResultSet object has no attribute 'get_text'. You're probably treating a list of elements like a single element. Did you call find_all() when you meant to call find()?",
          "traceback": [
            "\u001b[0;31m---------------------------------------------------------------------------\u001b[0m",
            "\u001b[0;31mAttributeError\u001b[0m                            Traceback (most recent call last)",
            "\u001b[0;32m<ipython-input-104-d917b23c233b>\u001b[0m in \u001b[0;36m<cell line: 1>\u001b[0;34m()\u001b[0m\n\u001b[0;32m----> 1\u001b[0;31m \u001b[0msoup\u001b[0m\u001b[0;34m.\u001b[0m\u001b[0mfind_all\u001b[0m\u001b[0;34m(\u001b[0m\u001b[0;34m\"title\"\u001b[0m\u001b[0;34m)\u001b[0m\u001b[0;34m.\u001b[0m\u001b[0mget_text\u001b[0m\u001b[0;34m(\u001b[0m\u001b[0;34m)\u001b[0m\u001b[0;34m\u001b[0m\u001b[0;34m\u001b[0m\u001b[0m\n\u001b[0m",
            "\u001b[0;32m/usr/local/lib/python3.10/dist-packages/bs4/element.py\u001b[0m in \u001b[0;36m__getattr__\u001b[0;34m(self, key)\u001b[0m\n\u001b[1;32m   2431\u001b[0m     \u001b[0;32mdef\u001b[0m \u001b[0m__getattr__\u001b[0m\u001b[0;34m(\u001b[0m\u001b[0mself\u001b[0m\u001b[0;34m,\u001b[0m \u001b[0mkey\u001b[0m\u001b[0;34m)\u001b[0m\u001b[0;34m:\u001b[0m\u001b[0;34m\u001b[0m\u001b[0;34m\u001b[0m\u001b[0m\n\u001b[1;32m   2432\u001b[0m         \u001b[0;34m\"\"\"Raise a helpful exception to explain a common code fix.\"\"\"\u001b[0m\u001b[0;34m\u001b[0m\u001b[0;34m\u001b[0m\u001b[0m\n\u001b[0;32m-> 2433\u001b[0;31m         raise AttributeError(\n\u001b[0m\u001b[1;32m   2434\u001b[0m             \u001b[0;34m\"ResultSet object has no attribute '%s'. You're probably treating a list of elements like a single element. Did you call find_all() when you meant to call find()?\"\u001b[0m \u001b[0;34m%\u001b[0m \u001b[0mkey\u001b[0m\u001b[0;34m\u001b[0m\u001b[0;34m\u001b[0m\u001b[0m\n\u001b[1;32m   2435\u001b[0m         )\n",
            "\u001b[0;31mAttributeError\u001b[0m: ResultSet object has no attribute 'get_text'. You're probably treating a list of elements like a single element. Did you call find_all() when you meant to call find()?"
          ]
        }
      ]
    },
    {
      "cell_type": "markdown",
      "source": [
        "> Read the error message and look at the output from the cell above. Can you work out why we got an error?"
      ],
      "metadata": {
        "id": "DOgNw4TAAbXj"
      }
    },
    {
      "cell_type": "code",
      "source": [
        "soup.find_all(\"title\")[0].get_text()"
      ],
      "metadata": {
        "id": "3ncvdyiUKRjc",
        "outputId": "25569d89-c685-48cf-fe78-bbffc37b1e90",
        "colab": {
          "base_uri": "https://localhost:8080/",
          "height": 36
        }
      },
      "execution_count": 105,
      "outputs": [
        {
          "output_type": "execute_result",
          "data": {
            "text/plain": [
              "\"The Dormouse's story\""
            ],
            "application/vnd.google.colaboratory.intrinsic+json": {
              "type": "string"
            }
          },
          "metadata": {},
          "execution_count": 105
        }
      ]
    },
    {
      "cell_type": "code",
      "source": [
        "soup.find(\"title\").get_text()"
      ],
      "metadata": {
        "id": "c6_mO7kJKWpZ",
        "outputId": "c38b61a9-54a6-42a4-a600-91094d617f3d",
        "colab": {
          "base_uri": "https://localhost:8080/",
          "height": 36
        }
      },
      "execution_count": 106,
      "outputs": [
        {
          "output_type": "execute_result",
          "data": {
            "text/plain": [
              "\"The Dormouse's story\""
            ],
            "application/vnd.google.colaboratory.intrinsic+json": {
              "type": "string"
            }
          },
          "metadata": {},
          "execution_count": 106
        }
      ]
    },
    {
      "cell_type": "code",
      "source": [
        "# @title Click `show code` to see the solution to the error\n",
        "\n",
        "# It was a list, read the error messages and notice the square brackets in the original output\n",
        "# Therefore, we need to select the first and only element of this list\n",
        "soup.find_all(\"title\")[0].get_text()"
      ],
      "metadata": {
        "colab": {
          "base_uri": "https://localhost:8080/",
          "height": 36
        },
        "id": "mgI1c4Ts4O67",
        "outputId": "3b7695d8-4987-417d-eb22-b04ee34cc09f"
      },
      "execution_count": 107,
      "outputs": [
        {
          "output_type": "execute_result",
          "data": {
            "text/plain": [
              "\"The Dormouse's story\""
            ],
            "application/vnd.google.colaboratory.intrinsic+json": {
              "type": "string"
            }
          },
          "metadata": {},
          "execution_count": 107
        }
      ]
    },
    {
      "cell_type": "markdown",
      "source": [
        "We can also print out multiple items using our looping skills."
      ],
      "metadata": {
        "id": "MZ9rd5VgCDhz"
      }
    },
    {
      "cell_type": "code",
      "source": [
        "story = soup.find_all(\"p\")\n",
        "story"
      ],
      "metadata": {
        "colab": {
          "base_uri": "https://localhost:8080/"
        },
        "id": "oGru8IYF4SQn",
        "outputId": "98c954d3-6b00-4509-8c2a-6f3532294c46"
      },
      "execution_count": 108,
      "outputs": [
        {
          "output_type": "execute_result",
          "data": {
            "text/plain": [
              "[<p class=\"title\"><b>The Dormouse's story</b></p>,\n",
              " <p class=\"story\">Once upon a time there were three little sisters; and their names were\n",
              " <a class=\"sister\" href=\"http://example.com/elsie\" id=\"link1\" meta=\"Eldest sister\">Elsie</a>,\n",
              " <a class=\"sister\" href=\"http://example.com/lacie\" id=\"link2\" meta=\"Middle sister\">Lacie</a> and\n",
              " <a class=\"sister\" href=\"http://example.com/tillie\" id=\"link3\" meta=\"Youngest sister\">Tillie</a>;\n",
              " and they lived at the bottom of a well.</p>,\n",
              " <p class=\"story\">...</p>]"
            ]
          },
          "metadata": {},
          "execution_count": 108
        }
      ]
    },
    {
      "cell_type": "code",
      "source": [
        "for p in story:\n",
        "  print(p.get_text())"
      ],
      "metadata": {
        "colab": {
          "base_uri": "https://localhost:8080/"
        },
        "id": "HG6TMWf54X3N",
        "outputId": "547fda11-b784-467c-e202-993d390c59a8"
      },
      "execution_count": 109,
      "outputs": [
        {
          "output_type": "stream",
          "name": "stdout",
          "text": [
            "The Dormouse's story\n",
            "Once upon a time there were three little sisters; and their names were\n",
            "Elsie,\n",
            "Lacie and\n",
            "Tillie;\n",
            "and they lived at the bottom of a well.\n",
            "...\n"
          ]
        }
      ]
    },
    {
      "cell_type": "markdown",
      "source": [
        "#### 3.2.2.&nbsp; Extracting attributes:\n",
        "HTML elements often store additional information within their attributes. To extract this data using Beautiful Soup, you can append square brackets after the element selector and specify the attribute name within them."
      ],
      "metadata": {
        "id": "kUh2ZYo-9x-S"
      }
    },
    {
      "cell_type": "code",
      "source": [
        "soup.find_all(id=\"link1\")"
      ],
      "metadata": {
        "colab": {
          "base_uri": "https://localhost:8080/"
        },
        "id": "xdqcP4nHECTF",
        "outputId": "d58db716-d0bb-418b-9123-f9fa62b112cf"
      },
      "execution_count": 110,
      "outputs": [
        {
          "output_type": "execute_result",
          "data": {
            "text/plain": [
              "[<a class=\"sister\" href=\"http://example.com/elsie\" id=\"link1\" meta=\"Eldest sister\">Elsie</a>]"
            ]
          },
          "metadata": {},
          "execution_count": 110
        }
      ]
    },
    {
      "cell_type": "code",
      "source": [
        "soup.find_all(id=\"link1\")[0]['href']"
      ],
      "metadata": {
        "colab": {
          "base_uri": "https://localhost:8080/",
          "height": 36
        },
        "id": "4x4t_mqjDgqb",
        "outputId": "5c63b2a0-2b09-4fa8-a2df-eaa59bcc3656"
      },
      "execution_count": 111,
      "outputs": [
        {
          "output_type": "execute_result",
          "data": {
            "text/plain": [
              "'http://example.com/elsie'"
            ],
            "application/vnd.google.colaboratory.intrinsic+json": {
              "type": "string"
            }
          },
          "metadata": {},
          "execution_count": 111
        }
      ]
    },
    {
      "cell_type": "code",
      "source": [
        "soup.find_all(id=\"link1\")[0]['meta']"
      ],
      "metadata": {
        "colab": {
          "base_uri": "https://localhost:8080/",
          "height": 36
        },
        "id": "7uIkOhD1PmlX",
        "outputId": "aa7a8034-f3dd-402c-ff59-d7338edf7467"
      },
      "execution_count": 112,
      "outputs": [
        {
          "output_type": "execute_result",
          "data": {
            "text/plain": [
              "'Eldest sister'"
            ],
            "application/vnd.google.colaboratory.intrinsic+json": {
              "type": "string"
            }
          },
          "metadata": {},
          "execution_count": 112
        }
      ]
    },
    {
      "cell_type": "markdown",
      "source": [
        "## Challenge 1 😀\n",
        "Below is new HTML code. Use your scrapping skills to answer the questions."
      ],
      "metadata": {
        "id": "xVZJOh1_l0Rt"
      }
    },
    {
      "cell_type": "code",
      "source": [
        "geography = \"\"\"\n",
        "<!DOCTYPE html>\n",
        "<html>\n",
        "<head> Geography</head>\n",
        "<body>\n",
        "\n",
        "<div class=\"city\">\n",
        "  <h2>London</h2>\n",
        "  <p>London is the most popular tourist destination in the world.</p>\n",
        "</div>\n",
        "\n",
        "<div class=\"city\">\n",
        "  <h2>Paris</h2>\n",
        "  <p>Paris was originally a Roman City called Lutetia.</p>\n",
        "</div>\n",
        "\n",
        "<div class=\"country\">\n",
        "  <h2>Spain</h2>\n",
        "  <p>Spain produces 43,8% of all the world's Olive Oil.</p>\n",
        "</div>\n",
        "\n",
        "</body>\n",
        "</html>\n",
        "\"\"\""
      ],
      "metadata": {
        "id": "7lAHzu1Dl2X0"
      },
      "execution_count": 113,
      "outputs": []
    },
    {
      "cell_type": "code",
      "source": [
        "# Create the \"soup\"\n",
        "soup = BeautifulSoup(geography, 'html.parser')\n",
        "print(soup.prettify())"
      ],
      "metadata": {
        "id": "1KOBMEQNl9EZ",
        "outputId": "e0b98aa9-77c7-440c-cd4c-a8c16bb1e6bd",
        "colab": {
          "base_uri": "https://localhost:8080/"
        }
      },
      "execution_count": 114,
      "outputs": [
        {
          "output_type": "stream",
          "name": "stdout",
          "text": [
            "<!DOCTYPE html>\n",
            "<html>\n",
            " <head>\n",
            "  Geography\n",
            " </head>\n",
            " <body>\n",
            "  <div class=\"city\">\n",
            "   <h2>\n",
            "    London\n",
            "   </h2>\n",
            "   <p>\n",
            "    London is the most popular tourist destination in the world.\n",
            "   </p>\n",
            "  </div>\n",
            "  <div class=\"city\">\n",
            "   <h2>\n",
            "    Paris\n",
            "   </h2>\n",
            "   <p>\n",
            "    Paris was originally a Roman City called Lutetia.\n",
            "   </p>\n",
            "  </div>\n",
            "  <div class=\"country\">\n",
            "   <h2>\n",
            "    Spain\n",
            "   </h2>\n",
            "   <p>\n",
            "    Spain produces 43,8% of all the world's Olive Oil.\n",
            "   </p>\n",
            "  </div>\n",
            " </body>\n",
            "</html>\n",
            "\n"
          ]
        }
      ]
    },
    {
      "cell_type": "code",
      "source": [
        "# 1. All the \"fun facts\"\n",
        "# 'p' represents the <p> tags used for paragraphs in HTML.\n",
        "fun_facts = soup.find_all('p')\n",
        "fun_facts"
      ],
      "metadata": {
        "id": "e7XQtTzcl9B0",
        "outputId": "19a8308a-1c9f-4b79-962a-48acb1fcae24",
        "colab": {
          "base_uri": "https://localhost:8080/"
        }
      },
      "execution_count": 27,
      "outputs": [
        {
          "output_type": "execute_result",
          "data": {
            "text/plain": [
              "[<p>London is the most popular tourist destination in the world.</p>,\n",
              " <p>Paris was originally a Roman City called Lutetia.</p>,\n",
              " <p>Spain produces 43,8% of all the world's Olive Oil.</p>]"
            ]
          },
          "metadata": {},
          "execution_count": 27
        }
      ]
    },
    {
      "cell_type": "code",
      "source": [
        "for p in fun_facts:\n",
        "    print(p.get_text())"
      ],
      "metadata": {
        "id": "GdLOMhDjOlPf",
        "outputId": "b2d16933-6135-4306-ed94-366f9f0c246f",
        "colab": {
          "base_uri": "https://localhost:8080/"
        }
      },
      "execution_count": 28,
      "outputs": [
        {
          "output_type": "stream",
          "name": "stdout",
          "text": [
            "London is the most popular tourist destination in the world.\n",
            "Paris was originally a Roman City called Lutetia.\n",
            "Spain produces 43,8% of all the world's Olive Oil.\n"
          ]
        }
      ]
    },
    {
      "cell_type": "code",
      "source": [
        "# 2. The names of all the places.\n",
        "# soup.find_all(class_=\"city\")\n",
        "all_the_places = soup.find_all('h2')\n",
        "all_the_places"
      ],
      "metadata": {
        "id": "ucD8rudDl8_L",
        "outputId": "9dda57de-532e-46e5-89bb-b6beec5c642b",
        "colab": {
          "base_uri": "https://localhost:8080/"
        }
      },
      "execution_count": 29,
      "outputs": [
        {
          "output_type": "execute_result",
          "data": {
            "text/plain": [
              "[<h2>London</h2>, <h2>Paris</h2>, <h2>Spain</h2>]"
            ]
          },
          "metadata": {},
          "execution_count": 29
        }
      ]
    },
    {
      "cell_type": "code",
      "source": [
        "for n in all_the_places:\n",
        "  print(n.get_text())"
      ],
      "metadata": {
        "id": "LBpG3cuKRkK5",
        "outputId": "8337ee5d-c700-4ef7-cdbd-131e602d4ea4",
        "colab": {
          "base_uri": "https://localhost:8080/"
        }
      },
      "execution_count": 30,
      "outputs": [
        {
          "output_type": "stream",
          "name": "stdout",
          "text": [
            "London\n",
            "Paris\n",
            "Spain\n"
          ]
        }
      ]
    },
    {
      "cell_type": "code",
      "source": [
        "# 3. All the content (name and fact) of all the cities (only cities, not countries!)\n",
        "all_the_cities = soup.find_all(class_=\"city\")\n",
        "all_the_cities"
      ],
      "metadata": {
        "id": "0K0UQ2V4l88n",
        "outputId": "3b46e2c3-0ca2-4e3f-85c7-5193300e9269",
        "colab": {
          "base_uri": "https://localhost:8080/"
        }
      },
      "execution_count": 31,
      "outputs": [
        {
          "output_type": "execute_result",
          "data": {
            "text/plain": [
              "[<div class=\"city\">\n",
              " <h2>London</h2>\n",
              " <p>London is the most popular tourist destination in the world.</p>\n",
              " </div>,\n",
              " <div class=\"city\">\n",
              " <h2>Paris</h2>\n",
              " <p>Paris was originally a Roman City called Lutetia.</p>\n",
              " </div>]"
            ]
          },
          "metadata": {},
          "execution_count": 31
        }
      ]
    },
    {
      "cell_type": "code",
      "source": [
        "for n in all_the_cities:\n",
        "  print(n.get_text())"
      ],
      "metadata": {
        "id": "t7fpk_uSSr5s",
        "outputId": "4e6bfffb-3b95-403d-e894-a8e56b1cb342",
        "colab": {
          "base_uri": "https://localhost:8080/"
        }
      },
      "execution_count": 32,
      "outputs": [
        {
          "output_type": "stream",
          "name": "stdout",
          "text": [
            "\n",
            "London\n",
            "London is the most popular tourist destination in the world.\n",
            "\n",
            "\n",
            "Paris\n",
            "Paris was originally a Roman City called Lutetia.\n",
            "\n"
          ]
        }
      ]
    },
    {
      "cell_type": "code",
      "source": [
        "# 4. The names (not facts!) of all the cities (not countries!)\n",
        "contents_of_cities = soup.find_all(class_=\"city\")\n",
        "contents_of_cities"
      ],
      "metadata": {
        "id": "cNyiqAEll85q",
        "outputId": "05a44224-a0f4-40e8-af93-7d7b8b830b81",
        "colab": {
          "base_uri": "https://localhost:8080/"
        }
      },
      "execution_count": 33,
      "outputs": [
        {
          "output_type": "execute_result",
          "data": {
            "text/plain": [
              "[<div class=\"city\">\n",
              " <h2>London</h2>\n",
              " <p>London is the most popular tourist destination in the world.</p>\n",
              " </div>,\n",
              " <div class=\"city\">\n",
              " <h2>Paris</h2>\n",
              " <p>Paris was originally a Roman City called Lutetia.</p>\n",
              " </div>]"
            ]
          },
          "metadata": {},
          "execution_count": 33
        }
      ]
    },
    {
      "cell_type": "code",
      "source": [
        "for name in contents_of_cities:\n",
        "  print(name.h2.get_text())"
      ],
      "metadata": {
        "id": "WJ5QCdVlaOk9",
        "outputId": "9e429f1f-c892-4743-ed63-6985ebe235c5",
        "colab": {
          "base_uri": "https://localhost:8080/"
        }
      },
      "execution_count": 34,
      "outputs": [
        {
          "output_type": "stream",
          "name": "stdout",
          "text": [
            "London\n",
            "Paris\n"
          ]
        }
      ]
    },
    {
      "cell_type": "markdown",
      "source": [
        "---\n",
        "## 4.&nbsp; Navigating html with a few more advanced techniques 🗺️"
      ],
      "metadata": {
        "id": "Zgq5kkTFk8Dg"
      }
    },
    {
      "cell_type": "markdown",
      "source": [
        "### 4.1.&nbsp; `.find()`\n",
        "`.find()` is similar to `.find_all()`, but it returns only the first element that matches the specified criteria. This makes it useful when you know exactly where the element you're looking for is located and you only need to retrieve one instance of it."
      ],
      "metadata": {
        "id": "VhTryrEV8tu2"
      }
    },
    {
      "cell_type": "code",
      "source": [
        "soup.find('p')"
      ],
      "metadata": {
        "colab": {
          "base_uri": "https://localhost:8080/"
        },
        "id": "wZjtVNi38sPY",
        "outputId": "16270305-923e-4230-cf87-0f76c8574d3f"
      },
      "execution_count": 35,
      "outputs": [
        {
          "output_type": "execute_result",
          "data": {
            "text/plain": [
              "<p>London is the most popular tourist destination in the world.</p>"
            ]
          },
          "metadata": {},
          "execution_count": 35
        }
      ]
    },
    {
      "cell_type": "markdown",
      "source": [
        "### 4.2.&nbsp; `.select()`\n",
        "`.select()` is similar to `.find_all()`, but there are 2 main differences:\n",
        "- the way we write our query in the brackets is slightly different\n",
        "- `.select()` allows you to chain CSS selectors together to navigate through the HTML structure, enabling you to select elements based on their positions within nested elements or patterns. This makes it particularly useful for extracting data from complex HTML structures.\n",
        "\n",
        "In contrast, `.find_all()` uses a simpler syntax based on tag names and attributes, making it more straightforward for basic element selection."
      ],
      "metadata": {
        "id": "hOseQNrW8ueb"
      }
    },
    {
      "cell_type": "markdown",
      "source": [
        "Here's how we query with `.find_all()`"
      ],
      "metadata": {
        "id": "hlLEdmYJK6hB"
      }
    },
    {
      "cell_type": "code",
      "source": [
        "soup.find_all('a', class_='sister')"
      ],
      "metadata": {
        "colab": {
          "base_uri": "https://localhost:8080/"
        },
        "id": "PPplvgpe8sL_",
        "outputId": "a7e6f449-f4cb-4be7-eedb-cbf1e429d468"
      },
      "execution_count": 36,
      "outputs": [
        {
          "output_type": "execute_result",
          "data": {
            "text/plain": [
              "[]"
            ]
          },
          "metadata": {},
          "execution_count": 36
        }
      ]
    },
    {
      "cell_type": "markdown",
      "source": [
        "Here's the same query with `.select()`"
      ],
      "metadata": {
        "id": "5ZVv18muK-rK"
      }
    },
    {
      "cell_type": "code",
      "source": [
        "soup.select('a.sister')"
      ],
      "metadata": {
        "colab": {
          "base_uri": "https://localhost:8080/"
        },
        "id": "Rhc1_2IJJGrz",
        "outputId": "00787610-1298-4b15-9988-44ec1dab7c02"
      },
      "execution_count": 37,
      "outputs": [
        {
          "output_type": "execute_result",
          "data": {
            "text/plain": [
              "[]"
            ]
          },
          "metadata": {},
          "execution_count": 37
        }
      ]
    },
    {
      "cell_type": "markdown",
      "source": [
        "To demonstrate the power of `.select()` in navigating through nested elements, let's extract all the `<a>` tags with the id `'link2'` that are within `<p>` tags with the class `'story'`."
      ],
      "metadata": {
        "id": "zg8OUGS9LC42"
      }
    },
    {
      "cell_type": "code",
      "source": [
        "soup.select('p.story a#link2')"
      ],
      "metadata": {
        "colab": {
          "base_uri": "https://localhost:8080/"
        },
        "id": "BfBvxRUzJMgM",
        "outputId": "47679c8a-bc34-443e-b561-18f04058b860"
      },
      "execution_count": 38,
      "outputs": [
        {
          "output_type": "execute_result",
          "data": {
            "text/plain": [
              "[]"
            ]
          },
          "metadata": {},
          "execution_count": 38
        }
      ]
    },
    {
      "cell_type": "markdown",
      "source": [
        "**p.story** select the p elements with the class 'story'.\n",
        "\n",
        "**a#link2** select a elemnts with an ID 'link2'.\n",
        "\n",
        "CSS Selectors **. (class)   # (ID)**"
      ],
      "metadata": {
        "id": "gKBayKIDGlsA"
      }
    },
    {
      "cell_type": "markdown",
      "source": [
        "### 4.3.&nbsp; Navigating to the Next or Previous Element\n",
        "In some cases, you may need to access specific elements that are closely related to others, but their HTML structure doesn't provide unique identifiers. To overcome this challenge, you can utilise the `.find_next()` and `.find_previous()` methods to navigate through the HTML structure and reach the desired element."
      ],
      "metadata": {
        "id": "y0tGSzydlcjt"
      }
    },
    {
      "cell_type": "code",
      "source": [
        "last_link = soup.find(id='link3')\n",
        "last_link"
      ],
      "metadata": {
        "id": "bWBJnwKh6xAM"
      },
      "execution_count": 116,
      "outputs": []
    },
    {
      "cell_type": "markdown",
      "source": [
        "#### 4.1.1.&nbsp; `.find_next()`\n",
        "`.find_next()` moves forward one element"
      ],
      "metadata": {
        "id": "Ox3xJJOP0fhD"
      }
    },
    {
      "cell_type": "code",
      "source": [
        "last_link.find_next()"
      ],
      "metadata": {
        "colab": {
          "base_uri": "https://localhost:8080/",
          "height": 147
        },
        "id": "zrBfI5c40fTE",
        "outputId": "60eeb502-c1a7-43c3-f77d-26b4fba265ba"
      },
      "execution_count": 117,
      "outputs": [
        {
          "output_type": "error",
          "ename": "AttributeError",
          "evalue": "'NoneType' object has no attribute 'find_next'",
          "traceback": [
            "\u001b[0;31m---------------------------------------------------------------------------\u001b[0m",
            "\u001b[0;31mAttributeError\u001b[0m                            Traceback (most recent call last)",
            "\u001b[0;32m<ipython-input-117-86c570605e0a>\u001b[0m in \u001b[0;36m<cell line: 1>\u001b[0;34m()\u001b[0m\n\u001b[0;32m----> 1\u001b[0;31m \u001b[0mlast_link\u001b[0m\u001b[0;34m.\u001b[0m\u001b[0mfind_next\u001b[0m\u001b[0;34m(\u001b[0m\u001b[0;34m)\u001b[0m\u001b[0;34m\u001b[0m\u001b[0;34m\u001b[0m\u001b[0m\n\u001b[0m",
            "\u001b[0;31mAttributeError\u001b[0m: 'NoneType' object has no attribute 'find_next'"
          ]
        }
      ]
    },
    {
      "cell_type": "markdown",
      "source": [
        "#### 4.2.&nbsp; `.find_previous()`\n",
        "`.find_previous()` moves back one element"
      ],
      "metadata": {
        "id": "AMGziu0x0klO"
      }
    },
    {
      "cell_type": "code",
      "source": [
        "last_link.find_previous()"
      ],
      "metadata": {
        "colab": {
          "base_uri": "https://localhost:8080/",
          "height": 147
        },
        "id": "hKMSnJKgwjO3",
        "outputId": "5c91b5f7-b104-4f5a-a8f4-edf5d6446b8d"
      },
      "execution_count": 42,
      "outputs": [
        {
          "output_type": "error",
          "ename": "AttributeError",
          "evalue": "'NoneType' object has no attribute 'find_previous'",
          "traceback": [
            "\u001b[0;31m---------------------------------------------------------------------------\u001b[0m",
            "\u001b[0;31mAttributeError\u001b[0m                            Traceback (most recent call last)",
            "\u001b[0;32m<ipython-input-42-cb4232042c7f>\u001b[0m in \u001b[0;36m<cell line: 1>\u001b[0;34m()\u001b[0m\n\u001b[0;32m----> 1\u001b[0;31m \u001b[0mlast_link\u001b[0m\u001b[0;34m.\u001b[0m\u001b[0mfind_previous\u001b[0m\u001b[0;34m(\u001b[0m\u001b[0;34m)\u001b[0m\u001b[0;34m\u001b[0m\u001b[0;34m\u001b[0m\u001b[0m\n\u001b[0m",
            "\u001b[0;31mAttributeError\u001b[0m: 'NoneType' object has no attribute 'find_previous'"
          ]
        }
      ]
    },
    {
      "cell_type": "markdown",
      "source": [
        "---\n",
        "## 5.&nbsp; Showcasing these skills on a real website 💻\n",
        "Let's see what information we can get from the wikipedia site for web scraping"
      ],
      "metadata": {
        "id": "LGSarkvdVkpj"
      }
    },
    {
      "cell_type": "markdown",
      "source": [
        "### Loading the html"
      ],
      "metadata": {
        "id": "Ztc-9lpTm2e9"
      }
    },
    {
      "cell_type": "code",
      "source": [
        "url = \"https://en.wikipedia.org/wiki/Web_scraping\"\n",
        "\n",
        "response = requests.get(url)\n",
        "\n",
        "soup_3 = BeautifulSoup(response.content, 'html.parser')"
      ],
      "metadata": {
        "id": "h-qyiClnVptT"
      },
      "execution_count": 43,
      "outputs": []
    },
    {
      "cell_type": "markdown",
      "source": [
        "> While we haven't yet looked into the requests library, we'll postpone delving into it today to avoid overwhelming you with too much new information. Instead, we'll explore the requests library when we start gathering weather data later in the project."
      ],
      "metadata": {
        "id": "Vo-b2kLwNOWW"
      }
    },
    {
      "cell_type": "code",
      "source": [
        "print(soup_3.prettify)"
      ],
      "metadata": {
        "colab": {
          "base_uri": "https://localhost:8080/"
        },
        "id": "87Mhk3AwX9Wj",
        "outputId": "3bc4e48b-2cac-43fa-c571-ae3d23d49244"
      },
      "execution_count": 44,
      "outputs": [
        {
          "output_type": "stream",
          "name": "stdout",
          "text": [
            "<bound method Tag.prettify of <!DOCTYPE html>\n",
            "\n",
            "<html class=\"client-nojs vector-feature-language-in-header-enabled vector-feature-language-in-main-page-header-disabled vector-feature-sticky-header-disabled vector-feature-page-tools-pinned-disabled vector-feature-toc-pinned-clientpref-1 vector-feature-main-menu-pinned-disabled vector-feature-limited-width-clientpref-1 vector-feature-limited-width-content-enabled vector-feature-custom-font-size-clientpref-0 vector-feature-client-preferences-disabled vector-feature-client-prefs-pinned-clientpref-0 vector-feature-night-mode-disabled skin-theme-clientpref-day vector-toc-available\" dir=\"ltr\" lang=\"en\">\n",
            "<head>\n",
            "<meta charset=\"utf-8\"/>\n",
            "<title>Web scraping - Wikipedia</title>\n",
            "<script>(function(){var className=\"client-js vector-feature-language-in-header-enabled vector-feature-language-in-main-page-header-disabled vector-feature-sticky-header-disabled vector-feature-page-tools-pinned-disabled vector-feature-toc-pinned-clientpref-1 vector-feature-main-menu-pinned-disabled vector-feature-limited-width-clientpref-1 vector-feature-limited-width-content-enabled vector-feature-custom-font-size-clientpref-0 vector-feature-client-preferences-disabled vector-feature-client-prefs-pinned-clientpref-0 vector-feature-night-mode-disabled skin-theme-clientpref-day vector-toc-available\";var cookie=document.cookie.match(/(?:^|; )enwikimwclientpreferences=([^;]+)/);if(cookie){cookie[1].split('%2C').forEach(function(pref){className=className.replace(new RegExp('(^| )'+pref.replace(/-clientpref-\\w+$|[^\\w-]+/g,'')+'-clientpref-\\\\w+( |$)'),'$1'+pref+'$2');});}document.documentElement.className=className;}());RLCONF={\"wgBreakFrames\":false,\"wgSeparatorTransformTable\":[\"\",\"\"],\n",
            "\"wgDigitTransformTable\":[\"\",\"\"],\"wgDefaultDateFormat\":\"dmy\",\"wgMonthNames\":[\"\",\"January\",\"February\",\"March\",\"April\",\"May\",\"June\",\"July\",\"August\",\"September\",\"October\",\"November\",\"December\"],\"wgRequestId\":\"7d2fd340-8eb3-49bc-9709-2320e2d9f59f\",\"wgCanonicalNamespace\":\"\",\"wgCanonicalSpecialPageName\":false,\"wgNamespaceNumber\":0,\"wgPageName\":\"Web_scraping\",\"wgTitle\":\"Web scraping\",\"wgCurRevisionId\":1220719906,\"wgRevisionId\":1220719906,\"wgArticleId\":2696619,\"wgIsArticle\":true,\"wgIsRedirect\":false,\"wgAction\":\"view\",\"wgUserName\":null,\"wgUserGroups\":[\"*\"],\"wgCategories\":[\"CS1 maint: multiple names: authors list\",\"CS1 Danish-language sources (da)\",\"CS1 French-language sources (fr)\",\"Articles with short description\",\"Short description matches Wikidata\",\"Articles needing additional references from April 2023\",\"All articles needing additional references\",\"Articles with limited geographic scope from October 2015\",\"United States-centric\",\"All articles with unsourced statements\",\n",
            "\"Articles with unsourced statements from April 2023\",\"Web scraping\"],\"wgPageViewLanguage\":\"en\",\"wgPageContentLanguage\":\"en\",\"wgPageContentModel\":\"wikitext\",\"wgRelevantPageName\":\"Web_scraping\",\"wgRelevantArticleId\":2696619,\"wgIsProbablyEditable\":true,\"wgRelevantPageIsProbablyEditable\":true,\"wgRestrictionEdit\":[],\"wgRestrictionMove\":[],\"wgNoticeProject\":\"wikipedia\",\"wgFlaggedRevsParams\":{\"tags\":{\"status\":{\"levels\":1}}},\"wgMediaViewerOnClick\":true,\"wgMediaViewerEnabledByDefault\":true,\"wgPopupsFlags\":6,\"wgVisualEditor\":{\"pageLanguageCode\":\"en\",\"pageLanguageDir\":\"ltr\",\"pageVariantFallbacks\":\"en\"},\"wgMFDisplayWikibaseDescriptions\":{\"search\":true,\"watchlist\":true,\"tagline\":false,\"nearby\":true},\"wgWMESchemaEditAttemptStepOversample\":false,\"wgWMEPageLength\":30000,\"wgULSCurrentAutonym\":\"English\",\"wgCentralAuthMobileDomain\":false,\"wgEditSubmitButtonLabelPublish\":true,\"wgULSPosition\":\"interlanguage\",\"wgULSisCompactLinksEnabled\":false,\"wgVector2022LanguageInHeader\":true,\n",
            "\"wgULSisLanguageSelectorEmpty\":false,\"wgWikibaseItemId\":\"Q665452\",\"wgCheckUserClientHintsHeadersJsApi\":[\"architecture\",\"bitness\",\"brands\",\"fullVersionList\",\"mobile\",\"model\",\"platform\",\"platformVersion\"],\"GEHomepageSuggestedEditsEnableTopics\":true,\"wgGETopicsMatchModeEnabled\":false,\"wgGEStructuredTaskRejectionReasonTextInputEnabled\":false,\"wgGELevelingUpEnabledForUser\":false};RLSTATE={\"skins.vector.user.styles\":\"ready\",\"ext.globalCssJs.user.styles\":\"ready\",\"site.styles\":\"ready\",\"user.styles\":\"ready\",\"skins.vector.user\":\"ready\",\"ext.globalCssJs.user\":\"ready\",\"user\":\"ready\",\"user.options\":\"loading\",\"ext.cite.styles\":\"ready\",\"skins.vector.search.codex.styles\":\"ready\",\"skins.vector.styles\":\"ready\",\"skins.vector.icons\":\"ready\",\"ext.wikimediamessages.styles\":\"ready\",\"ext.visualEditor.desktopArticleTarget.noscript\":\"ready\",\"ext.uls.interlanguage\":\"ready\",\"wikibase.client.init\":\"ready\",\"ext.wikimediaBadges\":\"ready\"};RLPAGEMODULES=[\"ext.cite.ux-enhancements\",\"site\",\"mediawiki.page.ready\",\n",
            "\"mediawiki.toc\",\"skins.vector.js\",\"ext.centralNotice.geoIP\",\"ext.centralNotice.startUp\",\"ext.gadget.ReferenceTooltips\",\"ext.gadget.switcher\",\"ext.urlShortener.toolbar\",\"ext.centralauth.centralautologin\",\"mmv.head\",\"mmv.bootstrap.autostart\",\"ext.popups\",\"ext.visualEditor.desktopArticleTarget.init\",\"ext.visualEditor.targetLoader\",\"ext.echo.centralauth\",\"ext.eventLogging\",\"ext.wikimediaEvents\",\"ext.navigationTiming\",\"ext.uls.interface\",\"ext.cx.eventlogging.campaigns\",\"ext.cx.uls.quick.actions\",\"wikibase.client.vector-2022\",\"ext.checkUser.clientHints\",\"ext.growthExperiments.SuggestedEditSession\"];</script>\n",
            "<script>(RLQ=window.RLQ||[]).push(function(){mw.loader.impl(function(){return[\"user.options@12s5i\",function($,jQuery,require,module){mw.user.tokens.set({\"patrolToken\":\"+\\\\\",\"watchToken\":\"+\\\\\",\"csrfToken\":\"+\\\\\"});\n",
            "}];});});</script>\n",
            "<link href=\"/w/load.php?lang=en&amp;modules=ext.cite.styles%7Cext.uls.interlanguage%7Cext.visualEditor.desktopArticleTarget.noscript%7Cext.wikimediaBadges%7Cext.wikimediamessages.styles%7Cskins.vector.icons%2Cstyles%7Cskins.vector.search.codex.styles%7Cwikibase.client.init&amp;only=styles&amp;skin=vector-2022\" rel=\"stylesheet\"/>\n",
            "<script async=\"\" src=\"/w/load.php?lang=en&amp;modules=startup&amp;only=scripts&amp;raw=1&amp;skin=vector-2022\"></script>\n",
            "<meta content=\"\" name=\"ResourceLoaderDynamicStyles\"/>\n",
            "<link href=\"/w/load.php?lang=en&amp;modules=site.styles&amp;only=styles&amp;skin=vector-2022\" rel=\"stylesheet\"/>\n",
            "<meta content=\"MediaWiki 1.43.0-wmf.2\" name=\"generator\"/>\n",
            "<meta content=\"origin\" name=\"referrer\"/>\n",
            "<meta content=\"origin-when-cross-origin\" name=\"referrer\"/>\n",
            "<meta content=\"max-image-preview:standard\" name=\"robots\"/>\n",
            "<meta content=\"telephone=no\" name=\"format-detection\"/>\n",
            "<meta content=\"width=1000\" name=\"viewport\"/>\n",
            "<meta content=\"Web scraping - Wikipedia\" property=\"og:title\"/>\n",
            "<meta content=\"website\" property=\"og:type\"/>\n",
            "<link href=\"//upload.wikimedia.org\" rel=\"preconnect\"/>\n",
            "<link href=\"//en.m.wikipedia.org/wiki/Web_scraping\" media=\"only screen and (max-width: 720px)\" rel=\"alternate\"/>\n",
            "<link href=\"/w/index.php?title=Web_scraping&amp;action=edit\" rel=\"alternate\" title=\"Edit this page\" type=\"application/x-wiki\"/>\n",
            "<link href=\"/static/apple-touch/wikipedia.png\" rel=\"apple-touch-icon\"/>\n",
            "<link href=\"/static/favicon/wikipedia.ico\" rel=\"icon\"/>\n",
            "<link href=\"/w/opensearch_desc.php\" rel=\"search\" title=\"Wikipedia (en)\" type=\"application/opensearchdescription+xml\"/>\n",
            "<link href=\"//en.wikipedia.org/w/api.php?action=rsd\" rel=\"EditURI\" type=\"application/rsd+xml\"/>\n",
            "<link href=\"https://en.wikipedia.org/wiki/Web_scraping\" rel=\"canonical\"/>\n",
            "<link href=\"https://creativecommons.org/licenses/by-sa/4.0/deed.en\" rel=\"license\"/>\n",
            "<link href=\"/w/index.php?title=Special:RecentChanges&amp;feed=atom\" rel=\"alternate\" title=\"Wikipedia Atom feed\" type=\"application/atom+xml\"/>\n",
            "<link href=\"//meta.wikimedia.org\" rel=\"dns-prefetch\">\n",
            "<link href=\"//login.wikimedia.org\" rel=\"dns-prefetch\"/>\n",
            "</link></head>\n",
            "<body class=\"skin-vector skin-vector-search-vue mediawiki ltr sitedir-ltr mw-hide-empty-elt ns-0 ns-subject mw-editable page-Web_scraping rootpage-Web_scraping skin-vector-2022 action-view\"><a class=\"mw-jump-link\" href=\"#bodyContent\">Jump to content</a>\n",
            "<div class=\"vector-header-container\">\n",
            "<header class=\"vector-header mw-header\">\n",
            "<div class=\"vector-header-start\">\n",
            "<nav aria-label=\"Site\" class=\"vector-main-menu-landmark\" role=\"navigation\">\n",
            "<div class=\"vector-dropdown vector-main-menu-dropdown vector-button-flush-left vector-button-flush-right\" id=\"vector-main-menu-dropdown\">\n",
            "<input aria-haspopup=\"true\" aria-label=\"Main menu\" class=\"vector-dropdown-checkbox\" data-event-name=\"ui.dropdown-vector-main-menu-dropdown\" id=\"vector-main-menu-dropdown-checkbox\" role=\"button\" type=\"checkbox\"/>\n",
            "<label aria-hidden=\"true\" class=\"vector-dropdown-label cdx-button cdx-button--fake-button cdx-button--fake-button--enabled cdx-button--weight-quiet cdx-button--icon-only\" for=\"vector-main-menu-dropdown-checkbox\" id=\"vector-main-menu-dropdown-label\"><span class=\"vector-icon mw-ui-icon-menu mw-ui-icon-wikimedia-menu\"></span>\n",
            "<span class=\"vector-dropdown-label-text\">Main menu</span>\n",
            "</label>\n",
            "<div class=\"vector-dropdown-content\">\n",
            "<div class=\"vector-unpinned-container\" id=\"vector-main-menu-unpinned-container\">\n",
            "<div class=\"vector-main-menu vector-pinnable-element\" id=\"vector-main-menu\">\n",
            "<div class=\"vector-pinnable-header vector-main-menu-pinnable-header vector-pinnable-header-unpinned\" data-feature-name=\"main-menu-pinned\" data-pinnable-element-id=\"vector-main-menu\" data-pinned-container-id=\"vector-main-menu-pinned-container\" data-unpinned-container-id=\"vector-main-menu-unpinned-container\">\n",
            "<div class=\"vector-pinnable-header-label\">Main menu</div>\n",
            "<button class=\"vector-pinnable-header-toggle-button vector-pinnable-header-pin-button\" data-event-name=\"pinnable-header.vector-main-menu.pin\">move to sidebar</button>\n",
            "<button class=\"vector-pinnable-header-toggle-button vector-pinnable-header-unpin-button\" data-event-name=\"pinnable-header.vector-main-menu.unpin\">hide</button>\n",
            "</div>\n",
            "<div class=\"vector-menu mw-portlet mw-portlet-navigation\" id=\"p-navigation\">\n",
            "<div class=\"vector-menu-heading\">\n",
            "\t\tNavigation\n",
            "\t</div>\n",
            "<div class=\"vector-menu-content\">\n",
            "<ul class=\"vector-menu-content-list\">\n",
            "<li class=\"mw-list-item\" id=\"n-mainpage-description\"><a accesskey=\"z\" href=\"/wiki/Main_Page\" title=\"Visit the main page [z]\"><span>Main page</span></a></li><li class=\"mw-list-item\" id=\"n-contents\"><a href=\"/wiki/Wikipedia:Contents\" title=\"Guides to browsing Wikipedia\"><span>Contents</span></a></li><li class=\"mw-list-item\" id=\"n-currentevents\"><a href=\"/wiki/Portal:Current_events\" title=\"Articles related to current events\"><span>Current events</span></a></li><li class=\"mw-list-item\" id=\"n-randompage\"><a accesskey=\"x\" href=\"/wiki/Special:Random\" title=\"Visit a randomly selected article [x]\"><span>Random article</span></a></li><li class=\"mw-list-item\" id=\"n-aboutsite\"><a href=\"/wiki/Wikipedia:About\" title=\"Learn about Wikipedia and how it works\"><span>About Wikipedia</span></a></li><li class=\"mw-list-item\" id=\"n-contactpage\"><a href=\"//en.wikipedia.org/wiki/Wikipedia:Contact_us\" title=\"How to contact Wikipedia\"><span>Contact us</span></a></li><li class=\"mw-list-item\" id=\"n-sitesupport\"><a href=\"https://donate.wikimedia.org/wiki/Special:FundraiserRedirector?utm_source=donate&amp;utm_medium=sidebar&amp;utm_campaign=C13_en.wikipedia.org&amp;uselang=en\" title=\"Support us by donating to the Wikimedia Foundation\"><span>Donate</span></a></li>\n",
            "</ul>\n",
            "</div>\n",
            "</div>\n",
            "<div class=\"vector-menu mw-portlet mw-portlet-interaction\" id=\"p-interaction\">\n",
            "<div class=\"vector-menu-heading\">\n",
            "\t\tContribute\n",
            "\t</div>\n",
            "<div class=\"vector-menu-content\">\n",
            "<ul class=\"vector-menu-content-list\">\n",
            "<li class=\"mw-list-item\" id=\"n-help\"><a href=\"/wiki/Help:Contents\" title=\"Guidance on how to use and edit Wikipedia\"><span>Help</span></a></li><li class=\"mw-list-item\" id=\"n-introduction\"><a href=\"/wiki/Help:Introduction\" title=\"Learn how to edit Wikipedia\"><span>Learn to edit</span></a></li><li class=\"mw-list-item\" id=\"n-portal\"><a href=\"/wiki/Wikipedia:Community_portal\" title=\"The hub for editors\"><span>Community portal</span></a></li><li class=\"mw-list-item\" id=\"n-recentchanges\"><a accesskey=\"r\" href=\"/wiki/Special:RecentChanges\" title=\"A list of recent changes to Wikipedia [r]\"><span>Recent changes</span></a></li><li class=\"mw-list-item\" id=\"n-upload\"><a href=\"/wiki/Wikipedia:File_upload_wizard\" title=\"Add images or other media for use on Wikipedia\"><span>Upload file</span></a></li>\n",
            "</ul>\n",
            "</div>\n",
            "</div>\n",
            "</div>\n",
            "</div>\n",
            "</div>\n",
            "</div>\n",
            "</nav>\n",
            "<a class=\"mw-logo\" href=\"/wiki/Main_Page\">\n",
            "<img alt=\"\" aria-hidden=\"true\" class=\"mw-logo-icon\" height=\"50\" src=\"/static/images/icons/wikipedia.png\" width=\"50\"/>\n",
            "<span class=\"mw-logo-container\">\n",
            "<img alt=\"Wikipedia\" class=\"mw-logo-wordmark\" src=\"/static/images/mobile/copyright/wikipedia-wordmark-en.svg\" style=\"width: 7.5em; height: 1.125em;\"/>\n",
            "<img alt=\"The Free Encyclopedia\" class=\"mw-logo-tagline\" height=\"13\" src=\"/static/images/mobile/copyright/wikipedia-tagline-en.svg\" style=\"width: 7.3125em; height: 0.8125em;\" width=\"117\"/>\n",
            "</span>\n",
            "</a>\n",
            "</div>\n",
            "<div class=\"vector-header-end\">\n",
            "<div class=\"vector-search-box-vue vector-search-box-collapses vector-search-box-show-thumbnail vector-search-box-auto-expand-width vector-search-box\" id=\"p-search\" role=\"search\">\n",
            "<a accesskey=\"f\" class=\"cdx-button cdx-button--fake-button cdx-button--fake-button--enabled cdx-button--weight-quiet cdx-button--icon-only search-toggle\" href=\"/wiki/Special:Search\" id=\"\" title=\"Search Wikipedia [f]\"><span class=\"vector-icon mw-ui-icon-search mw-ui-icon-wikimedia-search\"></span>\n",
            "<span>Search</span>\n",
            "</a>\n",
            "<div class=\"vector-typeahead-search-container\">\n",
            "<div class=\"cdx-typeahead-search cdx-typeahead-search--show-thumbnail cdx-typeahead-search--auto-expand-width\">\n",
            "<form action=\"/w/index.php\" class=\"cdx-search-input cdx-search-input--has-end-button\" id=\"searchform\">\n",
            "<div class=\"cdx-search-input__input-wrapper\" data-search-loc=\"header-moved\" id=\"simpleSearch\">\n",
            "<div class=\"cdx-text-input cdx-text-input--has-start-icon\">\n",
            "<input accesskey=\"f\" aria-label=\"Search Wikipedia\" autocapitalize=\"sentences\" class=\"cdx-text-input__input\" id=\"searchInput\" name=\"search\" placeholder=\"Search Wikipedia\" title=\"Search Wikipedia [f]\" type=\"search\"/>\n",
            "<span class=\"cdx-text-input__icon cdx-text-input__start-icon\"></span>\n",
            "</div>\n",
            "<input name=\"title\" type=\"hidden\" value=\"Special:Search\"/>\n",
            "</div>\n",
            "<button class=\"cdx-button cdx-search-input__end-button\">Search</button>\n",
            "</form>\n",
            "</div>\n",
            "</div>\n",
            "</div>\n",
            "<nav aria-label=\"Personal tools\" class=\"vector-user-links vector-user-links-wide\" role=\"navigation\">\n",
            "<div class=\"vector-user-links-main\">\n",
            "<div class=\"vector-menu mw-portlet emptyPortlet\" id=\"p-vector-user-menu-preferences\">\n",
            "<div class=\"vector-menu-content\">\n",
            "<ul class=\"vector-menu-content-list\">\n",
            "</ul>\n",
            "</div>\n",
            "</div>\n",
            "<div class=\"vector-menu mw-portlet emptyPortlet\" id=\"p-vector-user-menu-userpage\">\n",
            "<div class=\"vector-menu-content\">\n",
            "<ul class=\"vector-menu-content-list\">\n",
            "</ul>\n",
            "</div>\n",
            "</div>\n",
            "<nav aria-label=\"Appearance\" class=\"vector-client-prefs-landmark\">\n",
            "</nav>\n",
            "<div class=\"vector-menu mw-portlet emptyPortlet\" id=\"p-vector-user-menu-notifications\">\n",
            "<div class=\"vector-menu-content\">\n",
            "<ul class=\"vector-menu-content-list\">\n",
            "</ul>\n",
            "</div>\n",
            "</div>\n",
            "<div class=\"vector-menu mw-portlet\" id=\"p-vector-user-menu-overflow\">\n",
            "<div class=\"vector-menu-content\">\n",
            "<ul class=\"vector-menu-content-list\">\n",
            "<li class=\"user-links-collapsible-item mw-list-item user-links-collapsible-item\" id=\"pt-createaccount-2\"><a class=\"\" data-mw=\"interface\" href=\"/w/index.php?title=Special:CreateAccount&amp;returnto=Web+scraping\" title=\"You are encouraged to create an account and log in; however, it is not mandatory\"><span>Create account</span></a>\n",
            "</li>\n",
            "<li class=\"user-links-collapsible-item mw-list-item user-links-collapsible-item\" id=\"pt-login-2\"><a accesskey=\"o\" class=\"\" data-mw=\"interface\" href=\"/w/index.php?title=Special:UserLogin&amp;returnto=Web+scraping\" title=\"You're encouraged to log in; however, it's not mandatory. [o]\"><span>Log in</span></a>\n",
            "</li>\n",
            "</ul>\n",
            "</div>\n",
            "</div>\n",
            "</div>\n",
            "<div class=\"vector-dropdown vector-user-menu vector-button-flush-right vector-user-menu-logged-out\" id=\"vector-user-links-dropdown\" title=\"Log in and more options\">\n",
            "<input aria-haspopup=\"true\" aria-label=\"Personal tools\" class=\"vector-dropdown-checkbox\" data-event-name=\"ui.dropdown-vector-user-links-dropdown\" id=\"vector-user-links-dropdown-checkbox\" role=\"button\" type=\"checkbox\"/>\n",
            "<label aria-hidden=\"true\" class=\"vector-dropdown-label cdx-button cdx-button--fake-button cdx-button--fake-button--enabled cdx-button--weight-quiet cdx-button--icon-only\" for=\"vector-user-links-dropdown-checkbox\" id=\"vector-user-links-dropdown-label\"><span class=\"vector-icon mw-ui-icon-ellipsis mw-ui-icon-wikimedia-ellipsis\"></span>\n",
            "<span class=\"vector-dropdown-label-text\">Personal tools</span>\n",
            "</label>\n",
            "<div class=\"vector-dropdown-content\">\n",
            "<div class=\"vector-menu mw-portlet mw-portlet-personal user-links-collapsible-item\" id=\"p-personal\" title=\"User menu\">\n",
            "<div class=\"vector-menu-content\">\n",
            "<ul class=\"vector-menu-content-list\">\n",
            "<li class=\"user-links-collapsible-item mw-list-item\" id=\"pt-createaccount\"><a href=\"/w/index.php?title=Special:CreateAccount&amp;returnto=Web+scraping\" title=\"You are encouraged to create an account and log in; however, it is not mandatory\"><span class=\"vector-icon mw-ui-icon-userAdd mw-ui-icon-wikimedia-userAdd\"></span> <span>Create account</span></a></li><li class=\"user-links-collapsible-item mw-list-item\" id=\"pt-login\"><a accesskey=\"o\" href=\"/w/index.php?title=Special:UserLogin&amp;returnto=Web+scraping\" title=\"You're encouraged to log in; however, it's not mandatory. [o]\"><span class=\"vector-icon mw-ui-icon-logIn mw-ui-icon-wikimedia-logIn\"></span> <span>Log in</span></a></li>\n",
            "</ul>\n",
            "</div>\n",
            "</div>\n",
            "<div class=\"vector-menu mw-portlet mw-portlet-user-menu-anon-editor\" id=\"p-user-menu-anon-editor\">\n",
            "<div class=\"vector-menu-heading\">\n",
            "\t\tPages for logged out editors <a aria-label=\"Learn more about editing\" href=\"/wiki/Help:Introduction\"><span>learn more</span></a>\n",
            "</div>\n",
            "<div class=\"vector-menu-content\">\n",
            "<ul class=\"vector-menu-content-list\">\n",
            "<li class=\"mw-list-item\" id=\"pt-anoncontribs\"><a accesskey=\"y\" href=\"/wiki/Special:MyContributions\" title=\"A list of edits made from this IP address [y]\"><span>Contributions</span></a></li><li class=\"mw-list-item\" id=\"pt-anontalk\"><a accesskey=\"n\" href=\"/wiki/Special:MyTalk\" title=\"Discussion about edits from this IP address [n]\"><span>Talk</span></a></li>\n",
            "</ul>\n",
            "</div>\n",
            "</div>\n",
            "</div>\n",
            "</div>\n",
            "</nav>\n",
            "</div>\n",
            "</header>\n",
            "</div>\n",
            "<div class=\"mw-page-container\">\n",
            "<div class=\"mw-page-container-inner\">\n",
            "<div class=\"vector-sitenotice-container\">\n",
            "<div id=\"siteNotice\"><!-- CentralNotice --></div>\n",
            "</div>\n",
            "<div class=\"vector-column-start\">\n",
            "<div class=\"vector-main-menu-container\">\n",
            "<div id=\"mw-navigation\">\n",
            "<nav aria-label=\"Site\" class=\"vector-main-menu-landmark\" id=\"mw-panel\" role=\"navigation\">\n",
            "<div class=\"vector-pinned-container\" id=\"vector-main-menu-pinned-container\">\n",
            "</div>\n",
            "</nav>\n",
            "</div>\n",
            "</div>\n",
            "<div class=\"vector-sticky-pinned-container\">\n",
            "<nav aria-label=\"Contents\" class=\"mw-table-of-contents-container vector-toc-landmark\" data-event-name=\"ui.sidebar-toc\" id=\"mw-panel-toc\" role=\"navigation\">\n",
            "<div class=\"vector-pinned-container\" id=\"vector-toc-pinned-container\">\n",
            "<div class=\"vector-toc vector-pinnable-element\" id=\"vector-toc\">\n",
            "<div class=\"vector-pinnable-header vector-toc-pinnable-header vector-pinnable-header-pinned\" data-feature-name=\"toc-pinned\" data-pinnable-element-id=\"vector-toc\">\n",
            "<h2 class=\"vector-pinnable-header-label\">Contents</h2>\n",
            "<button class=\"vector-pinnable-header-toggle-button vector-pinnable-header-pin-button\" data-event-name=\"pinnable-header.vector-toc.pin\">move to sidebar</button>\n",
            "<button class=\"vector-pinnable-header-toggle-button vector-pinnable-header-unpin-button\" data-event-name=\"pinnable-header.vector-toc.unpin\">hide</button>\n",
            "</div>\n",
            "<ul class=\"vector-toc-contents\" id=\"mw-panel-toc-list\">\n",
            "<li class=\"vector-toc-list-item vector-toc-level-1\" id=\"toc-mw-content-text\">\n",
            "<a class=\"vector-toc-link\" href=\"#\">\n",
            "<div class=\"vector-toc-text\">(Top)</div>\n",
            "</a>\n",
            "</li>\n",
            "<li class=\"vector-toc-list-item vector-toc-level-1 vector-toc-list-item-expanded\" id=\"toc-History\">\n",
            "<a class=\"vector-toc-link\" href=\"#History\">\n",
            "<div class=\"vector-toc-text\">\n",
            "<span class=\"vector-toc-numb\">1</span>History</div>\n",
            "</a>\n",
            "<ul class=\"vector-toc-list\" id=\"toc-History-sublist\">\n",
            "</ul>\n",
            "</li>\n",
            "<li class=\"vector-toc-list-item vector-toc-level-1 vector-toc-list-item-expanded\" id=\"toc-Techniques\">\n",
            "<a class=\"vector-toc-link\" href=\"#Techniques\">\n",
            "<div class=\"vector-toc-text\">\n",
            "<span class=\"vector-toc-numb\">2</span>Techniques</div>\n",
            "</a>\n",
            "<button aria-controls=\"toc-Techniques-sublist\" class=\"cdx-button cdx-button--weight-quiet cdx-button--icon-only vector-toc-toggle\">\n",
            "<span class=\"vector-icon vector-icon--x-small mw-ui-icon-wikimedia-expand\"></span>\n",
            "<span>Toggle Techniques subsection</span>\n",
            "</button>\n",
            "<ul class=\"vector-toc-list\" id=\"toc-Techniques-sublist\">\n",
            "<li class=\"vector-toc-list-item vector-toc-level-2\" id=\"toc-Human_copy-and-paste\">\n",
            "<a class=\"vector-toc-link\" href=\"#Human_copy-and-paste\">\n",
            "<div class=\"vector-toc-text\">\n",
            "<span class=\"vector-toc-numb\">2.1</span>Human copy-and-paste</div>\n",
            "</a>\n",
            "<ul class=\"vector-toc-list\" id=\"toc-Human_copy-and-paste-sublist\">\n",
            "</ul>\n",
            "</li>\n",
            "<li class=\"vector-toc-list-item vector-toc-level-2\" id=\"toc-Text_pattern_matching\">\n",
            "<a class=\"vector-toc-link\" href=\"#Text_pattern_matching\">\n",
            "<div class=\"vector-toc-text\">\n",
            "<span class=\"vector-toc-numb\">2.2</span>Text pattern matching</div>\n",
            "</a>\n",
            "<ul class=\"vector-toc-list\" id=\"toc-Text_pattern_matching-sublist\">\n",
            "</ul>\n",
            "</li>\n",
            "<li class=\"vector-toc-list-item vector-toc-level-2\" id=\"toc-HTTP_programming\">\n",
            "<a class=\"vector-toc-link\" href=\"#HTTP_programming\">\n",
            "<div class=\"vector-toc-text\">\n",
            "<span class=\"vector-toc-numb\">2.3</span>HTTP programming</div>\n",
            "</a>\n",
            "<ul class=\"vector-toc-list\" id=\"toc-HTTP_programming-sublist\">\n",
            "</ul>\n",
            "</li>\n",
            "<li class=\"vector-toc-list-item vector-toc-level-2\" id=\"toc-HTML_parsing\">\n",
            "<a class=\"vector-toc-link\" href=\"#HTML_parsing\">\n",
            "<div class=\"vector-toc-text\">\n",
            "<span class=\"vector-toc-numb\">2.4</span>HTML parsing</div>\n",
            "</a>\n",
            "<ul class=\"vector-toc-list\" id=\"toc-HTML_parsing-sublist\">\n",
            "</ul>\n",
            "</li>\n",
            "<li class=\"vector-toc-list-item vector-toc-level-2\" id=\"toc-DOM_parsing\">\n",
            "<a class=\"vector-toc-link\" href=\"#DOM_parsing\">\n",
            "<div class=\"vector-toc-text\">\n",
            "<span class=\"vector-toc-numb\">2.5</span>DOM parsing</div>\n",
            "</a>\n",
            "<ul class=\"vector-toc-list\" id=\"toc-DOM_parsing-sublist\">\n",
            "</ul>\n",
            "</li>\n",
            "<li class=\"vector-toc-list-item vector-toc-level-2\" id=\"toc-Vertical_aggregation\">\n",
            "<a class=\"vector-toc-link\" href=\"#Vertical_aggregation\">\n",
            "<div class=\"vector-toc-text\">\n",
            "<span class=\"vector-toc-numb\">2.6</span>Vertical aggregation</div>\n",
            "</a>\n",
            "<ul class=\"vector-toc-list\" id=\"toc-Vertical_aggregation-sublist\">\n",
            "</ul>\n",
            "</li>\n",
            "<li class=\"vector-toc-list-item vector-toc-level-2\" id=\"toc-Semantic_annotation_recognizing\">\n",
            "<a class=\"vector-toc-link\" href=\"#Semantic_annotation_recognizing\">\n",
            "<div class=\"vector-toc-text\">\n",
            "<span class=\"vector-toc-numb\">2.7</span>Semantic annotation recognizing</div>\n",
            "</a>\n",
            "<ul class=\"vector-toc-list\" id=\"toc-Semantic_annotation_recognizing-sublist\">\n",
            "</ul>\n",
            "</li>\n",
            "<li class=\"vector-toc-list-item vector-toc-level-2\" id=\"toc-Computer_vision_web-page_analysis\">\n",
            "<a class=\"vector-toc-link\" href=\"#Computer_vision_web-page_analysis\">\n",
            "<div class=\"vector-toc-text\">\n",
            "<span class=\"vector-toc-numb\">2.8</span>Computer vision web-page analysis</div>\n",
            "</a>\n",
            "<ul class=\"vector-toc-list\" id=\"toc-Computer_vision_web-page_analysis-sublist\">\n",
            "</ul>\n",
            "</li>\n",
            "</ul>\n",
            "</li>\n",
            "<li class=\"vector-toc-list-item vector-toc-level-1 vector-toc-list-item-expanded\" id=\"toc-Software\">\n",
            "<a class=\"vector-toc-link\" href=\"#Software\">\n",
            "<div class=\"vector-toc-text\">\n",
            "<span class=\"vector-toc-numb\">3</span>Software</div>\n",
            "</a>\n",
            "<ul class=\"vector-toc-list\" id=\"toc-Software-sublist\">\n",
            "</ul>\n",
            "</li>\n",
            "<li class=\"vector-toc-list-item vector-toc-level-1 vector-toc-list-item-expanded\" id=\"toc-Legal_issues\">\n",
            "<a class=\"vector-toc-link\" href=\"#Legal_issues\">\n",
            "<div class=\"vector-toc-text\">\n",
            "<span class=\"vector-toc-numb\">4</span>Legal issues</div>\n",
            "</a>\n",
            "<button aria-controls=\"toc-Legal_issues-sublist\" class=\"cdx-button cdx-button--weight-quiet cdx-button--icon-only vector-toc-toggle\">\n",
            "<span class=\"vector-icon vector-icon--x-small mw-ui-icon-wikimedia-expand\"></span>\n",
            "<span>Toggle Legal issues subsection</span>\n",
            "</button>\n",
            "<ul class=\"vector-toc-list\" id=\"toc-Legal_issues-sublist\">\n",
            "<li class=\"vector-toc-list-item vector-toc-level-2\" id=\"toc-United_States\">\n",
            "<a class=\"vector-toc-link\" href=\"#United_States\">\n",
            "<div class=\"vector-toc-text\">\n",
            "<span class=\"vector-toc-numb\">4.1</span>United States</div>\n",
            "</a>\n",
            "<ul class=\"vector-toc-list\" id=\"toc-United_States-sublist\">\n",
            "</ul>\n",
            "</li>\n",
            "<li class=\"vector-toc-list-item vector-toc-level-2\" id=\"toc-European_Union\">\n",
            "<a class=\"vector-toc-link\" href=\"#European_Union\">\n",
            "<div class=\"vector-toc-text\">\n",
            "<span class=\"vector-toc-numb\">4.2</span>European Union</div>\n",
            "</a>\n",
            "<ul class=\"vector-toc-list\" id=\"toc-European_Union-sublist\">\n",
            "</ul>\n",
            "</li>\n",
            "<li class=\"vector-toc-list-item vector-toc-level-2\" id=\"toc-Australia\">\n",
            "<a class=\"vector-toc-link\" href=\"#Australia\">\n",
            "<div class=\"vector-toc-text\">\n",
            "<span class=\"vector-toc-numb\">4.3</span>Australia</div>\n",
            "</a>\n",
            "<ul class=\"vector-toc-list\" id=\"toc-Australia-sublist\">\n",
            "</ul>\n",
            "</li>\n",
            "<li class=\"vector-toc-list-item vector-toc-level-2\" id=\"toc-India\">\n",
            "<a class=\"vector-toc-link\" href=\"#India\">\n",
            "<div class=\"vector-toc-text\">\n",
            "<span class=\"vector-toc-numb\">4.4</span>India</div>\n",
            "</a>\n",
            "<ul class=\"vector-toc-list\" id=\"toc-India-sublist\">\n",
            "</ul>\n",
            "</li>\n",
            "</ul>\n",
            "</li>\n",
            "<li class=\"vector-toc-list-item vector-toc-level-1 vector-toc-list-item-expanded\" id=\"toc-Methods_to_prevent_web_scraping\">\n",
            "<a class=\"vector-toc-link\" href=\"#Methods_to_prevent_web_scraping\">\n",
            "<div class=\"vector-toc-text\">\n",
            "<span class=\"vector-toc-numb\">5</span>Methods to prevent web scraping</div>\n",
            "</a>\n",
            "<ul class=\"vector-toc-list\" id=\"toc-Methods_to_prevent_web_scraping-sublist\">\n",
            "</ul>\n",
            "</li>\n",
            "<li class=\"vector-toc-list-item vector-toc-level-1 vector-toc-list-item-expanded\" id=\"toc-See_also\">\n",
            "<a class=\"vector-toc-link\" href=\"#See_also\">\n",
            "<div class=\"vector-toc-text\">\n",
            "<span class=\"vector-toc-numb\">6</span>See also</div>\n",
            "</a>\n",
            "<ul class=\"vector-toc-list\" id=\"toc-See_also-sublist\">\n",
            "</ul>\n",
            "</li>\n",
            "<li class=\"vector-toc-list-item vector-toc-level-1 vector-toc-list-item-expanded\" id=\"toc-References\">\n",
            "<a class=\"vector-toc-link\" href=\"#References\">\n",
            "<div class=\"vector-toc-text\">\n",
            "<span class=\"vector-toc-numb\">7</span>References</div>\n",
            "</a>\n",
            "<ul class=\"vector-toc-list\" id=\"toc-References-sublist\">\n",
            "</ul>\n",
            "</li>\n",
            "</ul>\n",
            "</div>\n",
            "</div>\n",
            "</nav>\n",
            "</div>\n",
            "</div>\n",
            "<div class=\"mw-content-container\">\n",
            "<main class=\"mw-body\" id=\"content\" role=\"main\">\n",
            "<header class=\"mw-body-header vector-page-titlebar\">\n",
            "<nav aria-label=\"Contents\" class=\"vector-toc-landmark\" role=\"navigation\">\n",
            "<div class=\"vector-dropdown vector-page-titlebar-toc vector-button-flush-left\" id=\"vector-page-titlebar-toc\">\n",
            "<input aria-haspopup=\"true\" aria-label=\"Toggle the table of contents\" class=\"vector-dropdown-checkbox\" data-event-name=\"ui.dropdown-vector-page-titlebar-toc\" id=\"vector-page-titlebar-toc-checkbox\" role=\"button\" type=\"checkbox\"/>\n",
            "<label aria-hidden=\"true\" class=\"vector-dropdown-label cdx-button cdx-button--fake-button cdx-button--fake-button--enabled cdx-button--weight-quiet cdx-button--icon-only\" for=\"vector-page-titlebar-toc-checkbox\" id=\"vector-page-titlebar-toc-label\"><span class=\"vector-icon mw-ui-icon-listBullet mw-ui-icon-wikimedia-listBullet\"></span>\n",
            "<span class=\"vector-dropdown-label-text\">Toggle the table of contents</span>\n",
            "</label>\n",
            "<div class=\"vector-dropdown-content\">\n",
            "<div class=\"vector-unpinned-container\" id=\"vector-page-titlebar-toc-unpinned-container\">\n",
            "</div>\n",
            "</div>\n",
            "</div>\n",
            "</nav>\n",
            "<h1 class=\"firstHeading mw-first-heading\" id=\"firstHeading\"><span class=\"mw-page-title-main\">Web scraping</span></h1>\n",
            "<div class=\"vector-dropdown mw-portlet mw-portlet-lang\" id=\"p-lang-btn\">\n",
            "<input aria-haspopup=\"true\" aria-label=\"Go to an article in another language. Available in 22 languages\" class=\"vector-dropdown-checkbox mw-interlanguage-selector\" data-event-name=\"ui.dropdown-p-lang-btn\" id=\"p-lang-btn-checkbox\" role=\"button\" type=\"checkbox\"/>\n",
            "<label aria-hidden=\"true\" class=\"vector-dropdown-label cdx-button cdx-button--fake-button cdx-button--fake-button--enabled cdx-button--weight-quiet cdx-button--action-progressive mw-portlet-lang-heading-22\" for=\"p-lang-btn-checkbox\" id=\"p-lang-btn-label\"><span class=\"vector-icon mw-ui-icon-language-progressive mw-ui-icon-wikimedia-language-progressive\"></span>\n",
            "<span class=\"vector-dropdown-label-text\">22 languages</span>\n",
            "</label>\n",
            "<div class=\"vector-dropdown-content\">\n",
            "<div class=\"vector-menu-content\">\n",
            "<ul class=\"vector-menu-content-list\">\n",
            "<li class=\"interlanguage-link interwiki-ar mw-list-item\"><a class=\"interlanguage-link-target\" href=\"https://ar.wikipedia.org/wiki/%D8%AA%D8%AC%D8%B1%D9%8A%D9%81_%D9%88%D9%8A%D8%A8\" hreflang=\"ar\" lang=\"ar\" title=\"تجريف ويب – Arabic\"><span>العربية</span></a></li><li class=\"interlanguage-link interwiki-ca mw-list-item\"><a class=\"interlanguage-link-target\" href=\"https://ca.wikipedia.org/wiki/Web_scraping\" hreflang=\"ca\" lang=\"ca\" title=\"Web scraping – Catalan\"><span>Català</span></a></li><li class=\"interlanguage-link interwiki-cs mw-list-item\"><a class=\"interlanguage-link-target\" href=\"https://cs.wikipedia.org/wiki/Web_scraping\" hreflang=\"cs\" lang=\"cs\" title=\"Web scraping – Czech\"><span>Čeština</span></a></li><li class=\"interlanguage-link interwiki-ary mw-list-item\"><a class=\"interlanguage-link-target\" href=\"https://ary.wikipedia.org/wiki/%D8%AA%D8%BA%D8%B1%D8%A7%D9%81_%D9%84%D9%88%D9%8A%D8%A8\" hreflang=\"ary\" lang=\"ary\" title=\"تغراف لويب – Moroccan Arabic\"><span>الدارجة</span></a></li><li class=\"interlanguage-link interwiki-de mw-list-item\"><a class=\"interlanguage-link-target\" href=\"https://de.wikipedia.org/wiki/Screen_Scraping\" hreflang=\"de\" lang=\"de\" title=\"Screen Scraping – German\"><span>Deutsch</span></a></li><li class=\"interlanguage-link interwiki-es mw-list-item\"><a class=\"interlanguage-link-target\" href=\"https://es.wikipedia.org/wiki/Web_scraping\" hreflang=\"es\" lang=\"es\" title=\"Web scraping – Spanish\"><span>Español</span></a></li><li class=\"interlanguage-link interwiki-eu mw-list-item\"><a class=\"interlanguage-link-target\" href=\"https://eu.wikipedia.org/wiki/Web_scraping\" hreflang=\"eu\" lang=\"eu\" title=\"Web scraping – Basque\"><span>Euskara</span></a></li><li class=\"interlanguage-link interwiki-fa mw-list-item\"><a class=\"interlanguage-link-target\" href=\"https://fa.wikipedia.org/wiki/%D9%88%D8%A8_%D8%A7%D8%B3%DA%A9%D8%B1%D9%BE%DB%8C%D9%86%DA%AF\" hreflang=\"fa\" lang=\"fa\" title=\"وب اسکرپینگ – Persian\"><span>فارسی</span></a></li><li class=\"interlanguage-link interwiki-fr mw-list-item\"><a class=\"interlanguage-link-target\" href=\"https://fr.wikipedia.org/wiki/Web_scraping\" hreflang=\"fr\" lang=\"fr\" title=\"Web scraping – French\"><span>Français</span></a></li><li class=\"interlanguage-link interwiki-ko mw-list-item\"><a class=\"interlanguage-link-target\" href=\"https://ko.wikipedia.org/wiki/%EC%9B%B9_%EC%8A%A4%ED%81%AC%EB%9E%98%ED%95%91\" hreflang=\"ko\" lang=\"ko\" title=\"웹 스크래핑 – Korean\"><span>한국어</span></a></li><li class=\"interlanguage-link interwiki-id mw-list-item\"><a class=\"interlanguage-link-target\" href=\"https://id.wikipedia.org/wiki/Menggali_web\" hreflang=\"id\" lang=\"id\" title=\"Menggali web – Indonesian\"><span>Bahasa Indonesia</span></a></li><li class=\"interlanguage-link interwiki-is mw-list-item\"><a class=\"interlanguage-link-target\" href=\"https://is.wikipedia.org/wiki/Vefs%C3%B6fnun\" hreflang=\"is\" lang=\"is\" title=\"Vefsöfnun – Icelandic\"><span>Íslenska</span></a></li><li class=\"interlanguage-link interwiki-it mw-list-item\"><a class=\"interlanguage-link-target\" href=\"https://it.wikipedia.org/wiki/Web_scraping\" hreflang=\"it\" lang=\"it\" title=\"Web scraping – Italian\"><span>Italiano</span></a></li><li class=\"interlanguage-link interwiki-lv mw-list-item\"><a class=\"interlanguage-link-target\" href=\"https://lv.wikipedia.org/wiki/Rasmo%C5%A1ana\" hreflang=\"lv\" lang=\"lv\" title=\"Rasmošana – Latvian\"><span>Latviešu</span></a></li><li class=\"interlanguage-link interwiki-nl mw-list-item\"><a class=\"interlanguage-link-target\" href=\"https://nl.wikipedia.org/wiki/Scrapen\" hreflang=\"nl\" lang=\"nl\" title=\"Scrapen – Dutch\"><span>Nederlands</span></a></li><li class=\"interlanguage-link interwiki-ja mw-list-item\"><a class=\"interlanguage-link-target\" href=\"https://ja.wikipedia.org/wiki/%E3%82%A6%E3%82%A7%E3%83%96%E3%82%B9%E3%82%AF%E3%83%AC%E3%82%A4%E3%83%94%E3%83%B3%E3%82%B0\" hreflang=\"ja\" lang=\"ja\" title=\"ウェブスクレイピング – Japanese\"><span>日本語</span></a></li><li class=\"interlanguage-link interwiki-pt mw-list-item\"><a class=\"interlanguage-link-target\" href=\"https://pt.wikipedia.org/wiki/Web_scraping\" hreflang=\"pt\" lang=\"pt\" title=\"Web scraping – Portuguese\"><span>Português</span></a></li><li class=\"interlanguage-link interwiki-ru mw-list-item\"><a class=\"interlanguage-link-target\" href=\"https://ru.wikipedia.org/wiki/%D0%92%D0%B5%D0%B1-%D1%81%D0%BA%D1%80%D0%B5%D0%B9%D0%BF%D0%B8%D0%BD%D0%B3\" hreflang=\"ru\" lang=\"ru\" title=\"Веб-скрейпинг – Russian\"><span>Русский</span></a></li><li class=\"interlanguage-link interwiki-tr mw-list-item\"><a class=\"interlanguage-link-target\" href=\"https://tr.wikipedia.org/wiki/Web_kaz%C4%B1ma\" hreflang=\"tr\" lang=\"tr\" title=\"Web kazıma – Turkish\"><span>Türkçe</span></a></li><li class=\"interlanguage-link interwiki-uk mw-list-item\"><a class=\"interlanguage-link-target\" href=\"https://uk.wikipedia.org/wiki/Web_scraping\" hreflang=\"uk\" lang=\"uk\" title=\"Web scraping – Ukrainian\"><span>Українська</span></a></li><li class=\"interlanguage-link interwiki-zh-yue mw-list-item\"><a class=\"interlanguage-link-target\" href=\"https://zh-yue.wikipedia.org/wiki/%E7%B6%B2%E9%A0%81%E5%88%AE%E6%96%99\" hreflang=\"yue\" lang=\"yue\" title=\"網頁刮料 – Cantonese\"><span>粵語</span></a></li><li class=\"interlanguage-link interwiki-zh mw-list-item\"><a class=\"interlanguage-link-target\" href=\"https://zh.wikipedia.org/wiki/%E7%BD%91%E9%A1%B5%E6%8A%93%E5%8F%96\" hreflang=\"zh\" lang=\"zh\" title=\"网页抓取 – Chinese\"><span>中文</span></a></li>\n",
            "</ul>\n",
            "<div class=\"after-portlet after-portlet-lang\"><span class=\"wb-langlinks-edit wb-langlinks-link\"><a class=\"wbc-editpage\" href=\"https://www.wikidata.org/wiki/Special:EntityPage/Q665452#sitelinks-wikipedia\" title=\"Edit interlanguage links\">Edit links</a></span></div>\n",
            "</div>\n",
            "</div>\n",
            "</div>\n",
            "</header>\n",
            "<div class=\"vector-page-toolbar\">\n",
            "<div class=\"vector-page-toolbar-container\">\n",
            "<div id=\"left-navigation\">\n",
            "<nav aria-label=\"Namespaces\">\n",
            "<div class=\"vector-menu vector-menu-tabs mw-portlet mw-portlet-associated-pages\" id=\"p-associated-pages\">\n",
            "<div class=\"vector-menu-content\">\n",
            "<ul class=\"vector-menu-content-list\">\n",
            "<li class=\"selected vector-tab-noicon mw-list-item\" id=\"ca-nstab-main\"><a accesskey=\"c\" href=\"/wiki/Web_scraping\" title=\"View the content page [c]\"><span>Article</span></a></li><li class=\"vector-tab-noicon mw-list-item\" id=\"ca-talk\"><a accesskey=\"t\" href=\"/wiki/Talk:Web_scraping\" rel=\"discussion\" title=\"Discuss improvements to the content page [t]\"><span>Talk</span></a></li>\n",
            "</ul>\n",
            "</div>\n",
            "</div>\n",
            "<div class=\"vector-dropdown emptyPortlet\" id=\"p-variants\">\n",
            "<input aria-haspopup=\"true\" aria-label=\"Change language variant\" class=\"vector-dropdown-checkbox\" data-event-name=\"ui.dropdown-p-variants\" id=\"p-variants-checkbox\" role=\"button\" type=\"checkbox\"/>\n",
            "<label aria-hidden=\"true\" class=\"vector-dropdown-label cdx-button cdx-button--fake-button cdx-button--fake-button--enabled cdx-button--weight-quiet\" for=\"p-variants-checkbox\" id=\"p-variants-label\"><span class=\"vector-dropdown-label-text\">English</span>\n",
            "</label>\n",
            "<div class=\"vector-dropdown-content\">\n",
            "<div class=\"vector-menu mw-portlet mw-portlet-variants emptyPortlet\" id=\"p-variants\">\n",
            "<div class=\"vector-menu-content\">\n",
            "<ul class=\"vector-menu-content-list\">\n",
            "</ul>\n",
            "</div>\n",
            "</div>\n",
            "</div>\n",
            "</div>\n",
            "</nav>\n",
            "</div>\n",
            "<div class=\"vector-collapsible\" id=\"right-navigation\">\n",
            "<nav aria-label=\"Views\">\n",
            "<div class=\"vector-menu vector-menu-tabs mw-portlet mw-portlet-views\" id=\"p-views\">\n",
            "<div class=\"vector-menu-content\">\n",
            "<ul class=\"vector-menu-content-list\">\n",
            "<li class=\"selected vector-tab-noicon mw-list-item\" id=\"ca-view\"><a href=\"/wiki/Web_scraping\"><span>Read</span></a></li><li class=\"vector-tab-noicon mw-list-item\" id=\"ca-edit\"><a accesskey=\"e\" href=\"/w/index.php?title=Web_scraping&amp;action=edit\" title=\"Edit this page [e]\"><span>Edit</span></a></li><li class=\"vector-tab-noicon mw-list-item\" id=\"ca-history\"><a accesskey=\"h\" href=\"/w/index.php?title=Web_scraping&amp;action=history\" title=\"Past revisions of this page [h]\"><span>View history</span></a></li>\n",
            "</ul>\n",
            "</div>\n",
            "</div>\n",
            "</nav>\n",
            "<nav aria-label=\"Page tools\" class=\"vector-page-tools-landmark\">\n",
            "<div class=\"vector-dropdown vector-page-tools-dropdown\" id=\"vector-page-tools-dropdown\">\n",
            "<input aria-haspopup=\"true\" aria-label=\"Tools\" class=\"vector-dropdown-checkbox\" data-event-name=\"ui.dropdown-vector-page-tools-dropdown\" id=\"vector-page-tools-dropdown-checkbox\" role=\"button\" type=\"checkbox\"/>\n",
            "<label aria-hidden=\"true\" class=\"vector-dropdown-label cdx-button cdx-button--fake-button cdx-button--fake-button--enabled cdx-button--weight-quiet\" for=\"vector-page-tools-dropdown-checkbox\" id=\"vector-page-tools-dropdown-label\"><span class=\"vector-dropdown-label-text\">Tools</span>\n",
            "</label>\n",
            "<div class=\"vector-dropdown-content\">\n",
            "<div class=\"vector-unpinned-container\" id=\"vector-page-tools-unpinned-container\">\n",
            "<div class=\"vector-page-tools vector-pinnable-element\" id=\"vector-page-tools\">\n",
            "<div class=\"vector-pinnable-header vector-page-tools-pinnable-header vector-pinnable-header-unpinned\" data-feature-name=\"page-tools-pinned\" data-pinnable-element-id=\"vector-page-tools\" data-pinned-container-id=\"vector-page-tools-pinned-container\" data-unpinned-container-id=\"vector-page-tools-unpinned-container\">\n",
            "<div class=\"vector-pinnable-header-label\">Tools</div>\n",
            "<button class=\"vector-pinnable-header-toggle-button vector-pinnable-header-pin-button\" data-event-name=\"pinnable-header.vector-page-tools.pin\">move to sidebar</button>\n",
            "<button class=\"vector-pinnable-header-toggle-button vector-pinnable-header-unpin-button\" data-event-name=\"pinnable-header.vector-page-tools.unpin\">hide</button>\n",
            "</div>\n",
            "<div class=\"vector-menu mw-portlet mw-portlet-cactions emptyPortlet vector-has-collapsible-items\" id=\"p-cactions\" title=\"More options\">\n",
            "<div class=\"vector-menu-heading\">\n",
            "\t\tActions\n",
            "\t</div>\n",
            "<div class=\"vector-menu-content\">\n",
            "<ul class=\"vector-menu-content-list\">\n",
            "<li class=\"selected vector-more-collapsible-item mw-list-item\" id=\"ca-more-view\"><a href=\"/wiki/Web_scraping\"><span>Read</span></a></li><li class=\"vector-more-collapsible-item mw-list-item\" id=\"ca-more-edit\"><a accesskey=\"e\" href=\"/w/index.php?title=Web_scraping&amp;action=edit\" title=\"Edit this page [e]\"><span>Edit</span></a></li><li class=\"vector-more-collapsible-item mw-list-item\" id=\"ca-more-history\"><a href=\"/w/index.php?title=Web_scraping&amp;action=history\"><span>View history</span></a></li>\n",
            "</ul>\n",
            "</div>\n",
            "</div>\n",
            "<div class=\"vector-menu mw-portlet mw-portlet-tb\" id=\"p-tb\">\n",
            "<div class=\"vector-menu-heading\">\n",
            "\t\tGeneral\n",
            "\t</div>\n",
            "<div class=\"vector-menu-content\">\n",
            "<ul class=\"vector-menu-content-list\">\n",
            "<li class=\"mw-list-item\" id=\"t-whatlinkshere\"><a accesskey=\"j\" href=\"/wiki/Special:WhatLinksHere/Web_scraping\" title=\"List of all English Wikipedia pages containing links to this page [j]\"><span>What links here</span></a></li><li class=\"mw-list-item\" id=\"t-recentchangeslinked\"><a accesskey=\"k\" href=\"/wiki/Special:RecentChangesLinked/Web_scraping\" rel=\"nofollow\" title=\"Recent changes in pages linked from this page [k]\"><span>Related changes</span></a></li><li class=\"mw-list-item\" id=\"t-upload\"><a accesskey=\"u\" href=\"/wiki/Wikipedia:File_Upload_Wizard\" title=\"Upload files [u]\"><span>Upload file</span></a></li><li class=\"mw-list-item\" id=\"t-specialpages\"><a accesskey=\"q\" href=\"/wiki/Special:SpecialPages\" title=\"A list of all special pages [q]\"><span>Special pages</span></a></li><li class=\"mw-list-item\" id=\"t-permalink\"><a href=\"/w/index.php?title=Web_scraping&amp;oldid=1220719906\" title=\"Permanent link to this revision of this page\"><span>Permanent link</span></a></li><li class=\"mw-list-item\" id=\"t-info\"><a href=\"/w/index.php?title=Web_scraping&amp;action=info\" title=\"More information about this page\"><span>Page information</span></a></li><li class=\"mw-list-item\" id=\"t-cite\"><a href=\"/w/index.php?title=Special:CiteThisPage&amp;page=Web_scraping&amp;id=1220719906&amp;wpFormIdentifier=titleform\" title=\"Information on how to cite this page\"><span>Cite this page</span></a></li><li class=\"mw-list-item\" id=\"t-urlshortener\"><a href=\"/w/index.php?title=Special:UrlShortener&amp;url=https%3A%2F%2Fen.wikipedia.org%2Fwiki%2FWeb_scraping\"><span>Get shortened URL</span></a></li><li class=\"mw-list-item\" id=\"t-urlshortener-qrcode\"><a href=\"/w/index.php?title=Special:QrCode&amp;url=https%3A%2F%2Fen.wikipedia.org%2Fwiki%2FWeb_scraping\"><span>Download QR code</span></a></li><li class=\"mw-list-item\" id=\"t-wikibase\"><a accesskey=\"g\" href=\"https://www.wikidata.org/wiki/Special:EntityPage/Q665452\" title=\"Structured data on this page hosted by Wikidata [g]\"><span>Wikidata item</span></a></li>\n",
            "</ul>\n",
            "</div>\n",
            "</div>\n",
            "<div class=\"vector-menu mw-portlet mw-portlet-coll-print_export\" id=\"p-coll-print_export\">\n",
            "<div class=\"vector-menu-heading\">\n",
            "\t\tPrint/export\n",
            "\t</div>\n",
            "<div class=\"vector-menu-content\">\n",
            "<ul class=\"vector-menu-content-list\">\n",
            "<li class=\"mw-list-item\" id=\"coll-download-as-rl\"><a href=\"/w/index.php?title=Special:DownloadAsPdf&amp;page=Web_scraping&amp;action=show-download-screen\" title=\"Download this page as a PDF file\"><span>Download as PDF</span></a></li><li class=\"mw-list-item\" id=\"t-print\"><a accesskey=\"p\" href=\"/w/index.php?title=Web_scraping&amp;printable=yes\" title=\"Printable version of this page [p]\"><span>Printable version</span></a></li>\n",
            "</ul>\n",
            "</div>\n",
            "</div>\n",
            "</div>\n",
            "</div>\n",
            "</div>\n",
            "</div>\n",
            "</nav>\n",
            "</div>\n",
            "</div>\n",
            "</div>\n",
            "<div class=\"vector-column-end\">\n",
            "<div class=\"vector-sticky-pinned-container\">\n",
            "<nav aria-label=\"Page tools\" class=\"vector-page-tools-landmark\">\n",
            "<div class=\"vector-pinned-container\" id=\"vector-page-tools-pinned-container\">\n",
            "</div>\n",
            "</nav>\n",
            "<nav aria-label=\"Appearance\" class=\"vector-client-prefs-landmark\">\n",
            "</nav>\n",
            "</div>\n",
            "</div>\n",
            "<div aria-labelledby=\"firstHeading\" class=\"vector-body\" data-mw-ve-target-container=\"\" id=\"bodyContent\">\n",
            "<div class=\"vector-body-before-content\">\n",
            "<div class=\"mw-indicators\">\n",
            "</div>\n",
            "<div class=\"noprint\" id=\"siteSub\">From Wikipedia, the free encyclopedia</div>\n",
            "</div>\n",
            "<div id=\"contentSub\"><div id=\"mw-content-subtitle\"></div></div>\n",
            "<div class=\"mw-body-content\" id=\"mw-content-text\"><div class=\"mw-content-ltr mw-parser-output\" dir=\"ltr\" lang=\"en\"><style data-mw-deduplicate=\"TemplateStyles:r1033289096\">.mw-parser-output .hatnote{font-style:italic}.mw-parser-output div.hatnote{padding-left:1.6em;margin-bottom:0.5em}.mw-parser-output .hatnote i{font-style:normal}.mw-parser-output .hatnote+link+.hatnote{margin-top:-0.5em}</style><div class=\"hatnote navigation-not-searchable\" role=\"note\">For broader coverage of this topic, see <a href=\"/wiki/Data_scraping\" title=\"Data scraping\">Data scraping</a>.</div>\n",
            "<div class=\"shortdescription nomobile noexcerpt noprint searchaux\" style=\"display:none\">Data scraping used for extracting data from websites</div>\n",
            "<link href=\"mw-data:TemplateStyles:r1033289096\" rel=\"mw-deduplicated-inline-style\"/><div class=\"hatnote navigation-not-searchable\" role=\"note\">\"Web scraper\" redirects here. For websites that scrape content, see <a href=\"/wiki/Scraper_site\" title=\"Scraper site\">Scraper site</a>.</div>\n",
            "<style data-mw-deduplicate=\"TemplateStyles:r1097763485\">.mw-parser-output .ambox{border:1px solid #a2a9b1;border-left:10px solid #36c;background-color:#fbfbfb;box-sizing:border-box}.mw-parser-output .ambox+link+.ambox,.mw-parser-output .ambox+link+style+.ambox,.mw-parser-output .ambox+link+link+.ambox,.mw-parser-output .ambox+.mw-empty-elt+link+.ambox,.mw-parser-output .ambox+.mw-empty-elt+link+style+.ambox,.mw-parser-output .ambox+.mw-empty-elt+link+link+.ambox{margin-top:-1px}html body.mediawiki .mw-parser-output .ambox.mbox-small-left{margin:4px 1em 4px 0;overflow:hidden;width:238px;border-collapse:collapse;font-size:88%;line-height:1.25em}.mw-parser-output .ambox-speedy{border-left:10px solid #b32424;background-color:#fee7e6}.mw-parser-output .ambox-delete{border-left:10px solid #b32424}.mw-parser-output .ambox-content{border-left:10px solid #f28500}.mw-parser-output .ambox-style{border-left:10px solid #fc3}.mw-parser-output .ambox-move{border-left:10px solid #9932cc}.mw-parser-output .ambox-protection{border-left:10px solid #a2a9b1}.mw-parser-output .ambox .mbox-text{border:none;padding:0.25em 0.5em;width:100%}.mw-parser-output .ambox .mbox-image{border:none;padding:2px 0 2px 0.5em;text-align:center}.mw-parser-output .ambox .mbox-imageright{border:none;padding:2px 0.5em 2px 0;text-align:center}.mw-parser-output .ambox .mbox-empty-cell{border:none;padding:0;width:1px}.mw-parser-output .ambox .mbox-image-div{width:52px}html.client-js body.skin-minerva .mw-parser-output .mbox-text-span{margin-left:23px!important}@media(min-width:720px){.mw-parser-output .ambox{margin:0 10%}}</style><table class=\"box-More_citations_needed plainlinks metadata ambox ambox-content ambox-Refimprove\" role=\"presentation\"><tbody><tr><td class=\"mbox-image\"><div class=\"mbox-image-div\"><span typeof=\"mw:File\"><a class=\"mw-file-description\" href=\"/wiki/File:Question_book-new.svg\"><img alt=\"\" class=\"mw-file-element\" data-file-height=\"399\" data-file-width=\"512\" decoding=\"async\" height=\"39\" src=\"//upload.wikimedia.org/wikipedia/en/thumb/9/99/Question_book-new.svg/50px-Question_book-new.svg.png\" srcset=\"//upload.wikimedia.org/wikipedia/en/thumb/9/99/Question_book-new.svg/75px-Question_book-new.svg.png 1.5x, //upload.wikimedia.org/wikipedia/en/thumb/9/99/Question_book-new.svg/100px-Question_book-new.svg.png 2x\" width=\"50\"/></a></span></div></td><td class=\"mbox-text\"><div class=\"mbox-text-span\">This article <b>needs additional citations for <a href=\"/wiki/Wikipedia:Verifiability\" title=\"Wikipedia:Verifiability\">verification</a></b>.<span class=\"hide-when-compact\"> Please help <a href=\"/wiki/Special:EditPage/Web_scraping\" title=\"Special:EditPage/Web scraping\">improve this article</a> by <a href=\"/wiki/Help:Referencing_for_beginners\" title=\"Help:Referencing for beginners\">adding citations to reliable sources</a>. Unsourced material may be challenged and removed.<br/><small><span class=\"plainlinks\"><i>Find sources:</i> <a class=\"external text\" href=\"https://www.google.com/search?as_eq=wikipedia&amp;q=%22Web+scraping%22\" rel=\"nofollow\">\"Web scraping\"</a> – <a class=\"external text\" href=\"https://www.google.com/search?tbm=nws&amp;q=%22Web+scraping%22+-wikipedia&amp;tbs=ar:1\" rel=\"nofollow\">news</a> <b>·</b> <a class=\"external text\" href=\"https://www.google.com/search?&amp;q=%22Web+scraping%22&amp;tbs=bkt:s&amp;tbm=bks\" rel=\"nofollow\">newspapers</a> <b>·</b> <a class=\"external text\" href=\"https://www.google.com/search?tbs=bks:1&amp;q=%22Web+scraping%22+-wikipedia\" rel=\"nofollow\">books</a> <b>·</b> <a class=\"external text\" href=\"https://scholar.google.com/scholar?q=%22Web+scraping%22\" rel=\"nofollow\">scholar</a> <b>·</b> <a class=\"external text\" href=\"https://www.jstor.org/action/doBasicSearch?Query=%22Web+scraping%22&amp;acc=on&amp;wc=on\" rel=\"nofollow\">JSTOR</a></span></small></span> <span class=\"date-container\"><i>(<span class=\"date\">April 2023</span>)</i></span><span class=\"hide-when-compact\"><i> (<small><a href=\"/wiki/Help:Maintenance_template_removal\" title=\"Help:Maintenance template removal\">Learn how and when to remove this message</a></small>)</i></span></div></td></tr></tbody></table>\n",
            "<p><b>Web scraping</b>, <b>web harvesting</b>, or <b>web data extraction</b> is <a href=\"/wiki/Data_scraping\" title=\"Data scraping\">data scraping</a> used for <a href=\"/wiki/Data_extraction\" title=\"Data extraction\">extracting data</a> from <a href=\"/wiki/Website\" title=\"Website\">websites</a>.<sup class=\"reference\" id=\"cite_ref-1\"><a href=\"#cite_note-1\">[1]</a></sup> Web scraping software may directly access the <a href=\"/wiki/World_Wide_Web\" title=\"World Wide Web\">World Wide Web</a> using the <a class=\"mw-redirect\" href=\"/wiki/Hypertext_Transfer_Protocol\" title=\"Hypertext Transfer Protocol\">Hypertext Transfer Protocol</a> or a web browser. While web scraping can be done manually by a software user, the term typically refers to automated processes implemented using a <a href=\"/wiki/Internet_bot\" title=\"Internet bot\">bot</a> or <a href=\"/wiki/Web_crawler\" title=\"Web crawler\">web crawler</a>. It is a form of copying in which specific data is gathered and copied from the web, typically into a central local <a href=\"/wiki/Database\" title=\"Database\">database</a> or spreadsheet, for later <a href=\"/wiki/Data_retrieval\" title=\"Data retrieval\">retrieval</a> or <a href=\"/wiki/Data_analysis\" title=\"Data analysis\">analysis</a>.\n",
            "</p><p>Scraping a web page involves fetching it and extracting from it. Fetching is the downloading of a page (which a browser does when a user views a page). Therefore, web crawling is a main component of web scraping, to fetch pages for later processing. Once fetched, extraction can take place. The content of a page may be <a href=\"/wiki/Parsing\" title=\"Parsing\">parsed</a>, searched and reformatted, and its data copied into a spreadsheet or loaded into a database. Web scrapers typically take something out of a page, to make use of it for another purpose somewhere else. An example would be finding and copying names and telephone numbers, companies and their URLs, or e-mail addresses to a list (contact scraping).\n",
            "</p><p>As well as <a href=\"/wiki/Contact_scraping\" title=\"Contact scraping\">contact scraping</a>, web scraping is used as a component of applications used for <a href=\"/wiki/Web_indexing\" title=\"Web indexing\">web indexing</a>, <a class=\"mw-redirect\" href=\"/wiki/Web_mining\" title=\"Web mining\">web mining</a> and <a href=\"/wiki/Data_mining\" title=\"Data mining\">data mining</a>, online price change monitoring and <a href=\"/wiki/Comparison_shopping_website\" title=\"Comparison shopping website\">price comparison</a>, product review scraping (to watch the competition), gathering real estate listings, weather data monitoring, <a href=\"/wiki/Change_detection_and_notification\" title=\"Change detection and notification\">website change detection</a>, research, tracking online presence and reputation, <a class=\"mw-redirect\" href=\"/wiki/Web_mashup\" title=\"Web mashup\">web mashup</a>, and <a href=\"/wiki/Web_data_integration\" title=\"Web data integration\">web data integration</a>.\n",
            "</p><p><a href=\"/wiki/Web_page\" title=\"Web page\">Web pages</a> are built using text-based mark-up languages (<a href=\"/wiki/HTML\" title=\"HTML\">HTML</a> and <a href=\"/wiki/XHTML\" title=\"XHTML\">XHTML</a>), and frequently contain a wealth of useful data in text form. However, most web pages are designed for human <a class=\"mw-redirect\" href=\"/wiki/End-user_(computer_science)\" title=\"End-user (computer science)\">end-users</a> and not for ease of automated use. As a result, specialized tools and software have been developed to facilitate the scraping of web pages.\n",
            "</p><p>Newer forms of web scraping involve monitoring data feeds from web servers.  For example, <a href=\"/wiki/JSON\" title=\"JSON\">JSON</a> is commonly used as a transport mechanism between the client and the web server.\n",
            "</p><p>There are methods that some websites use to prevent web scraping, such as detecting and disallowing bots from crawling (viewing) their pages. In response, there are web scraping systems that rely on using techniques in <a href=\"/wiki/Document_Object_Model\" title=\"Document Object Model\">DOM</a> parsing, <a href=\"/wiki/Computer_vision\" title=\"Computer vision\">computer vision</a> and <a href=\"/wiki/Natural_language_processing\" title=\"Natural language processing\">natural language processing</a> to simulate human browsing to enable gathering web page content for offline parsing\n",
            "</p>\n",
            "<meta property=\"mw:PageProp/toc\">\n",
            "<h2><span class=\"mw-headline\" id=\"History\">History</span><span class=\"mw-editsection\"><span class=\"mw-editsection-bracket\">[</span><a href=\"/w/index.php?title=Web_scraping&amp;action=edit&amp;section=1\" title=\"Edit section: History\"><span>edit</span></a><span class=\"mw-editsection-bracket\">]</span></span></h2>\n",
            "<ul><li>After the birth of the <a href=\"/wiki/History_of_the_World_Wide_Web\" title=\"History of the World Wide Web\"><b>World Wide Web</b></a> in 1989, the first web robot,<sup class=\"reference\" id=\"cite_ref-2\"><a href=\"#cite_note-2\">[2]</a></sup> <b><a href=\"/wiki/World_Wide_Web_Wanderer\" title=\"World Wide Web Wanderer\">World Wide Web Wanderer</a></b>, was created in June 1993, which was intended only to measure the size of the web.</li>\n",
            "<li>In December 1993, the first <b>crawler-based web search engine</b>, <a href=\"/wiki/JumpStation\" title=\"JumpStation\">JumpStation</a>, was launched. As there were fewer websites available on the web, search engines at that time used to rely on human administrators to collect and format links. In comparison, JumpStation was the first WWW search engine to rely on a web robot.</li>\n",
            "<li>In 2000, the <b>first Web API and API crawler</b> were created. An <a class=\"mw-redirect\" href=\"/wiki/Application_programming_interface\" title=\"Application programming interface\">API</a> (<b>Application Programming Interface)</b> is an interface that makes it much easier to develop a program by providing the building blocks. In 2000, <a class=\"mw-redirect\" href=\"/wiki/Salesforce.com\" title=\"Salesforce.com\">Salesforce</a> and <a href=\"/wiki/EBay\" title=\"EBay\">eBay</a> launched their own API, with which programmers could access and download some of the data available to the public. Since then, many websites offer web APIs for people to access their public database.</li></ul>\n",
            "<h2><span class=\"mw-headline\" id=\"Techniques\">Techniques</span><span class=\"mw-editsection\"><span class=\"mw-editsection-bracket\">[</span><a href=\"/w/index.php?title=Web_scraping&amp;action=edit&amp;section=2\" title=\"Edit section: Techniques\"><span>edit</span></a><span class=\"mw-editsection-bracket\">]</span></span></h2>\n",
            "<p>Web scraping is the process of automatically mining data or collecting information from the World Wide Web. It is a field with active developments sharing a common goal with the <a class=\"mw-redirect\" href=\"/wiki/Semantic_web\" title=\"Semantic web\">semantic web</a> vision, an ambitious initiative that still requires breakthroughs in text processing, semantic understanding, artificial intelligence and <a class=\"mw-redirect\" href=\"/wiki/Human-computer_interaction\" title=\"Human-computer interaction\">human-computer interactions</a>.\n",
            "</p>\n",
            "<h3><span class=\"mw-headline\" id=\"Human_copy-and-paste\">Human copy-and-paste</span><span class=\"mw-editsection\"><span class=\"mw-editsection-bracket\">[</span><a href=\"/w/index.php?title=Web_scraping&amp;action=edit&amp;section=3\" title=\"Edit section: Human copy-and-paste\"><span>edit</span></a><span class=\"mw-editsection-bracket\">]</span></span></h3>\n",
            "<p>The simplest form of web scraping is manually copying and pasting data from a web page into a text file or spreadsheet. Sometimes even the best web-scraping technology cannot replace a human's manual examination and copy-and-paste, and sometimes this may be the only workable solution when the websites for scraping explicitly set up barriers to prevent machine automation.\n",
            "</p>\n",
            "<h3><span class=\"mw-headline\" id=\"Text_pattern_matching\">Text pattern matching</span><span class=\"mw-editsection\"><span class=\"mw-editsection-bracket\">[</span><a href=\"/w/index.php?title=Web_scraping&amp;action=edit&amp;section=4\" title=\"Edit section: Text pattern matching\"><span>edit</span></a><span class=\"mw-editsection-bracket\">]</span></span></h3>\n",
            "<p>A simple yet powerful approach to extract information from web pages can be based on the UNIX <a href=\"/wiki/Grep\" title=\"Grep\">grep</a> command or <a href=\"/wiki/Regular_expression\" title=\"Regular expression\">regular expression</a>-matching facilities of programming languages (for instance <a href=\"/wiki/Perl\" title=\"Perl\">Perl</a> or <a href=\"/wiki/Python_(programming_language)\" title=\"Python (programming language)\">Python</a>).\n",
            "</p>\n",
            "<h3><span class=\"mw-headline\" id=\"HTTP_programming\">HTTP programming</span><span class=\"mw-editsection\"><span class=\"mw-editsection-bracket\">[</span><a href=\"/w/index.php?title=Web_scraping&amp;action=edit&amp;section=5\" title=\"Edit section: HTTP programming\"><span>edit</span></a><span class=\"mw-editsection-bracket\">]</span></span></h3>\n",
            "<p><a href=\"/wiki/Static_web_page\" title=\"Static web page\">Static</a> and <a href=\"/wiki/Dynamic_web_page\" title=\"Dynamic web page\">dynamic web pages</a> can be retrieved by posting HTTP requests to the remote web server using <a class=\"mw-redirect\" href=\"/wiki/Socket_programming\" title=\"Socket programming\">socket programming</a>.\n",
            "</p>\n",
            "<h3><span class=\"mw-headline\" id=\"HTML_parsing\">HTML parsing</span><span class=\"mw-editsection\"><span class=\"mw-editsection-bracket\">[</span><a href=\"/w/index.php?title=Web_scraping&amp;action=edit&amp;section=6\" title=\"Edit section: HTML parsing\"><span>edit</span></a><span class=\"mw-editsection-bracket\">]</span></span></h3>\n",
            "<p>Many websites have large collections of pages generated dynamically from an underlying structured source like a database. Data of the same category are typically encoded into similar pages by a common script or template. In data mining, a program that detects such templates in a particular information source, extracts its content, and translates it into a relational form, is called a <a href=\"/wiki/Wrapper_(data_mining)\" title=\"Wrapper (data mining)\">wrapper</a>. Wrapper generation algorithms assume that input pages of a wrapper induction system conform to a common template and that they can be easily identified in terms of a URL common scheme.<sup class=\"reference\" id=\"cite_ref-3\"><a href=\"#cite_note-3\">[3]</a></sup> Moreover, some <a href=\"/wiki/Semi-structured_data\" title=\"Semi-structured data\">semi-structured data</a> query languages, such as <a href=\"/wiki/XQuery\" title=\"XQuery\">XQuery</a> and the HTQL, can be used to parse HTML pages and to retrieve and transform page content.\n",
            "</p>\n",
            "<h3><span class=\"mw-headline\" id=\"DOM_parsing\">DOM parsing</span><span class=\"mw-editsection\"><span class=\"mw-editsection-bracket\">[</span><a href=\"/w/index.php?title=Web_scraping&amp;action=edit&amp;section=7\" title=\"Edit section: DOM parsing\"><span>edit</span></a><span class=\"mw-editsection-bracket\">]</span></span></h3>\n",
            "<link href=\"mw-data:TemplateStyles:r1033289096\" rel=\"mw-deduplicated-inline-style\"/><div class=\"hatnote navigation-not-searchable\" role=\"note\">Further information: <a href=\"/wiki/Document_Object_Model\" title=\"Document Object Model\">Document Object Model</a></div>\n",
            "<p>By embedding a full-fledged web browser, such as the <a href=\"/wiki/Internet_Explorer\" title=\"Internet Explorer\">Internet Explorer</a> or the <a href=\"/wiki/Mozilla\" title=\"Mozilla\">Mozilla</a> browser control, programs can retrieve the dynamic content generated by client-side scripts. These browser controls also parse web pages into a DOM tree, based on which programs can retrieve parts of the pages. Languages such as <a href=\"/wiki/XPath\" title=\"XPath\">Xpath</a> can be used to parse the resulting DOM tree.\n",
            "</p>\n",
            "<h3><span class=\"mw-headline\" id=\"Vertical_aggregation\">Vertical aggregation</span><span class=\"mw-editsection\"><span class=\"mw-editsection-bracket\">[</span><a href=\"/w/index.php?title=Web_scraping&amp;action=edit&amp;section=8\" title=\"Edit section: Vertical aggregation\"><span>edit</span></a><span class=\"mw-editsection-bracket\">]</span></span></h3>\n",
            "<p>There are several companies that have developed vertical specific harvesting platforms. These platforms create and monitor a multitude of \"bots\" for specific verticals with no \"man in the loop\" (no direct human involvement), and no work related to a specific target site. The preparation involves establishing the knowledge base for the entire vertical and then the platform creates the bots automatically. The platform's robustness is measured by the quality of the information it retrieves (usually number of fields) and its scalability (how quick it can scale up to hundreds or thousands of sites). This scalability is mostly used to target the <a class=\"mw-redirect\" href=\"/wiki/Long_Tail\" title=\"Long Tail\">Long Tail</a> of sites that common aggregators find complicated or too labor-intensive to harvest content from.\n",
            "</p>\n",
            "<h3><span class=\"mw-headline\" id=\"Semantic_annotation_recognizing\">Semantic annotation recognizing</span><span class=\"mw-editsection\"><span class=\"mw-editsection-bracket\">[</span><a href=\"/w/index.php?title=Web_scraping&amp;action=edit&amp;section=9\" title=\"Edit section: Semantic annotation recognizing\"><span>edit</span></a><span class=\"mw-editsection-bracket\">]</span></span></h3>\n",
            "<p>The pages being scraped may embrace <a href=\"/wiki/Metadata\" title=\"Metadata\">metadata</a> or semantic markups and annotations, which can be used to locate specific data snippets. If the annotations are embedded in the pages, as <a href=\"/wiki/Microformat\" title=\"Microformat\">Microformat</a> does, this technique can be viewed as a special case of DOM parsing. In another case, the annotations, organized into a semantic layer,<sup class=\"reference\" id=\"cite_ref-4\"><a href=\"#cite_note-4\">[4]</a></sup> are stored and managed separately from the web pages, so the scrapers can retrieve data schema and instructions from this layer before scraping the pages.\n",
            "</p>\n",
            "<h3><span class=\"mw-headline\" id=\"Computer_vision_web-page_analysis\">Computer vision web-page analysis</span><span class=\"mw-editsection\"><span class=\"mw-editsection-bracket\">[</span><a href=\"/w/index.php?title=Web_scraping&amp;action=edit&amp;section=10\" title=\"Edit section: Computer vision web-page analysis\"><span>edit</span></a><span class=\"mw-editsection-bracket\">]</span></span></h3>\n",
            "<p>There are efforts using <a href=\"/wiki/Machine_learning\" title=\"Machine learning\">machine learning</a> and <a href=\"/wiki/Computer_vision\" title=\"Computer vision\">computer vision</a> that attempt to identify and extract information from web pages by interpreting pages visually as a human being might.<sup class=\"reference\" id=\"cite_ref-5\"><a href=\"#cite_note-5\">[5]</a></sup>\n",
            "</p>\n",
            "<h2><span class=\"mw-headline\" id=\"Software\">Software</span><span class=\"mw-editsection\"><span class=\"mw-editsection-bracket\">[</span><a href=\"/w/index.php?title=Web_scraping&amp;action=edit&amp;section=11\" title=\"Edit section: Software\"><span>edit</span></a><span class=\"mw-editsection-bracket\">]</span></span></h2>\n",
            "<p>There are many software tools available that can be used to customize web-scraping solutions. This software may attempt to automatically recognize the data structure of a page or provide a recording interface that removes the necessity to manually write web-scraping code, or some scripting functions that can be used to extract and transform content, and database interfaces that can store the scraped data in local databases. Some web scraping software can also be used to extract data from an API directly, others allow to acquire data from websites based on AJAX (with dynamic loading of content) or ones that require a login. Point-and-click software allow individuals who may not have advanced coding skills to benefit from web scraping.<sup class=\"reference\" id=\"cite_ref-6\"><a href=\"#cite_note-6\">[6]</a></sup>\n",
            "</p>\n",
            "<h2><span class=\"mw-headline\" id=\"Legal_issues\">Legal issues</span><span class=\"mw-editsection\"><span class=\"mw-editsection-bracket\">[</span><a href=\"/w/index.php?title=Web_scraping&amp;action=edit&amp;section=12\" title=\"Edit section: Legal issues\"><span>edit</span></a><span class=\"mw-editsection-bracket\">]</span></span></h2>\n",
            "<link href=\"mw-data:TemplateStyles:r1097763485\" rel=\"mw-deduplicated-inline-style\"/><table class=\"box-Globalize plainlinks metadata ambox ambox-content ambox-globalize\" role=\"presentation\"><tbody><tr><td class=\"mbox-image\"><div class=\"mbox-image-div\"><span typeof=\"mw:File\"><span><img alt=\"Globe icon.\" class=\"mw-file-element\" data-file-height=\"290\" data-file-width=\"350\" decoding=\"async\" height=\"40\" src=\"//upload.wikimedia.org/wikipedia/commons/thumb/b/bd/Ambox_globe_content.svg/48px-Ambox_globe_content.svg.png\" srcset=\"//upload.wikimedia.org/wikipedia/commons/thumb/b/bd/Ambox_globe_content.svg/73px-Ambox_globe_content.svg.png 1.5x, //upload.wikimedia.org/wikipedia/commons/thumb/b/bd/Ambox_globe_content.svg/97px-Ambox_globe_content.svg.png 2x\" width=\"48\"/></span></span></div></td><td class=\"mbox-text\"><div class=\"mbox-text-span\">The examples and perspective in this section <b>deal primarily with the United States and do not represent a <a href=\"/wiki/Wikipedia:WikiProject_Countering_systemic_bias\" title=\"Wikipedia:WikiProject Countering systemic bias\">worldwide view</a> of the subject</b>.<span class=\"hide-when-compact\"> You may <a class=\"external text\" href=\"https://en.wikipedia.org/w/index.php?title=Web_scraping&amp;action=edit\">improve this section</a>, discuss the issue on the <a href=\"/wiki/Talk:Web_scraping\" title=\"Talk:Web scraping\">talk page</a>, or create a new section, as appropriate.</span> <span class=\"date-container\"><i>(<span class=\"date\">October 2015</span>)</i></span><span class=\"hide-when-compact\"><i> (<small><a href=\"/wiki/Help:Maintenance_template_removal\" title=\"Help:Maintenance template removal\">Learn how and when to remove this message</a></small>)</i></span></div></td></tr></tbody></table>\n",
            "<p>The legality of web scraping varies across the world. In general, web scraping may be against the <a href=\"/wiki/Terms_of_service\" title=\"Terms of service\">terms of service</a> of some websites, but the enforceability of these terms is unclear.<sup class=\"reference\" id=\"cite_ref-7\"><a href=\"#cite_note-7\">[7]</a></sup>\n",
            "</p>\n",
            "<h3><span class=\"mw-headline\" id=\"United_States\">United States</span><span class=\"mw-editsection\"><span class=\"mw-editsection-bracket\">[</span><a href=\"/w/index.php?title=Web_scraping&amp;action=edit&amp;section=13\" title=\"Edit section: United States\"><span>edit</span></a><span class=\"mw-editsection-bracket\">]</span></span></h3>\n",
            "<p>In the United States, website owners can use three major <a href=\"/wiki/Cause_of_action\" title=\"Cause of action\">legal claims</a> to prevent undesired web scraping: (1) copyright infringement (compilation), (2) violation of the <a href=\"/wiki/Computer_Fraud_and_Abuse_Act\" title=\"Computer Fraud and Abuse Act\">Computer Fraud and Abuse Act</a> (\"CFAA\"), and (3) <a href=\"/wiki/Trespass_to_chattels\" title=\"Trespass to chattels\">trespass to chattel</a>.<sup class=\"reference\" id=\"cite_ref-8\"><a href=\"#cite_note-8\">[8]</a></sup> However, the effectiveness of these claims relies upon meeting various criteria, and the case law is still evolving. For example, with regard to copyright, while outright duplication of original expression will in many cases be illegal, in the United States the courts ruled in <a href=\"/wiki/Feist_Publications,_Inc.,_v._Rural_Telephone_Service_Co.\" title=\"Feist Publications, Inc., v. Rural Telephone Service Co.\"><i>Feist Publications v. Rural Telephone Service</i></a> that duplication of facts is allowable.\n",
            "</p><p>U.S. courts have acknowledged that users of \"scrapers\" or \"robots\" may be held liable for committing <a href=\"/wiki/Trespass_to_chattels\" title=\"Trespass to chattels\">trespass to chattels</a>,<sup class=\"reference\" id=\"cite_ref-9\"><a href=\"#cite_note-9\">[9]</a></sup><sup class=\"reference\" id=\"cite_ref-10\"><a href=\"#cite_note-10\">[10]</a></sup> which involves a computer system itself being considered personal property upon which the user of a scraper is trespassing. The best known of these cases, <i><a href=\"/wiki/EBay_v._Bidder%27s_Edge\" title=\"EBay v. Bidder's Edge\">eBay v. Bidder's Edge</a></i>, resulted in an injunction ordering Bidder's Edge to stop accessing, collecting, and indexing auctions from the eBay web site. This case involved automatic placing of bids, known as <a href=\"/wiki/Auction_sniping\" title=\"Auction sniping\">auction sniping</a>. However, in order to succeed on a claim of trespass to <a href=\"/wiki/Personal_property\" title=\"Personal property\">chattels</a>, the <a href=\"/wiki/Plaintiff\" title=\"Plaintiff\">plaintiff</a> must demonstrate that the <a href=\"/wiki/Defendant\" title=\"Defendant\">defendant</a> intentionally and without authorization interfered with the plaintiff's possessory interest in the computer system and that the defendant's unauthorized use caused damage to the plaintiff. Not all cases of web spidering brought before the courts have been considered trespass to chattels.<sup class=\"reference\" id=\"cite_ref-11\"><a href=\"#cite_note-11\">[11]</a></sup>\n",
            "</p><p>One of the first major tests of <a class=\"mw-redirect\" href=\"/wiki/Screen_scraping\" title=\"Screen scraping\">screen scraping</a> involved <a href=\"/wiki/American_Airlines\" title=\"American Airlines\">American Airlines</a> (AA), and a firm called FareChase.<sup class=\"reference\" id=\"cite_ref-12\"><a href=\"#cite_note-12\">[12]</a></sup> AA successfully obtained an <a href=\"/wiki/Injunction\" title=\"Injunction\">injunction</a> from a Texas trial court, stopping FareChase from selling software that enables users to compare online fares if the software also searches AA's website. The airline argued that FareChase's websearch software trespassed on AA's servers when it collected the publicly available data. FareChase filed an appeal in March 2003. By June, FareChase and AA agreed to settle and the appeal was dropped.<sup class=\"reference\" id=\"cite_ref-13\"><a href=\"#cite_note-13\">[13]</a></sup>\n",
            "</p><p><a href=\"/wiki/Southwest_Airlines\" title=\"Southwest Airlines\">Southwest Airlines</a> has also challenged screen-scraping practices, and has involved both FareChase and another firm, Outtask, in a legal claim. Southwest Airlines charged that the screen-scraping is Illegal since it is an example of \"Computer Fraud and Abuse\" and has led to \"Damage and Loss\" and \"Unauthorized Access\" of Southwest's site. It also constitutes \"Interference with Business Relations\", \"Trespass\", and \"Harmful Access by Computer\". They also claimed that screen-scraping constitutes what is legally known as \"Misappropriation and Unjust Enrichment\", as well as being a breach of the web site's user agreement. Outtask denied all these claims, claiming that the prevailing law, in this case, should be <a class=\"mw-redirect\" href=\"/wiki/US_Copyright_law\" title=\"US Copyright law\">US Copyright law</a> and that under copyright, the pieces of information being scraped would not be subject to copyright protection. Although the cases were never resolved in the <a href=\"/wiki/Supreme_Court_of_the_United_States\" title=\"Supreme Court of the United States\">Supreme Court of the United States</a>, FareChase was eventually shuttered by parent company <a href=\"/wiki/Yahoo!\" title=\"Yahoo!\">Yahoo!</a>, and Outtask was purchased by travel expense company Concur.<sup class=\"reference\" id=\"cite_ref-impervawp2011_14-0\"><a href=\"#cite_note-impervawp2011-14\">[14]</a></sup>\n",
            "In 2012, a startup called 3Taps scraped classified housing ads from Craigslist. Craigslist sent 3Taps a cease-and-desist letter and blocked their IP addresses and later sued, in <i><a class=\"mw-redirect\" href=\"/wiki/Craigslist_v._3Taps\" title=\"Craigslist v. 3Taps\">Craigslist v. 3Taps</a></i>. The court held that the cease-and-desist letter and IP blocking was sufficient for Craigslist to properly claim that 3Taps had violated the <a href=\"/wiki/Computer_Fraud_and_Abuse_Act\" title=\"Computer Fraud and Abuse Act\">Computer Fraud and Abuse Act</a>.\n",
            "</p><p>Although these are early scraping decisions, and the theories of liability are not uniform, it is difficult to ignore a pattern emerging that the courts are prepared to protect proprietary content on commercial sites from uses which are undesirable to the owners of such sites. However, the degree of protection for such content is not settled and will depend on the type of access made by the scraper, the amount of information accessed and copied, the degree to which the access adversely affects the site owner's system and the types and manner of prohibitions on such conduct.<sup class=\"reference\" id=\"cite_ref-15\"><a href=\"#cite_note-15\">[15]</a></sup>\n",
            "</p><p>While the law in this area becomes more settled, entities contemplating using scraping programs to access a public web site should also consider whether such action is authorized by reviewing the terms of use and other terms or notices posted on or made available through the site. In a 2010 ruling in the <i><a class=\"mw-redirect\" href=\"/wiki/Cvent,_Inc.\" title=\"Cvent, Inc.\">Cvent, Inc.</a> v. <a href=\"/wiki/Eventbrite\" title=\"Eventbrite\">Eventbrite, Inc.</a></i> In the United States district court for the eastern district of Virginia, the court ruled that the terms of use should be brought to the users' attention In order for a <a class=\"mw-redirect\" href=\"/wiki/Browse_wrap\" title=\"Browse wrap\">browse wrap</a> contract or license to be enforced.<sup class=\"reference\" id=\"cite_ref-16\"><a href=\"#cite_note-16\">[16]</a></sup> In a 2014 case, filed in the <a href=\"/wiki/United_States_District_Court_for_the_Eastern_District_of_Pennsylvania\" title=\"United States District Court for the Eastern District of Pennsylvania\">United States District Court for the Eastern District of Pennsylvania</a>,<sup class=\"reference\" id=\"cite_ref-17\"><a href=\"#cite_note-17\">[17]</a></sup> e-commerce site <a href=\"/wiki/QVC\" title=\"QVC\">QVC</a> objected to the Pinterest-like shopping aggregator Resultly's 'scraping of QVC's site for real-time pricing data. QVC alleges that Resultly \"excessively crawled\" QVC's retail site (allegedly sending 200-300 search requests to QVC's website per minute, sometimes to up to 36,000 requests per minute) which caused QVC's site to crash for two days, resulting in lost sales for QVC.<sup class=\"reference\" id=\"cite_ref-18\"><a href=\"#cite_note-18\">[18]</a></sup> QVC's complaint alleges that the defendant disguised its web crawler to mask its source IP address and thus prevented QVC from quickly repairing the problem. This is a particularly interesting scraping case because QVC is seeking damages for the unavailability of their website, which QVC claims was caused by Resultly.\n",
            "</p><p>In the plaintiff's web site during the period of this trial, the terms of use link are displayed among all the links of the site, at the bottom of the page as most sites on the internet. This ruling contradicts the Irish ruling described below. The court also rejected the plaintiff's argument that the browse-wrap restrictions were enforceable in view of Virginia's adoption of the Uniform Computer Information Transactions Act (UCITA)—a uniform law that many believed was in favor on common browse-wrap contracting practices.<sup class=\"reference\" id=\"cite_ref-19\"><a href=\"#cite_note-19\">[19]</a></sup>\n",
            "</p><p>In <i><a href=\"/wiki/Facebook,_Inc._v._Power_Ventures,_Inc.\" title=\"Facebook, Inc. v. Power Ventures, Inc.\">Facebook, Inc. v. Power Ventures, Inc.</a></i>, a district court ruled in 2012 that Power Ventures could not scrape Facebook pages on behalf of a Facebook user. The case is on appeal, and the <a href=\"/wiki/Electronic_Frontier_Foundation\" title=\"Electronic Frontier Foundation\">Electronic Frontier Foundation</a> filed a brief in 2015 asking that it be overturned.<sup class=\"reference\" id=\"cite_ref-20\"><a href=\"#cite_note-20\">[20]</a></sup><sup class=\"reference\" id=\"cite_ref-21\"><a href=\"#cite_note-21\">[21]</a></sup> In <i><a href=\"/wiki/Associated_Press_v._Meltwater_U.S._Holdings,_Inc.\" title=\"Associated Press v. Meltwater U.S. Holdings, Inc.\">Associated Press v. Meltwater U.S. Holdings, Inc.</a></i>, a court in the US held Meltwater liable for scraping and republishing news information from the Associated Press, but a court in the United Kingdom held in favor of Meltwater.\n",
            "</p><p><a href=\"/wiki/Internet_Archive\" title=\"Internet Archive\">Internet Archive</a> collects and distributes a significant number of publicly available web pages without being considered to be in violation of copyright laws.<sup class=\"noprint Inline-Template Template-Fact\" style=\"white-space:nowrap;\">[<i><a href=\"/wiki/Wikipedia:Citation_needed\" title=\"Wikipedia:Citation needed\"><span title=\"This claim needs references to reliable sources. (April 2023)\">citation needed</span></a></i>]</sup>\n",
            "</p>\n",
            "<h3><span class=\"mw-headline\" id=\"European_Union\">European Union</span><span class=\"mw-editsection\"><span class=\"mw-editsection-bracket\">[</span><a href=\"/w/index.php?title=Web_scraping&amp;action=edit&amp;section=14\" title=\"Edit section: European Union\"><span>edit</span></a><span class=\"mw-editsection-bracket\">]</span></span></h3>\n",
            "<p>In February 2006, the <a href=\"/wiki/Maritime_and_Commercial_Court_(Denmark)\" title=\"Maritime and Commercial Court (Denmark)\">Danish Maritime and Commercial Court</a> (Copenhagen) ruled that systematic crawling, indexing, and deep linking by portal site ofir.dk of real estate site Home.dk does not conflict with Danish law or the database directive of the European Union.<sup class=\"reference\" id=\"cite_ref-22\"><a href=\"#cite_note-22\">[22]</a></sup>\n",
            "</p><p>In a February 2010 case complicated by matters of jurisdiction, Ireland's High Court delivered a verdict that illustrates the <a href=\"/wiki/Inchoate_offense\" title=\"Inchoate offense\">inchoate</a> state of developing case law. In the case of <i>Ryanair Ltd v Billigfluege.de GmbH</i>, Ireland's High Court ruled <a href=\"/wiki/Ryanair\" title=\"Ryanair\">Ryanair's</a> \"<a href=\"/wiki/Clickwrap\" title=\"Clickwrap\">click-wrap</a>\" agreement to be legally binding. In contrast to the findings of the United States District Court Eastern District of Virginia and those of the Danish Maritime and Commercial Court, Justice <a href=\"/wiki/Michael_Hanna_(judge)\" title=\"Michael Hanna (judge)\">Michael Hanna</a> ruled that the hyperlink to Ryanair's terms and conditions was plainly visible, and that placing the onus on the user to agree to terms and conditions in order to gain access to online services is sufficient to comprise a contractual relationship.<sup class=\"reference\" id=\"cite_ref-23\"><a href=\"#cite_note-23\">[23]</a></sup> The decision is under appeal in Ireland's Supreme Court.<sup class=\"reference\" id=\"cite_ref-24\"><a href=\"#cite_note-24\">[24]</a></sup>\n",
            "</p><p>On April 30, 2020, the French Data Protection Authority (CNIL) released new guidelines on web scraping.<sup class=\"reference\" id=\"cite_ref-25\"><a href=\"#cite_note-25\">[25]</a></sup> The CNIL guidelines made it clear that publicly available data is still personal data and cannot be repurposed without the knowledge of the person to whom that data belongs.<sup class=\"reference\" id=\"cite_ref-26\"><a href=\"#cite_note-26\">[26]</a></sup>\n",
            "</p>\n",
            "<h3><span class=\"mw-headline\" id=\"Australia\">Australia</span><span class=\"mw-editsection\"><span class=\"mw-editsection-bracket\">[</span><a href=\"/w/index.php?title=Web_scraping&amp;action=edit&amp;section=15\" title=\"Edit section: Australia\"><span>edit</span></a><span class=\"mw-editsection-bracket\">]</span></span></h3>\n",
            "<p>In Australia, the <a href=\"/wiki/Spam_Act_2003\" title=\"Spam Act 2003\">Spam Act 2003</a> outlaws some forms of web harvesting, although this only applies to email addresses.<sup class=\"reference\" id=\"cite_ref-27\"><a href=\"#cite_note-27\">[27]</a></sup><sup class=\"reference\" id=\"cite_ref-28\"><a href=\"#cite_note-28\">[28]</a></sup>\n",
            "</p>\n",
            "<h3><span class=\"mw-headline\" id=\"India\">India</span><span class=\"mw-editsection\"><span class=\"mw-editsection-bracket\">[</span><a href=\"/w/index.php?title=Web_scraping&amp;action=edit&amp;section=16\" title=\"Edit section: India\"><span>edit</span></a><span class=\"mw-editsection-bracket\">]</span></span></h3>\n",
            "<p>Leaving a few cases dealing with IPR infringement, Indian courts have not expressly ruled on the legality of web scraping. However, since all common forms of electronic contracts are enforceable in India, violating the terms of use prohibiting data scraping will be a violation of the contract law. It will also violate the <a href=\"/wiki/Information_Technology_Act,_2000#:~:text=From_Wikipedia,_the_free_encyclopedia_The_Information_Technology,in_India_dealing_with_cybercrime_and_electronic_commerce.\" title=\"Information Technology Act, 2000\">Information Technology Act, 2000</a>, which penalizes unauthorized access to a computer resource or extracting data from a computer resource.\n",
            "</p>\n",
            "<h2><span class=\"mw-headline\" id=\"Methods_to_prevent_web_scraping\">Methods to prevent web scraping</span><span class=\"mw-editsection\"><span class=\"mw-editsection-bracket\">[</span><a href=\"/w/index.php?title=Web_scraping&amp;action=edit&amp;section=17\" title=\"Edit section: Methods to prevent web scraping\"><span>edit</span></a><span class=\"mw-editsection-bracket\">]</span></span></h2>\n",
            "<p>The administrator of a website can use various measures to stop or slow a bot. Some techniques include:\n",
            "</p>\n",
            "<ul><li>Blocking an <a href=\"/wiki/IP_address\" title=\"IP address\">IP address</a> either manually or based on criteria such as <a class=\"mw-redirect\" href=\"/wiki/Geolocation\" title=\"Geolocation\">geolocation</a> and <a class=\"mw-redirect\" href=\"/wiki/DNSBL\" title=\"DNSBL\">DNSRBL</a>. This will also block all browsing from that address.</li>\n",
            "<li>Disabling any <a href=\"/wiki/Web_service\" title=\"Web service\">web service</a> <a class=\"mw-redirect\" href=\"/wiki/Application_programming_interface\" title=\"Application programming interface\">API</a> that the website's system might expose.</li>\n",
            "<li>Bots sometimes declare who they are (using <a href=\"/wiki/User_agent\" title=\"User agent\">user agent</a> <a href=\"/wiki/String_(computer_science)\" title=\"String (computer science)\">strings</a>) and can be blocked on that basis using <a class=\"mw-redirect\" href=\"/wiki/Robots_exclusion_standard\" title=\"Robots exclusion standard\">robots.txt</a>; '<a href=\"/wiki/Googlebot\" title=\"Googlebot\">googlebot</a>' is an example. Other bots make no distinction between themselves and a human using a browser.</li>\n",
            "<li>Bots can be blocked by monitoring excess traffic</li>\n",
            "<li>Bots can sometimes be blocked with tools to verify that it is a real person accessing the site, like a <a href=\"/wiki/CAPTCHA\" title=\"CAPTCHA\">CAPTCHA</a>. Bots are sometimes coded to explicitly break specific CAPTCHA patterns or may employ third-party services that utilize human labor to read and respond in real-time to CAPTCHA challenges. They can be triggered because the bot is: 1) making too many requests in a short time, 2) using low-quality proxies, or 3) not covering the web scraper’s fingerprint properly.<sup class=\"reference\" id=\"cite_ref-29\"><a href=\"#cite_note-29\">[29]</a></sup></li>\n",
            "<li>Commercial anti-bot services: Companies offer anti-bot and anti-scraping services for websites. A few web <a href=\"/wiki/Application_firewall\" title=\"Application firewall\">application firewalls</a> have limited bot detection capabilities as well. However, many such solutions are not very effective.<sup class=\"reference\" id=\"cite_ref-30\"><a href=\"#cite_note-30\">[30]</a></sup></li>\n",
            "<li>Locating bots with a <a href=\"/wiki/Honeypot_(computing)\" title=\"Honeypot (computing)\">honeypot</a> or other method to identify the IP addresses of automated crawlers.</li>\n",
            "<li><a href=\"/wiki/Obfuscation\" title=\"Obfuscation\">Obfuscation</a> using <a class=\"mw-redirect\" href=\"/wiki/CSS_sprite\" title=\"CSS sprite\">CSS sprites</a> to display such data as telephone numbers or email addresses, at the cost of <a href=\"/wiki/Web_accessibility\" title=\"Web accessibility\">accessibility</a> to <a href=\"/wiki/Screen_reader\" title=\"Screen reader\">screen reader</a> users.</li>\n",
            "<li>Because bots rely on consistency in the front-end code of a target website, adding small variations to the HTML/CSS surrounding important data and navigation elements would require more human involvement in the initial set up of a bot and if done effectively may render the target website too difficult to scrape due to the diminished ability to automate the scraping process.</li>\n",
            "<li>Websites can declare if crawling is allowed or not in the <a class=\"mw-redirect\" href=\"/wiki/Robots_exclusion_standard\" title=\"Robots exclusion standard\">robots.txt</a> file and allow partial access, limit the crawl rate, specify the optimal time to crawl and more.</li></ul>\n",
            "<h2><span class=\"mw-headline\" id=\"See_also\">See also</span><span class=\"mw-editsection\"><span class=\"mw-editsection-bracket\">[</span><a href=\"/w/index.php?title=Web_scraping&amp;action=edit&amp;section=18\" title=\"Edit section: See also\"><span>edit</span></a><span class=\"mw-editsection-bracket\">]</span></span></h2>\n",
            "<style data-mw-deduplicate=\"TemplateStyles:r1184024115\">.mw-parser-output .div-col{margin-top:0.3em;column-width:30em}.mw-parser-output .div-col-small{font-size:90%}.mw-parser-output .div-col-rules{column-rule:1px solid #aaa}.mw-parser-output .div-col dl,.mw-parser-output .div-col ol,.mw-parser-output .div-col ul{margin-top:0}.mw-parser-output .div-col li,.mw-parser-output .div-col dd{page-break-inside:avoid;break-inside:avoid-column}</style><div class=\"div-col\" style=\"column-width: 22em;\">\n",
            "<ul><li><a href=\"/wiki/Archive.today\" title=\"Archive.today\">Archive.today</a></li>\n",
            "<li><a href=\"/wiki/Comparison_of_feed_aggregators\" title=\"Comparison of feed aggregators\">Comparison of feed aggregators</a></li>\n",
            "<li><a href=\"/wiki/Data_scraping\" title=\"Data scraping\">Data scraping</a></li>\n",
            "<li><a href=\"/wiki/Data_wrangling\" title=\"Data wrangling\">Data wrangling</a></li>\n",
            "<li><a href=\"/wiki/Importer_(computing)\" title=\"Importer (computing)\">Importer</a></li>\n",
            "<li><a href=\"/wiki/Job_wrapping\" title=\"Job wrapping\">Job wrapping</a></li>\n",
            "<li><a href=\"/wiki/Knowledge_extraction\" title=\"Knowledge extraction\">Knowledge extraction</a></li>\n",
            "<li><a href=\"/wiki/OpenSocial\" title=\"OpenSocial\">OpenSocial</a></li>\n",
            "<li><a href=\"/wiki/Scraper_site\" title=\"Scraper site\">Scraper site</a></li>\n",
            "<li><a href=\"/wiki/Fake_news_website\" title=\"Fake news website\">Fake news website</a></li>\n",
            "<li><a class=\"mw-redirect\" href=\"/wiki/Blog_scraping\" title=\"Blog scraping\">Blog scraping</a></li>\n",
            "<li><a href=\"/wiki/Spamdexing\" title=\"Spamdexing\">Spamdexing</a></li>\n",
            "<li><a href=\"/wiki/Domain_name_drop_list\" title=\"Domain name drop list\">Domain name drop list</a></li>\n",
            "<li><a href=\"/wiki/Text_corpus\" title=\"Text corpus\">Text corpus</a></li>\n",
            "<li><a href=\"/wiki/Web_archiving\" title=\"Web archiving\">Web archiving</a></li>\n",
            "<li><a href=\"/wiki/Web_crawler\" title=\"Web crawler\">Web crawler</a></li>\n",
            "<li><a href=\"/wiki/Offline_reader\" title=\"Offline reader\">Offline reader</a></li>\n",
            "<li><a href=\"/wiki/Link_farm\" title=\"Link farm\">Link farm</a> (blog network)</li>\n",
            "<li><a href=\"/wiki/Search_engine_scraping\" title=\"Search engine scraping\">Search engine scraping</a></li>\n",
            "<li><a href=\"/wiki/Category:Web_crawlers\" title=\"Category:Web crawlers\">Web crawlers</a></li></ul>\n",
            "</div>\n",
            "<h2><span class=\"mw-headline\" id=\"References\">References</span><span class=\"mw-editsection\"><span class=\"mw-editsection-bracket\">[</span><a href=\"/w/index.php?title=Web_scraping&amp;action=edit&amp;section=19\" title=\"Edit section: References\"><span>edit</span></a><span class=\"mw-editsection-bracket\">]</span></span></h2>\n",
            "<style data-mw-deduplicate=\"TemplateStyles:r1217336898\">.mw-parser-output .reflist{font-size:90%;margin-bottom:0.5em;list-style-type:decimal}.mw-parser-output .reflist .references{font-size:100%;margin-bottom:0;list-style-type:inherit}.mw-parser-output .reflist-columns-2{column-width:30em}.mw-parser-output .reflist-columns-3{column-width:25em}.mw-parser-output .reflist-columns{margin-top:0.3em}.mw-parser-output .reflist-columns ol{margin-top:0}.mw-parser-output .reflist-columns li{page-break-inside:avoid;break-inside:avoid-column}.mw-parser-output .reflist-upper-alpha{list-style-type:upper-alpha}.mw-parser-output .reflist-upper-roman{list-style-type:upper-roman}.mw-parser-output .reflist-lower-alpha{list-style-type:lower-alpha}.mw-parser-output .reflist-lower-greek{list-style-type:lower-greek}.mw-parser-output .reflist-lower-roman{list-style-type:lower-roman}</style><div class=\"reflist\">\n",
            "<div class=\"mw-references-wrap mw-references-columns\"><ol class=\"references\">\n",
            "<li id=\"cite_note-1\"><span class=\"mw-cite-backlink\"><b><a href=\"#cite_ref-1\">^</a></b></span> <span class=\"reference-text\"><style data-mw-deduplicate=\"TemplateStyles:r1215172403\">.mw-parser-output cite.citation{font-style:inherit;word-wrap:break-word}.mw-parser-output .citation q{quotes:\"\\\"\"\"\\\"\"\"'\"\"'\"}.mw-parser-output .citation:target{background-color:rgba(0,127,255,0.133)}.mw-parser-output .id-lock-free.id-lock-free a{background:url(\"//upload.wikimedia.org/wikipedia/commons/6/65/Lock-green.svg\")right 0.1em center/9px no-repeat}body:not(.skin-timeless):not(.skin-minerva) .mw-parser-output .id-lock-free a{background-size:contain}.mw-parser-output .id-lock-limited.id-lock-limited a,.mw-parser-output .id-lock-registration.id-lock-registration a{background:url(\"//upload.wikimedia.org/wikipedia/commons/d/d6/Lock-gray-alt-2.svg\")right 0.1em center/9px no-repeat}body:not(.skin-timeless):not(.skin-minerva) .mw-parser-output .id-lock-limited a,body:not(.skin-timeless):not(.skin-minerva) .mw-parser-output .id-lock-registration a{background-size:contain}.mw-parser-output .id-lock-subscription.id-lock-subscription a{background:url(\"//upload.wikimedia.org/wikipedia/commons/a/aa/Lock-red-alt-2.svg\")right 0.1em center/9px no-repeat}body:not(.skin-timeless):not(.skin-minerva) .mw-parser-output .id-lock-subscription a{background-size:contain}.mw-parser-output .cs1-ws-icon a{background:url(\"//upload.wikimedia.org/wikipedia/commons/4/4c/Wikisource-logo.svg\")right 0.1em center/12px no-repeat}body:not(.skin-timeless):not(.skin-minerva) .mw-parser-output .cs1-ws-icon a{background-size:contain}.mw-parser-output .cs1-code{color:inherit;background:inherit;border:none;padding:inherit}.mw-parser-output .cs1-hidden-error{display:none;color:#d33}.mw-parser-output .cs1-visible-error{color:#d33}.mw-parser-output .cs1-maint{display:none;color:#2C882D;margin-left:0.3em}.mw-parser-output .cs1-format{font-size:95%}.mw-parser-output .cs1-kern-left{padding-left:0.2em}.mw-parser-output .cs1-kern-right{padding-right:0.2em}.mw-parser-output .citation .mw-selflink{font-weight:inherit}html.skin-theme-clientpref-night .mw-parser-output .cs1-maint{color:#18911F}html.skin-theme-clientpref-night .mw-parser-output .cs1-visible-error,html.skin-theme-clientpref-night .mw-parser-output .cs1-hidden-error{color:#f8a397}@media(prefers-color-scheme:dark){html.skin-theme-clientpref-os .mw-parser-output .cs1-visible-error,html.skin-theme-clientpref-os .mw-parser-output .cs1-hidden-error{color:#f8a397}html.skin-theme-clientpref-os .mw-parser-output .cs1-maint{color:#18911F}}</style><cite class=\"citation journal cs1\" id=\"CITEREFThapeloNamosheMatsebeMotshegwa2021\">Thapelo, Tsaone Swaabow; Namoshe, Molaletsa; Matsebe, Oduetse; Motshegwa, Tshiamo; Bopape, Mary-Jane Morongwa (2021-07-28). <a class=\"external text\" href=\"https://doi.org/10.5334%2Fdsj-2021-024\" rel=\"nofollow\">\"SASSCAL WebSAPI: A Web Scraping Application Programming Interface to Support Access to SASSCAL's Weather Data\"</a>. <i>Data Science Journal</i>. <b>20</b>: 24. <a class=\"mw-redirect\" href=\"/wiki/Doi_(identifier)\" title=\"Doi (identifier)\">doi</a>:<span class=\"id-lock-free\" title=\"Freely accessible\"><a class=\"external text\" href=\"https://doi.org/10.5334%2Fdsj-2021-024\" rel=\"nofollow\">10.5334/dsj-2021-024</a></span>. <a class=\"mw-redirect\" href=\"/wiki/ISSN_(identifier)\" title=\"ISSN (identifier)\">ISSN</a> <a class=\"external text\" href=\"https://www.worldcat.org/issn/1683-1470\" rel=\"nofollow\">1683-1470</a>. <a class=\"mw-redirect\" href=\"/wiki/S2CID_(identifier)\" title=\"S2CID (identifier)\">S2CID</a> <a class=\"external text\" href=\"https://api.semanticscholar.org/CorpusID:237719804\" rel=\"nofollow\">237719804</a>.</cite><span class=\"Z3988\" title=\"ctx_ver=Z39.88-2004&amp;rft_val_fmt=info%3Aofi%2Ffmt%3Akev%3Amtx%3Ajournal&amp;rft.genre=article&amp;rft.jtitle=Data+Science+Journal&amp;rft.atitle=SASSCAL+WebSAPI%3A+A+Web+Scraping+Application+Programming+Interface+to+Support+Access+to+SASSCAL%27s+Weather+Data&amp;rft.volume=20&amp;rft.pages=24&amp;rft.date=2021-07-28&amp;rft_id=https%3A%2F%2Fapi.semanticscholar.org%2FCorpusID%3A237719804%23id-name%3DS2CID&amp;rft.issn=1683-1470&amp;rft_id=info%3Adoi%2F10.5334%2Fdsj-2021-024&amp;rft.aulast=Thapelo&amp;rft.aufirst=Tsaone+Swaabow&amp;rft.au=Namoshe%2C+Molaletsa&amp;rft.au=Matsebe%2C+Oduetse&amp;rft.au=Motshegwa%2C+Tshiamo&amp;rft.au=Bopape%2C+Mary-Jane+Morongwa&amp;rft_id=https%3A%2F%2Fdoi.org%2F10.5334%252Fdsj-2021-024&amp;rfr_id=info%3Asid%2Fen.wikipedia.org%3AWeb+scraping\"></span></span>\n",
            "</li>\n",
            "<li id=\"cite_note-2\"><span class=\"mw-cite-backlink\"><b><a href=\"#cite_ref-2\">^</a></b></span> <span class=\"reference-text\"><link href=\"mw-data:TemplateStyles:r1215172403\" rel=\"mw-deduplicated-inline-style\"/><cite class=\"citation web cs1\"><a class=\"external text\" href=\"http://www.searchenginehistory.com/\" rel=\"nofollow\">\"Search Engine History.com\"</a>. <i>Search Engine History</i><span class=\"reference-accessdate\">. Retrieved <span class=\"nowrap\">November 26,</span> 2019</span>.</cite><span class=\"Z3988\" title=\"ctx_ver=Z39.88-2004&amp;rft_val_fmt=info%3Aofi%2Ffmt%3Akev%3Amtx%3Ajournal&amp;rft.genre=unknown&amp;rft.jtitle=Search+Engine+History&amp;rft.atitle=Search+Engine+History.com&amp;rft_id=http%3A%2F%2Fwww.searchenginehistory.com%2F&amp;rfr_id=info%3Asid%2Fen.wikipedia.org%3AWeb+scraping\"></span></span>\n",
            "</li>\n",
            "<li id=\"cite_note-3\"><span class=\"mw-cite-backlink\"><b><a href=\"#cite_ref-3\">^</a></b></span> <span class=\"reference-text\"><link href=\"mw-data:TemplateStyles:r1215172403\" rel=\"mw-deduplicated-inline-style\"/><cite class=\"citation book cs1\" id=\"CITEREFSongMicrosoft_Research2007\">Song, Ruihua; Microsoft Research (Sep 14, 2007). <a class=\"external text\" href=\"https://web.archive.org/web/20161011080619/https://pdfs.semanticscholar.org/4fb4/3c5a212df751e84c3b2f8d29fabfe56c3616.pdf\" rel=\"nofollow\">\"Joint optimization of wrapper generation and template detection\"</a> <span class=\"cs1-format\">(PDF)</span>. <i>Proceedings of the 13th ACM SIGKDD international conference on Knowledge discovery and data mining</i>. p. 894. <a class=\"mw-redirect\" href=\"/wiki/Doi_(identifier)\" title=\"Doi (identifier)\">doi</a>:<a class=\"external text\" href=\"https://doi.org/10.1145%2F1281192.1281287\" rel=\"nofollow\">10.1145/1281192.1281287</a>. <a class=\"mw-redirect\" href=\"/wiki/ISBN_(identifier)\" title=\"ISBN (identifier)\">ISBN</a> <a href=\"/wiki/Special:BookSources/9781595936097\" title=\"Special:BookSources/9781595936097\"><bdi>9781595936097</bdi></a>. <a class=\"mw-redirect\" href=\"/wiki/S2CID_(identifier)\" title=\"S2CID (identifier)\">S2CID</a> <a class=\"external text\" href=\"https://api.semanticscholar.org/CorpusID:833565\" rel=\"nofollow\">833565</a>. Archived from <a class=\"external text\" href=\"https://pdfs.semanticscholar.org/4fb4/3c5a212df751e84c3b2f8d29fabfe56c3616.pdf\" rel=\"nofollow\">the original</a> <span class=\"cs1-format\">(PDF)</span> on October 11, 2016.</cite><span class=\"Z3988\" title=\"ctx_ver=Z39.88-2004&amp;rft_val_fmt=info%3Aofi%2Ffmt%3Akev%3Amtx%3Abook&amp;rft.genre=bookitem&amp;rft.atitle=Joint+optimization+of+wrapper+generation+and+template+detection&amp;rft.btitle=Proceedings+of+the+13th+ACM+SIGKDD+international+conference+on+Knowledge+discovery+and+data+mining&amp;rft.pages=894&amp;rft.date=2007-09-14&amp;rft_id=https%3A%2F%2Fapi.semanticscholar.org%2FCorpusID%3A833565%23id-name%3DS2CID&amp;rft_id=info%3Adoi%2F10.1145%2F1281192.1281287&amp;rft.isbn=9781595936097&amp;rft.aulast=Song&amp;rft.aufirst=Ruihua&amp;rft.au=Microsoft+Research&amp;rft_id=https%3A%2F%2Fpdfs.semanticscholar.org%2F4fb4%2F3c5a212df751e84c3b2f8d29fabfe56c3616.pdf&amp;rfr_id=info%3Asid%2Fen.wikipedia.org%3AWeb+scraping\"></span></span>\n",
            "</li>\n",
            "<li id=\"cite_note-4\"><span class=\"mw-cite-backlink\"><b><a href=\"#cite_ref-4\">^</a></b></span> <span class=\"reference-text\"><a class=\"external text\" href=\"http://www.gooseeker.com/en/node/knowledgebase/freeformat\" rel=\"nofollow\">Semantic annotation based web scraping</a></span>\n",
            "</li>\n",
            "<li id=\"cite_note-5\"><span class=\"mw-cite-backlink\"><b><a href=\"#cite_ref-5\">^</a></b></span> <span class=\"reference-text\"><link href=\"mw-data:TemplateStyles:r1215172403\" rel=\"mw-deduplicated-inline-style\"/><cite class=\"citation web cs1\" id=\"CITEREFRoush2012\">Roush, Wade (2012-07-25). <a class=\"external text\" href=\"http://www.xconomy.com/san-francisco/2012/07/25/diffbot-is-using-computer-vision-to-reinvent-the-semantic-web/\" rel=\"nofollow\">\"Diffbot Is Using Computer Vision to Reinvent the Semantic Web\"</a>. www.xconomy.com<span class=\"reference-accessdate\">. Retrieved <span class=\"nowrap\">2013-03-15</span></span>.</cite><span class=\"Z3988\" title=\"ctx_ver=Z39.88-2004&amp;rft_val_fmt=info%3Aofi%2Ffmt%3Akev%3Amtx%3Abook&amp;rft.genre=unknown&amp;rft.btitle=Diffbot+Is+Using+Computer+Vision+to+Reinvent+the+Semantic+Web&amp;rft.pub=www.xconomy.com&amp;rft.date=2012-07-25&amp;rft.aulast=Roush&amp;rft.aufirst=Wade&amp;rft_id=http%3A%2F%2Fwww.xconomy.com%2Fsan-francisco%2F2012%2F07%2F25%2Fdiffbot-is-using-computer-vision-to-reinvent-the-semantic-web%2F&amp;rfr_id=info%3Asid%2Fen.wikipedia.org%3AWeb+scraping\"></span></span>\n",
            "</li>\n",
            "<li id=\"cite_note-6\"><span class=\"mw-cite-backlink\"><b><a href=\"#cite_ref-6\">^</a></b></span> <span class=\"reference-text\"><link href=\"mw-data:TemplateStyles:r1215172403\" rel=\"mw-deduplicated-inline-style\"/><cite class=\"citation journal cs1\" id=\"CITEREFCiechanowskiJemielniakGloor2020\">Ciechanowski, Leon; Jemielniak, Dariusz; Gloor, Peter A. (2020). <a class=\"external text\" href=\"https://doi.org/10.1016%2Fj.jbusres.2020.06.012\" rel=\"nofollow\">\"TUTORIAL: AI research without coding: The art of fighting without fighting: Data science for qualitative researchers\"</a>. <i>Journal of Business Research</i>. <b>117</b>. Elsevier BV: 322–330. <a class=\"mw-redirect\" href=\"/wiki/Doi_(identifier)\" title=\"Doi (identifier)\">doi</a>:<span class=\"id-lock-free\" title=\"Freely accessible\"><a class=\"external text\" href=\"https://doi.org/10.1016%2Fj.jbusres.2020.06.012\" rel=\"nofollow\">10.1016/j.jbusres.2020.06.012</a></span>. <a class=\"mw-redirect\" href=\"/wiki/ISSN_(identifier)\" title=\"ISSN (identifier)\">ISSN</a> <a class=\"external text\" href=\"https://www.worldcat.org/issn/0148-2963\" rel=\"nofollow\">0148-2963</a>.</cite><span class=\"Z3988\" title=\"ctx_ver=Z39.88-2004&amp;rft_val_fmt=info%3Aofi%2Ffmt%3Akev%3Amtx%3Ajournal&amp;rft.genre=article&amp;rft.jtitle=Journal+of+Business+Research&amp;rft.atitle=TUTORIAL%3A+AI+research+without+coding%3A+The+art+of+fighting+without+fighting%3A+Data+science+for+qualitative+researchers&amp;rft.volume=117&amp;rft.pages=322-330&amp;rft.date=2020&amp;rft_id=info%3Adoi%2F10.1016%2Fj.jbusres.2020.06.012&amp;rft.issn=0148-2963&amp;rft.aulast=Ciechanowski&amp;rft.aufirst=Leon&amp;rft.au=Jemielniak%2C+Dariusz&amp;rft.au=Gloor%2C+Peter+A.&amp;rft_id=https%3A%2F%2Fdoi.org%2F10.1016%252Fj.jbusres.2020.06.012&amp;rfr_id=info%3Asid%2Fen.wikipedia.org%3AWeb+scraping\"></span></span>\n",
            "</li>\n",
            "<li id=\"cite_note-7\"><span class=\"mw-cite-backlink\"><b><a href=\"#cite_ref-7\">^</a></b></span> <span class=\"reference-text\"><link href=\"mw-data:TemplateStyles:r1215172403\" rel=\"mw-deduplicated-inline-style\"/><cite class=\"citation web cs1\"><a class=\"external text\" href=\"https://web.archive.org/web/20020308222536/http://www.chillingeffects.org/linking/faq.cgi#QID596\" rel=\"nofollow\">\"FAQ about linking – Are website terms of use binding contracts?\"</a>. www.chillingeffects.org. 2007-08-20. Archived from <a class=\"external text\" href=\"http://www.chillingeffects.org/linking/faq.cgi#QID596\" rel=\"nofollow\">the original</a> on 2002-03-08<span class=\"reference-accessdate\">. Retrieved <span class=\"nowrap\">2007-08-20</span></span>.</cite><span class=\"Z3988\" title=\"ctx_ver=Z39.88-2004&amp;rft_val_fmt=info%3Aofi%2Ffmt%3Akev%3Amtx%3Abook&amp;rft.genre=unknown&amp;rft.btitle=FAQ+about+linking+%E2%80%93+Are+website+terms+of+use+binding+contracts%3F&amp;rft.pub=www.chillingeffects.org&amp;rft.date=2007-08-20&amp;rft_id=http%3A%2F%2Fwww.chillingeffects.org%2Flinking%2Ffaq.cgi%23QID596&amp;rfr_id=info%3Asid%2Fen.wikipedia.org%3AWeb+scraping\"></span></span>\n",
            "</li>\n",
            "<li id=\"cite_note-8\"><span class=\"mw-cite-backlink\"><b><a href=\"#cite_ref-8\">^</a></b></span> <span class=\"reference-text\"><link href=\"mw-data:TemplateStyles:r1215172403\" rel=\"mw-deduplicated-inline-style\"/><cite class=\"citation journal cs1\" id=\"CITEREFKenneth2014\">Kenneth, Hirschey, Jeffrey (2014-01-01). <a class=\"external text\" href=\"http://scholarship.law.berkeley.edu/btlj/vol29/iss4/16/\" rel=\"nofollow\">\"Symbiotic Relationships: Pragmatic Acceptance of Data Scraping\"</a>. <i>Berkeley Technology Law Journal</i>. <b>29</b> (4). <a class=\"mw-redirect\" href=\"/wiki/Doi_(identifier)\" title=\"Doi (identifier)\">doi</a>:<a class=\"external text\" href=\"https://doi.org/10.15779%2FZ38B39B\" rel=\"nofollow\">10.15779/Z38B39B</a>. <a class=\"mw-redirect\" href=\"/wiki/ISSN_(identifier)\" title=\"ISSN (identifier)\">ISSN</a> <a class=\"external text\" href=\"https://www.worldcat.org/issn/1086-3818\" rel=\"nofollow\">1086-3818</a>.</cite><span class=\"Z3988\" title=\"ctx_ver=Z39.88-2004&amp;rft_val_fmt=info%3Aofi%2Ffmt%3Akev%3Amtx%3Ajournal&amp;rft.genre=article&amp;rft.jtitle=Berkeley+Technology+Law+Journal&amp;rft.atitle=Symbiotic+Relationships%3A+Pragmatic+Acceptance+of+Data+Scraping&amp;rft.volume=29&amp;rft.issue=4&amp;rft.date=2014-01-01&amp;rft_id=info%3Adoi%2F10.15779%2FZ38B39B&amp;rft.issn=1086-3818&amp;rft.aulast=Kenneth&amp;rft.aufirst=Hirschey%2C+Jeffrey&amp;rft_id=http%3A%2F%2Fscholarship.law.berkeley.edu%2Fbtlj%2Fvol29%2Fiss4%2F16%2F&amp;rfr_id=info%3Asid%2Fen.wikipedia.org%3AWeb+scraping\"></span><span class=\"cs1-maint citation-comment\"><code class=\"cs1-code\">{{<a href=\"/wiki/Template:Cite_journal\" title=\"Template:Cite journal\">cite journal</a>}}</code>:  CS1 maint: multiple names: authors list (<a href=\"/wiki/Category:CS1_maint:_multiple_names:_authors_list\" title=\"Category:CS1 maint: multiple names: authors list\">link</a>)</span></span>\n",
            "</li>\n",
            "<li id=\"cite_note-9\"><span class=\"mw-cite-backlink\"><b><a href=\"#cite_ref-9\">^</a></b></span> <span class=\"reference-text\"><link href=\"mw-data:TemplateStyles:r1215172403\" rel=\"mw-deduplicated-inline-style\"/><cite class=\"citation web cs1\"><a class=\"external text\" href=\"http://www.tomwbell.com/NetLaw/Ch06.html\" rel=\"nofollow\">\"Internet Law, Ch. 06: Trespass to Chattels\"</a>. www.tomwbell.com. 2007-08-20<span class=\"reference-accessdate\">. Retrieved <span class=\"nowrap\">2007-08-20</span></span>.</cite><span class=\"Z3988\" title=\"ctx_ver=Z39.88-2004&amp;rft_val_fmt=info%3Aofi%2Ffmt%3Akev%3Amtx%3Abook&amp;rft.genre=unknown&amp;rft.btitle=Internet+Law%2C+Ch.+06%3A+Trespass+to+Chattels&amp;rft.pub=www.tomwbell.com&amp;rft.date=2007-08-20&amp;rft_id=http%3A%2F%2Fwww.tomwbell.com%2FNetLaw%2FCh06.html&amp;rfr_id=info%3Asid%2Fen.wikipedia.org%3AWeb+scraping\"></span></span>\n",
            "</li>\n",
            "<li id=\"cite_note-10\"><span class=\"mw-cite-backlink\"><b><a href=\"#cite_ref-10\">^</a></b></span> <span class=\"reference-text\"><link href=\"mw-data:TemplateStyles:r1215172403\" rel=\"mw-deduplicated-inline-style\"/><cite class=\"citation web cs1\"><a class=\"external text\" href=\"https://web.archive.org/web/20020308222536/http://www.chillingeffects.org/linking/faq.cgi#QID460\" rel=\"nofollow\">\"What are the \"trespass to chattels\" claims some companies or website owners have brought?\"</a>. www.chillingeffects.org. 2007-08-20. Archived from <a class=\"external text\" href=\"http://www.chillingeffects.org/linking/faq.cgi#QID460\" rel=\"nofollow\">the original</a> on 2002-03-08<span class=\"reference-accessdate\">. Retrieved <span class=\"nowrap\">2007-08-20</span></span>.</cite><span class=\"Z3988\" title=\"ctx_ver=Z39.88-2004&amp;rft_val_fmt=info%3Aofi%2Ffmt%3Akev%3Amtx%3Abook&amp;rft.genre=unknown&amp;rft.btitle=What+are+the+%22trespass+to+chattels%22+claims+some+companies+or+website+owners+have+brought%3F&amp;rft.pub=www.chillingeffects.org&amp;rft.date=2007-08-20&amp;rft_id=http%3A%2F%2Fwww.chillingeffects.org%2Flinking%2Ffaq.cgi%23QID460&amp;rfr_id=info%3Asid%2Fen.wikipedia.org%3AWeb+scraping\"></span></span>\n",
            "</li>\n",
            "<li id=\"cite_note-11\"><span class=\"mw-cite-backlink\"><b><a href=\"#cite_ref-11\">^</a></b></span> <span class=\"reference-text\"><link href=\"mw-data:TemplateStyles:r1215172403\" rel=\"mw-deduplicated-inline-style\"/><cite class=\"citation web cs1\"><a class=\"external text\" href=\"http://www.tomwbell.com/NetLaw/Ch07/Ticketmaster.html\" rel=\"nofollow\">\"Ticketmaster Corp. v. Tickets.com, Inc\"</a>. 2007-08-20<span class=\"reference-accessdate\">. Retrieved <span class=\"nowrap\">2007-08-20</span></span>.</cite><span class=\"Z3988\" title=\"ctx_ver=Z39.88-2004&amp;rft_val_fmt=info%3Aofi%2Ffmt%3Akev%3Amtx%3Abook&amp;rft.genre=unknown&amp;rft.btitle=Ticketmaster+Corp.+v.+Tickets.com%2C+Inc.&amp;rft.date=2007-08-20&amp;rft_id=http%3A%2F%2Fwww.tomwbell.com%2FNetLaw%2FCh07%2FTicketmaster.html&amp;rfr_id=info%3Asid%2Fen.wikipedia.org%3AWeb+scraping\"></span></span>\n",
            "</li>\n",
            "<li id=\"cite_note-12\"><span class=\"mw-cite-backlink\"><b><a href=\"#cite_ref-12\">^</a></b></span> <span class=\"reference-text\"><link href=\"mw-data:TemplateStyles:r1215172403\" rel=\"mw-deduplicated-inline-style\"/><cite class=\"citation web cs1\"><a class=\"external text\" href=\"https://web.archive.org/web/20110723131832/http://www.fornova.net/documents/AAFareChase.pdf\" rel=\"nofollow\">\"American Airlines v. FareChase\"</a> <span class=\"cs1-format\">(PDF)</span>. 2007-08-20. Archived from <a class=\"external text\" href=\"http://www.fornova.net/documents/AAFareChase.pdf\" rel=\"nofollow\">the original</a> <span class=\"cs1-format\">(PDF)</span> on 2011-07-23<span class=\"reference-accessdate\">. Retrieved <span class=\"nowrap\">2007-08-20</span></span>.</cite><span class=\"Z3988\" title=\"ctx_ver=Z39.88-2004&amp;rft_val_fmt=info%3Aofi%2Ffmt%3Akev%3Amtx%3Abook&amp;rft.genre=unknown&amp;rft.btitle=American+Airlines+v.+FareChase&amp;rft.date=2007-08-20&amp;rft_id=http%3A%2F%2Fwww.fornova.net%2Fdocuments%2FAAFareChase.pdf&amp;rfr_id=info%3Asid%2Fen.wikipedia.org%3AWeb+scraping\"></span></span>\n",
            "</li>\n",
            "<li id=\"cite_note-13\"><span class=\"mw-cite-backlink\"><b><a href=\"#cite_ref-13\">^</a></b></span> <span class=\"reference-text\"><link href=\"mw-data:TemplateStyles:r1215172403\" rel=\"mw-deduplicated-inline-style\"/><cite class=\"citation web cs1\"><a class=\"external text\" href=\"https://web.archive.org/web/20160305025808/http://www.thefreelibrary.com/American+Airlines,+FareChase+Settle+Suit.-a0103213546\" rel=\"nofollow\">\"American Airlines, FareChase Settle Suit\"</a>. The Free Library. 2003-06-13. Archived from <a class=\"external text\" href=\"http://www.thefreelibrary.com/American+Airlines,+FareChase+Settle+Suit.-a0103213546\" rel=\"nofollow\">the original</a> on 2016-03-05<span class=\"reference-accessdate\">. Retrieved <span class=\"nowrap\">2012-02-26</span></span>.</cite><span class=\"Z3988\" title=\"ctx_ver=Z39.88-2004&amp;rft_val_fmt=info%3Aofi%2Ffmt%3Akev%3Amtx%3Abook&amp;rft.genre=unknown&amp;rft.btitle=American+Airlines%2C+FareChase+Settle+Suit.&amp;rft.pub=The+Free+Library&amp;rft.date=2003-06-13&amp;rft_id=http%3A%2F%2Fwww.thefreelibrary.com%2FAmerican%2BAirlines%2C%2BFareChase%2BSettle%2BSuit.-a0103213546&amp;rfr_id=info%3Asid%2Fen.wikipedia.org%3AWeb+scraping\"></span></span>\n",
            "</li>\n",
            "<li id=\"cite_note-impervawp2011-14\"><span class=\"mw-cite-backlink\"><b><a href=\"#cite_ref-impervawp2011_14-0\">^</a></b></span> <span class=\"reference-text\">Imperva (2011). <a class=\"external text\" href=\"http://www.imperva.com/docs/WP_Detecting_and_Blocking_Site_Scraping_Attacks.pdf\" rel=\"nofollow\">Detecting and Blocking Site Scraping Attacks</a>. Imperva white paper.</span>\n",
            "</li>\n",
            "<li id=\"cite_note-15\"><span class=\"mw-cite-backlink\"><b><a href=\"#cite_ref-15\">^</a></b></span> <span class=\"reference-text\"><link href=\"mw-data:TemplateStyles:r1215172403\" rel=\"mw-deduplicated-inline-style\"/><cite class=\"citation web cs1\" id=\"CITEREFAdler2003\">Adler, Kenneth A. (2003-07-29). <a class=\"external text\" href=\"https://web.archive.org/web/20110211123854/http://library.findlaw.com/2003/Jul/29/132944.html\" rel=\"nofollow\">\"Controversy Surrounds 'Screen Scrapers': Software Helps Users Access Web Sites But Activity by Competitors Comes Under Scrutiny\"</a>. Archived from <a class=\"external text\" href=\"http://library.findlaw.com/2003/Jul/29/132944.html\" rel=\"nofollow\">the original</a> on 2011-02-11<span class=\"reference-accessdate\">. Retrieved <span class=\"nowrap\">2010-10-27</span></span>.</cite><span class=\"Z3988\" title=\"ctx_ver=Z39.88-2004&amp;rft_val_fmt=info%3Aofi%2Ffmt%3Akev%3Amtx%3Abook&amp;rft.genre=unknown&amp;rft.btitle=Controversy+Surrounds+%27Screen+Scrapers%27%3A+Software+Helps+Users+Access+Web+Sites+But+Activity+by+Competitors+Comes+Under+Scrutiny&amp;rft.date=2003-07-29&amp;rft.aulast=Adler&amp;rft.aufirst=Kenneth+A.&amp;rft_id=http%3A%2F%2Flibrary.findlaw.com%2F2003%2FJul%2F29%2F132944.html&amp;rfr_id=info%3Asid%2Fen.wikipedia.org%3AWeb+scraping\"></span></span>\n",
            "</li>\n",
            "<li id=\"cite_note-16\"><span class=\"mw-cite-backlink\"><b><a href=\"#cite_ref-16\">^</a></b></span> <span class=\"reference-text\"><link href=\"mw-data:TemplateStyles:r1215172403\" rel=\"mw-deduplicated-inline-style\"/><cite class=\"citation web cs1\"><a class=\"external text\" href=\"https://web.archive.org/web/20130921054619/http://www.fornova.net/documents/Cvent.pdf\" rel=\"nofollow\">\"QVC Inc. v. Resultly LLC, No. 14-06714 (E.D. Pa. filed Nov. 24, 2014)\"</a> <span class=\"cs1-format\">(PDF)</span>. 2014-11-24. Archived from <a class=\"external text\" href=\"http://www.fornova.net/documents/Cvent.pdf\" rel=\"nofollow\">the original</a> <span class=\"cs1-format\">(PDF)</span> on 2013-09-21<span class=\"reference-accessdate\">. Retrieved <span class=\"nowrap\">2015-11-05</span></span>.</cite><span class=\"Z3988\" title=\"ctx_ver=Z39.88-2004&amp;rft_val_fmt=info%3Aofi%2Ffmt%3Akev%3Amtx%3Abook&amp;rft.genre=unknown&amp;rft.btitle=QVC+Inc.+v.+Resultly+LLC%2C+No.+14-06714+%28E.D.+Pa.+filed+Nov.+24%2C+2014%29&amp;rft.date=2014-11-24&amp;rft_id=http%3A%2F%2Fwww.fornova.net%2Fdocuments%2FCvent.pdf&amp;rfr_id=info%3Asid%2Fen.wikipedia.org%3AWeb+scraping\"></span></span>\n",
            "</li>\n",
            "<li id=\"cite_note-17\"><span class=\"mw-cite-backlink\"><b><a href=\"#cite_ref-17\">^</a></b></span> <span class=\"reference-text\"><link href=\"mw-data:TemplateStyles:r1215172403\" rel=\"mw-deduplicated-inline-style\"/><cite class=\"citation web cs1\"><a class=\"external text\" href=\"https://www.scribd.com/doc/249068700/LinkedIn-v-Resultly-LLC-Complaint?secret_password=pEVKDbnvhQL52oKfdrmT\" rel=\"nofollow\">\"QVC Inc. v. Resultly LLC, No. 14-06714 (E.D. Pa. filed Nov. 24, 2014)\"</a>. <i>United States District Court for the Eastern District of Pennsylvania</i><span class=\"reference-accessdate\">. Retrieved <span class=\"nowrap\">5 November</span> 2015</span>.</cite><span class=\"Z3988\" title=\"ctx_ver=Z39.88-2004&amp;rft_val_fmt=info%3Aofi%2Ffmt%3Akev%3Amtx%3Ajournal&amp;rft.genre=unknown&amp;rft.jtitle=United+States+District+Court+for+the+Eastern+District+of+Pennsylvania&amp;rft.atitle=QVC+Inc.+v.+Resultly+LLC%2C+No.+14-06714+%28E.D.+Pa.+filed+Nov.+24%2C+2014%29&amp;rft_id=https%3A%2F%2Fwww.scribd.com%2Fdoc%2F249068700%2FLinkedIn-v-Resultly-LLC-Complaint%3Fsecret_password%3DpEVKDbnvhQL52oKfdrmT&amp;rfr_id=info%3Asid%2Fen.wikipedia.org%3AWeb+scraping\"></span></span>\n",
            "</li>\n",
            "<li id=\"cite_note-18\"><span class=\"mw-cite-backlink\"><b><a href=\"#cite_ref-18\">^</a></b></span> <span class=\"reference-text\"><link href=\"mw-data:TemplateStyles:r1215172403\" rel=\"mw-deduplicated-inline-style\"/><cite class=\"citation journal cs1\" id=\"CITEREFNeuburger2014\">Neuburger, Jeffrey D (5 December 2014). <a class=\"external text\" href=\"http://newmedialaw.proskauer.com/2014/12/05/qvc-sues-shopping-app-for-web-scraping-that-allegedly-triggered-site-outage/\" rel=\"nofollow\">\"QVC Sues Shopping App for Web Scraping That Allegedly Triggered Site Outage\"</a>. <i>The National Law Review</i>. Proskauer Rose LLP<span class=\"reference-accessdate\">. Retrieved <span class=\"nowrap\">5 November</span> 2015</span>.</cite><span class=\"Z3988\" title=\"ctx_ver=Z39.88-2004&amp;rft_val_fmt=info%3Aofi%2Ffmt%3Akev%3Amtx%3Ajournal&amp;rft.genre=article&amp;rft.jtitle=The+National+Law+Review&amp;rft.atitle=QVC+Sues+Shopping+App+for+Web+Scraping+That+Allegedly+Triggered+Site+Outage&amp;rft.date=2014-12-05&amp;rft.aulast=Neuburger&amp;rft.aufirst=Jeffrey+D&amp;rft_id=http%3A%2F%2Fnewmedialaw.proskauer.com%2F2014%2F12%2F05%2Fqvc-sues-shopping-app-for-web-scraping-that-allegedly-triggered-site-outage%2F&amp;rfr_id=info%3Asid%2Fen.wikipedia.org%3AWeb+scraping\"></span></span>\n",
            "</li>\n",
            "<li id=\"cite_note-19\"><span class=\"mw-cite-backlink\"><b><a href=\"#cite_ref-19\">^</a></b></span> <span class=\"reference-text\"><link href=\"mw-data:TemplateStyles:r1215172403\" rel=\"mw-deduplicated-inline-style\"/><cite class=\"citation web cs1\"><a class=\"external text\" href=\"https://web.archive.org/web/20110723132015/http://www.fornova.net/documents/pblog-bna-com.pdf\" rel=\"nofollow\">\"Did Iqbal/Twombly Raise the Bar for Browsewrap Claims?\"</a> <span class=\"cs1-format\">(PDF)</span>. 2010-09-17. Archived from <a class=\"external text\" href=\"http://www.fornova.net/documents/pblog-bna-com.pdf\" rel=\"nofollow\">the original</a> <span class=\"cs1-format\">(PDF)</span> on 2011-07-23<span class=\"reference-accessdate\">. Retrieved <span class=\"nowrap\">2010-10-27</span></span>.</cite><span class=\"Z3988\" title=\"ctx_ver=Z39.88-2004&amp;rft_val_fmt=info%3Aofi%2Ffmt%3Akev%3Amtx%3Abook&amp;rft.genre=unknown&amp;rft.btitle=Did+Iqbal%2FTwombly+Raise+the+Bar+for+Browsewrap+Claims%3F&amp;rft.date=2010-09-17&amp;rft_id=http%3A%2F%2Fwww.fornova.net%2Fdocuments%2Fpblog-bna-com.pdf&amp;rfr_id=info%3Asid%2Fen.wikipedia.org%3AWeb+scraping\"></span></span>\n",
            "</li>\n",
            "<li id=\"cite_note-20\"><span class=\"mw-cite-backlink\"><b><a href=\"#cite_ref-20\">^</a></b></span> <span class=\"reference-text\"><link href=\"mw-data:TemplateStyles:r1215172403\" rel=\"mw-deduplicated-inline-style\"/><cite class=\"citation web cs1\"><a class=\"external text\" href=\"https://www.techdirt.com/articles/20090605/2228205147.shtml\" rel=\"nofollow\">\"Can Scraping Non-Infringing Content Become Copyright Infringement... Because Of How Scrapers Work? | Techdirt\"</a>. <i>Techdirt</i>. 2009-06-10<span class=\"reference-accessdate\">. Retrieved <span class=\"nowrap\">2016-05-24</span></span>.</cite><span class=\"Z3988\" title=\"ctx_ver=Z39.88-2004&amp;rft_val_fmt=info%3Aofi%2Ffmt%3Akev%3Amtx%3Ajournal&amp;rft.genre=unknown&amp;rft.jtitle=Techdirt.&amp;rft.atitle=Can+Scraping+Non-Infringing+Content+Become+Copyright+Infringement...+Because+Of+How+Scrapers+Work%3F+%7C+Techdirt&amp;rft.date=2009-06-10&amp;rft_id=https%3A%2F%2Fwww.techdirt.com%2Farticles%2F20090605%2F2228205147.shtml&amp;rfr_id=info%3Asid%2Fen.wikipedia.org%3AWeb+scraping\"></span></span>\n",
            "</li>\n",
            "<li id=\"cite_note-21\"><span class=\"mw-cite-backlink\"><b><a href=\"#cite_ref-21\">^</a></b></span> <span class=\"reference-text\"><link href=\"mw-data:TemplateStyles:r1215172403\" rel=\"mw-deduplicated-inline-style\"/><cite class=\"citation web cs1\"><a class=\"external text\" href=\"https://www.eff.org/cases/facebook-v-power-ventures\" rel=\"nofollow\">\"Facebook v. Power Ventures\"</a>. <i>Electronic Frontier Foundation</i><span class=\"reference-accessdate\">. Retrieved <span class=\"nowrap\">2016-05-24</span></span>.</cite><span class=\"Z3988\" title=\"ctx_ver=Z39.88-2004&amp;rft_val_fmt=info%3Aofi%2Ffmt%3Akev%3Amtx%3Ajournal&amp;rft.genre=unknown&amp;rft.jtitle=Electronic+Frontier+Foundation&amp;rft.atitle=Facebook+v.+Power+Ventures&amp;rft_id=https%3A%2F%2Fwww.eff.org%2Fcases%2Ffacebook-v-power-ventures&amp;rfr_id=info%3Asid%2Fen.wikipedia.org%3AWeb+scraping\"></span></span>\n",
            "</li>\n",
            "<li id=\"cite_note-22\"><span class=\"mw-cite-backlink\"><b><a href=\"#cite_ref-22\">^</a></b></span> <span class=\"reference-text\"><link href=\"mw-data:TemplateStyles:r1215172403\" rel=\"mw-deduplicated-inline-style\"/><cite class=\"citation web cs1 cs1-prop-foreign-lang-source\"><a class=\"external text\" href=\"https://web.archive.org/web/20071012005033/http://www.bvhd.dk/uploads/tx_mocarticles/S_-_og_Handelsrettens_afg_relse_i_Ofir-sagen.pdf\" rel=\"nofollow\">\"UDSKRIFT AF SØ- &amp; HANDELSRETTENS DOMBOG\"</a> <span class=\"cs1-format\">(PDF)</span> (in Danish). bvhd.dk. 2006-02-24. Archived from <a class=\"external text\" href=\"http://www.bvhd.dk/uploads/tx_mocarticles/S_-_og_Handelsrettens_afg_relse_i_Ofir-sagen.pdf\" rel=\"nofollow\">the original</a> <span class=\"cs1-format\">(PDF)</span> on 2007-10-12<span class=\"reference-accessdate\">. Retrieved <span class=\"nowrap\">2007-05-30</span></span>.</cite><span class=\"Z3988\" title=\"ctx_ver=Z39.88-2004&amp;rft_val_fmt=info%3Aofi%2Ffmt%3Akev%3Amtx%3Abook&amp;rft.genre=unknown&amp;rft.btitle=UDSKRIFT+AF+S%C3%98-+%26+HANDELSRETTENS+DOMBOG&amp;rft.pub=bvhd.dk&amp;rft.date=2006-02-24&amp;rft_id=http%3A%2F%2Fwww.bvhd.dk%2Fuploads%2Ftx_mocarticles%2FS_-_og_Handelsrettens_afg_relse_i_Ofir-sagen.pdf&amp;rfr_id=info%3Asid%2Fen.wikipedia.org%3AWeb+scraping\"></span></span>\n",
            "</li>\n",
            "<li id=\"cite_note-23\"><span class=\"mw-cite-backlink\"><b><a href=\"#cite_ref-23\">^</a></b></span> <span class=\"reference-text\"><link href=\"mw-data:TemplateStyles:r1215172403\" rel=\"mw-deduplicated-inline-style\"/><cite class=\"citation web cs1\"><a class=\"external text\" href=\"http://www.bailii.org/ie/cases/IEHC/2010/H47.html\" rel=\"nofollow\">\"High Court of Ireland Decisions &gt;&gt; Ryanair Ltd -v- Billigfluege.de GMBH 2010 IEHC 47 (26 February 2010)\"</a>. British and Irish Legal Information Institute. 2010-02-26<span class=\"reference-accessdate\">. Retrieved <span class=\"nowrap\">2012-04-19</span></span>.</cite><span class=\"Z3988\" title=\"ctx_ver=Z39.88-2004&amp;rft_val_fmt=info%3Aofi%2Ffmt%3Akev%3Amtx%3Abook&amp;rft.genre=unknown&amp;rft.btitle=High+Court+of+Ireland+Decisions+%3E%3E+Ryanair+Ltd+-v-+Billigfluege.de+GMBH+2010+IEHC+47+%2826+February+2010%29&amp;rft.pub=British+and+Irish+Legal+Information+Institute&amp;rft.date=2010-02-26&amp;rft_id=http%3A%2F%2Fwww.bailii.org%2Fie%2Fcases%2FIEHC%2F2010%2FH47.html&amp;rfr_id=info%3Asid%2Fen.wikipedia.org%3AWeb+scraping\"></span></span>\n",
            "</li>\n",
            "<li id=\"cite_note-24\"><span class=\"mw-cite-backlink\"><b><a href=\"#cite_ref-24\">^</a></b></span> <span class=\"reference-text\"><link href=\"mw-data:TemplateStyles:r1215172403\" rel=\"mw-deduplicated-inline-style\"/><cite class=\"citation web cs1\" id=\"CITEREFMatthews2010\">Matthews, Áine (June 2010). <a class=\"external text\" href=\"https://web.archive.org/web/20120624103316/http://www.lkshields.ie/htmdocs/publications/newsletters/update26/update26_03.htm\" rel=\"nofollow\">\"Intellectual Property: Website Terms of Use\"</a>. <i>Issue 26: June 2010</i>. LK Shields Solicitors Update. p. 03. Archived from <a class=\"external text\" href=\"http://www.lkshields.ie/htmdocs/publications/newsletters/update26/update26_03.htm\" rel=\"nofollow\">the original</a> on 2012-06-24<span class=\"reference-accessdate\">. Retrieved <span class=\"nowrap\">2012-04-19</span></span>.</cite><span class=\"Z3988\" title=\"ctx_ver=Z39.88-2004&amp;rft_val_fmt=info%3Aofi%2Ffmt%3Akev%3Amtx%3Ajournal&amp;rft.genre=unknown&amp;rft.jtitle=Issue+26%3A+June+2010&amp;rft.atitle=Intellectual+Property%3A+Website+Terms+of+Use&amp;rft.pages=03&amp;rft.date=2010-06&amp;rft.aulast=Matthews&amp;rft.aufirst=%C3%81ine&amp;rft_id=http%3A%2F%2Fwww.lkshields.ie%2Fhtmdocs%2Fpublications%2Fnewsletters%2Fupdate26%2Fupdate26_03.htm&amp;rfr_id=info%3Asid%2Fen.wikipedia.org%3AWeb+scraping\"></span></span>\n",
            "</li>\n",
            "<li id=\"cite_note-25\"><span class=\"mw-cite-backlink\"><b><a href=\"#cite_ref-25\">^</a></b></span> <span class=\"reference-text\"><link href=\"mw-data:TemplateStyles:r1215172403\" rel=\"mw-deduplicated-inline-style\"/><cite class=\"citation web cs1 cs1-prop-foreign-lang-source\"><a class=\"external text\" href=\"https://www.cnil.fr/fr/la-reutilisation-des-donnees-publiquement-accessibles-en-ligne-des-fins-de-demarchage-commercial\" rel=\"nofollow\">\"La réutilisation des données publiquement accessibles en ligne à des fins de démarchage commercial | CNIL\"</a>. <i>www.cnil.fr</i> (in French)<span class=\"reference-accessdate\">. Retrieved <span class=\"nowrap\">2020-07-05</span></span>.</cite><span class=\"Z3988\" title=\"ctx_ver=Z39.88-2004&amp;rft_val_fmt=info%3Aofi%2Ffmt%3Akev%3Amtx%3Ajournal&amp;rft.genre=unknown&amp;rft.jtitle=www.cnil.fr&amp;rft.atitle=La+r%C3%A9utilisation+des+donn%C3%A9es+publiquement+accessibles+en+ligne+%C3%A0+des+fins+de+d%C3%A9marchage+commercial+%7C+CNIL&amp;rft_id=https%3A%2F%2Fwww.cnil.fr%2Ffr%2Fla-reutilisation-des-donnees-publiquement-accessibles-en-ligne-des-fins-de-demarchage-commercial&amp;rfr_id=info%3Asid%2Fen.wikipedia.org%3AWeb+scraping\"></span></span>\n",
            "</li>\n",
            "<li id=\"cite_note-26\"><span class=\"mw-cite-backlink\"><b><a href=\"#cite_ref-26\">^</a></b></span> <span class=\"reference-text\"><link href=\"mw-data:TemplateStyles:r1215172403\" rel=\"mw-deduplicated-inline-style\"/><cite class=\"citation web cs1\" id=\"CITEREFFindDataLab.com2020\">FindDataLab.com (2020-06-09). <a class=\"external text\" href=\"https://medium.com/@finddatalab/can-you-still-perform-web-scraping-with-the-new-cnil-guidelines-bf3e20d0edc2\" rel=\"nofollow\">\"Can You Still Perform Web Scraping With The New CNIL Guidelines?\"</a>. <i>Medium</i><span class=\"reference-accessdate\">. Retrieved <span class=\"nowrap\">2020-07-05</span></span>.</cite><span class=\"Z3988\" title=\"ctx_ver=Z39.88-2004&amp;rft_val_fmt=info%3Aofi%2Ffmt%3Akev%3Amtx%3Ajournal&amp;rft.genre=unknown&amp;rft.jtitle=Medium&amp;rft.atitle=Can+You+Still+Perform+Web+Scraping+With+The+New+CNIL+Guidelines%3F&amp;rft.date=2020-06-09&amp;rft.au=FindDataLab.com&amp;rft_id=https%3A%2F%2Fmedium.com%2F%40finddatalab%2Fcan-you-still-perform-web-scraping-with-the-new-cnil-guidelines-bf3e20d0edc2&amp;rfr_id=info%3Asid%2Fen.wikipedia.org%3AWeb+scraping\"></span></span>\n",
            "</li>\n",
            "<li id=\"cite_note-27\"><span class=\"mw-cite-backlink\"><b><a href=\"#cite_ref-27\">^</a></b></span> <span class=\"reference-text\"><link href=\"mw-data:TemplateStyles:r1215172403\" rel=\"mw-deduplicated-inline-style\"/><cite class=\"citation web cs1\" id=\"CITEREFNational_Office_for_the_Information_Economy2004\">National Office for the Information Economy (February 2004). <a class=\"external text\" href=\"https://web.archive.org/web/20191203113701/https://www.lloyds.com/~/media/5880dae185914b2487bed7bd63b96286.ashx\" rel=\"nofollow\">\"Spam Act 2003: An overview for business\"</a>. Australian Communications Authority. p. 6. Archived from <a class=\"external text\" href=\"https://www.lloyds.com/~/media/5880dae185914b2487bed7bd63b96286.ashx\" rel=\"nofollow\">the original</a> on 2019-12-03<span class=\"reference-accessdate\">. Retrieved <span class=\"nowrap\">2017-12-07</span></span>.</cite><span class=\"Z3988\" title=\"ctx_ver=Z39.88-2004&amp;rft_val_fmt=info%3Aofi%2Ffmt%3Akev%3Amtx%3Abook&amp;rft.genre=unknown&amp;rft.btitle=Spam+Act+2003%3A+An+overview+for+business&amp;rft.pages=6&amp;rft.pub=Australian+Communications+Authority&amp;rft.date=2004-02&amp;rft.au=National+Office+for+the+Information+Economy&amp;rft_id=https%3A%2F%2Fwww.lloyds.com%2F~%2Fmedia%2F5880dae185914b2487bed7bd63b96286.ashx&amp;rfr_id=info%3Asid%2Fen.wikipedia.org%3AWeb+scraping\"></span></span>\n",
            "</li>\n",
            "<li id=\"cite_note-28\"><span class=\"mw-cite-backlink\"><b><a href=\"#cite_ref-28\">^</a></b></span> <span class=\"reference-text\"><link href=\"mw-data:TemplateStyles:r1215172403\" rel=\"mw-deduplicated-inline-style\"/><cite class=\"citation web cs1\" id=\"CITEREFNational_Office_for_the_Information_Economy2004\">National Office for the Information Economy (February 2004). <a class=\"external text\" href=\"http://www.webstartdesign.com.au/spam_business_practical_guide.pdf\" rel=\"nofollow\">\"Spam Act 2003: A practical guide for business\"</a> <span class=\"cs1-format\">(PDF)</span>. Australian Communications Authority. p. 20<span class=\"reference-accessdate\">. Retrieved <span class=\"nowrap\">2017-12-07</span></span>.</cite><span class=\"Z3988\" title=\"ctx_ver=Z39.88-2004&amp;rft_val_fmt=info%3Aofi%2Ffmt%3Akev%3Amtx%3Abook&amp;rft.genre=unknown&amp;rft.btitle=Spam+Act+2003%3A+A+practical+guide+for+business&amp;rft.pages=20&amp;rft.pub=Australian+Communications+Authority&amp;rft.date=2004-02&amp;rft.au=National+Office+for+the+Information+Economy&amp;rft_id=http%3A%2F%2Fwww.webstartdesign.com.au%2Fspam_business_practical_guide.pdf&amp;rfr_id=info%3Asid%2Fen.wikipedia.org%3AWeb+scraping\"></span></span>\n",
            "</li>\n",
            "<li id=\"cite_note-29\"><span class=\"mw-cite-backlink\"><b><a href=\"#cite_ref-29\">^</a></b></span> <span class=\"reference-text\"><link href=\"mw-data:TemplateStyles:r1215172403\" rel=\"mw-deduplicated-inline-style\"/><cite class=\"citation web cs1\"><a class=\"external text\" href=\"https://proxyway.com/guides/what-is-web-scraping\" rel=\"nofollow\">\"Web Scraping for Beginners: A Guide 2024\"</a>. <i>Proxyway</i>. 2023-08-31<span class=\"reference-accessdate\">. Retrieved <span class=\"nowrap\">2024-03-15</span></span>.</cite><span class=\"Z3988\" title=\"ctx_ver=Z39.88-2004&amp;rft_val_fmt=info%3Aofi%2Ffmt%3Akev%3Amtx%3Ajournal&amp;rft.genre=unknown&amp;rft.jtitle=Proxyway&amp;rft.atitle=Web+Scraping+for+Beginners%3A+A+Guide+2024&amp;rft.date=2023-08-31&amp;rft_id=https%3A%2F%2Fproxyway.com%2Fguides%2Fwhat-is-web-scraping&amp;rfr_id=info%3Asid%2Fen.wikipedia.org%3AWeb+scraping\"></span></span>\n",
            "</li>\n",
            "<li id=\"cite_note-30\"><span class=\"mw-cite-backlink\"><b><a href=\"#cite_ref-30\">^</a></b></span> <span class=\"reference-text\">Mayank Dhiman <a class=\"external text\" href=\"https://s3.us-west-2.amazonaws.com/research-papers-mynk/Breaking-Fraud-And-Bot-Detection-Solutions.pdf\" rel=\"nofollow\">Breaking Fraud &amp; Bot Detection Solutions</a> <i>OWASP AppSec Cali' 2018</i> Retrieved February 10, 2018.</span>\n",
            "</li>\n",
            "</ol></div></div>\n",
            "<!-- \n",
            "NewPP limit report\n",
            "Parsed by mw‐web.eqiad.main‐75d8db7d77‐2xqmb\n",
            "Cached time: 20240501110344\n",
            "Cache expiry: 2592000\n",
            "Reduced expiry: false\n",
            "Complications: [vary‐revision‐sha1, show‐toc]\n",
            "CPU time usage: 0.441 seconds\n",
            "Real time usage: 0.567 seconds\n",
            "Preprocessor visited node count: 2070/1000000\n",
            "Post‐expand include size: 69208/2097152 bytes\n",
            "Template argument size: 1415/2097152 bytes\n",
            "Highest expansion depth: 13/100\n",
            "Expensive parser function count: 9/500\n",
            "Unstrip recursion depth: 1/20\n",
            "Unstrip post‐expand size: 108760/5000000 bytes\n",
            "Lua time usage: 0.270/10.000 seconds\n",
            "Lua memory usage: 6288355/52428800 bytes\n",
            "Number of Wikibase entities loaded: 0/400\n",
            "-->\n",
            "<!--\n",
            "Transclusion expansion time report (%,ms,calls,template)\n",
            "100.00%  497.157      1 -total\n",
            " 49.61%  246.619      1 Template:Reflist\n",
            " 23.01%  114.396      4 Template:Cite_journal\n",
            " 18.82%   93.568     22 Template:Cite_web\n",
            " 16.75%   83.286      2 Template:Ambox\n",
            " 16.60%   82.547      1 Template:More_citations_needed\n",
            " 11.66%   57.966      1 Template:Short_description\n",
            "  7.37%   36.648      1 Template:Broader\n",
            "  5.60%   27.817      2 Template:Pagetype\n",
            "  3.88%   19.275      1 Template:Citation_needed\n",
            "-->\n",
            "<!-- Saved in parser cache with key enwiki:pcache:idhash:2696619-0!canonical and timestamp 20240501110344 and revision id 1220719906. Rendering was triggered because: page-view\n",
            " -->\n",
            "</meta></div><!--esi <esi:include src=\"/esitest-fa8a495983347898/content\" /> --><noscript><img alt=\"\" height=\"1\" src=\"https://login.wikimedia.org/wiki/Special:CentralAutoLogin/start?type=1x1\" style=\"border: none; position: absolute;\" width=\"1\"/></noscript>\n",
            "<div class=\"printfooter\" data-nosnippet=\"\">Retrieved from \"<a dir=\"ltr\" href=\"https://en.wikipedia.org/w/index.php?title=Web_scraping&amp;oldid=1220719906\">https://en.wikipedia.org/w/index.php?title=Web_scraping&amp;oldid=1220719906</a>\"</div></div>\n",
            "<div class=\"catlinks\" data-mw=\"interface\" id=\"catlinks\"><div class=\"mw-normal-catlinks\" id=\"mw-normal-catlinks\"><a href=\"/wiki/Help:Category\" title=\"Help:Category\">Category</a>: <ul><li><a href=\"/wiki/Category:Web_scraping\" title=\"Category:Web scraping\">Web scraping</a></li></ul></div><div class=\"mw-hidden-catlinks mw-hidden-cats-hidden\" id=\"mw-hidden-catlinks\">Hidden categories: <ul><li><a href=\"/wiki/Category:CS1_maint:_multiple_names:_authors_list\" title=\"Category:CS1 maint: multiple names: authors list\">CS1 maint: multiple names: authors list</a></li><li><a href=\"/wiki/Category:CS1_Danish-language_sources_(da)\" title=\"Category:CS1 Danish-language sources (da)\">CS1 Danish-language sources (da)</a></li><li><a href=\"/wiki/Category:CS1_French-language_sources_(fr)\" title=\"Category:CS1 French-language sources (fr)\">CS1 French-language sources (fr)</a></li><li><a href=\"/wiki/Category:Articles_with_short_description\" title=\"Category:Articles with short description\">Articles with short description</a></li><li><a href=\"/wiki/Category:Short_description_matches_Wikidata\" title=\"Category:Short description matches Wikidata\">Short description matches Wikidata</a></li><li><a href=\"/wiki/Category:Articles_needing_additional_references_from_April_2023\" title=\"Category:Articles needing additional references from April 2023\">Articles needing additional references from April 2023</a></li><li><a href=\"/wiki/Category:All_articles_needing_additional_references\" title=\"Category:All articles needing additional references\">All articles needing additional references</a></li><li><a href=\"/wiki/Category:Articles_with_limited_geographic_scope_from_October_2015\" title=\"Category:Articles with limited geographic scope from October 2015\">Articles with limited geographic scope from October 2015</a></li><li><a href=\"/wiki/Category:United_States-centric\" title=\"Category:United States-centric\">United States-centric</a></li><li><a href=\"/wiki/Category:All_articles_with_unsourced_statements\" title=\"Category:All articles with unsourced statements\">All articles with unsourced statements</a></li><li><a href=\"/wiki/Category:Articles_with_unsourced_statements_from_April_2023\" title=\"Category:Articles with unsourced statements from April 2023\">Articles with unsourced statements from April 2023</a></li></ul></div></div>\n",
            "</div>\n",
            "</main>\n",
            "</div>\n",
            "<div class=\"mw-footer-container\">\n",
            "<footer class=\"mw-footer\" id=\"footer\" role=\"contentinfo\">\n",
            "<ul id=\"footer-info\">\n",
            "<li id=\"footer-info-lastmod\"> This page was last edited on 25 April 2024, at 14:20<span class=\"anonymous-show\"> (UTC)</span>.</li>\n",
            "<li id=\"footer-info-copyright\">Text is available under the <a href=\"//en.wikipedia.org/wiki/Wikipedia:Text_of_the_Creative_Commons_Attribution-ShareAlike_4.0_International_License\" rel=\"license\">Creative Commons Attribution-ShareAlike License 4.0</a><a href=\"//en.wikipedia.org/wiki/Wikipedia:Text_of_the_Creative_Commons_Attribution-ShareAlike_4.0_International_License\" rel=\"license\" style=\"display:none;\"></a>;\n",
            "additional terms may apply. By using this site, you agree to the <a href=\"//foundation.wikimedia.org/wiki/Special:MyLanguage/Policy:Terms_of_Use\">Terms of Use</a> and <a href=\"//foundation.wikimedia.org/wiki/Special:MyLanguage/Policy:Privacy_policy\">Privacy Policy</a>. Wikipedia® is a registered trademark of the <a href=\"//www.wikimediafoundation.org/\">Wikimedia Foundation, Inc.</a>, a non-profit organization.</li>\n",
            "</ul>\n",
            "<ul id=\"footer-places\">\n",
            "<li id=\"footer-places-privacy\"><a href=\"https://foundation.wikimedia.org/wiki/Special:MyLanguage/Policy:Privacy_policy\">Privacy policy</a></li>\n",
            "<li id=\"footer-places-about\"><a href=\"/wiki/Wikipedia:About\">About Wikipedia</a></li>\n",
            "<li id=\"footer-places-disclaimers\"><a href=\"/wiki/Wikipedia:General_disclaimer\">Disclaimers</a></li>\n",
            "<li id=\"footer-places-contact\"><a href=\"//en.wikipedia.org/wiki/Wikipedia:Contact_us\">Contact Wikipedia</a></li>\n",
            "<li id=\"footer-places-wm-codeofconduct\"><a href=\"https://foundation.wikimedia.org/wiki/Special:MyLanguage/Policy:Universal_Code_of_Conduct\">Code of Conduct</a></li>\n",
            "<li id=\"footer-places-developers\"><a href=\"https://developer.wikimedia.org\">Developers</a></li>\n",
            "<li id=\"footer-places-statslink\"><a href=\"https://stats.wikimedia.org/#/en.wikipedia.org\">Statistics</a></li>\n",
            "<li id=\"footer-places-cookiestatement\"><a href=\"https://foundation.wikimedia.org/wiki/Special:MyLanguage/Policy:Cookie_statement\">Cookie statement</a></li>\n",
            "<li id=\"footer-places-mobileview\"><a class=\"noprint stopMobileRedirectToggle\" href=\"//en.m.wikipedia.org/w/index.php?title=Web_scraping&amp;mobileaction=toggle_view_mobile\">Mobile view</a></li>\n",
            "</ul>\n",
            "<ul class=\"noprint\" id=\"footer-icons\">\n",
            "<li id=\"footer-copyrightico\"><a href=\"https://wikimediafoundation.org/\"><img alt=\"Wikimedia Foundation\" height=\"31\" loading=\"lazy\" src=\"/static/images/footer/wikimedia-button.png\" srcset=\"/static/images/footer/wikimedia-button-1.5x.png 1.5x, /static/images/footer/wikimedia-button-2x.png 2x\" width=\"88\"/></a></li>\n",
            "<li id=\"footer-poweredbyico\"><a href=\"https://www.mediawiki.org/\"><img alt=\"Powered by MediaWiki\" height=\"31\" loading=\"lazy\" src=\"/static/images/footer/poweredby_mediawiki_88x31.png\" srcset=\"/static/images/footer/poweredby_mediawiki_132x47.png 1.5x, /static/images/footer/poweredby_mediawiki_176x62.png 2x\" width=\"88\"/></a></li>\n",
            "</ul>\n",
            "</footer>\n",
            "</div>\n",
            "</div>\n",
            "</div>\n",
            "<div class=\"vector-settings\" id=\"p-dock-bottom\">\n",
            "<ul>\n",
            "<li>\n",
            "<button class=\"cdx-button cdx-button--icon-only vector-limited-width-toggle\" id=\"\"><span class=\"vector-icon mw-ui-icon-fullScreen mw-ui-icon-wikimedia-fullScreen\"></span>\n",
            "<span>Toggle limited content width</span>\n",
            "</button>\n",
            "</li>\n",
            "</ul>\n",
            "</div>\n",
            "<script>(RLQ=window.RLQ||[]).push(function(){mw.config.set({\"wgHostname\":\"mw-web.eqiad.main-75d8db7d77-9hs9m\",\"wgBackendResponseTime\":212,\"wgPageParseReport\":{\"limitreport\":{\"cputime\":\"0.441\",\"walltime\":\"0.567\",\"ppvisitednodes\":{\"value\":2070,\"limit\":1000000},\"postexpandincludesize\":{\"value\":69208,\"limit\":2097152},\"templateargumentsize\":{\"value\":1415,\"limit\":2097152},\"expansiondepth\":{\"value\":13,\"limit\":100},\"expensivefunctioncount\":{\"value\":9,\"limit\":500},\"unstrip-depth\":{\"value\":1,\"limit\":20},\"unstrip-size\":{\"value\":108760,\"limit\":5000000},\"entityaccesscount\":{\"value\":0,\"limit\":400},\"timingprofile\":[\"100.00%  497.157      1 -total\",\" 49.61%  246.619      1 Template:Reflist\",\" 23.01%  114.396      4 Template:Cite_journal\",\" 18.82%   93.568     22 Template:Cite_web\",\" 16.75%   83.286      2 Template:Ambox\",\" 16.60%   82.547      1 Template:More_citations_needed\",\" 11.66%   57.966      1 Template:Short_description\",\"  7.37%   36.648      1 Template:Broader\",\"  5.60%   27.817      2 Template:Pagetype\",\"  3.88%   19.275      1 Template:Citation_needed\"]},\"scribunto\":{\"limitreport-timeusage\":{\"value\":\"0.270\",\"limit\":\"10.000\"},\"limitreport-memusage\":{\"value\":6288355,\"limit\":52428800}},\"cachereport\":{\"origin\":\"mw-web.eqiad.main-75d8db7d77-2xqmb\",\"timestamp\":\"20240501110344\",\"ttl\":2592000,\"transientcontent\":false}}});});</script>\n",
            "<script type=\"application/ld+json\">{\"@context\":\"https:\\/\\/schema.org\",\"@type\":\"Article\",\"name\":\"Web scraping\",\"url\":\"https:\\/\\/en.wikipedia.org\\/wiki\\/Web_scraping\",\"sameAs\":\"http:\\/\\/www.wikidata.org\\/entity\\/Q665452\",\"mainEntity\":\"http:\\/\\/www.wikidata.org\\/entity\\/Q665452\",\"author\":{\"@type\":\"Organization\",\"name\":\"Contributors to Wikimedia projects\"},\"publisher\":{\"@type\":\"Organization\",\"name\":\"Wikimedia Foundation, Inc.\",\"logo\":{\"@type\":\"ImageObject\",\"url\":\"https:\\/\\/www.wikimedia.org\\/static\\/images\\/wmf-hor-googpub.png\"}},\"datePublished\":\"2005-09-17T18:57:30Z\",\"dateModified\":\"2024-04-25T14:20:42Z\",\"headline\":\"data scraping used for extracting data from websites\"}</script>\n",
            "</body>\n",
            "</html>>\n"
          ]
        }
      ]
    },
    {
      "cell_type": "markdown",
      "source": [
        "### Getting the title"
      ],
      "metadata": {
        "id": "6wBsdqjum_o_"
      }
    },
    {
      "cell_type": "code",
      "source": [
        "soup_3.find(\"title\").get_text()"
      ],
      "metadata": {
        "colab": {
          "base_uri": "https://localhost:8080/",
          "height": 36
        },
        "id": "2V9-cuYsWVLP",
        "outputId": "d71c7180-4754-4f48-8d57-5c6899030a58"
      },
      "execution_count": 45,
      "outputs": [
        {
          "output_type": "execute_result",
          "data": {
            "text/plain": [
              "'Web scraping - Wikipedia'"
            ],
            "application/vnd.google.colaboratory.intrinsic+json": {
              "type": "string"
            }
          },
          "metadata": {},
          "execution_count": 45
        }
      ]
    },
    {
      "cell_type": "markdown",
      "source": [
        "### Getting the first h1 tag"
      ],
      "metadata": {
        "id": "KGZWvJFmnLZp"
      }
    },
    {
      "cell_type": "code",
      "source": [
        "soup_3.find(\"h1\").get_text()"
      ],
      "metadata": {
        "colab": {
          "base_uri": "https://localhost:8080/",
          "height": 36
        },
        "id": "QejF-CVDWdVE",
        "outputId": "c7027b03-4bdb-443d-9eb0-836ddc284e75"
      },
      "execution_count": 46,
      "outputs": [
        {
          "output_type": "execute_result",
          "data": {
            "text/plain": [
              "'Web scraping'"
            ],
            "application/vnd.google.colaboratory.intrinsic+json": {
              "type": "string"
            }
          },
          "metadata": {},
          "execution_count": 46
        }
      ]
    },
    {
      "cell_type": "markdown",
      "source": [
        "### Getting all the h2 tags"
      ],
      "metadata": {
        "id": "P0bLXLH-nNyY"
      }
    },
    {
      "cell_type": "code",
      "source": [
        "h2_tags = soup_3.find_all(\"h2\")\n",
        "h2_tags"
      ],
      "metadata": {
        "colab": {
          "base_uri": "https://localhost:8080/"
        },
        "id": "Jcx15L3XWk98",
        "outputId": "1881d25a-a159-437e-bece-9f637f16ee89"
      },
      "execution_count": 47,
      "outputs": [
        {
          "output_type": "execute_result",
          "data": {
            "text/plain": [
              "[<h2 class=\"vector-pinnable-header-label\">Contents</h2>,\n",
              " <h2><span class=\"mw-headline\" id=\"History\">History</span><span class=\"mw-editsection\"><span class=\"mw-editsection-bracket\">[</span><a href=\"/w/index.php?title=Web_scraping&amp;action=edit&amp;section=1\" title=\"Edit section: History\"><span>edit</span></a><span class=\"mw-editsection-bracket\">]</span></span></h2>,\n",
              " <h2><span class=\"mw-headline\" id=\"Techniques\">Techniques</span><span class=\"mw-editsection\"><span class=\"mw-editsection-bracket\">[</span><a href=\"/w/index.php?title=Web_scraping&amp;action=edit&amp;section=2\" title=\"Edit section: Techniques\"><span>edit</span></a><span class=\"mw-editsection-bracket\">]</span></span></h2>,\n",
              " <h2><span class=\"mw-headline\" id=\"Software\">Software</span><span class=\"mw-editsection\"><span class=\"mw-editsection-bracket\">[</span><a href=\"/w/index.php?title=Web_scraping&amp;action=edit&amp;section=11\" title=\"Edit section: Software\"><span>edit</span></a><span class=\"mw-editsection-bracket\">]</span></span></h2>,\n",
              " <h2><span class=\"mw-headline\" id=\"Legal_issues\">Legal issues</span><span class=\"mw-editsection\"><span class=\"mw-editsection-bracket\">[</span><a href=\"/w/index.php?title=Web_scraping&amp;action=edit&amp;section=12\" title=\"Edit section: Legal issues\"><span>edit</span></a><span class=\"mw-editsection-bracket\">]</span></span></h2>,\n",
              " <h2><span class=\"mw-headline\" id=\"Methods_to_prevent_web_scraping\">Methods to prevent web scraping</span><span class=\"mw-editsection\"><span class=\"mw-editsection-bracket\">[</span><a href=\"/w/index.php?title=Web_scraping&amp;action=edit&amp;section=17\" title=\"Edit section: Methods to prevent web scraping\"><span>edit</span></a><span class=\"mw-editsection-bracket\">]</span></span></h2>,\n",
              " <h2><span class=\"mw-headline\" id=\"See_also\">See also</span><span class=\"mw-editsection\"><span class=\"mw-editsection-bracket\">[</span><a href=\"/w/index.php?title=Web_scraping&amp;action=edit&amp;section=18\" title=\"Edit section: See also\"><span>edit</span></a><span class=\"mw-editsection-bracket\">]</span></span></h2>,\n",
              " <h2><span class=\"mw-headline\" id=\"References\">References</span><span class=\"mw-editsection\"><span class=\"mw-editsection-bracket\">[</span><a href=\"/w/index.php?title=Web_scraping&amp;action=edit&amp;section=19\" title=\"Edit section: References\"><span>edit</span></a><span class=\"mw-editsection-bracket\">]</span></span></h2>]"
            ]
          },
          "metadata": {},
          "execution_count": 47
        }
      ]
    },
    {
      "cell_type": "markdown",
      "source": [
        "As we have multiple tags in the list here, we need to use a loop to print them out."
      ],
      "metadata": {
        "id": "EPWXrxtAnSR-"
      }
    },
    {
      "cell_type": "code",
      "source": [
        "for h2 in h2_tags:\n",
        "  print(h2.get_text())"
      ],
      "metadata": {
        "colab": {
          "base_uri": "https://localhost:8080/"
        },
        "id": "j-Lw4pCEW7Uy",
        "outputId": "12338fbe-6762-4e11-81ba-c11c514957e6"
      },
      "execution_count": 48,
      "outputs": [
        {
          "output_type": "stream",
          "name": "stdout",
          "text": [
            "Contents\n",
            "History[edit]\n",
            "Techniques[edit]\n",
            "Software[edit]\n",
            "Legal issues[edit]\n",
            "Methods to prevent web scraping[edit]\n",
            "See also[edit]\n",
            "References[edit]\n"
          ]
        }
      ]
    },
    {
      "cell_type": "markdown",
      "source": [
        "### Selecting the `Legal Issues` text for only `India`\n",
        "> **Pro tip:** If you're using Google Chrome, you can navigate to `View > Developer > Inspect elements` to access the built-in web development tools. Here, you can explore the HTML structure of the webpage directly within the browser using your mouse. This interactive approach is often more intuitive than examining the raw HTML code.\n",
        "\n",
        "By investigating the html we can see that the closest, easy to access, tag is the heading with the CSS `id` of `\"India\"`."
      ],
      "metadata": {
        "id": "kIyT3sijoGuK"
      }
    },
    {
      "cell_type": "code",
      "source": [
        "soup_3.find(id=\"India\")"
      ],
      "metadata": {
        "colab": {
          "base_uri": "https://localhost:8080/"
        },
        "id": "VQkUGkeoh0G_",
        "outputId": "c1aa1047-dc0a-4bb2-a56f-f7d26dde4c98"
      },
      "execution_count": 49,
      "outputs": [
        {
          "output_type": "execute_result",
          "data": {
            "text/plain": [
              "<span class=\"mw-headline\" id=\"India\">India</span>"
            ]
          },
          "metadata": {},
          "execution_count": 49
        }
      ]
    },
    {
      "cell_type": "markdown",
      "source": [
        "**span** tag is an HTML element used to group inline elements and apply styles or behaviors to them."
      ],
      "metadata": {
        "id": "iT5xS9WbJod6"
      }
    },
    {
      "cell_type": "markdown",
      "source": [
        "We can then use `.find_next()` to select the text."
      ],
      "metadata": {
        "id": "PYx5YrJKoh4a"
      }
    },
    {
      "cell_type": "code",
      "source": [
        "soup_3.find(id=\"India\").find_next()"
      ],
      "metadata": {
        "colab": {
          "base_uri": "https://localhost:8080/"
        },
        "id": "lLxrYkO3hbZn",
        "outputId": "8e2155e4-d314-4066-fdf2-0184e5ce5268"
      },
      "execution_count": 50,
      "outputs": [
        {
          "output_type": "execute_result",
          "data": {
            "text/plain": [
              "<span class=\"mw-editsection\"><span class=\"mw-editsection-bracket\">[</span><a href=\"/w/index.php?title=Web_scraping&amp;action=edit&amp;section=16\" title=\"Edit section: India\"><span>edit</span></a><span class=\"mw-editsection-bracket\">]</span></span>"
            ]
          },
          "metadata": {},
          "execution_count": 50
        }
      ]
    },
    {
      "cell_type": "markdown",
      "source": [
        "Looks like the next tag was a `span` tag, so let's specify that we want the next `p` tag."
      ],
      "metadata": {
        "id": "q67eh_Oxo7B2"
      }
    },
    {
      "cell_type": "code",
      "source": [
        "soup_3.find(id=\"India\").find_next(\"p\")"
      ],
      "metadata": {
        "colab": {
          "base_uri": "https://localhost:8080/"
        },
        "id": "oU-Ai8-Vgdsw",
        "outputId": "e1803bb1-e482-4803-f03a-2217cee7acbf"
      },
      "execution_count": 51,
      "outputs": [
        {
          "output_type": "execute_result",
          "data": {
            "text/plain": [
              "<p>Leaving a few cases dealing with IPR infringement, Indian courts have not expressly ruled on the legality of web scraping. However, since all common forms of electronic contracts are enforceable in India, violating the terms of use prohibiting data scraping will be a violation of the contract law. It will also violate the <a href=\"/wiki/Information_Technology_Act,_2000#:~:text=From_Wikipedia,_the_free_encyclopedia_The_Information_Technology,in_India_dealing_with_cybercrime_and_electronic_commerce.\" title=\"Information Technology Act, 2000\">Information Technology Act, 2000</a>, which penalizes unauthorized access to a computer resource or extracting data from a computer resource.\n",
              "</p>"
            ]
          },
          "metadata": {},
          "execution_count": 51
        }
      ]
    },
    {
      "cell_type": "markdown",
      "source": [
        "Now we can simply extract the text, and we have what we need"
      ],
      "metadata": {
        "id": "-b53SGH5pFwb"
      }
    },
    {
      "cell_type": "code",
      "source": [
        "soup_3.find(id=\"India\").find_next(\"p\").get_text()"
      ],
      "metadata": {
        "colab": {
          "base_uri": "https://localhost:8080/",
          "height": 72
        },
        "id": "UP5YwO3ii3NR",
        "outputId": "db2b6207-c831-49b2-c8e6-8f768766999e"
      },
      "execution_count": 52,
      "outputs": [
        {
          "output_type": "execute_result",
          "data": {
            "text/plain": [
              "'Leaving a few cases dealing with IPR infringement, Indian courts have not expressly ruled on the legality of web scraping. However, since all common forms of electronic contracts are enforceable in India, violating the terms of use prohibiting data scraping will be a violation of the contract law. It will also violate the Information Technology Act, 2000, which penalizes unauthorized access to a computer resource or extracting data from a computer resource.\\n'"
            ],
            "application/vnd.google.colaboratory.intrinsic+json": {
              "type": "string"
            }
          },
          "metadata": {},
          "execution_count": 52
        }
      ]
    },
    {
      "cell_type": "markdown",
      "source": [
        "## Challenge 2 😀\n",
        "\n",
        "Utilise your web scraping skills to gather information about three German cities – Berlin, Hamburg, and Munich – from Wikipedia. You will start by extracting the population of each city and then expand the scope of your data gathering to include latitude and longitude, country, and possibly other relevant details.\n",
        "\n",
        "1. Population Scraping\n",
        "\n",
        "  1.1. Begin by scraping the population of each city from their respective Wikipedia pages:\n",
        "\n",
        " - Berlin: https://en.wikipedia.org/wiki/Berlin\n",
        " - Hamburg: https://en.wikipedia.org/wiki/Hamburg\n",
        " - Munich: https://en.wikipedia.org/wiki/Munich\n",
        "\n",
        "  1.2. Once you have scrapped the population of each city, reflect on the similarities and patterns in accessing the population data across the three pages. Also, analyse the URLs to identify any commonalities. Make a loop that executes once but simultaneously retrieves the population for all three cities.\n",
        "\n",
        "2. Data Organisation\n",
        "\n",
        "  Utilise pandas DataFrame to effectively store the extracted population data. Ensure the data is clean and properly formatted. Remove any unnecessary characters or symbols and ensure the column data types are correct.\n",
        "\n",
        "3. Further Enhancement\n",
        "\n",
        "  3.1. Expand the scope of your data gathering by extracting other relevant information for each city:\n",
        "\n",
        " - Latitude and longitude\n",
        " - Country of location\n",
        "\n",
        "  3.2. Create a function from the loop and DataFrame to encapsulate the scraping process. This function can be used repeatedly to fetch updated data whenever necessary. It should return a clean, properly formatted DataFrame.\n",
        "\n",
        "4. Global Data Scraping\n",
        "\n",
        "  With your robust scraping skills now honed, venture beyond the confines of Germany and explore other cities around the world. While the extraction methodology for German cities may follow a consistent pattern, this may not be the case for cities from different countries. Can you make a function that returns a clean DataFrame of information for cities worldwide?"
      ],
      "metadata": {
        "id": "U4QQbALMuZ99"
      }
    },
    {
      "cell_type": "markdown",
      "source": [
        "# Solutions--Population:\n",
        "\n",
        "\n"
      ],
      "metadata": {
        "id": "vcJ8u17GLRFC"
      }
    },
    {
      "cell_type": "markdown",
      "source": [
        "\n",
        "\n",
        "1.  Web scraping from the city Berlin\n",
        "\n"
      ],
      "metadata": {
        "id": "wp9JWobZLbwa"
      }
    },
    {
      "cell_type": "code",
      "source": [
        "url_0 = \"https://en.wikipedia.org/wiki/Berlin\"\n",
        "response_0 = requests.get(url_0)\n",
        "soup_0 = BeautifulSoup(response_0.content, 'html.parser')"
      ],
      "metadata": {
        "id": "jXI3PQxjwNC1"
      },
      "execution_count": 53,
      "outputs": []
    },
    {
      "cell_type": "code",
      "source": [
        "#print(soup_0.prettify)"
      ],
      "metadata": {
        "id": "EjZYWbYmMQwE"
      },
      "execution_count": 55,
      "outputs": []
    },
    {
      "cell_type": "code",
      "source": [
        "soup_0.find(\"title\").get_text()"
      ],
      "metadata": {
        "id": "y5ZKwqHiMie2",
        "outputId": "d69ab28f-2f52-4507-d7b0-ecf4c0c2f26c",
        "colab": {
          "base_uri": "https://localhost:8080/",
          "height": 36
        }
      },
      "execution_count": 54,
      "outputs": [
        {
          "output_type": "execute_result",
          "data": {
            "text/plain": [
              "'Berlin - Wikipedia'"
            ],
            "application/vnd.google.colaboratory.intrinsic+json": {
              "type": "string"
            }
          },
          "metadata": {},
          "execution_count": 54
        }
      ]
    },
    {
      "cell_type": "code",
      "source": [
        "soup_0.find(\"h1\").get_text()"
      ],
      "metadata": {
        "id": "5Rk53HDbMpbR",
        "outputId": "0c39412a-bbc0-4588-ac77-c627368bd3f6",
        "colab": {
          "base_uri": "https://localhost:8080/",
          "height": 36
        }
      },
      "execution_count": 56,
      "outputs": [
        {
          "output_type": "execute_result",
          "data": {
            "text/plain": [
              "'Berlin'"
            ],
            "application/vnd.google.colaboratory.intrinsic+json": {
              "type": "string"
            }
          },
          "metadata": {},
          "execution_count": 56
        }
      ]
    },
    {
      "cell_type": "code",
      "source": [
        "h2_tags = soup_0.find_all(\"h2\")\n",
        "#h2_tags"
      ],
      "metadata": {
        "id": "PyCPghZDMw5Y"
      },
      "execution_count": 57,
      "outputs": []
    },
    {
      "cell_type": "code",
      "source": [
        "for h2 in h2_tags:\n",
        "  print(h2.get_text())"
      ],
      "metadata": {
        "id": "agxPyXzIMzwy",
        "outputId": "67f8ace1-e55d-4ec9-d918-9f04652852ce",
        "colab": {
          "base_uri": "https://localhost:8080/"
        }
      },
      "execution_count": 58,
      "outputs": [
        {
          "output_type": "stream",
          "name": "stdout",
          "text": [
            "Contents\n",
            "History[edit]\n",
            "Geography[edit]\n",
            "Demographics[edit]\n",
            "Government and politics[edit]\n",
            "Economy[edit]\n",
            "Quality of life[edit]\n",
            "Transport in Berlin[edit]\n",
            "Rohrpost[edit]\n",
            "Energy[edit]\n",
            "Health[edit]\n",
            "Telecommunication[edit]\n",
            "Education and research[edit]\n",
            "Culture[edit]\n",
            "Sports[edit]\n",
            "See also[edit]\n",
            "References[edit]\n",
            "External links[edit]\n"
          ]
        }
      ]
    },
    {
      "cell_type": "markdown",
      "source": [
        "view/Developer/Inspect:\n",
        "\n",
        "```\n",
        " <th colspan=\"2\" class=\"infobox-header\">Population<div class=\"ib-settlement-fn\"><span class=\"nowrap\">&nbsp;</span>(2022)<sup id=\"cite_ref-Amt_für_Statistik_Berlin-Brandenburg_4-0\" class=\"reference\"><a href=\"#cite_note-Amt_für_Statistik_Berlin-Brandenburg-4\">[4]</a></sup></div></th>\n",
        "\n",
        "<tr class=\"mergedrow\"><th scope=\"row\" class=\"infobox-label\">&nbsp;•&nbsp;City/State</th><td class=\"infobox-data\">3,755,251</td></tr>\n",
        "\n",
        "<th scope=\"row\" class=\"infobox-label\">&nbsp;•&nbsp;City/State</th>\n",
        "<td class=\"infobox-data\">3,755,251</td>\n",
        "```"
      ],
      "metadata": {
        "id": "L7W-RZneYmdf"
      }
    },
    {
      "cell_type": "markdown",
      "source": [
        "table, tr--table row, th--table head, td--table data.\n",
        "\n",
        "**Task:** to find out the table with the head \"Population\" and the scrap the data (value of the population) from it."
      ],
      "metadata": {
        "id": "hmCw6fyWZ8Ql"
      }
    },
    {
      "cell_type": "code",
      "source": [
        "population_0 = soup_0.find(id=\"cite_ref-Amt_für_Statistik_Berlin-Brandenburg_4-0\").find_next(\"td\").get_text()\n",
        "print(population_0)"
      ],
      "metadata": {
        "id": "cbYsYcJEdER3",
        "outputId": "6840db4a-b194-4f54-a3be-8494036423d2",
        "colab": {
          "base_uri": "https://localhost:8080/"
        }
      },
      "execution_count": 59,
      "outputs": [
        {
          "output_type": "stream",
          "name": "stdout",
          "text": [
            "3,755,251\n"
          ]
        }
      ]
    },
    {
      "cell_type": "code",
      "source": [
        "population_0 = soup_0.find(id=\"cite_ref-Amt_für_Statistik_Berlin-Brandenburg_4-0\")\n",
        "print(population_0)"
      ],
      "metadata": {
        "id": "oQDWixsHY6FG",
        "outputId": "ef7f6397-f2df-4c83-de70-b503a9774e10",
        "colab": {
          "base_uri": "https://localhost:8080/"
        }
      },
      "execution_count": 60,
      "outputs": [
        {
          "output_type": "stream",
          "name": "stdout",
          "text": [
            "<sup class=\"reference\" id=\"cite_ref-Amt_für_Statistik_Berlin-Brandenburg_4-0\"><a href=\"#cite_note-Amt_für_Statistik_Berlin-Brandenburg-4\">[4]</a></sup>\n"
          ]
        }
      ]
    },
    {
      "cell_type": "markdown",
      "source": [
        "\n",
        "\n",
        "2.   Population extraction from the city Hamburg\n",
        "\n"
      ],
      "metadata": {
        "id": "U0CX2zXIeD4d"
      }
    },
    {
      "cell_type": "markdown",
      "source": [
        "\n",
        "```\n",
        "<th colspan=\"2\" class=\"infobox-header\">Population<div class=\"ib-settlement-fn\"><span class=\"nowrap\">&nbsp;</span>(2022-12-31)<sup id=\"cite_ref-2\" class=\"reference\"><a href=\"#cite_note-2\">[2]</a></sup></div></th>\n",
        "```\n",
        "\n"
      ],
      "metadata": {
        "id": "p3m4eSVxeb3U"
      }
    },
    {
      "cell_type": "code",
      "source": [
        "url_1 = \"https://en.wikipedia.org/wiki/Hamburg\"\n",
        "response_1 = requests.get(url_1)\n",
        "soup_1 = BeautifulSoup(response_1.content, 'html.parser')\n",
        "population_1 = soup_1.find(id=\"cite_ref-2\").find_next(\"td\").get_text()\n",
        "print(population_1)"
      ],
      "metadata": {
        "id": "im1NpcVseLdm",
        "outputId": "81d4a3da-3481-486c-c846-a1c44a48c20d",
        "colab": {
          "base_uri": "https://localhost:8080/"
        }
      },
      "execution_count": 61,
      "outputs": [
        {
          "output_type": "stream",
          "name": "stdout",
          "text": [
            "1,945,532\n"
          ]
        }
      ]
    },
    {
      "cell_type": "markdown",
      "source": [
        "\n",
        "\n",
        "3.   Population extraction from the city Munich\n",
        "\n",
        "\n"
      ],
      "metadata": {
        "id": "ruKiF1Sxe-Vn"
      }
    },
    {
      "cell_type": "markdown",
      "source": [
        "`<th colspan=\"2\" class=\"infobox-header\">Population<div class=\"ib-settlement-fn\"><span class=\"nowrap\">&nbsp;</span>(2022-12-31)<sup id=\"cite_ref-2\" class=\"reference\"><a href=\"#cite_note-2\">[2]</a></sup></div></th>`"
      ],
      "metadata": {
        "id": "y05cq9o8farR"
      }
    },
    {
      "cell_type": "code",
      "source": [
        "url_2 = \"https://en.wikipedia.org/wiki/Munich\"\n",
        "response_2 = requests.get(url_2)\n",
        "soup_2 = BeautifulSoup(response_2.content, 'html.parser')\n",
        "population_2 = soup_2.find(id=\"cite_ref-2\").find_next(\"td\").get_text()\n",
        "print(population_2)"
      ],
      "metadata": {
        "id": "nmTZD4DnfvQ7",
        "outputId": "3aeea64f-45f7-4928-c72d-fd6f0ef8b561",
        "colab": {
          "base_uri": "https://localhost:8080/"
        }
      },
      "execution_count": 62,
      "outputs": [
        {
          "output_type": "stream",
          "name": "stdout",
          "text": [
            "1,512,491\n"
          ]
        }
      ]
    },
    {
      "cell_type": "markdown",
      "source": [
        "\n",
        "\n",
        "4.   create a dataframe with the city and population data\n",
        "\n",
        "\n"
      ],
      "metadata": {
        "id": "PPWVs6JwgDyU"
      }
    },
    {
      "cell_type": "code",
      "source": [
        "cities = [\"Berlin\", \"Hamburg\", \"Munich\"]\n",
        "population = [population_0, population_1, population_2]\n",
        "p_df = pd.DataFrame([cities, population], columns = cities, index = [\"city\",\"population\"])\n",
        "p_df"
      ],
      "metadata": {
        "id": "CrDoSJAngPWP",
        "outputId": "32f7160a-cbe4-4a14-d349-56a6cbfc10e7",
        "colab": {
          "base_uri": "https://localhost:8080/",
          "height": 112
        }
      },
      "execution_count": 63,
      "outputs": [
        {
          "output_type": "execute_result",
          "data": {
            "text/plain": [
              "             Berlin    Hamburg     Munich\n",
              "city         Berlin    Hamburg     Munich\n",
              "population  [[[4]]]  1,945,532  1,512,491"
            ],
            "text/html": [
              "\n",
              "  <div id=\"df-cdda8d44-3a23-4118-b4a1-a4f2010029e2\" class=\"colab-df-container\">\n",
              "    <div>\n",
              "<style scoped>\n",
              "    .dataframe tbody tr th:only-of-type {\n",
              "        vertical-align: middle;\n",
              "    }\n",
              "\n",
              "    .dataframe tbody tr th {\n",
              "        vertical-align: top;\n",
              "    }\n",
              "\n",
              "    .dataframe thead th {\n",
              "        text-align: right;\n",
              "    }\n",
              "</style>\n",
              "<table border=\"1\" class=\"dataframe\">\n",
              "  <thead>\n",
              "    <tr style=\"text-align: right;\">\n",
              "      <th></th>\n",
              "      <th>Berlin</th>\n",
              "      <th>Hamburg</th>\n",
              "      <th>Munich</th>\n",
              "    </tr>\n",
              "  </thead>\n",
              "  <tbody>\n",
              "    <tr>\n",
              "      <th>city</th>\n",
              "      <td>Berlin</td>\n",
              "      <td>Hamburg</td>\n",
              "      <td>Munich</td>\n",
              "    </tr>\n",
              "    <tr>\n",
              "      <th>population</th>\n",
              "      <td>[[[4]]]</td>\n",
              "      <td>1,945,532</td>\n",
              "      <td>1,512,491</td>\n",
              "    </tr>\n",
              "  </tbody>\n",
              "</table>\n",
              "</div>\n",
              "    <div class=\"colab-df-buttons\">\n",
              "\n",
              "  <div class=\"colab-df-container\">\n",
              "    <button class=\"colab-df-convert\" onclick=\"convertToInteractive('df-cdda8d44-3a23-4118-b4a1-a4f2010029e2')\"\n",
              "            title=\"Convert this dataframe to an interactive table.\"\n",
              "            style=\"display:none;\">\n",
              "\n",
              "  <svg xmlns=\"http://www.w3.org/2000/svg\" height=\"24px\" viewBox=\"0 -960 960 960\">\n",
              "    <path d=\"M120-120v-720h720v720H120Zm60-500h600v-160H180v160Zm220 220h160v-160H400v160Zm0 220h160v-160H400v160ZM180-400h160v-160H180v160Zm440 0h160v-160H620v160ZM180-180h160v-160H180v160Zm440 0h160v-160H620v160Z\"/>\n",
              "  </svg>\n",
              "    </button>\n",
              "\n",
              "  <style>\n",
              "    .colab-df-container {\n",
              "      display:flex;\n",
              "      gap: 12px;\n",
              "    }\n",
              "\n",
              "    .colab-df-convert {\n",
              "      background-color: #E8F0FE;\n",
              "      border: none;\n",
              "      border-radius: 50%;\n",
              "      cursor: pointer;\n",
              "      display: none;\n",
              "      fill: #1967D2;\n",
              "      height: 32px;\n",
              "      padding: 0 0 0 0;\n",
              "      width: 32px;\n",
              "    }\n",
              "\n",
              "    .colab-df-convert:hover {\n",
              "      background-color: #E2EBFA;\n",
              "      box-shadow: 0px 1px 2px rgba(60, 64, 67, 0.3), 0px 1px 3px 1px rgba(60, 64, 67, 0.15);\n",
              "      fill: #174EA6;\n",
              "    }\n",
              "\n",
              "    .colab-df-buttons div {\n",
              "      margin-bottom: 4px;\n",
              "    }\n",
              "\n",
              "    [theme=dark] .colab-df-convert {\n",
              "      background-color: #3B4455;\n",
              "      fill: #D2E3FC;\n",
              "    }\n",
              "\n",
              "    [theme=dark] .colab-df-convert:hover {\n",
              "      background-color: #434B5C;\n",
              "      box-shadow: 0px 1px 3px 1px rgba(0, 0, 0, 0.15);\n",
              "      filter: drop-shadow(0px 1px 2px rgba(0, 0, 0, 0.3));\n",
              "      fill: #FFFFFF;\n",
              "    }\n",
              "  </style>\n",
              "\n",
              "    <script>\n",
              "      const buttonEl =\n",
              "        document.querySelector('#df-cdda8d44-3a23-4118-b4a1-a4f2010029e2 button.colab-df-convert');\n",
              "      buttonEl.style.display =\n",
              "        google.colab.kernel.accessAllowed ? 'block' : 'none';\n",
              "\n",
              "      async function convertToInteractive(key) {\n",
              "        const element = document.querySelector('#df-cdda8d44-3a23-4118-b4a1-a4f2010029e2');\n",
              "        const dataTable =\n",
              "          await google.colab.kernel.invokeFunction('convertToInteractive',\n",
              "                                                    [key], {});\n",
              "        if (!dataTable) return;\n",
              "\n",
              "        const docLinkHtml = 'Like what you see? Visit the ' +\n",
              "          '<a target=\"_blank\" href=https://colab.research.google.com/notebooks/data_table.ipynb>data table notebook</a>'\n",
              "          + ' to learn more about interactive tables.';\n",
              "        element.innerHTML = '';\n",
              "        dataTable['output_type'] = 'display_data';\n",
              "        await google.colab.output.renderOutput(dataTable, element);\n",
              "        const docLink = document.createElement('div');\n",
              "        docLink.innerHTML = docLinkHtml;\n",
              "        element.appendChild(docLink);\n",
              "      }\n",
              "    </script>\n",
              "  </div>\n",
              "\n",
              "\n",
              "<div id=\"df-f6203df9-bd1a-4749-b387-064192f0f2a5\">\n",
              "  <button class=\"colab-df-quickchart\" onclick=\"quickchart('df-f6203df9-bd1a-4749-b387-064192f0f2a5')\"\n",
              "            title=\"Suggest charts\"\n",
              "            style=\"display:none;\">\n",
              "\n",
              "<svg xmlns=\"http://www.w3.org/2000/svg\" height=\"24px\"viewBox=\"0 0 24 24\"\n",
              "     width=\"24px\">\n",
              "    <g>\n",
              "        <path d=\"M19 3H5c-1.1 0-2 .9-2 2v14c0 1.1.9 2 2 2h14c1.1 0 2-.9 2-2V5c0-1.1-.9-2-2-2zM9 17H7v-7h2v7zm4 0h-2V7h2v10zm4 0h-2v-4h2v4z\"/>\n",
              "    </g>\n",
              "</svg>\n",
              "  </button>\n",
              "\n",
              "<style>\n",
              "  .colab-df-quickchart {\n",
              "      --bg-color: #E8F0FE;\n",
              "      --fill-color: #1967D2;\n",
              "      --hover-bg-color: #E2EBFA;\n",
              "      --hover-fill-color: #174EA6;\n",
              "      --disabled-fill-color: #AAA;\n",
              "      --disabled-bg-color: #DDD;\n",
              "  }\n",
              "\n",
              "  [theme=dark] .colab-df-quickchart {\n",
              "      --bg-color: #3B4455;\n",
              "      --fill-color: #D2E3FC;\n",
              "      --hover-bg-color: #434B5C;\n",
              "      --hover-fill-color: #FFFFFF;\n",
              "      --disabled-bg-color: #3B4455;\n",
              "      --disabled-fill-color: #666;\n",
              "  }\n",
              "\n",
              "  .colab-df-quickchart {\n",
              "    background-color: var(--bg-color);\n",
              "    border: none;\n",
              "    border-radius: 50%;\n",
              "    cursor: pointer;\n",
              "    display: none;\n",
              "    fill: var(--fill-color);\n",
              "    height: 32px;\n",
              "    padding: 0;\n",
              "    width: 32px;\n",
              "  }\n",
              "\n",
              "  .colab-df-quickchart:hover {\n",
              "    background-color: var(--hover-bg-color);\n",
              "    box-shadow: 0 1px 2px rgba(60, 64, 67, 0.3), 0 1px 3px 1px rgba(60, 64, 67, 0.15);\n",
              "    fill: var(--button-hover-fill-color);\n",
              "  }\n",
              "\n",
              "  .colab-df-quickchart-complete:disabled,\n",
              "  .colab-df-quickchart-complete:disabled:hover {\n",
              "    background-color: var(--disabled-bg-color);\n",
              "    fill: var(--disabled-fill-color);\n",
              "    box-shadow: none;\n",
              "  }\n",
              "\n",
              "  .colab-df-spinner {\n",
              "    border: 2px solid var(--fill-color);\n",
              "    border-color: transparent;\n",
              "    border-bottom-color: var(--fill-color);\n",
              "    animation:\n",
              "      spin 1s steps(1) infinite;\n",
              "  }\n",
              "\n",
              "  @keyframes spin {\n",
              "    0% {\n",
              "      border-color: transparent;\n",
              "      border-bottom-color: var(--fill-color);\n",
              "      border-left-color: var(--fill-color);\n",
              "    }\n",
              "    20% {\n",
              "      border-color: transparent;\n",
              "      border-left-color: var(--fill-color);\n",
              "      border-top-color: var(--fill-color);\n",
              "    }\n",
              "    30% {\n",
              "      border-color: transparent;\n",
              "      border-left-color: var(--fill-color);\n",
              "      border-top-color: var(--fill-color);\n",
              "      border-right-color: var(--fill-color);\n",
              "    }\n",
              "    40% {\n",
              "      border-color: transparent;\n",
              "      border-right-color: var(--fill-color);\n",
              "      border-top-color: var(--fill-color);\n",
              "    }\n",
              "    60% {\n",
              "      border-color: transparent;\n",
              "      border-right-color: var(--fill-color);\n",
              "    }\n",
              "    80% {\n",
              "      border-color: transparent;\n",
              "      border-right-color: var(--fill-color);\n",
              "      border-bottom-color: var(--fill-color);\n",
              "    }\n",
              "    90% {\n",
              "      border-color: transparent;\n",
              "      border-bottom-color: var(--fill-color);\n",
              "    }\n",
              "  }\n",
              "</style>\n",
              "\n",
              "  <script>\n",
              "    async function quickchart(key) {\n",
              "      const quickchartButtonEl =\n",
              "        document.querySelector('#' + key + ' button');\n",
              "      quickchartButtonEl.disabled = true;  // To prevent multiple clicks.\n",
              "      quickchartButtonEl.classList.add('colab-df-spinner');\n",
              "      try {\n",
              "        const charts = await google.colab.kernel.invokeFunction(\n",
              "            'suggestCharts', [key], {});\n",
              "      } catch (error) {\n",
              "        console.error('Error during call to suggestCharts:', error);\n",
              "      }\n",
              "      quickchartButtonEl.classList.remove('colab-df-spinner');\n",
              "      quickchartButtonEl.classList.add('colab-df-quickchart-complete');\n",
              "    }\n",
              "    (() => {\n",
              "      let quickchartButtonEl =\n",
              "        document.querySelector('#df-f6203df9-bd1a-4749-b387-064192f0f2a5 button');\n",
              "      quickchartButtonEl.style.display =\n",
              "        google.colab.kernel.accessAllowed ? 'block' : 'none';\n",
              "    })();\n",
              "  </script>\n",
              "</div>\n",
              "    </div>\n",
              "  </div>\n"
            ],
            "application/vnd.google.colaboratory.intrinsic+json": {
              "type": "dataframe",
              "variable_name": "p_df",
              "summary": "{\n  \"name\": \"p_df\",\n  \"rows\": 2,\n  \"fields\": [\n    {\n      \"column\": \"Berlin\",\n      \"properties\": {\n        \"dtype\": \"string\",\n        \"num_unique_values\": 2,\n        \"samples\": [\n          \"<sup class=\\\"reference\\\" id=\\\"cite_ref-Amt_f\\u00fcr_Statistik_Berlin-Brandenburg_4-0\\\"><a href=\\\"#cite_note-Amt_f\\u00fcr_Statistik_Berlin-Brandenburg-4\\\">[4]</a></sup>\",\n          \"Berlin\"\n        ],\n        \"semantic_type\": \"\",\n        \"description\": \"\"\n      }\n    },\n    {\n      \"column\": \"Hamburg\",\n      \"properties\": {\n        \"dtype\": \"string\",\n        \"num_unique_values\": 2,\n        \"samples\": [\n          \"1,945,532\",\n          \"Hamburg\"\n        ],\n        \"semantic_type\": \"\",\n        \"description\": \"\"\n      }\n    },\n    {\n      \"column\": \"Munich\",\n      \"properties\": {\n        \"dtype\": \"string\",\n        \"num_unique_values\": 2,\n        \"samples\": [\n          \"1,512,491\",\n          \"Munich\"\n        ],\n        \"semantic_type\": \"\",\n        \"description\": \"\"\n      }\n    }\n  ]\n}"
            }
          },
          "metadata": {},
          "execution_count": 63
        }
      ]
    },
    {
      "cell_type": "markdown",
      "source": [
        "?? how to use regular expression to remove all the , inside of the population values"
      ],
      "metadata": {
        "id": "IeOTLCPVhwp8"
      }
    },
    {
      "cell_type": "markdown",
      "source": [
        "# Solution--Latitude and longitude"
      ],
      "metadata": {
        "id": "3cD-e5v0iEoD"
      }
    },
    {
      "cell_type": "markdown",
      "source": [
        "Coordinates: 52°31′12″N 13°24′18″E\n",
        "\n",
        "latitude is 52°31′12″N\n",
        "longitude is 13°24′18″E"
      ],
      "metadata": {
        "id": "GNDODUKbicDP"
      }
    },
    {
      "cell_type": "markdown",
      "source": [
        "`<td colspan=\"2\" class=\"infobox-full-data\">Coordinates: <span class=\"geo-inline\"><style data-mw-deduplicate=\"TemplateStyles:r1156832818\">.mw-parser-output .geo-default,.mw-parser-output .geo-dms,.mw-parser-output .geo-dec{display:inline}.mw-parser-output .geo-nondefault,.mw-parser-output .geo-multi-punct,.mw-parser-output .geo-inline-hidden{display:none}.mw-parser-output .longitude,.mw-parser-output .latitude{white-space:nowrap}</style><span class=\"plainlinks nourlexpansion load-gadget\" data-gadget=\"WikiMiniAtlas\"><span style=\"white-space: nowrap;\"><img src=\"//upload.wikimedia.org/wikipedia/commons/thumb/5/55/WMA_button2b.png/17px-WMA_button2b.png\" srcset=\"//upload.wikimedia.org/wikipedia/commons/thumb/5/55/WMA_button2b.png/17px-WMA_button2b.png 1x, //upload.wikimedia.org/wikipedia/commons/thumb/5/55/WMA_button2b.png/34px-WMA_button2b.png 2x\" class=\"wmamapbutton noprint\" title=\"Show location on an interactive map\" alt=\"\" style=\"padding: 0px 3px 0px 0px; cursor: pointer;\"><a class=\"external text\" href=\"https://geohack.toolforge.org/geohack.php?pagename=Berlin&amp;params=52_31_12_N_13_24_18_E_type:city(3755251)_region:DE\" style=\"white-space: normal;\"><span class=\"geo-default\"><span class=\"geo-dms\" title=\"Maps, aerial photos, and other data for this location\"><span class=\"latitude\">52°31′12″N</span> <span class=\"longitude\">13°24′18″E</span></span></span><span class=\"geo-multi-punct\">﻿ / ﻿</span><span class=\"geo-nondefault\"><span class=\"geo-dec\" title=\"Maps, aerial photos, and other data for this location\">52.52000°N 13.40500°E</span><span style=\"display:none\">﻿ / <span class=\"geo\">52.52000; 13.40500</span></span></span></a></span></span></span></td>`"
      ],
      "metadata": {
        "id": "lQv6i0lXkg2D"
      }
    },
    {
      "cell_type": "code",
      "source": [
        "latitude_0 = soup_0.find(\"span\", class_=\"latitude\").get_text()\n",
        "#print(latitude_0)"
      ],
      "metadata": {
        "id": "qNdMQv6SiaK5"
      },
      "execution_count": 64,
      "outputs": []
    },
    {
      "cell_type": "code",
      "source": [
        "longitude_0 = soup_0.find(\"span\", class_=\"longitude\").get_text()\n",
        "print(longitude_0)"
      ],
      "metadata": {
        "id": "N40pC9hOmUB7",
        "outputId": "5e8f0b8f-6201-49e4-c650-b4132d6075fa",
        "colab": {
          "base_uri": "https://localhost:8080/"
        }
      },
      "execution_count": 65,
      "outputs": [
        {
          "output_type": "stream",
          "name": "stdout",
          "text": [
            "13°24′18″E\n"
          ]
        }
      ]
    },
    {
      "cell_type": "code",
      "source": [
        "latitude_1 = soup_1.find(\"span\", class_=\"latitude\").get_text()\n",
        "longitude_1 = soup_1.find(\"span\", class_=\"longitude\").get_text()\n",
        "print(latitude_1, longitude_1)"
      ],
      "metadata": {
        "id": "GinBMICbmlh9",
        "outputId": "256a9cd6-9286-47e5-934b-a0465bf23ce7",
        "colab": {
          "base_uri": "https://localhost:8080/"
        }
      },
      "execution_count": 66,
      "outputs": [
        {
          "output_type": "stream",
          "name": "stdout",
          "text": [
            "53°33′N 10°00′E\n"
          ]
        }
      ]
    },
    {
      "cell_type": "code",
      "source": [
        "latitude_2 = soup_2.find(\"span\", class_=\"latitude\").get_text()\n",
        "longitude_2 = soup_2.find(\"span\", class_=\"longitude\").get_text()\n",
        "print(latitude_2, longitude_2)"
      ],
      "metadata": {
        "id": "m0AwORmZm5OF",
        "outputId": "8621ea7f-0eec-41e6-fb79-ab0447a2c602",
        "colab": {
          "base_uri": "https://localhost:8080/"
        }
      },
      "execution_count": 67,
      "outputs": [
        {
          "output_type": "stream",
          "name": "stdout",
          "text": [
            "48°08′15″N 11°34′30″E\n"
          ]
        }
      ]
    },
    {
      "cell_type": "code",
      "source": [
        "cities = [\"Berlin\", \"Hamburg\", \"Munich\"]\n",
        "population = [population_0, population_1, population_2]\n",
        "latitude = [latitude_0, latitude_1, latitude_2]\n",
        "longitude = [longitude_0, longitude_1, longitude_2]\n",
        "pll_df = pd.DataFrame([cities, population, latitude, longitude], columns = cities, index = [\"city\",\"population\", \"latitude\", \"longitude\"])\n",
        "pll_df"
      ],
      "metadata": {
        "id": "Z_fhVc12pbH_",
        "outputId": "67d42d46-f5d6-495e-e33d-7c3f9bdb4b2c",
        "colab": {
          "base_uri": "https://localhost:8080/",
          "height": 175
        }
      },
      "execution_count": 68,
      "outputs": [
        {
          "output_type": "execute_result",
          "data": {
            "text/plain": [
              "                Berlin    Hamburg      Munich\n",
              "city            Berlin    Hamburg      Munich\n",
              "population     [[[4]]]  1,945,532   1,512,491\n",
              "latitude    52°31′12″N    53°33′N  48°08′15″N\n",
              "longitude   13°24′18″E    10°00′E  11°34′30″E"
            ],
            "text/html": [
              "\n",
              "  <div id=\"df-a78842d7-51d9-47a6-a1a2-21e3eae6fdd2\" class=\"colab-df-container\">\n",
              "    <div>\n",
              "<style scoped>\n",
              "    .dataframe tbody tr th:only-of-type {\n",
              "        vertical-align: middle;\n",
              "    }\n",
              "\n",
              "    .dataframe tbody tr th {\n",
              "        vertical-align: top;\n",
              "    }\n",
              "\n",
              "    .dataframe thead th {\n",
              "        text-align: right;\n",
              "    }\n",
              "</style>\n",
              "<table border=\"1\" class=\"dataframe\">\n",
              "  <thead>\n",
              "    <tr style=\"text-align: right;\">\n",
              "      <th></th>\n",
              "      <th>Berlin</th>\n",
              "      <th>Hamburg</th>\n",
              "      <th>Munich</th>\n",
              "    </tr>\n",
              "  </thead>\n",
              "  <tbody>\n",
              "    <tr>\n",
              "      <th>city</th>\n",
              "      <td>Berlin</td>\n",
              "      <td>Hamburg</td>\n",
              "      <td>Munich</td>\n",
              "    </tr>\n",
              "    <tr>\n",
              "      <th>population</th>\n",
              "      <td>[[[4]]]</td>\n",
              "      <td>1,945,532</td>\n",
              "      <td>1,512,491</td>\n",
              "    </tr>\n",
              "    <tr>\n",
              "      <th>latitude</th>\n",
              "      <td>52°31′12″N</td>\n",
              "      <td>53°33′N</td>\n",
              "      <td>48°08′15″N</td>\n",
              "    </tr>\n",
              "    <tr>\n",
              "      <th>longitude</th>\n",
              "      <td>13°24′18″E</td>\n",
              "      <td>10°00′E</td>\n",
              "      <td>11°34′30″E</td>\n",
              "    </tr>\n",
              "  </tbody>\n",
              "</table>\n",
              "</div>\n",
              "    <div class=\"colab-df-buttons\">\n",
              "\n",
              "  <div class=\"colab-df-container\">\n",
              "    <button class=\"colab-df-convert\" onclick=\"convertToInteractive('df-a78842d7-51d9-47a6-a1a2-21e3eae6fdd2')\"\n",
              "            title=\"Convert this dataframe to an interactive table.\"\n",
              "            style=\"display:none;\">\n",
              "\n",
              "  <svg xmlns=\"http://www.w3.org/2000/svg\" height=\"24px\" viewBox=\"0 -960 960 960\">\n",
              "    <path d=\"M120-120v-720h720v720H120Zm60-500h600v-160H180v160Zm220 220h160v-160H400v160Zm0 220h160v-160H400v160ZM180-400h160v-160H180v160Zm440 0h160v-160H620v160ZM180-180h160v-160H180v160Zm440 0h160v-160H620v160Z\"/>\n",
              "  </svg>\n",
              "    </button>\n",
              "\n",
              "  <style>\n",
              "    .colab-df-container {\n",
              "      display:flex;\n",
              "      gap: 12px;\n",
              "    }\n",
              "\n",
              "    .colab-df-convert {\n",
              "      background-color: #E8F0FE;\n",
              "      border: none;\n",
              "      border-radius: 50%;\n",
              "      cursor: pointer;\n",
              "      display: none;\n",
              "      fill: #1967D2;\n",
              "      height: 32px;\n",
              "      padding: 0 0 0 0;\n",
              "      width: 32px;\n",
              "    }\n",
              "\n",
              "    .colab-df-convert:hover {\n",
              "      background-color: #E2EBFA;\n",
              "      box-shadow: 0px 1px 2px rgba(60, 64, 67, 0.3), 0px 1px 3px 1px rgba(60, 64, 67, 0.15);\n",
              "      fill: #174EA6;\n",
              "    }\n",
              "\n",
              "    .colab-df-buttons div {\n",
              "      margin-bottom: 4px;\n",
              "    }\n",
              "\n",
              "    [theme=dark] .colab-df-convert {\n",
              "      background-color: #3B4455;\n",
              "      fill: #D2E3FC;\n",
              "    }\n",
              "\n",
              "    [theme=dark] .colab-df-convert:hover {\n",
              "      background-color: #434B5C;\n",
              "      box-shadow: 0px 1px 3px 1px rgba(0, 0, 0, 0.15);\n",
              "      filter: drop-shadow(0px 1px 2px rgba(0, 0, 0, 0.3));\n",
              "      fill: #FFFFFF;\n",
              "    }\n",
              "  </style>\n",
              "\n",
              "    <script>\n",
              "      const buttonEl =\n",
              "        document.querySelector('#df-a78842d7-51d9-47a6-a1a2-21e3eae6fdd2 button.colab-df-convert');\n",
              "      buttonEl.style.display =\n",
              "        google.colab.kernel.accessAllowed ? 'block' : 'none';\n",
              "\n",
              "      async function convertToInteractive(key) {\n",
              "        const element = document.querySelector('#df-a78842d7-51d9-47a6-a1a2-21e3eae6fdd2');\n",
              "        const dataTable =\n",
              "          await google.colab.kernel.invokeFunction('convertToInteractive',\n",
              "                                                    [key], {});\n",
              "        if (!dataTable) return;\n",
              "\n",
              "        const docLinkHtml = 'Like what you see? Visit the ' +\n",
              "          '<a target=\"_blank\" href=https://colab.research.google.com/notebooks/data_table.ipynb>data table notebook</a>'\n",
              "          + ' to learn more about interactive tables.';\n",
              "        element.innerHTML = '';\n",
              "        dataTable['output_type'] = 'display_data';\n",
              "        await google.colab.output.renderOutput(dataTable, element);\n",
              "        const docLink = document.createElement('div');\n",
              "        docLink.innerHTML = docLinkHtml;\n",
              "        element.appendChild(docLink);\n",
              "      }\n",
              "    </script>\n",
              "  </div>\n",
              "\n",
              "\n",
              "<div id=\"df-2b4a85be-e97e-4063-9ff6-c0c2a9c7d80e\">\n",
              "  <button class=\"colab-df-quickchart\" onclick=\"quickchart('df-2b4a85be-e97e-4063-9ff6-c0c2a9c7d80e')\"\n",
              "            title=\"Suggest charts\"\n",
              "            style=\"display:none;\">\n",
              "\n",
              "<svg xmlns=\"http://www.w3.org/2000/svg\" height=\"24px\"viewBox=\"0 0 24 24\"\n",
              "     width=\"24px\">\n",
              "    <g>\n",
              "        <path d=\"M19 3H5c-1.1 0-2 .9-2 2v14c0 1.1.9 2 2 2h14c1.1 0 2-.9 2-2V5c0-1.1-.9-2-2-2zM9 17H7v-7h2v7zm4 0h-2V7h2v10zm4 0h-2v-4h2v4z\"/>\n",
              "    </g>\n",
              "</svg>\n",
              "  </button>\n",
              "\n",
              "<style>\n",
              "  .colab-df-quickchart {\n",
              "      --bg-color: #E8F0FE;\n",
              "      --fill-color: #1967D2;\n",
              "      --hover-bg-color: #E2EBFA;\n",
              "      --hover-fill-color: #174EA6;\n",
              "      --disabled-fill-color: #AAA;\n",
              "      --disabled-bg-color: #DDD;\n",
              "  }\n",
              "\n",
              "  [theme=dark] .colab-df-quickchart {\n",
              "      --bg-color: #3B4455;\n",
              "      --fill-color: #D2E3FC;\n",
              "      --hover-bg-color: #434B5C;\n",
              "      --hover-fill-color: #FFFFFF;\n",
              "      --disabled-bg-color: #3B4455;\n",
              "      --disabled-fill-color: #666;\n",
              "  }\n",
              "\n",
              "  .colab-df-quickchart {\n",
              "    background-color: var(--bg-color);\n",
              "    border: none;\n",
              "    border-radius: 50%;\n",
              "    cursor: pointer;\n",
              "    display: none;\n",
              "    fill: var(--fill-color);\n",
              "    height: 32px;\n",
              "    padding: 0;\n",
              "    width: 32px;\n",
              "  }\n",
              "\n",
              "  .colab-df-quickchart:hover {\n",
              "    background-color: var(--hover-bg-color);\n",
              "    box-shadow: 0 1px 2px rgba(60, 64, 67, 0.3), 0 1px 3px 1px rgba(60, 64, 67, 0.15);\n",
              "    fill: var(--button-hover-fill-color);\n",
              "  }\n",
              "\n",
              "  .colab-df-quickchart-complete:disabled,\n",
              "  .colab-df-quickchart-complete:disabled:hover {\n",
              "    background-color: var(--disabled-bg-color);\n",
              "    fill: var(--disabled-fill-color);\n",
              "    box-shadow: none;\n",
              "  }\n",
              "\n",
              "  .colab-df-spinner {\n",
              "    border: 2px solid var(--fill-color);\n",
              "    border-color: transparent;\n",
              "    border-bottom-color: var(--fill-color);\n",
              "    animation:\n",
              "      spin 1s steps(1) infinite;\n",
              "  }\n",
              "\n",
              "  @keyframes spin {\n",
              "    0% {\n",
              "      border-color: transparent;\n",
              "      border-bottom-color: var(--fill-color);\n",
              "      border-left-color: var(--fill-color);\n",
              "    }\n",
              "    20% {\n",
              "      border-color: transparent;\n",
              "      border-left-color: var(--fill-color);\n",
              "      border-top-color: var(--fill-color);\n",
              "    }\n",
              "    30% {\n",
              "      border-color: transparent;\n",
              "      border-left-color: var(--fill-color);\n",
              "      border-top-color: var(--fill-color);\n",
              "      border-right-color: var(--fill-color);\n",
              "    }\n",
              "    40% {\n",
              "      border-color: transparent;\n",
              "      border-right-color: var(--fill-color);\n",
              "      border-top-color: var(--fill-color);\n",
              "    }\n",
              "    60% {\n",
              "      border-color: transparent;\n",
              "      border-right-color: var(--fill-color);\n",
              "    }\n",
              "    80% {\n",
              "      border-color: transparent;\n",
              "      border-right-color: var(--fill-color);\n",
              "      border-bottom-color: var(--fill-color);\n",
              "    }\n",
              "    90% {\n",
              "      border-color: transparent;\n",
              "      border-bottom-color: var(--fill-color);\n",
              "    }\n",
              "  }\n",
              "</style>\n",
              "\n",
              "  <script>\n",
              "    async function quickchart(key) {\n",
              "      const quickchartButtonEl =\n",
              "        document.querySelector('#' + key + ' button');\n",
              "      quickchartButtonEl.disabled = true;  // To prevent multiple clicks.\n",
              "      quickchartButtonEl.classList.add('colab-df-spinner');\n",
              "      try {\n",
              "        const charts = await google.colab.kernel.invokeFunction(\n",
              "            'suggestCharts', [key], {});\n",
              "      } catch (error) {\n",
              "        console.error('Error during call to suggestCharts:', error);\n",
              "      }\n",
              "      quickchartButtonEl.classList.remove('colab-df-spinner');\n",
              "      quickchartButtonEl.classList.add('colab-df-quickchart-complete');\n",
              "    }\n",
              "    (() => {\n",
              "      let quickchartButtonEl =\n",
              "        document.querySelector('#df-2b4a85be-e97e-4063-9ff6-c0c2a9c7d80e button');\n",
              "      quickchartButtonEl.style.display =\n",
              "        google.colab.kernel.accessAllowed ? 'block' : 'none';\n",
              "    })();\n",
              "  </script>\n",
              "</div>\n",
              "    </div>\n",
              "  </div>\n"
            ],
            "application/vnd.google.colaboratory.intrinsic+json": {
              "type": "dataframe",
              "variable_name": "pll_df",
              "summary": "{\n  \"name\": \"pll_df\",\n  \"rows\": 4,\n  \"fields\": [\n    {\n      \"column\": \"Berlin\",\n      \"properties\": {\n        \"dtype\": \"string\",\n        \"num_unique_values\": 4,\n        \"samples\": [\n          \"<sup class=\\\"reference\\\" id=\\\"cite_ref-Amt_f\\u00fcr_Statistik_Berlin-Brandenburg_4-0\\\"><a href=\\\"#cite_note-Amt_f\\u00fcr_Statistik_Berlin-Brandenburg-4\\\">[4]</a></sup>\",\n          \"13\\u00b024\\u203218\\u2033E\",\n          \"Berlin\"\n        ],\n        \"semantic_type\": \"\",\n        \"description\": \"\"\n      }\n    },\n    {\n      \"column\": \"Hamburg\",\n      \"properties\": {\n        \"dtype\": \"string\",\n        \"num_unique_values\": 4,\n        \"samples\": [\n          \"1,945,532\",\n          \"10\\u00b000\\u2032E\",\n          \"Hamburg\"\n        ],\n        \"semantic_type\": \"\",\n        \"description\": \"\"\n      }\n    },\n    {\n      \"column\": \"Munich\",\n      \"properties\": {\n        \"dtype\": \"string\",\n        \"num_unique_values\": 4,\n        \"samples\": [\n          \"1,512,491\",\n          \"11\\u00b034\\u203230\\u2033E\",\n          \"Munich\"\n        ],\n        \"semantic_type\": \"\",\n        \"description\": \"\"\n      }\n    }\n  ]\n}"
            }
          },
          "metadata": {},
          "execution_count": 68
        }
      ]
    },
    {
      "cell_type": "markdown",
      "source": [
        "# Solution: Country of location"
      ],
      "metadata": {
        "id": "X_qOy4EjqCbY"
      }
    },
    {
      "cell_type": "markdown",
      "source": [
        "country -- Germany"
      ],
      "metadata": {
        "id": "e7FVy6moqKXV"
      }
    },
    {
      "cell_type": "markdown",
      "source": [
        "`<tr class=\"mergedtoprow\"><th scope=\"row\" class=\"infobox-label\">Country</th><td class=\"infobox-data\">Germany</td></tr>`"
      ],
      "metadata": {
        "id": "Lg20uD9Bqoxx"
      }
    },
    {
      "cell_type": "code",
      "source": [
        "country_0 = soup_0.find(\"tr\", class_=\"mergedtoprow\").find_next(\"td\", class_=\"infobox-data\").get_text()\n",
        "country_0"
      ],
      "metadata": {
        "id": "HNW0kUVMqjNO",
        "outputId": "dc85fa21-2170-4a11-abc0-d874efb9608d",
        "colab": {
          "base_uri": "https://localhost:8080/",
          "height": 36
        }
      },
      "execution_count": 69,
      "outputs": [
        {
          "output_type": "execute_result",
          "data": {
            "text/plain": [
              "'Germany'"
            ],
            "application/vnd.google.colaboratory.intrinsic+json": {
              "type": "string"
            }
          },
          "metadata": {},
          "execution_count": 69
        }
      ]
    },
    {
      "cell_type": "code",
      "source": [
        "country_1 = soup_1.find(\"tr\", class_=\"mergedtoprow\").find_next(\"td\", class_=\"infobox-data\").get_text()\n",
        "country_2 = soup_2.find(\"tr\", class_=\"mergedtoprow\").find_next(\"td\", class_=\"infobox-data\").get_text()\n",
        "print(country_1, country_2)"
      ],
      "metadata": {
        "id": "YjCbTb-3sOrC",
        "outputId": "68514ba4-7ca2-45f3-b356-85dbc2433ce8",
        "colab": {
          "base_uri": "https://localhost:8080/"
        }
      },
      "execution_count": 70,
      "outputs": [
        {
          "output_type": "stream",
          "name": "stdout",
          "text": [
            "Germany Germany\n"
          ]
        }
      ]
    },
    {
      "cell_type": "code",
      "source": [
        "cities = [\"Berlin\", \"Hamburg\", \"Munich\"]\n",
        "population = [population_0, population_1, population_2]\n",
        "latitude = [latitude_0, latitude_1, latitude_2]\n",
        "longitude = [longitude_0, longitude_1, longitude_2]\n",
        "country = [country_0, country_1, country_2]\n",
        "pllc_df = pd.DataFrame([cities, population, latitude, longitude, country], columns = cities, index = [\"city\",\"population\", \"latitude\", \"longitude\", \"country\"])\n",
        "pllc_df"
      ],
      "metadata": {
        "id": "mX3nmTKdsZxQ",
        "outputId": "b2b309cf-a509-4198-8ae4-3841f5deb2c0",
        "colab": {
          "base_uri": "https://localhost:8080/",
          "height": 206
        }
      },
      "execution_count": 71,
      "outputs": [
        {
          "output_type": "execute_result",
          "data": {
            "text/plain": [
              "                Berlin    Hamburg      Munich\n",
              "city            Berlin    Hamburg      Munich\n",
              "population     [[[4]]]  1,945,532   1,512,491\n",
              "latitude    52°31′12″N    53°33′N  48°08′15″N\n",
              "longitude   13°24′18″E    10°00′E  11°34′30″E\n",
              "country        Germany    Germany     Germany"
            ],
            "text/html": [
              "\n",
              "  <div id=\"df-f9a3a27b-eb34-4f7c-99c7-8b2f0f577b71\" class=\"colab-df-container\">\n",
              "    <div>\n",
              "<style scoped>\n",
              "    .dataframe tbody tr th:only-of-type {\n",
              "        vertical-align: middle;\n",
              "    }\n",
              "\n",
              "    .dataframe tbody tr th {\n",
              "        vertical-align: top;\n",
              "    }\n",
              "\n",
              "    .dataframe thead th {\n",
              "        text-align: right;\n",
              "    }\n",
              "</style>\n",
              "<table border=\"1\" class=\"dataframe\">\n",
              "  <thead>\n",
              "    <tr style=\"text-align: right;\">\n",
              "      <th></th>\n",
              "      <th>Berlin</th>\n",
              "      <th>Hamburg</th>\n",
              "      <th>Munich</th>\n",
              "    </tr>\n",
              "  </thead>\n",
              "  <tbody>\n",
              "    <tr>\n",
              "      <th>city</th>\n",
              "      <td>Berlin</td>\n",
              "      <td>Hamburg</td>\n",
              "      <td>Munich</td>\n",
              "    </tr>\n",
              "    <tr>\n",
              "      <th>population</th>\n",
              "      <td>[[[4]]]</td>\n",
              "      <td>1,945,532</td>\n",
              "      <td>1,512,491</td>\n",
              "    </tr>\n",
              "    <tr>\n",
              "      <th>latitude</th>\n",
              "      <td>52°31′12″N</td>\n",
              "      <td>53°33′N</td>\n",
              "      <td>48°08′15″N</td>\n",
              "    </tr>\n",
              "    <tr>\n",
              "      <th>longitude</th>\n",
              "      <td>13°24′18″E</td>\n",
              "      <td>10°00′E</td>\n",
              "      <td>11°34′30″E</td>\n",
              "    </tr>\n",
              "    <tr>\n",
              "      <th>country</th>\n",
              "      <td>Germany</td>\n",
              "      <td>Germany</td>\n",
              "      <td>Germany</td>\n",
              "    </tr>\n",
              "  </tbody>\n",
              "</table>\n",
              "</div>\n",
              "    <div class=\"colab-df-buttons\">\n",
              "\n",
              "  <div class=\"colab-df-container\">\n",
              "    <button class=\"colab-df-convert\" onclick=\"convertToInteractive('df-f9a3a27b-eb34-4f7c-99c7-8b2f0f577b71')\"\n",
              "            title=\"Convert this dataframe to an interactive table.\"\n",
              "            style=\"display:none;\">\n",
              "\n",
              "  <svg xmlns=\"http://www.w3.org/2000/svg\" height=\"24px\" viewBox=\"0 -960 960 960\">\n",
              "    <path d=\"M120-120v-720h720v720H120Zm60-500h600v-160H180v160Zm220 220h160v-160H400v160Zm0 220h160v-160H400v160ZM180-400h160v-160H180v160Zm440 0h160v-160H620v160ZM180-180h160v-160H180v160Zm440 0h160v-160H620v160Z\"/>\n",
              "  </svg>\n",
              "    </button>\n",
              "\n",
              "  <style>\n",
              "    .colab-df-container {\n",
              "      display:flex;\n",
              "      gap: 12px;\n",
              "    }\n",
              "\n",
              "    .colab-df-convert {\n",
              "      background-color: #E8F0FE;\n",
              "      border: none;\n",
              "      border-radius: 50%;\n",
              "      cursor: pointer;\n",
              "      display: none;\n",
              "      fill: #1967D2;\n",
              "      height: 32px;\n",
              "      padding: 0 0 0 0;\n",
              "      width: 32px;\n",
              "    }\n",
              "\n",
              "    .colab-df-convert:hover {\n",
              "      background-color: #E2EBFA;\n",
              "      box-shadow: 0px 1px 2px rgba(60, 64, 67, 0.3), 0px 1px 3px 1px rgba(60, 64, 67, 0.15);\n",
              "      fill: #174EA6;\n",
              "    }\n",
              "\n",
              "    .colab-df-buttons div {\n",
              "      margin-bottom: 4px;\n",
              "    }\n",
              "\n",
              "    [theme=dark] .colab-df-convert {\n",
              "      background-color: #3B4455;\n",
              "      fill: #D2E3FC;\n",
              "    }\n",
              "\n",
              "    [theme=dark] .colab-df-convert:hover {\n",
              "      background-color: #434B5C;\n",
              "      box-shadow: 0px 1px 3px 1px rgba(0, 0, 0, 0.15);\n",
              "      filter: drop-shadow(0px 1px 2px rgba(0, 0, 0, 0.3));\n",
              "      fill: #FFFFFF;\n",
              "    }\n",
              "  </style>\n",
              "\n",
              "    <script>\n",
              "      const buttonEl =\n",
              "        document.querySelector('#df-f9a3a27b-eb34-4f7c-99c7-8b2f0f577b71 button.colab-df-convert');\n",
              "      buttonEl.style.display =\n",
              "        google.colab.kernel.accessAllowed ? 'block' : 'none';\n",
              "\n",
              "      async function convertToInteractive(key) {\n",
              "        const element = document.querySelector('#df-f9a3a27b-eb34-4f7c-99c7-8b2f0f577b71');\n",
              "        const dataTable =\n",
              "          await google.colab.kernel.invokeFunction('convertToInteractive',\n",
              "                                                    [key], {});\n",
              "        if (!dataTable) return;\n",
              "\n",
              "        const docLinkHtml = 'Like what you see? Visit the ' +\n",
              "          '<a target=\"_blank\" href=https://colab.research.google.com/notebooks/data_table.ipynb>data table notebook</a>'\n",
              "          + ' to learn more about interactive tables.';\n",
              "        element.innerHTML = '';\n",
              "        dataTable['output_type'] = 'display_data';\n",
              "        await google.colab.output.renderOutput(dataTable, element);\n",
              "        const docLink = document.createElement('div');\n",
              "        docLink.innerHTML = docLinkHtml;\n",
              "        element.appendChild(docLink);\n",
              "      }\n",
              "    </script>\n",
              "  </div>\n",
              "\n",
              "\n",
              "<div id=\"df-3b4d377e-06c7-4033-b42e-5f3b6422f0e4\">\n",
              "  <button class=\"colab-df-quickchart\" onclick=\"quickchart('df-3b4d377e-06c7-4033-b42e-5f3b6422f0e4')\"\n",
              "            title=\"Suggest charts\"\n",
              "            style=\"display:none;\">\n",
              "\n",
              "<svg xmlns=\"http://www.w3.org/2000/svg\" height=\"24px\"viewBox=\"0 0 24 24\"\n",
              "     width=\"24px\">\n",
              "    <g>\n",
              "        <path d=\"M19 3H5c-1.1 0-2 .9-2 2v14c0 1.1.9 2 2 2h14c1.1 0 2-.9 2-2V5c0-1.1-.9-2-2-2zM9 17H7v-7h2v7zm4 0h-2V7h2v10zm4 0h-2v-4h2v4z\"/>\n",
              "    </g>\n",
              "</svg>\n",
              "  </button>\n",
              "\n",
              "<style>\n",
              "  .colab-df-quickchart {\n",
              "      --bg-color: #E8F0FE;\n",
              "      --fill-color: #1967D2;\n",
              "      --hover-bg-color: #E2EBFA;\n",
              "      --hover-fill-color: #174EA6;\n",
              "      --disabled-fill-color: #AAA;\n",
              "      --disabled-bg-color: #DDD;\n",
              "  }\n",
              "\n",
              "  [theme=dark] .colab-df-quickchart {\n",
              "      --bg-color: #3B4455;\n",
              "      --fill-color: #D2E3FC;\n",
              "      --hover-bg-color: #434B5C;\n",
              "      --hover-fill-color: #FFFFFF;\n",
              "      --disabled-bg-color: #3B4455;\n",
              "      --disabled-fill-color: #666;\n",
              "  }\n",
              "\n",
              "  .colab-df-quickchart {\n",
              "    background-color: var(--bg-color);\n",
              "    border: none;\n",
              "    border-radius: 50%;\n",
              "    cursor: pointer;\n",
              "    display: none;\n",
              "    fill: var(--fill-color);\n",
              "    height: 32px;\n",
              "    padding: 0;\n",
              "    width: 32px;\n",
              "  }\n",
              "\n",
              "  .colab-df-quickchart:hover {\n",
              "    background-color: var(--hover-bg-color);\n",
              "    box-shadow: 0 1px 2px rgba(60, 64, 67, 0.3), 0 1px 3px 1px rgba(60, 64, 67, 0.15);\n",
              "    fill: var(--button-hover-fill-color);\n",
              "  }\n",
              "\n",
              "  .colab-df-quickchart-complete:disabled,\n",
              "  .colab-df-quickchart-complete:disabled:hover {\n",
              "    background-color: var(--disabled-bg-color);\n",
              "    fill: var(--disabled-fill-color);\n",
              "    box-shadow: none;\n",
              "  }\n",
              "\n",
              "  .colab-df-spinner {\n",
              "    border: 2px solid var(--fill-color);\n",
              "    border-color: transparent;\n",
              "    border-bottom-color: var(--fill-color);\n",
              "    animation:\n",
              "      spin 1s steps(1) infinite;\n",
              "  }\n",
              "\n",
              "  @keyframes spin {\n",
              "    0% {\n",
              "      border-color: transparent;\n",
              "      border-bottom-color: var(--fill-color);\n",
              "      border-left-color: var(--fill-color);\n",
              "    }\n",
              "    20% {\n",
              "      border-color: transparent;\n",
              "      border-left-color: var(--fill-color);\n",
              "      border-top-color: var(--fill-color);\n",
              "    }\n",
              "    30% {\n",
              "      border-color: transparent;\n",
              "      border-left-color: var(--fill-color);\n",
              "      border-top-color: var(--fill-color);\n",
              "      border-right-color: var(--fill-color);\n",
              "    }\n",
              "    40% {\n",
              "      border-color: transparent;\n",
              "      border-right-color: var(--fill-color);\n",
              "      border-top-color: var(--fill-color);\n",
              "    }\n",
              "    60% {\n",
              "      border-color: transparent;\n",
              "      border-right-color: var(--fill-color);\n",
              "    }\n",
              "    80% {\n",
              "      border-color: transparent;\n",
              "      border-right-color: var(--fill-color);\n",
              "      border-bottom-color: var(--fill-color);\n",
              "    }\n",
              "    90% {\n",
              "      border-color: transparent;\n",
              "      border-bottom-color: var(--fill-color);\n",
              "    }\n",
              "  }\n",
              "</style>\n",
              "\n",
              "  <script>\n",
              "    async function quickchart(key) {\n",
              "      const quickchartButtonEl =\n",
              "        document.querySelector('#' + key + ' button');\n",
              "      quickchartButtonEl.disabled = true;  // To prevent multiple clicks.\n",
              "      quickchartButtonEl.classList.add('colab-df-spinner');\n",
              "      try {\n",
              "        const charts = await google.colab.kernel.invokeFunction(\n",
              "            'suggestCharts', [key], {});\n",
              "      } catch (error) {\n",
              "        console.error('Error during call to suggestCharts:', error);\n",
              "      }\n",
              "      quickchartButtonEl.classList.remove('colab-df-spinner');\n",
              "      quickchartButtonEl.classList.add('colab-df-quickchart-complete');\n",
              "    }\n",
              "    (() => {\n",
              "      let quickchartButtonEl =\n",
              "        document.querySelector('#df-3b4d377e-06c7-4033-b42e-5f3b6422f0e4 button');\n",
              "      quickchartButtonEl.style.display =\n",
              "        google.colab.kernel.accessAllowed ? 'block' : 'none';\n",
              "    })();\n",
              "  </script>\n",
              "</div>\n",
              "    </div>\n",
              "  </div>\n"
            ],
            "application/vnd.google.colaboratory.intrinsic+json": {
              "type": "dataframe",
              "variable_name": "pllc_df",
              "summary": "{\n  \"name\": \"pllc_df\",\n  \"rows\": 5,\n  \"fields\": [\n    {\n      \"column\": \"Berlin\",\n      \"properties\": {\n        \"dtype\": \"string\",\n        \"num_unique_values\": 5,\n        \"samples\": [\n          \"<sup class=\\\"reference\\\" id=\\\"cite_ref-Amt_f\\u00fcr_Statistik_Berlin-Brandenburg_4-0\\\"><a href=\\\"#cite_note-Amt_f\\u00fcr_Statistik_Berlin-Brandenburg-4\\\">[4]</a></sup>\",\n          \"Germany\",\n          \"52\\u00b031\\u203212\\u2033N\"\n        ],\n        \"semantic_type\": \"\",\n        \"description\": \"\"\n      }\n    },\n    {\n      \"column\": \"Hamburg\",\n      \"properties\": {\n        \"dtype\": \"string\",\n        \"num_unique_values\": 5,\n        \"samples\": [\n          \"1,945,532\",\n          \"Germany\",\n          \"53\\u00b033\\u2032N\"\n        ],\n        \"semantic_type\": \"\",\n        \"description\": \"\"\n      }\n    },\n    {\n      \"column\": \"Munich\",\n      \"properties\": {\n        \"dtype\": \"string\",\n        \"num_unique_values\": 5,\n        \"samples\": [\n          \"1,512,491\",\n          \"Germany\",\n          \"48\\u00b008\\u203215\\u2033N\"\n        ],\n        \"semantic_type\": \"\",\n        \"description\": \"\"\n      }\n    }\n  ]\n}"
            }
          },
          "metadata": {},
          "execution_count": 71
        }
      ]
    },
    {
      "cell_type": "markdown",
      "source": [
        "# Loop all the procedures"
      ],
      "metadata": {
        "id": "kIyw3-tis1rm"
      }
    },
    {
      "cell_type": "code",
      "source": [
        "import pandas as pd\n",
        "import requests\n",
        "from bs4 import BeautifulSoup\n",
        "import re"
      ],
      "metadata": {
        "id": "bMZmtve4XMEs"
      },
      "execution_count": 79,
      "outputs": []
    },
    {
      "cell_type": "code",
      "source": [
        "Berlin: https://en.wikipedia.org/wiki/Berlin\n",
        "Hamburg: https://en.wikipedia.org/wiki/Hamburg\n",
        "Munich: https://en.wikipedia.org/wiki/Munich"
      ],
      "metadata": {
        "id": "v9t1IXWxXO_0"
      },
      "execution_count": null,
      "outputs": []
    },
    {
      "cell_type": "code",
      "source": [
        "cities = [\"Berlin\", \"Hamburg\", \"Munich\"]\n",
        "population = []\n",
        "\n",
        "for city in cities:\n",
        "    url = f\"https://en.wikipedia.org/wiki/{city}\"\n",
        "    response = requests.get(url)\n",
        "    soup = BeautifulSoup(response.content, 'html.parser')\n",
        "    population_element = soup.find(\"table\", class_=\"infobox ib-settlement vcard\").find_all(string=\"Population\")\n",
        "    for p in population_element:\n",
        "        population_value = p.find_next(\"td\").text.strip()\n",
        "        print(population_value)\n",
        "    population.append(population_value)\n",
        "\n",
        "p_df = pd.DataFrame([cities, population], columns=cities, index=[\"city\", \"population\"])"
      ],
      "metadata": {
        "id": "AsonX1xSMHPH",
        "outputId": "9327f6f5-4511-4ff5-e773-f0fa862f3cc6",
        "colab": {
          "base_uri": "https://localhost:8080/"
        }
      },
      "execution_count": 81,
      "outputs": [
        {
          "output_type": "stream",
          "name": "stdout",
          "text": [
            "3,755,251\n",
            "1,945,532\n",
            "1,512,491\n"
          ]
        }
      ]
    },
    {
      "cell_type": "code",
      "source": [
        "p_df"
      ],
      "metadata": {
        "id": "IVJbQCMVMUX1",
        "outputId": "1dd4ef06-b33b-4d1b-e57f-e9e26408aa53",
        "colab": {
          "base_uri": "https://localhost:8080/",
          "height": 112
        }
      },
      "execution_count": 82,
      "outputs": [
        {
          "output_type": "execute_result",
          "data": {
            "text/plain": [
              "               Berlin    Hamburg     Munich\n",
              "city           Berlin    Hamburg     Munich\n",
              "population  3,755,251  1,945,532  1,512,491"
            ],
            "text/html": [
              "\n",
              "  <div id=\"df-ca2b3e60-65c4-42dc-85ed-b830b2671f76\" class=\"colab-df-container\">\n",
              "    <div>\n",
              "<style scoped>\n",
              "    .dataframe tbody tr th:only-of-type {\n",
              "        vertical-align: middle;\n",
              "    }\n",
              "\n",
              "    .dataframe tbody tr th {\n",
              "        vertical-align: top;\n",
              "    }\n",
              "\n",
              "    .dataframe thead th {\n",
              "        text-align: right;\n",
              "    }\n",
              "</style>\n",
              "<table border=\"1\" class=\"dataframe\">\n",
              "  <thead>\n",
              "    <tr style=\"text-align: right;\">\n",
              "      <th></th>\n",
              "      <th>Berlin</th>\n",
              "      <th>Hamburg</th>\n",
              "      <th>Munich</th>\n",
              "    </tr>\n",
              "  </thead>\n",
              "  <tbody>\n",
              "    <tr>\n",
              "      <th>city</th>\n",
              "      <td>Berlin</td>\n",
              "      <td>Hamburg</td>\n",
              "      <td>Munich</td>\n",
              "    </tr>\n",
              "    <tr>\n",
              "      <th>population</th>\n",
              "      <td>3,755,251</td>\n",
              "      <td>1,945,532</td>\n",
              "      <td>1,512,491</td>\n",
              "    </tr>\n",
              "  </tbody>\n",
              "</table>\n",
              "</div>\n",
              "    <div class=\"colab-df-buttons\">\n",
              "\n",
              "  <div class=\"colab-df-container\">\n",
              "    <button class=\"colab-df-convert\" onclick=\"convertToInteractive('df-ca2b3e60-65c4-42dc-85ed-b830b2671f76')\"\n",
              "            title=\"Convert this dataframe to an interactive table.\"\n",
              "            style=\"display:none;\">\n",
              "\n",
              "  <svg xmlns=\"http://www.w3.org/2000/svg\" height=\"24px\" viewBox=\"0 -960 960 960\">\n",
              "    <path d=\"M120-120v-720h720v720H120Zm60-500h600v-160H180v160Zm220 220h160v-160H400v160Zm0 220h160v-160H400v160ZM180-400h160v-160H180v160Zm440 0h160v-160H620v160ZM180-180h160v-160H180v160Zm440 0h160v-160H620v160Z\"/>\n",
              "  </svg>\n",
              "    </button>\n",
              "\n",
              "  <style>\n",
              "    .colab-df-container {\n",
              "      display:flex;\n",
              "      gap: 12px;\n",
              "    }\n",
              "\n",
              "    .colab-df-convert {\n",
              "      background-color: #E8F0FE;\n",
              "      border: none;\n",
              "      border-radius: 50%;\n",
              "      cursor: pointer;\n",
              "      display: none;\n",
              "      fill: #1967D2;\n",
              "      height: 32px;\n",
              "      padding: 0 0 0 0;\n",
              "      width: 32px;\n",
              "    }\n",
              "\n",
              "    .colab-df-convert:hover {\n",
              "      background-color: #E2EBFA;\n",
              "      box-shadow: 0px 1px 2px rgba(60, 64, 67, 0.3), 0px 1px 3px 1px rgba(60, 64, 67, 0.15);\n",
              "      fill: #174EA6;\n",
              "    }\n",
              "\n",
              "    .colab-df-buttons div {\n",
              "      margin-bottom: 4px;\n",
              "    }\n",
              "\n",
              "    [theme=dark] .colab-df-convert {\n",
              "      background-color: #3B4455;\n",
              "      fill: #D2E3FC;\n",
              "    }\n",
              "\n",
              "    [theme=dark] .colab-df-convert:hover {\n",
              "      background-color: #434B5C;\n",
              "      box-shadow: 0px 1px 3px 1px rgba(0, 0, 0, 0.15);\n",
              "      filter: drop-shadow(0px 1px 2px rgba(0, 0, 0, 0.3));\n",
              "      fill: #FFFFFF;\n",
              "    }\n",
              "  </style>\n",
              "\n",
              "    <script>\n",
              "      const buttonEl =\n",
              "        document.querySelector('#df-ca2b3e60-65c4-42dc-85ed-b830b2671f76 button.colab-df-convert');\n",
              "      buttonEl.style.display =\n",
              "        google.colab.kernel.accessAllowed ? 'block' : 'none';\n",
              "\n",
              "      async function convertToInteractive(key) {\n",
              "        const element = document.querySelector('#df-ca2b3e60-65c4-42dc-85ed-b830b2671f76');\n",
              "        const dataTable =\n",
              "          await google.colab.kernel.invokeFunction('convertToInteractive',\n",
              "                                                    [key], {});\n",
              "        if (!dataTable) return;\n",
              "\n",
              "        const docLinkHtml = 'Like what you see? Visit the ' +\n",
              "          '<a target=\"_blank\" href=https://colab.research.google.com/notebooks/data_table.ipynb>data table notebook</a>'\n",
              "          + ' to learn more about interactive tables.';\n",
              "        element.innerHTML = '';\n",
              "        dataTable['output_type'] = 'display_data';\n",
              "        await google.colab.output.renderOutput(dataTable, element);\n",
              "        const docLink = document.createElement('div');\n",
              "        docLink.innerHTML = docLinkHtml;\n",
              "        element.appendChild(docLink);\n",
              "      }\n",
              "    </script>\n",
              "  </div>\n",
              "\n",
              "\n",
              "<div id=\"df-d3a6990d-8769-4f2c-8dfe-3b683137ccfa\">\n",
              "  <button class=\"colab-df-quickchart\" onclick=\"quickchart('df-d3a6990d-8769-4f2c-8dfe-3b683137ccfa')\"\n",
              "            title=\"Suggest charts\"\n",
              "            style=\"display:none;\">\n",
              "\n",
              "<svg xmlns=\"http://www.w3.org/2000/svg\" height=\"24px\"viewBox=\"0 0 24 24\"\n",
              "     width=\"24px\">\n",
              "    <g>\n",
              "        <path d=\"M19 3H5c-1.1 0-2 .9-2 2v14c0 1.1.9 2 2 2h14c1.1 0 2-.9 2-2V5c0-1.1-.9-2-2-2zM9 17H7v-7h2v7zm4 0h-2V7h2v10zm4 0h-2v-4h2v4z\"/>\n",
              "    </g>\n",
              "</svg>\n",
              "  </button>\n",
              "\n",
              "<style>\n",
              "  .colab-df-quickchart {\n",
              "      --bg-color: #E8F0FE;\n",
              "      --fill-color: #1967D2;\n",
              "      --hover-bg-color: #E2EBFA;\n",
              "      --hover-fill-color: #174EA6;\n",
              "      --disabled-fill-color: #AAA;\n",
              "      --disabled-bg-color: #DDD;\n",
              "  }\n",
              "\n",
              "  [theme=dark] .colab-df-quickchart {\n",
              "      --bg-color: #3B4455;\n",
              "      --fill-color: #D2E3FC;\n",
              "      --hover-bg-color: #434B5C;\n",
              "      --hover-fill-color: #FFFFFF;\n",
              "      --disabled-bg-color: #3B4455;\n",
              "      --disabled-fill-color: #666;\n",
              "  }\n",
              "\n",
              "  .colab-df-quickchart {\n",
              "    background-color: var(--bg-color);\n",
              "    border: none;\n",
              "    border-radius: 50%;\n",
              "    cursor: pointer;\n",
              "    display: none;\n",
              "    fill: var(--fill-color);\n",
              "    height: 32px;\n",
              "    padding: 0;\n",
              "    width: 32px;\n",
              "  }\n",
              "\n",
              "  .colab-df-quickchart:hover {\n",
              "    background-color: var(--hover-bg-color);\n",
              "    box-shadow: 0 1px 2px rgba(60, 64, 67, 0.3), 0 1px 3px 1px rgba(60, 64, 67, 0.15);\n",
              "    fill: var(--button-hover-fill-color);\n",
              "  }\n",
              "\n",
              "  .colab-df-quickchart-complete:disabled,\n",
              "  .colab-df-quickchart-complete:disabled:hover {\n",
              "    background-color: var(--disabled-bg-color);\n",
              "    fill: var(--disabled-fill-color);\n",
              "    box-shadow: none;\n",
              "  }\n",
              "\n",
              "  .colab-df-spinner {\n",
              "    border: 2px solid var(--fill-color);\n",
              "    border-color: transparent;\n",
              "    border-bottom-color: var(--fill-color);\n",
              "    animation:\n",
              "      spin 1s steps(1) infinite;\n",
              "  }\n",
              "\n",
              "  @keyframes spin {\n",
              "    0% {\n",
              "      border-color: transparent;\n",
              "      border-bottom-color: var(--fill-color);\n",
              "      border-left-color: var(--fill-color);\n",
              "    }\n",
              "    20% {\n",
              "      border-color: transparent;\n",
              "      border-left-color: var(--fill-color);\n",
              "      border-top-color: var(--fill-color);\n",
              "    }\n",
              "    30% {\n",
              "      border-color: transparent;\n",
              "      border-left-color: var(--fill-color);\n",
              "      border-top-color: var(--fill-color);\n",
              "      border-right-color: var(--fill-color);\n",
              "    }\n",
              "    40% {\n",
              "      border-color: transparent;\n",
              "      border-right-color: var(--fill-color);\n",
              "      border-top-color: var(--fill-color);\n",
              "    }\n",
              "    60% {\n",
              "      border-color: transparent;\n",
              "      border-right-color: var(--fill-color);\n",
              "    }\n",
              "    80% {\n",
              "      border-color: transparent;\n",
              "      border-right-color: var(--fill-color);\n",
              "      border-bottom-color: var(--fill-color);\n",
              "    }\n",
              "    90% {\n",
              "      border-color: transparent;\n",
              "      border-bottom-color: var(--fill-color);\n",
              "    }\n",
              "  }\n",
              "</style>\n",
              "\n",
              "  <script>\n",
              "    async function quickchart(key) {\n",
              "      const quickchartButtonEl =\n",
              "        document.querySelector('#' + key + ' button');\n",
              "      quickchartButtonEl.disabled = true;  // To prevent multiple clicks.\n",
              "      quickchartButtonEl.classList.add('colab-df-spinner');\n",
              "      try {\n",
              "        const charts = await google.colab.kernel.invokeFunction(\n",
              "            'suggestCharts', [key], {});\n",
              "      } catch (error) {\n",
              "        console.error('Error during call to suggestCharts:', error);\n",
              "      }\n",
              "      quickchartButtonEl.classList.remove('colab-df-spinner');\n",
              "      quickchartButtonEl.classList.add('colab-df-quickchart-complete');\n",
              "    }\n",
              "    (() => {\n",
              "      let quickchartButtonEl =\n",
              "        document.querySelector('#df-d3a6990d-8769-4f2c-8dfe-3b683137ccfa button');\n",
              "      quickchartButtonEl.style.display =\n",
              "        google.colab.kernel.accessAllowed ? 'block' : 'none';\n",
              "    })();\n",
              "  </script>\n",
              "</div>\n",
              "    </div>\n",
              "  </div>\n"
            ],
            "application/vnd.google.colaboratory.intrinsic+json": {
              "type": "dataframe",
              "variable_name": "p_df",
              "summary": "{\n  \"name\": \"p_df\",\n  \"rows\": 2,\n  \"fields\": [\n    {\n      \"column\": \"Berlin\",\n      \"properties\": {\n        \"dtype\": \"string\",\n        \"num_unique_values\": 2,\n        \"samples\": [\n          \"3,755,251\",\n          \"Berlin\"\n        ],\n        \"semantic_type\": \"\",\n        \"description\": \"\"\n      }\n    },\n    {\n      \"column\": \"Hamburg\",\n      \"properties\": {\n        \"dtype\": \"string\",\n        \"num_unique_values\": 2,\n        \"samples\": [\n          \"1,945,532\",\n          \"Hamburg\"\n        ],\n        \"semantic_type\": \"\",\n        \"description\": \"\"\n      }\n    },\n    {\n      \"column\": \"Munich\",\n      \"properties\": {\n        \"dtype\": \"string\",\n        \"num_unique_values\": 2,\n        \"samples\": [\n          \"1,512,491\",\n          \"Munich\"\n        ],\n        \"semantic_type\": \"\",\n        \"description\": \"\"\n      }\n    }\n  ]\n}"
            }
          },
          "metadata": {},
          "execution_count": 82
        }
      ]
    },
    {
      "cell_type": "code",
      "source": [
        "# List of cities and their corresponding Wikipedia URLs\n",
        "cities = [\n",
        "    {'name': 'Berlin', 'url': 'https://en.wikipedia.org/wiki/Berlin'},\n",
        "    {'name': 'Hamburg', 'url': 'https://en.wikipedia.org/wiki/Hamburg'},\n",
        "    {'name': 'Munich', 'url': 'https://en.wikipedia.org/wiki/Munich'}\n",
        "]\n",
        "\n",
        "# Empty list to store the extracted data\n",
        "data = []\n",
        "\n",
        "# Loop through the cities\n",
        "for city in cities:\n",
        "    response = requests.get(city['url'])\n",
        "    soup = BeautifulSoup(response.content, 'html.parser')\n",
        "    # Extract the population, latitude, longitude, and country information\n",
        "    population_element = soup.find(\"table\", class_=\"infobox ib-settlement vcard\").find_all(string=\"Population\")\n",
        "    for p in population_element:\n",
        "        population_value = p.find_next(\"td\").text.strip()\n",
        "    # population = soup.find('th', text='Population').find_next('td').text.strip()\n",
        "    latitude = soup.find('span', class_='latitude').text.strip()\n",
        "    longitude = soup.find('span', class_='longitude').text.strip()\n",
        "    country = soup.find('th', string='Country').find_next('td').text.strip()\n",
        "    # Append the extracted data to the list\n",
        "    data.append({\n",
        "        'City': city['name'],\n",
        "        'Population': population_value,\n",
        "        'Latitude': latitude,\n",
        "        'Longitude': longitude,\n",
        "        'Country': country\n",
        "    })\n",
        "\n",
        "df = pd.DataFrame(data)\n",
        "print(df)\n",
        "df"
      ],
      "metadata": {
        "id": "jTIBw1gWOCgW",
        "outputId": "9a088a77-68d0-4cdd-e8f3-0d04e1225a3d",
        "colab": {
          "base_uri": "https://localhost:8080/",
          "height": 216
        }
      },
      "execution_count": 87,
      "outputs": [
        {
          "output_type": "stream",
          "name": "stdout",
          "text": [
            "      City Population    Latitude   Longitude  Country\n",
            "0   Berlin  3,755,251  52°31′12″N  13°24′18″E  Germany\n",
            "1  Hamburg  1,945,532     53°33′N     10°00′E  Germany\n",
            "2   Munich  1,512,491  48°08′15″N  11°34′30″E  Germany\n"
          ]
        },
        {
          "output_type": "execute_result",
          "data": {
            "text/plain": [
              "      City Population    Latitude   Longitude  Country\n",
              "0   Berlin  3,755,251  52°31′12″N  13°24′18″E  Germany\n",
              "1  Hamburg  1,945,532     53°33′N     10°00′E  Germany\n",
              "2   Munich  1,512,491  48°08′15″N  11°34′30″E  Germany"
            ],
            "text/html": [
              "\n",
              "  <div id=\"df-177e5c18-0eda-43d5-b9c9-e47499b901de\" class=\"colab-df-container\">\n",
              "    <div>\n",
              "<style scoped>\n",
              "    .dataframe tbody tr th:only-of-type {\n",
              "        vertical-align: middle;\n",
              "    }\n",
              "\n",
              "    .dataframe tbody tr th {\n",
              "        vertical-align: top;\n",
              "    }\n",
              "\n",
              "    .dataframe thead th {\n",
              "        text-align: right;\n",
              "    }\n",
              "</style>\n",
              "<table border=\"1\" class=\"dataframe\">\n",
              "  <thead>\n",
              "    <tr style=\"text-align: right;\">\n",
              "      <th></th>\n",
              "      <th>City</th>\n",
              "      <th>Population</th>\n",
              "      <th>Latitude</th>\n",
              "      <th>Longitude</th>\n",
              "      <th>Country</th>\n",
              "    </tr>\n",
              "  </thead>\n",
              "  <tbody>\n",
              "    <tr>\n",
              "      <th>0</th>\n",
              "      <td>Berlin</td>\n",
              "      <td>3,755,251</td>\n",
              "      <td>52°31′12″N</td>\n",
              "      <td>13°24′18″E</td>\n",
              "      <td>Germany</td>\n",
              "    </tr>\n",
              "    <tr>\n",
              "      <th>1</th>\n",
              "      <td>Hamburg</td>\n",
              "      <td>1,945,532</td>\n",
              "      <td>53°33′N</td>\n",
              "      <td>10°00′E</td>\n",
              "      <td>Germany</td>\n",
              "    </tr>\n",
              "    <tr>\n",
              "      <th>2</th>\n",
              "      <td>Munich</td>\n",
              "      <td>1,512,491</td>\n",
              "      <td>48°08′15″N</td>\n",
              "      <td>11°34′30″E</td>\n",
              "      <td>Germany</td>\n",
              "    </tr>\n",
              "  </tbody>\n",
              "</table>\n",
              "</div>\n",
              "    <div class=\"colab-df-buttons\">\n",
              "\n",
              "  <div class=\"colab-df-container\">\n",
              "    <button class=\"colab-df-convert\" onclick=\"convertToInteractive('df-177e5c18-0eda-43d5-b9c9-e47499b901de')\"\n",
              "            title=\"Convert this dataframe to an interactive table.\"\n",
              "            style=\"display:none;\">\n",
              "\n",
              "  <svg xmlns=\"http://www.w3.org/2000/svg\" height=\"24px\" viewBox=\"0 -960 960 960\">\n",
              "    <path d=\"M120-120v-720h720v720H120Zm60-500h600v-160H180v160Zm220 220h160v-160H400v160Zm0 220h160v-160H400v160ZM180-400h160v-160H180v160Zm440 0h160v-160H620v160ZM180-180h160v-160H180v160Zm440 0h160v-160H620v160Z\"/>\n",
              "  </svg>\n",
              "    </button>\n",
              "\n",
              "  <style>\n",
              "    .colab-df-container {\n",
              "      display:flex;\n",
              "      gap: 12px;\n",
              "    }\n",
              "\n",
              "    .colab-df-convert {\n",
              "      background-color: #E8F0FE;\n",
              "      border: none;\n",
              "      border-radius: 50%;\n",
              "      cursor: pointer;\n",
              "      display: none;\n",
              "      fill: #1967D2;\n",
              "      height: 32px;\n",
              "      padding: 0 0 0 0;\n",
              "      width: 32px;\n",
              "    }\n",
              "\n",
              "    .colab-df-convert:hover {\n",
              "      background-color: #E2EBFA;\n",
              "      box-shadow: 0px 1px 2px rgba(60, 64, 67, 0.3), 0px 1px 3px 1px rgba(60, 64, 67, 0.15);\n",
              "      fill: #174EA6;\n",
              "    }\n",
              "\n",
              "    .colab-df-buttons div {\n",
              "      margin-bottom: 4px;\n",
              "    }\n",
              "\n",
              "    [theme=dark] .colab-df-convert {\n",
              "      background-color: #3B4455;\n",
              "      fill: #D2E3FC;\n",
              "    }\n",
              "\n",
              "    [theme=dark] .colab-df-convert:hover {\n",
              "      background-color: #434B5C;\n",
              "      box-shadow: 0px 1px 3px 1px rgba(0, 0, 0, 0.15);\n",
              "      filter: drop-shadow(0px 1px 2px rgba(0, 0, 0, 0.3));\n",
              "      fill: #FFFFFF;\n",
              "    }\n",
              "  </style>\n",
              "\n",
              "    <script>\n",
              "      const buttonEl =\n",
              "        document.querySelector('#df-177e5c18-0eda-43d5-b9c9-e47499b901de button.colab-df-convert');\n",
              "      buttonEl.style.display =\n",
              "        google.colab.kernel.accessAllowed ? 'block' : 'none';\n",
              "\n",
              "      async function convertToInteractive(key) {\n",
              "        const element = document.querySelector('#df-177e5c18-0eda-43d5-b9c9-e47499b901de');\n",
              "        const dataTable =\n",
              "          await google.colab.kernel.invokeFunction('convertToInteractive',\n",
              "                                                    [key], {});\n",
              "        if (!dataTable) return;\n",
              "\n",
              "        const docLinkHtml = 'Like what you see? Visit the ' +\n",
              "          '<a target=\"_blank\" href=https://colab.research.google.com/notebooks/data_table.ipynb>data table notebook</a>'\n",
              "          + ' to learn more about interactive tables.';\n",
              "        element.innerHTML = '';\n",
              "        dataTable['output_type'] = 'display_data';\n",
              "        await google.colab.output.renderOutput(dataTable, element);\n",
              "        const docLink = document.createElement('div');\n",
              "        docLink.innerHTML = docLinkHtml;\n",
              "        element.appendChild(docLink);\n",
              "      }\n",
              "    </script>\n",
              "  </div>\n",
              "\n",
              "\n",
              "<div id=\"df-0091ba6b-fcd2-45dd-bf44-5a5c8323c25b\">\n",
              "  <button class=\"colab-df-quickchart\" onclick=\"quickchart('df-0091ba6b-fcd2-45dd-bf44-5a5c8323c25b')\"\n",
              "            title=\"Suggest charts\"\n",
              "            style=\"display:none;\">\n",
              "\n",
              "<svg xmlns=\"http://www.w3.org/2000/svg\" height=\"24px\"viewBox=\"0 0 24 24\"\n",
              "     width=\"24px\">\n",
              "    <g>\n",
              "        <path d=\"M19 3H5c-1.1 0-2 .9-2 2v14c0 1.1.9 2 2 2h14c1.1 0 2-.9 2-2V5c0-1.1-.9-2-2-2zM9 17H7v-7h2v7zm4 0h-2V7h2v10zm4 0h-2v-4h2v4z\"/>\n",
              "    </g>\n",
              "</svg>\n",
              "  </button>\n",
              "\n",
              "<style>\n",
              "  .colab-df-quickchart {\n",
              "      --bg-color: #E8F0FE;\n",
              "      --fill-color: #1967D2;\n",
              "      --hover-bg-color: #E2EBFA;\n",
              "      --hover-fill-color: #174EA6;\n",
              "      --disabled-fill-color: #AAA;\n",
              "      --disabled-bg-color: #DDD;\n",
              "  }\n",
              "\n",
              "  [theme=dark] .colab-df-quickchart {\n",
              "      --bg-color: #3B4455;\n",
              "      --fill-color: #D2E3FC;\n",
              "      --hover-bg-color: #434B5C;\n",
              "      --hover-fill-color: #FFFFFF;\n",
              "      --disabled-bg-color: #3B4455;\n",
              "      --disabled-fill-color: #666;\n",
              "  }\n",
              "\n",
              "  .colab-df-quickchart {\n",
              "    background-color: var(--bg-color);\n",
              "    border: none;\n",
              "    border-radius: 50%;\n",
              "    cursor: pointer;\n",
              "    display: none;\n",
              "    fill: var(--fill-color);\n",
              "    height: 32px;\n",
              "    padding: 0;\n",
              "    width: 32px;\n",
              "  }\n",
              "\n",
              "  .colab-df-quickchart:hover {\n",
              "    background-color: var(--hover-bg-color);\n",
              "    box-shadow: 0 1px 2px rgba(60, 64, 67, 0.3), 0 1px 3px 1px rgba(60, 64, 67, 0.15);\n",
              "    fill: var(--button-hover-fill-color);\n",
              "  }\n",
              "\n",
              "  .colab-df-quickchart-complete:disabled,\n",
              "  .colab-df-quickchart-complete:disabled:hover {\n",
              "    background-color: var(--disabled-bg-color);\n",
              "    fill: var(--disabled-fill-color);\n",
              "    box-shadow: none;\n",
              "  }\n",
              "\n",
              "  .colab-df-spinner {\n",
              "    border: 2px solid var(--fill-color);\n",
              "    border-color: transparent;\n",
              "    border-bottom-color: var(--fill-color);\n",
              "    animation:\n",
              "      spin 1s steps(1) infinite;\n",
              "  }\n",
              "\n",
              "  @keyframes spin {\n",
              "    0% {\n",
              "      border-color: transparent;\n",
              "      border-bottom-color: var(--fill-color);\n",
              "      border-left-color: var(--fill-color);\n",
              "    }\n",
              "    20% {\n",
              "      border-color: transparent;\n",
              "      border-left-color: var(--fill-color);\n",
              "      border-top-color: var(--fill-color);\n",
              "    }\n",
              "    30% {\n",
              "      border-color: transparent;\n",
              "      border-left-color: var(--fill-color);\n",
              "      border-top-color: var(--fill-color);\n",
              "      border-right-color: var(--fill-color);\n",
              "    }\n",
              "    40% {\n",
              "      border-color: transparent;\n",
              "      border-right-color: var(--fill-color);\n",
              "      border-top-color: var(--fill-color);\n",
              "    }\n",
              "    60% {\n",
              "      border-color: transparent;\n",
              "      border-right-color: var(--fill-color);\n",
              "    }\n",
              "    80% {\n",
              "      border-color: transparent;\n",
              "      border-right-color: var(--fill-color);\n",
              "      border-bottom-color: var(--fill-color);\n",
              "    }\n",
              "    90% {\n",
              "      border-color: transparent;\n",
              "      border-bottom-color: var(--fill-color);\n",
              "    }\n",
              "  }\n",
              "</style>\n",
              "\n",
              "  <script>\n",
              "    async function quickchart(key) {\n",
              "      const quickchartButtonEl =\n",
              "        document.querySelector('#' + key + ' button');\n",
              "      quickchartButtonEl.disabled = true;  // To prevent multiple clicks.\n",
              "      quickchartButtonEl.classList.add('colab-df-spinner');\n",
              "      try {\n",
              "        const charts = await google.colab.kernel.invokeFunction(\n",
              "            'suggestCharts', [key], {});\n",
              "      } catch (error) {\n",
              "        console.error('Error during call to suggestCharts:', error);\n",
              "      }\n",
              "      quickchartButtonEl.classList.remove('colab-df-spinner');\n",
              "      quickchartButtonEl.classList.add('colab-df-quickchart-complete');\n",
              "    }\n",
              "    (() => {\n",
              "      let quickchartButtonEl =\n",
              "        document.querySelector('#df-0091ba6b-fcd2-45dd-bf44-5a5c8323c25b button');\n",
              "      quickchartButtonEl.style.display =\n",
              "        google.colab.kernel.accessAllowed ? 'block' : 'none';\n",
              "    })();\n",
              "  </script>\n",
              "</div>\n",
              "    </div>\n",
              "  </div>\n"
            ],
            "application/vnd.google.colaboratory.intrinsic+json": {
              "type": "dataframe",
              "variable_name": "df",
              "summary": "{\n  \"name\": \"df\",\n  \"rows\": 3,\n  \"fields\": [\n    {\n      \"column\": \"City\",\n      \"properties\": {\n        \"dtype\": \"string\",\n        \"num_unique_values\": 3,\n        \"samples\": [\n          \"Berlin\",\n          \"Hamburg\",\n          \"Munich\"\n        ],\n        \"semantic_type\": \"\",\n        \"description\": \"\"\n      }\n    },\n    {\n      \"column\": \"Population\",\n      \"properties\": {\n        \"dtype\": \"string\",\n        \"num_unique_values\": 3,\n        \"samples\": [\n          \"3,755,251\",\n          \"1,945,532\",\n          \"1,512,491\"\n        ],\n        \"semantic_type\": \"\",\n        \"description\": \"\"\n      }\n    },\n    {\n      \"column\": \"Latitude\",\n      \"properties\": {\n        \"dtype\": \"string\",\n        \"num_unique_values\": 3,\n        \"samples\": [\n          \"52\\u00b031\\u203212\\u2033N\",\n          \"53\\u00b033\\u2032N\",\n          \"48\\u00b008\\u203215\\u2033N\"\n        ],\n        \"semantic_type\": \"\",\n        \"description\": \"\"\n      }\n    },\n    {\n      \"column\": \"Longitude\",\n      \"properties\": {\n        \"dtype\": \"string\",\n        \"num_unique_values\": 3,\n        \"samples\": [\n          \"13\\u00b024\\u203218\\u2033E\",\n          \"10\\u00b000\\u2032E\",\n          \"11\\u00b034\\u203230\\u2033E\"\n        ],\n        \"semantic_type\": \"\",\n        \"description\": \"\"\n      }\n    },\n    {\n      \"column\": \"Country\",\n      \"properties\": {\n        \"dtype\": \"category\",\n        \"num_unique_values\": 1,\n        \"samples\": [\n          \"Germany\"\n        ],\n        \"semantic_type\": \"\",\n        \"description\": \"\"\n      }\n    }\n  ]\n}"
            }
          },
          "metadata": {},
          "execution_count": 87
        }
      ]
    }
  ]
}