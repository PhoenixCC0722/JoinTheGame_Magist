{
  "cells": [
    {
      "cell_type": "markdown",
      "metadata": {
        "id": "view-in-github",
        "colab_type": "text"
      },
      "source": [
        "<a href=\"https://colab.research.google.com/github/PhoenixCC0722/Journey_to_become_DataScientist/blob/main/Chapter7_supervised_ML_06_classification__ordinal_encoding.ipynb\" target=\"_parent\"><img src=\"https://colab.research.google.com/assets/colab-badge.svg\" alt=\"Open In Colab\"/></a>"
      ]
    },
    {
      "cell_type": "markdown",
      "metadata": {
        "id": "F2jvFDY8iifQ"
      },
      "source": [
        "# Ordinal Encoding with Titanic\n",
        "\n",
        "In this notebook, we implement ordinal encoding to the column \"Cabin\" in the Titanic dataset. The column has been initially \"engineered\" so that only the first letter remains. Then, the order of the categories is manually defined, alphabetically, from \"A\" to \"T\", and ultimatelly with \"N_A\" (the replacement for null values).\n",
        "\n",
        "With this choice of preprocessing, we achieve a more compact dataset (fewer columns created with one-hot encoding), although our pipeline gets more complex: the categorical branch will contain now the SimpleImputer, followed by a ColumnTransformer that branches into One Hot and Ordinal encoding.\n",
        "\n",
        "A common error is trying to use a ColumnTransformer after the column names have been lost in a previous pipeline step (in our case, the SimpleImputer). This can be solved either using a pandas method instead of a sklearn transformer (e.g. `df.fill_na`), wrapped in a FunctionTransformer, as we will demonstrate in the sample solution for the Housing dataset, or by passing the indeces instead of the column names to the ColumnTransformer, as we show here."
      ]
    },
    {
      "cell_type": "markdown",
      "source": [
        "## 1. Reading, cleaning & splitting"
      ],
      "metadata": {
        "id": "D1EfIX7AlTUD"
      }
    },
    {
      "cell_type": "code",
      "execution_count": 2,
      "metadata": {
        "id": "yUo6iad0iifT"
      },
      "outputs": [],
      "source": [
        "import pandas as pd\n",
        "from sklearn.model_selection import train_test_split\n",
        "from sklearn.impute import SimpleImputer\n",
        "from sklearn.tree import DecisionTreeClassifier\n",
        "from sklearn.metrics import accuracy_score\n",
        "from sklearn.pipeline import make_pipeline\n",
        "from sklearn.preprocessing import OneHotEncoder\n",
        "from sklearn.compose import ColumnTransformer\n",
        "from sklearn.preprocessing import OrdinalEncoder\n",
        "from sklearn import set_config\n",
        "\n",
        "# reading\n",
        "url = \"https://drive.google.com/file/d/1g3uhw_y3tboRm2eYDPfUzXXsw8IOYDCy/view?usp=sharing\"\n",
        "path = 'https://drive.google.com/uc?export=download&id='+url.split('/')[-2]\n",
        "data = df = pd.read_csv(path)\n",
        "\n",
        "# X and y creation\n",
        "X = data.drop(columns=[\"PassengerId\", \"Name\", \"Ticket\"])\n",
        "y = X.pop(\"Survived\")\n",
        "\n",
        "# Feature Engineering\n",
        "X.loc[:, \"Cabin\"] = X.Cabin.str[0]\n",
        "'''\n",
        "The column has been initially \"engineered\" so that only the first letter remains.\n",
        "Then, the order of the categories is manually defined, alphabetically, from \"A\" to \"T\",\n",
        "and ultimatelly with \"N_A\" (the replacement for null values).\n",
        "'''\n",
        "# data splitting\n",
        "X_train, X_test, y_train, y_test = train_test_split(X, y, test_size=0.2, random_state=123)"
      ]
    },
    {
      "cell_type": "markdown",
      "metadata": {
        "id": "ijprBQsPiifU"
      },
      "source": [
        "## 2. Building the `preprocessor`\n",
        "\n",
        "We have included all the code to create the preprocessing pipeline in a single cell for compactness. Take your time to understand what's going on. If needed, create multiple cells and bring the code there step by step, analyzing the output each time. Writing a sketch of the pipeline with pen an paper is also a good idea."
      ]
    },
    {
      "cell_type": "code",
      "execution_count": 4,
      "metadata": {
        "id": "uG46hmLliifV",
        "outputId": "8d621c83-e2cc-4151-dd54-d056f74bbe73",
        "colab": {
          "base_uri": "https://localhost:8080/",
          "height": 218
        }
      },
      "outputs": [
        {
          "output_type": "execute_result",
          "data": {
            "text/plain": [
              "ColumnTransformer(transformers=[('num_pipe',\n",
              "                                 Pipeline(steps=[('simpleimputer',\n",
              "                                                  SimpleImputer())]),\n",
              "                                 Index(['Pclass', 'Age', 'SibSp', 'Parch', 'Fare'], dtype='object')),\n",
              "                                ('cat_pipe',\n",
              "                                 Pipeline(steps=[('simpleimputer',\n",
              "                                                  SimpleImputer(fill_value='N_A',\n",
              "                                                                strategy='constant')),\n",
              "                                                 ('columntransformer',\n",
              "                                                  ColumnTransformer(transformers=[('cat_ordinal',\n",
              "                                                                                   OrdinalEncoder(categories=[['N_A',\n",
              "                                                                                                               'T',\n",
              "                                                                                                               'G',\n",
              "                                                                                                               'F',\n",
              "                                                                                                               'E',\n",
              "                                                                                                               'D',\n",
              "                                                                                                               'C',\n",
              "                                                                                                               'B',\n",
              "                                                                                                               'A']]),\n",
              "                                                                                   ['Cabin']),\n",
              "                                                                                  ('cat_onehot',\n",
              "                                                                                   OneHotEncoder(handle_unknown='ignore',\n",
              "                                                                                                 sparse_output=False),\n",
              "                                                                                   ['Sex',\n",
              "                                                                                    'Embarked'])]))]),\n",
              "                                 Index(['Sex', 'Cabin', 'Embarked'], dtype='object'))])"
            ],
            "text/html": [
              "<style>#sk-container-id-1 {color: black;background-color: white;}#sk-container-id-1 pre{padding: 0;}#sk-container-id-1 div.sk-toggleable {background-color: white;}#sk-container-id-1 label.sk-toggleable__label {cursor: pointer;display: block;width: 100%;margin-bottom: 0;padding: 0.3em;box-sizing: border-box;text-align: center;}#sk-container-id-1 label.sk-toggleable__label-arrow:before {content: \"▸\";float: left;margin-right: 0.25em;color: #696969;}#sk-container-id-1 label.sk-toggleable__label-arrow:hover:before {color: black;}#sk-container-id-1 div.sk-estimator:hover label.sk-toggleable__label-arrow:before {color: black;}#sk-container-id-1 div.sk-toggleable__content {max-height: 0;max-width: 0;overflow: hidden;text-align: left;background-color: #f0f8ff;}#sk-container-id-1 div.sk-toggleable__content pre {margin: 0.2em;color: black;border-radius: 0.25em;background-color: #f0f8ff;}#sk-container-id-1 input.sk-toggleable__control:checked~div.sk-toggleable__content {max-height: 200px;max-width: 100%;overflow: auto;}#sk-container-id-1 input.sk-toggleable__control:checked~label.sk-toggleable__label-arrow:before {content: \"▾\";}#sk-container-id-1 div.sk-estimator input.sk-toggleable__control:checked~label.sk-toggleable__label {background-color: #d4ebff;}#sk-container-id-1 div.sk-label input.sk-toggleable__control:checked~label.sk-toggleable__label {background-color: #d4ebff;}#sk-container-id-1 input.sk-hidden--visually {border: 0;clip: rect(1px 1px 1px 1px);clip: rect(1px, 1px, 1px, 1px);height: 1px;margin: -1px;overflow: hidden;padding: 0;position: absolute;width: 1px;}#sk-container-id-1 div.sk-estimator {font-family: monospace;background-color: #f0f8ff;border: 1px dotted black;border-radius: 0.25em;box-sizing: border-box;margin-bottom: 0.5em;}#sk-container-id-1 div.sk-estimator:hover {background-color: #d4ebff;}#sk-container-id-1 div.sk-parallel-item::after {content: \"\";width: 100%;border-bottom: 1px solid gray;flex-grow: 1;}#sk-container-id-1 div.sk-label:hover label.sk-toggleable__label {background-color: #d4ebff;}#sk-container-id-1 div.sk-serial::before {content: \"\";position: absolute;border-left: 1px solid gray;box-sizing: border-box;top: 0;bottom: 0;left: 50%;z-index: 0;}#sk-container-id-1 div.sk-serial {display: flex;flex-direction: column;align-items: center;background-color: white;padding-right: 0.2em;padding-left: 0.2em;position: relative;}#sk-container-id-1 div.sk-item {position: relative;z-index: 1;}#sk-container-id-1 div.sk-parallel {display: flex;align-items: stretch;justify-content: center;background-color: white;position: relative;}#sk-container-id-1 div.sk-item::before, #sk-container-id-1 div.sk-parallel-item::before {content: \"\";position: absolute;border-left: 1px solid gray;box-sizing: border-box;top: 0;bottom: 0;left: 50%;z-index: -1;}#sk-container-id-1 div.sk-parallel-item {display: flex;flex-direction: column;z-index: 1;position: relative;background-color: white;}#sk-container-id-1 div.sk-parallel-item:first-child::after {align-self: flex-end;width: 50%;}#sk-container-id-1 div.sk-parallel-item:last-child::after {align-self: flex-start;width: 50%;}#sk-container-id-1 div.sk-parallel-item:only-child::after {width: 0;}#sk-container-id-1 div.sk-dashed-wrapped {border: 1px dashed gray;margin: 0 0.4em 0.5em 0.4em;box-sizing: border-box;padding-bottom: 0.4em;background-color: white;}#sk-container-id-1 div.sk-label label {font-family: monospace;font-weight: bold;display: inline-block;line-height: 1.2em;}#sk-container-id-1 div.sk-label-container {text-align: center;}#sk-container-id-1 div.sk-container {/* jupyter's `normalize.less` sets `[hidden] { display: none; }` but bootstrap.min.css set `[hidden] { display: none !important; }` so we also need the `!important` here to be able to override the default hidden behavior on the sphinx rendered scikit-learn.org. See: https://github.com/scikit-learn/scikit-learn/issues/21755 */display: inline-block !important;position: relative;}#sk-container-id-1 div.sk-text-repr-fallback {display: none;}</style><div id=\"sk-container-id-1\" class=\"sk-top-container\"><div class=\"sk-text-repr-fallback\"><pre>ColumnTransformer(transformers=[(&#x27;num_pipe&#x27;,\n",
              "                                 Pipeline(steps=[(&#x27;simpleimputer&#x27;,\n",
              "                                                  SimpleImputer())]),\n",
              "                                 Index([&#x27;Pclass&#x27;, &#x27;Age&#x27;, &#x27;SibSp&#x27;, &#x27;Parch&#x27;, &#x27;Fare&#x27;], dtype=&#x27;object&#x27;)),\n",
              "                                (&#x27;cat_pipe&#x27;,\n",
              "                                 Pipeline(steps=[(&#x27;simpleimputer&#x27;,\n",
              "                                                  SimpleImputer(fill_value=&#x27;N_A&#x27;,\n",
              "                                                                strategy=&#x27;constant&#x27;)),\n",
              "                                                 (&#x27;columntransformer&#x27;,\n",
              "                                                  ColumnTransformer(transformers=[(&#x27;cat_ordinal&#x27;,\n",
              "                                                                                   OrdinalEncoder(categories=[[&#x27;N_A&#x27;,\n",
              "                                                                                                               &#x27;T&#x27;,\n",
              "                                                                                                               &#x27;G&#x27;,\n",
              "                                                                                                               &#x27;F&#x27;,\n",
              "                                                                                                               &#x27;E&#x27;,\n",
              "                                                                                                               &#x27;D&#x27;,\n",
              "                                                                                                               &#x27;C&#x27;,\n",
              "                                                                                                               &#x27;B&#x27;,\n",
              "                                                                                                               &#x27;A&#x27;]]),\n",
              "                                                                                   [&#x27;Cabin&#x27;]),\n",
              "                                                                                  (&#x27;cat_onehot&#x27;,\n",
              "                                                                                   OneHotEncoder(handle_unknown=&#x27;ignore&#x27;,\n",
              "                                                                                                 sparse_output=False),\n",
              "                                                                                   [&#x27;Sex&#x27;,\n",
              "                                                                                    &#x27;Embarked&#x27;])]))]),\n",
              "                                 Index([&#x27;Sex&#x27;, &#x27;Cabin&#x27;, &#x27;Embarked&#x27;], dtype=&#x27;object&#x27;))])</pre><b>In a Jupyter environment, please rerun this cell to show the HTML representation or trust the notebook. <br />On GitHub, the HTML representation is unable to render, please try loading this page with nbviewer.org.</b></div><div class=\"sk-container\" hidden><div class=\"sk-item sk-dashed-wrapped\"><div class=\"sk-label-container\"><div class=\"sk-label sk-toggleable\"><input class=\"sk-toggleable__control sk-hidden--visually\" id=\"sk-estimator-id-1\" type=\"checkbox\" ><label for=\"sk-estimator-id-1\" class=\"sk-toggleable__label sk-toggleable__label-arrow\">ColumnTransformer</label><div class=\"sk-toggleable__content\"><pre>ColumnTransformer(transformers=[(&#x27;num_pipe&#x27;,\n",
              "                                 Pipeline(steps=[(&#x27;simpleimputer&#x27;,\n",
              "                                                  SimpleImputer())]),\n",
              "                                 Index([&#x27;Pclass&#x27;, &#x27;Age&#x27;, &#x27;SibSp&#x27;, &#x27;Parch&#x27;, &#x27;Fare&#x27;], dtype=&#x27;object&#x27;)),\n",
              "                                (&#x27;cat_pipe&#x27;,\n",
              "                                 Pipeline(steps=[(&#x27;simpleimputer&#x27;,\n",
              "                                                  SimpleImputer(fill_value=&#x27;N_A&#x27;,\n",
              "                                                                strategy=&#x27;constant&#x27;)),\n",
              "                                                 (&#x27;columntransformer&#x27;,\n",
              "                                                  ColumnTransformer(transformers=[(&#x27;cat_ordinal&#x27;,\n",
              "                                                                                   OrdinalEncoder(categories=[[&#x27;N_A&#x27;,\n",
              "                                                                                                               &#x27;T&#x27;,\n",
              "                                                                                                               &#x27;G&#x27;,\n",
              "                                                                                                               &#x27;F&#x27;,\n",
              "                                                                                                               &#x27;E&#x27;,\n",
              "                                                                                                               &#x27;D&#x27;,\n",
              "                                                                                                               &#x27;C&#x27;,\n",
              "                                                                                                               &#x27;B&#x27;,\n",
              "                                                                                                               &#x27;A&#x27;]]),\n",
              "                                                                                   [&#x27;Cabin&#x27;]),\n",
              "                                                                                  (&#x27;cat_onehot&#x27;,\n",
              "                                                                                   OneHotEncoder(handle_unknown=&#x27;ignore&#x27;,\n",
              "                                                                                                 sparse_output=False),\n",
              "                                                                                   [&#x27;Sex&#x27;,\n",
              "                                                                                    &#x27;Embarked&#x27;])]))]),\n",
              "                                 Index([&#x27;Sex&#x27;, &#x27;Cabin&#x27;, &#x27;Embarked&#x27;], dtype=&#x27;object&#x27;))])</pre></div></div></div><div class=\"sk-parallel\"><div class=\"sk-parallel-item\"><div class=\"sk-item\"><div class=\"sk-label-container\"><div class=\"sk-label sk-toggleable\"><input class=\"sk-toggleable__control sk-hidden--visually\" id=\"sk-estimator-id-2\" type=\"checkbox\" ><label for=\"sk-estimator-id-2\" class=\"sk-toggleable__label sk-toggleable__label-arrow\">num_pipe</label><div class=\"sk-toggleable__content\"><pre>Index([&#x27;Pclass&#x27;, &#x27;Age&#x27;, &#x27;SibSp&#x27;, &#x27;Parch&#x27;, &#x27;Fare&#x27;], dtype=&#x27;object&#x27;)</pre></div></div></div><div class=\"sk-serial\"><div class=\"sk-item\"><div class=\"sk-serial\"><div class=\"sk-item\"><div class=\"sk-estimator sk-toggleable\"><input class=\"sk-toggleable__control sk-hidden--visually\" id=\"sk-estimator-id-3\" type=\"checkbox\" ><label for=\"sk-estimator-id-3\" class=\"sk-toggleable__label sk-toggleable__label-arrow\">SimpleImputer</label><div class=\"sk-toggleable__content\"><pre>SimpleImputer()</pre></div></div></div></div></div></div></div></div><div class=\"sk-parallel-item\"><div class=\"sk-item\"><div class=\"sk-label-container\"><div class=\"sk-label sk-toggleable\"><input class=\"sk-toggleable__control sk-hidden--visually\" id=\"sk-estimator-id-4\" type=\"checkbox\" ><label for=\"sk-estimator-id-4\" class=\"sk-toggleable__label sk-toggleable__label-arrow\">cat_pipe</label><div class=\"sk-toggleable__content\"><pre>Index([&#x27;Sex&#x27;, &#x27;Cabin&#x27;, &#x27;Embarked&#x27;], dtype=&#x27;object&#x27;)</pre></div></div></div><div class=\"sk-serial\"><div class=\"sk-item\"><div class=\"sk-serial\"><div class=\"sk-item\"><div class=\"sk-estimator sk-toggleable\"><input class=\"sk-toggleable__control sk-hidden--visually\" id=\"sk-estimator-id-5\" type=\"checkbox\" ><label for=\"sk-estimator-id-5\" class=\"sk-toggleable__label sk-toggleable__label-arrow\">SimpleImputer</label><div class=\"sk-toggleable__content\"><pre>SimpleImputer(fill_value=&#x27;N_A&#x27;, strategy=&#x27;constant&#x27;)</pre></div></div></div><div class=\"sk-item sk-dashed-wrapped\"><div class=\"sk-label-container\"><div class=\"sk-label sk-toggleable\"><input class=\"sk-toggleable__control sk-hidden--visually\" id=\"sk-estimator-id-6\" type=\"checkbox\" ><label for=\"sk-estimator-id-6\" class=\"sk-toggleable__label sk-toggleable__label-arrow\">columntransformer: ColumnTransformer</label><div class=\"sk-toggleable__content\"><pre>ColumnTransformer(transformers=[(&#x27;cat_ordinal&#x27;,\n",
              "                                 OrdinalEncoder(categories=[[&#x27;N_A&#x27;, &#x27;T&#x27;, &#x27;G&#x27;,\n",
              "                                                             &#x27;F&#x27;, &#x27;E&#x27;, &#x27;D&#x27;, &#x27;C&#x27;,\n",
              "                                                             &#x27;B&#x27;, &#x27;A&#x27;]]),\n",
              "                                 [&#x27;Cabin&#x27;]),\n",
              "                                (&#x27;cat_onehot&#x27;,\n",
              "                                 OneHotEncoder(handle_unknown=&#x27;ignore&#x27;,\n",
              "                                               sparse_output=False),\n",
              "                                 [&#x27;Sex&#x27;, &#x27;Embarked&#x27;])])</pre></div></div></div><div class=\"sk-parallel\"><div class=\"sk-parallel-item\"><div class=\"sk-item\"><div class=\"sk-label-container\"><div class=\"sk-label sk-toggleable\"><input class=\"sk-toggleable__control sk-hidden--visually\" id=\"sk-estimator-id-7\" type=\"checkbox\" ><label for=\"sk-estimator-id-7\" class=\"sk-toggleable__label sk-toggleable__label-arrow\">cat_ordinal</label><div class=\"sk-toggleable__content\"><pre>[&#x27;Cabin&#x27;]</pre></div></div></div><div class=\"sk-serial\"><div class=\"sk-item\"><div class=\"sk-estimator sk-toggleable\"><input class=\"sk-toggleable__control sk-hidden--visually\" id=\"sk-estimator-id-8\" type=\"checkbox\" ><label for=\"sk-estimator-id-8\" class=\"sk-toggleable__label sk-toggleable__label-arrow\">OrdinalEncoder</label><div class=\"sk-toggleable__content\"><pre>OrdinalEncoder(categories=[[&#x27;N_A&#x27;, &#x27;T&#x27;, &#x27;G&#x27;, &#x27;F&#x27;, &#x27;E&#x27;, &#x27;D&#x27;, &#x27;C&#x27;, &#x27;B&#x27;, &#x27;A&#x27;]])</pre></div></div></div></div></div></div><div class=\"sk-parallel-item\"><div class=\"sk-item\"><div class=\"sk-label-container\"><div class=\"sk-label sk-toggleable\"><input class=\"sk-toggleable__control sk-hidden--visually\" id=\"sk-estimator-id-9\" type=\"checkbox\" ><label for=\"sk-estimator-id-9\" class=\"sk-toggleable__label sk-toggleable__label-arrow\">cat_onehot</label><div class=\"sk-toggleable__content\"><pre>[&#x27;Sex&#x27;, &#x27;Embarked&#x27;]</pre></div></div></div><div class=\"sk-serial\"><div class=\"sk-item\"><div class=\"sk-estimator sk-toggleable\"><input class=\"sk-toggleable__control sk-hidden--visually\" id=\"sk-estimator-id-10\" type=\"checkbox\" ><label for=\"sk-estimator-id-10\" class=\"sk-toggleable__label sk-toggleable__label-arrow\">OneHotEncoder</label><div class=\"sk-toggleable__content\"><pre>OneHotEncoder(handle_unknown=&#x27;ignore&#x27;, sparse_output=False)</pre></div></div></div></div></div></div></div></div></div></div></div></div></div></div></div></div></div>"
            ]
          },
          "metadata": {},
          "execution_count": 4
        }
      ],
      "source": [
        "# 0. Set the config so that we can view our preprocessor, and to transform output from numpy arrays to pandas dataframes\n",
        "set_config(display=\"diagram\")\n",
        "set_config(transform_output=\"pandas\")\n",
        "\n",
        "# 1. defining categorical & numerical columns\n",
        "X_cat = X.select_dtypes(exclude=\"number\").copy()\n",
        "X_num = X.select_dtypes(include=\"number\").copy()\n",
        "\n",
        "# 2. numerical pipeline\n",
        "numeric_pipe = make_pipeline(\n",
        "    SimpleImputer(strategy=\"mean\"))\n",
        "\n",
        "# 3. categorical pipeline\n",
        "\n",
        "# # 3.1 defining ordinal & onehot columns\n",
        "# .get_indexer() get's the index to solve the problem described above about losing column names\n",
        "ordinal_cols = [\"Cabin\"]\n",
        "onehot_cols = [\"Sex\", \"Embarked\"]\n",
        "\n",
        "# # 3.2. defining the categorical encoder\n",
        "\n",
        "# # # 3.2.1. we manually establish the order of the categories for our ordinal feature (Cabin), including \"N_A\"\n",
        "cabin_cats = [\"N_A\", \"T\", \"G\", \"F\", \"E\", \"D\", \"C\", \"B\", \"A\"]\n",
        "\n",
        "\n",
        "# # # 3.2.2. defining the categorical encoder: a ColumnTransformer with 2 branches: ordinal & onehot\n",
        "categorical_encoder = ColumnTransformer(\n",
        "    transformers=[\n",
        "        (\"cat_ordinal\", OrdinalEncoder(categories=[cabin_cats]), ordinal_cols),\n",
        "        (\"cat_onehot\", OneHotEncoder(handle_unknown=\"ignore\", sparse_output=False), onehot_cols),\n",
        "    ]\n",
        ")\n",
        "\n",
        "# # 3.3. categorical pipeline = \"N_A\" imputer + categorical encoder\n",
        "categorical_pipe = make_pipeline(SimpleImputer(strategy=\"constant\", fill_value=\"N_A\"),\n",
        "                                 categorical_encoder\n",
        "                                )\n",
        "\n",
        "# 4. full preprocessing: a ColumnTransformer with 2 branches: numeric & categorical\n",
        "full_preprocessing = ColumnTransformer(\n",
        "    transformers=[\n",
        "        (\"num_pipe\", numeric_pipe, X_num.columns),\n",
        "        (\"cat_pipe\", categorical_pipe, X_cat.columns),\n",
        "    ]\n",
        ")\n",
        "\n",
        "full_preprocessing"
      ]
    },
    {
      "cell_type": "markdown",
      "metadata": {
        "id": "0GuEXVBbiifW"
      },
      "source": [
        "## 3. Decision Tree"
      ]
    },
    {
      "cell_type": "code",
      "execution_count": 5,
      "metadata": {
        "colab": {
          "base_uri": "https://localhost:8080/"
        },
        "id": "FJgPsuhmiifW",
        "outputId": "e26d1721-4ef2-43a5-8452-a9a9ee239266"
      },
      "outputs": [
        {
          "output_type": "stream",
          "name": "stdout",
          "text": [
            "Fitting 5 folds for each of 60 candidates, totalling 300 fits\n"
          ]
        },
        {
          "output_type": "execute_result",
          "data": {
            "text/plain": [
              "{'dtree': 0.8033586132177681}"
            ]
          },
          "metadata": {},
          "execution_count": 5
        }
      ],
      "source": [
        "from sklearn.model_selection import GridSearchCV\n",
        "\n",
        "# full pipeline: preprocessor + model\n",
        "full_pipeline = make_pipeline(full_preprocessing,\n",
        "                              DecisionTreeClassifier())\n",
        "\n",
        "# define parameter grid\n",
        "param_grid = {\n",
        "    \"columntransformer__num_pipe__simpleimputer__strategy\":[\"mean\", \"median\"],\n",
        "    \"decisiontreeclassifier__max_depth\": range(2, 14, 2),\n",
        "    \"decisiontreeclassifier__min_samples_leaf\": range(3, 12, 2)\n",
        "}\n",
        "\n",
        "# define GridSearchCV\n",
        "search = GridSearchCV(full_pipeline,\n",
        "                      param_grid,\n",
        "                      cv=5,\n",
        "                      verbose=1)\n",
        "\n",
        "search.fit(X_train, y_train)\n",
        "\n",
        "scores = {\"dtree\" : search.best_score_}\n",
        "\n",
        "scores"
      ]
    },
    {
      "cell_type": "markdown",
      "metadata": {
        "id": "zGkHfgxUiifX"
      },
      "source": [
        "## 4. Error analysis"
      ]
    },
    {
      "cell_type": "code",
      "execution_count": 6,
      "metadata": {
        "id": "AgbII3IBiifX",
        "outputId": "fac6a565-c01e-446e-8ec6-93995b12117e",
        "colab": {
          "base_uri": "https://localhost:8080/"
        }
      },
      "outputs": [
        {
          "output_type": "execute_result",
          "data": {
            "text/plain": [
              "0.8435754189944135"
            ]
          },
          "metadata": {},
          "execution_count": 6
        }
      ],
      "source": [
        "accuracy_score(search.predict(X_test), y_test)"
      ]
    },
    {
      "cell_type": "code",
      "execution_count": 7,
      "metadata": {
        "id": "QJhpOKy5iifY",
        "outputId": "e08fbc1e-7b11-4722-840d-3a7f22b399aa",
        "colab": {
          "base_uri": "https://localhost:8080/",
          "height": 449
        }
      },
      "outputs": [
        {
          "output_type": "display_data",
          "data": {
            "text/plain": [
              "<Figure size 640x480 with 2 Axes>"
            ],
            "image/png": "[encoded data removed]"
          },
          "metadata": {}
        }
      ],
      "source": [
        "#from sklearn.metrics import plot_confusion_matrix\n",
        "#plot_confusion_matrix(search, X_test, y_test, display_labels=['Not Survied', 'Survived']);\n",
        "\n",
        "from sklearn.metrics import ConfusionMatrixDisplay\n",
        "ConfusionMatrixDisplay.from_estimator(search,\n",
        "                                      X_test,\n",
        "                                      y_test,\n",
        "                                      display_labels=['Not Survied', 'Survived']);"
      ]
    },
    {
      "cell_type": "markdown",
      "metadata": {
        "id": "TmrBluhpiifY"
      },
      "source": [
        "## 5. KNN (KNeighborsClassifier)"
      ]
    },
    {
      "cell_type": "code",
      "execution_count": 8,
      "metadata": {
        "id": "zibyYi_BiifY"
      },
      "outputs": [],
      "source": [
        "from sklearn.neighbors import KNeighborsClassifier\n",
        "from sklearn.preprocessing import StandardScaler\n",
        "\n",
        "knn_full_pipeline = make_pipeline(full_preprocessing,\n",
        "                                  StandardScaler(),\n",
        "                                  KNeighborsClassifier()\n",
        "                                 )"
      ]
    },
    {
      "cell_type": "code",
      "execution_count": 9,
      "metadata": {
        "id": "6ptlVfzpiifZ",
        "outputId": "3842115f-6e85-425e-95ab-74e6731cd234",
        "colab": {
          "base_uri": "https://localhost:8080/"
        }
      },
      "outputs": [
        {
          "output_type": "stream",
          "name": "stdout",
          "text": [
            "Fitting 5 folds for each of 192 candidates, totalling 960 fits\n"
          ]
        },
        {
          "output_type": "execute_result",
          "data": {
            "text/plain": [
              "{'dtree': 0.8033586132177681, 'knn': 0.8188121737417511}"
            ]
          },
          "metadata": {},
          "execution_count": 9
        }
      ],
      "source": [
        "\n",
        "from sklearn.model_selection import GridSearchCV\n",
        "\n",
        "param_grid = {\n",
        "    \"columntransformer__num_pipe__simpleimputer__strategy\":[\"mean\", \"median\"],\n",
        "    \"kneighborsclassifier__n_neighbors\": range(2, 50, 2),\n",
        "    \"kneighborsclassifier__weights\": [\"uniform\", \"distance\"],\n",
        "    \"standardscaler__with_std\":[True, False]\n",
        "}\n",
        "\n",
        "knn_search = GridSearchCV(knn_full_pipeline,\n",
        "                      param_grid,\n",
        "                      cv=5,\n",
        "                      verbose=1)\n",
        "\n",
        "knn_search.fit(X_train, y_train)\n",
        "\n",
        "scores[\"knn\"] = knn_search.best_score_\n",
        "\n",
        "scores"
      ]
    },
    {
      "cell_type": "code",
      "execution_count": 10,
      "metadata": {
        "id": "ifAaphxPiifZ",
        "outputId": "372ae3e1-4634-4b5e-ebcf-bd76c6f724a2",
        "colab": {
          "base_uri": "https://localhost:8080/"
        }
      },
      "outputs": [
        {
          "output_type": "execute_result",
          "data": {
            "text/plain": [
              "{'columntransformer__num_pipe__simpleimputer__strategy': 'mean',\n",
              " 'kneighborsclassifier__n_neighbors': 12,\n",
              " 'kneighborsclassifier__weights': 'uniform',\n",
              " 'standardscaler__with_std': True}"
            ]
          },
          "metadata": {},
          "execution_count": 10
        }
      ],
      "source": [
        "knn_search.best_params_"
      ]
    },
    {
      "cell_type": "markdown",
      "source": [
        "## **Your challenge**\n",
        "\n",
        "In a new notebook, apply everything you have learned here to the Housing project, following the Learning platform."
      ],
      "metadata": {
        "id": "t8tBn78EmfT3"
      }
    },
    {
      "cell_type": "markdown",
      "source": [
        "### Step 1. Reading, cleaning & splitting"
      ],
      "metadata": {
        "id": "PtqjEuscix1Y"
      }
    },
    {
      "cell_type": "code",
      "source": [
        "# reading -- 1st method\n",
        "url = \"https://drive.google.com/file/d/19Y4XiO3Ryd6kLDAmyBSf83DJCnLxIJcB/view?usp=sharing\"\n",
        "path = 'https://drive.google.com/uc?export=download&id='+url.split('/')[-2]\n",
        "data = df = pd.read_csv(path)\n",
        "\n",
        "'''\n",
        "# reading -- 2nd method\n",
        "# google sheet: https://docs.google.com/spreadsheets/d/1Bh45i6tsEflDaZiX1eFHqHJv-jak7WRSrT1PTdIDPcc/edit?gid=311092830#gid=311092830\n",
        "sheet_id = \"1Bh45i6tsEflDaZiX1eFHqHJv-jak7WRSrT1PTdIDPcc\"\n",
        "sheet_name = \"311092830\"\n",
        "\n",
        "# Construct the URL to the CSV export of the spreadsheet\n",
        "url = f\"https://docs.google.com/spreadsheets/d/{sheet_id}/export?format=csv&gid={sheet_name}\"\n",
        "\n",
        "# Read the CSV data into a Pandas DataFrame\n",
        "data = pd.read_csv(url)\n",
        "'''\n",
        "# X (feature vector) and y (Label/target) creation\n",
        "# X = data.drop(columns=[\"PassengerId\", \"Name\", \"Ticket\"])\n",
        "X = data\n",
        "y = X.pop(\"Expensive\")\n",
        "\n",
        "# Feature Engineering\n",
        "X.loc[:, \"Foundation\"] = X.Foundation.str[0]\n",
        "X.loc[:, \"BsmtFinType1\"] = X.BsmtFinType1.str[0]\n",
        "\n",
        "# data splitting\n",
        "X_train, X_test, y_train, y_test = train_test_split(X, y, test_size=0.2, random_state=123)"
      ],
      "metadata": {
        "id": "z1v_fDPamf2f"
      },
      "execution_count": 11,
      "outputs": []
    },
    {
      "cell_type": "code",
      "source": [
        "X.columns"
      ],
      "metadata": {
        "id": "AdG8MnPWofLP",
        "outputId": "46721be1-fdc9-4f5e-9088-2789b5432e0c",
        "colab": {
          "base_uri": "https://localhost:8080/"
        }
      },
      "execution_count": 12,
      "outputs": [
        {
          "output_type": "execute_result",
          "data": {
            "text/plain": [
              "Index(['LotArea', 'LotFrontage', 'TotalBsmtSF', 'BedroomAbvGr', 'Fireplaces',\n",
              "       'PoolArea', 'GarageCars', 'WoodDeckSF', 'ScreenPorch', 'MSZoning',\n",
              "       'Condition1', 'Heating', 'Street', 'CentralAir', 'Foundation',\n",
              "       'ExterQual', 'ExterCond', 'BsmtQual', 'BsmtCond', 'BsmtExposure',\n",
              "       'BsmtFinType1', 'KitchenQual', 'FireplaceQu'],\n",
              "      dtype='object')"
            ]
          },
          "metadata": {},
          "execution_count": 12
        }
      ]
    },
    {
      "cell_type": "code",
      "source": [
        "X.CentralAir.unique()"
      ],
      "metadata": {
        "id": "g3SzhvzopEP9",
        "outputId": "841b1cd7-b20d-4c75-cacb-e0f3356f8aad",
        "colab": {
          "base_uri": "https://localhost:8080/"
        }
      },
      "execution_count": 13,
      "outputs": [
        {
          "output_type": "execute_result",
          "data": {
            "text/plain": [
              "array(['Y', 'N'], dtype=object)"
            ]
          },
          "metadata": {},
          "execution_count": 13
        }
      ]
    },
    {
      "cell_type": "code",
      "source": [
        "X.ExterCond.unique()"
      ],
      "metadata": {
        "id": "vyve4ApJpSAx",
        "outputId": "ffd1301e-d243-4d73-bacf-33be255e5dd9",
        "colab": {
          "base_uri": "https://localhost:8080/"
        }
      },
      "execution_count": 14,
      "outputs": [
        {
          "output_type": "execute_result",
          "data": {
            "text/plain": [
              "array(['TA', 'Gd', 'Fa', 'Po', 'Ex'], dtype=object)"
            ]
          },
          "metadata": {},
          "execution_count": 14
        }
      ]
    },
    {
      "cell_type": "code",
      "source": [
        "X.Heating.unique()"
      ],
      "metadata": {
        "id": "8siN48eqpm9P",
        "outputId": "5325f592-f965-4354-e8f3-556e59d525ae",
        "colab": {
          "base_uri": "https://localhost:8080/"
        }
      },
      "execution_count": 17,
      "outputs": [
        {
          "output_type": "execute_result",
          "data": {
            "text/plain": [
              "array(['GasA', 'GasW', 'Grav', 'Wall', 'OthW', 'Floor'], dtype=object)"
            ]
          },
          "metadata": {},
          "execution_count": 17
        }
      ]
    },
    {
      "cell_type": "code",
      "source": [
        "X.Street.unique()"
      ],
      "metadata": {
        "id": "VL_kz5hTpu1i",
        "outputId": "bae22c42-2b78-44c2-cf26-be1933917344",
        "colab": {
          "base_uri": "https://localhost:8080/"
        }
      },
      "execution_count": 18,
      "outputs": [
        {
          "output_type": "execute_result",
          "data": {
            "text/plain": [
              "array(['Pave', 'Grvl'], dtype=object)"
            ]
          },
          "metadata": {},
          "execution_count": 18
        }
      ]
    },
    {
      "cell_type": "code",
      "source": [
        "len(X.columns)"
      ],
      "metadata": {
        "id": "esoSYJCqp2fr",
        "outputId": "472d97a0-c514-4e7f-92ec-1d2243e26786",
        "colab": {
          "base_uri": "https://localhost:8080/"
        }
      },
      "execution_count": 19,
      "outputs": [
        {
          "output_type": "execute_result",
          "data": {
            "text/plain": [
              "23"
            ]
          },
          "metadata": {},
          "execution_count": 19
        }
      ]
    },
    {
      "cell_type": "markdown",
      "source": [
        "**for all the no-number columns, to check the uniques values in each column and then decide which feature vector can apply the ordinal_encoding and which can apply the onehot_encoding.**"
      ],
      "metadata": {
        "id": "DK3btGevq0lT"
      }
    },
    {
      "cell_type": "code",
      "source": [
        "import pandas as pd\n",
        "\n",
        "# Select only categorical columns (exclude numerical)\n",
        "X_cat = X.select_dtypes(exclude=\"number\").copy()\n",
        "\n",
        "# Loop through the categorical columns\n",
        "for column in X_cat.columns:\n",
        "    unique_values = X_cat[column].unique()\n",
        "    print(f\"Column: {column}\")\n",
        "    print(f\"Unique Values: {unique_values}\")\n",
        "    print(\"-\" * 20)  # Separator for readability"
      ],
      "metadata": {
        "id": "rEee7VMJrLNj",
        "outputId": "c157730c-003c-4e3a-a740-f2e17b44a169",
        "colab": {
          "base_uri": "https://localhost:8080/"
        }
      },
      "execution_count": 20,
      "outputs": [
        {
          "output_type": "stream",
          "name": "stdout",
          "text": [
            "Column: MSZoning\n",
            "Unique Values: ['RL' 'RM' 'C (all)' 'FV' 'RH']\n",
            "--------------------\n",
            "Column: Condition1\n",
            "Unique Values: ['Norm' 'Feedr' 'PosN' 'Artery' 'RRAe' 'RRNn' 'RRAn' 'PosA' 'RRNe']\n",
            "--------------------\n",
            "Column: Heating\n",
            "Unique Values: ['GasA' 'GasW' 'Grav' 'Wall' 'OthW' 'Floor']\n",
            "--------------------\n",
            "Column: Street\n",
            "Unique Values: ['Pave' 'Grvl']\n",
            "--------------------\n",
            "Column: CentralAir\n",
            "Unique Values: ['Y' 'N']\n",
            "--------------------\n",
            "Column: Foundation\n",
            "Unique Values: ['PConc' 'CBlock' 'BrkTil' 'Wood' 'Slab' 'Stone']\n",
            "--------------------\n",
            "Column: ExterQual\n",
            "Unique Values: ['Gd' 'TA' 'Ex' 'Fa']\n",
            "--------------------\n",
            "Column: ExterCond\n",
            "Unique Values: ['TA' 'Gd' 'Fa' 'Po' 'Ex']\n",
            "--------------------\n",
            "Column: BsmtQual\n",
            "Unique Values: ['Gd' 'TA' 'Ex' nan 'Fa']\n",
            "--------------------\n",
            "Column: BsmtCond\n",
            "Unique Values: ['TA' 'Gd' nan 'Fa' 'Po']\n",
            "--------------------\n",
            "Column: BsmtExposure\n",
            "Unique Values: ['No' 'Gd' 'Mn' 'Av' nan]\n",
            "--------------------\n",
            "Column: BsmtFinType1\n",
            "Unique Values: ['GLQ' 'ALQ' 'Unf' 'Rec' 'BLQ' nan 'LwQ']\n",
            "--------------------\n",
            "Column: KitchenQual\n",
            "Unique Values: ['Gd' 'TA' 'Ex' 'Fa']\n",
            "--------------------\n",
            "Column: FireplaceQu\n",
            "Unique Values: [nan 'TA' 'Gd' 'Fa' 'Ex' 'Po']\n",
            "--------------------\n"
          ]
        }
      ]
    },
    {
      "cell_type": "markdown",
      "source": [
        "### Step 2. Building the preprocessor"
      ],
      "metadata": {
        "id": "Ljz2hPaVnlM_"
      }
    },
    {
      "cell_type": "code",
      "source": [
        "# 0. Set the config so that we can view our preprocessor, and to transform output from numpy arrays to pandas dataframes\n",
        "set_config(display=\"diagram\")\n",
        "set_config(transform_output=\"pandas\")\n",
        "\n",
        "# 1. defining categorical & numerical columns\n",
        "X_cat = X.select_dtypes(exclude=\"number\").copy()\n",
        "X_num = X.select_dtypes(include=\"number\").copy()\n",
        "\n",
        "# 2. numerical pipeline\n",
        "numeric_pipe = make_pipeline(\n",
        "    SimpleImputer(strategy=\"mean\"))\n",
        "\n",
        "# 3. categorical pipeline\n",
        "# # 3.1 defining ordinal & onehot columns\n",
        "# .get_indexer() get's the index to solve the problem described above about losing column names\n",
        "ordinal_cols = [\"Foundation\", \"BsmtFinType1\"]\n",
        "onehot_cols = [\"Street\", \"CentralAir\"]"
      ],
      "metadata": {
        "id": "2Fj5WRtMnsW5"
      },
      "execution_count": 21,
      "outputs": []
    }
  ],
  "metadata": {
    "kernelspec": {
      "display_name": "Python 3",
      "language": "python",
      "name": "python3"
    },
    "language_info": {
      "codemirror_mode": {
        "name": "ipython",
        "version": 3
      },
      "file_extension": ".py",
      "mimetype": "text/x-python",
      "name": "python",
      "nbconvert_exporter": "python",
      "pygments_lexer": "ipython3",
      "version": "3.8.5"
    },
    "colab": {
      "provenance": [],
      "include_colab_link": true
    }
  },
  "nbformat": 4,
  "nbformat_minor": 0
}