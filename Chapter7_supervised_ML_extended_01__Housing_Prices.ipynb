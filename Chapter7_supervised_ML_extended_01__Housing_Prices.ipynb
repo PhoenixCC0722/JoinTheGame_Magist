{
  "nbformat": 4,
  "nbformat_minor": 0,
  "metadata": {
    "colab": {
      "provenance": [],
      "authorship_tag": "ABX9TyNiL9Z5+tFNE5BAl8xzQkh6",
      "include_colab_link": true
    },
    "kernelspec": {
      "name": "python3",
      "display_name": "Python 3"
    },
    "language_info": {
      "name": "python"
    }
  },
  "cells": [
    {
      "cell_type": "markdown",
      "metadata": {
        "id": "view-in-github",
        "colab_type": "text"
      },
      "source": [
        "<a href=\"https://colab.research.google.com/github/PhoenixCC0722/Journey_to_become_DataScientist/blob/main/Chapter7_supervised_ML_extended_01__Housing_Prices.ipynb\" target=\"_parent\"><img src=\"https://colab.research.google.com/assets/colab-badge.svg\" alt=\"Open In Colab\"/></a>"
      ]
    },
    {
      "cell_type": "markdown",
      "source": [
        "# Housing prices with more features"
      ],
      "metadata": {
        "id": "DcPbkMpJKZ1P"
      }
    },
    {
      "cell_type": "markdown",
      "source": [
        "New features are included in the original dataset:\n",
        "\n",
        "\n",
        "LotArea,LotFrontage,TotalBsmtSF,BedroomAbvGr,Fireplaces,PoolArea,GarageCars,WoodDeckSF,ScreenPorch,Expensive,MSZoning,Condition1,Heating,Street,CentralAir,Foundation,,\n",
        "\n"
      ],
      "metadata": {
        "id": "R0tYBjGfLrRb"
      }
    },
    {
      "cell_type": "code",
      "execution_count": null,
      "metadata": {
        "id": "gUZ63WOiKP01"
      },
      "outputs": [],
      "source": [
        "# 1st way\n",
        "import pandas as pd\n",
        "url = \"https://drive.google.com/file/d/19WTPo9Rn_Cc3CJcqOJ6Wjw93wx3PxDFT/view?usp=sharing\" # the .csv file is already uploaded from local server to the colad in google drive. In colab notebook, 'share' --> anyone with the link --> 'copy the link'\n",
        "path = 'https://drive.google.com/uc?export=download&id='+url.split('/')[-2]\n",
        "\n",
        "data = pd.read_csv(path)\n",
        "data.columns"
      ]
    },
    {
      "cell_type": "code",
      "source": [
        "# 2nd way\n",
        "# Get the spreadsheet ID and name\n",
        "# google sheets address: https://docs.google.com/spreadsheets/d/1JSxdY2rj2HbiNc-bn236Z9w7j0-fi__VDvIyBWH7ovU/edit?gid=1374956379#gid=1374956379\n",
        "import pandas as pd\n",
        "sheet_id = \"1JSxdY2rj2HbiNc-bn236Z9w7j0-fi__VDvIyBWH7ovU\"\n",
        "sheet_name = \"1374956379\"\n",
        "\n",
        "# Construct the URL to the CSV export of the spreadsheet\n",
        "url = f\"https://docs.google.com/spreadsheets/d/{sheet_id}/export?format=csv&gid={sheet_name}\"\n",
        "\n",
        "# Read the CSV data into a Pandas DataFrame\n",
        "data = pd.read_csv(url)\n",
        "data.columns"
      ],
      "metadata": {
        "id": "2w_BemcDLQO5"
      },
      "execution_count": null,
      "outputs": []
    }
  ]
}